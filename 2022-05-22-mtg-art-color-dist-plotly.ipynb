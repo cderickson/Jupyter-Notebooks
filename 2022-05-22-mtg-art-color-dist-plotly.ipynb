{
 "cells": [
  {
   "cell_type": "markdown",
   "id": "d02960e9-e7d5-47b7-a264-7494d7b55686",
   "metadata": {},
   "source": [
    "## Import libraries. Load dataset."
   ]
  },
  {
   "cell_type": "code",
   "execution_count": 190,
   "id": "8e09510f-b3cb-4ff2-a1e5-3877a71bd5c3",
   "metadata": {},
   "outputs": [
    {
     "data": {
      "text/html": [
       "        <script type=\"text/javascript\">\n",
       "        window.PlotlyConfig = {MathJaxConfig: 'local'};\n",
       "        if (window.MathJax && window.MathJax.Hub && window.MathJax.Hub.Config) {window.MathJax.Hub.Config({SVG: {font: \"STIX-Web\"}});}\n",
       "        if (typeof require !== 'undefined') {\n",
       "        require.undef(\"plotly\");\n",
       "        requirejs.config({\n",
       "            paths: {\n",
       "                'plotly': ['https://cdn.plot.ly/plotly-2.12.1.min']\n",
       "            }\n",
       "        });\n",
       "        require(['plotly'], function(Plotly) {\n",
       "            window._Plotly = Plotly;\n",
       "        });\n",
       "        }\n",
       "        </script>\n",
       "        "
      ]
     },
     "metadata": {},
     "output_type": "display_data"
    },
    {
     "data": {
      "text/html": [
       "        <script type=\"text/javascript\">\n",
       "        window.PlotlyConfig = {MathJaxConfig: 'local'};\n",
       "        if (window.MathJax && window.MathJax.Hub && window.MathJax.Hub.Config) {window.MathJax.Hub.Config({SVG: {font: \"STIX-Web\"}});}\n",
       "        if (typeof require !== 'undefined') {\n",
       "        require.undef(\"plotly\");\n",
       "        requirejs.config({\n",
       "            paths: {\n",
       "                'plotly': ['https://cdn.plot.ly/plotly-2.12.1.min']\n",
       "            }\n",
       "        });\n",
       "        require(['plotly'], function(Plotly) {\n",
       "            window._Plotly = Plotly;\n",
       "        });\n",
       "        }\n",
       "        </script>\n",
       "        "
      ]
     },
     "metadata": {},
     "output_type": "display_data"
    }
   ],
   "source": [
    "import pandas as pd\n",
    "import plotly.graph_objects as go\n",
    "from plotly.subplots import make_subplots\n",
    "import cufflinks as cf\n",
    "\n",
    "from plotly.offline import download_plotlyjs, init_notebook_mode, plot, iplot\n",
    "init_notebook_mode(connected=True)\n",
    "cf.go_offline()\n",
    "\n",
    "%matplotlib inline"
   ]
  },
  {
   "cell_type": "code",
   "execution_count": 191,
   "id": "d9af6d65-c888-4947-9cee-559908366177",
   "metadata": {},
   "outputs": [],
   "source": [
    "stacked = pd.read_csv(\"C:/Users/chris/Documents/Datasets/MTG Art Colors/stacked.csv\")"
   ]
  },
  {
   "cell_type": "markdown",
   "id": "a9be5e08-74ee-438d-b0fd-1de53cf1d165",
   "metadata": {},
   "source": [
    "## Group values and color. Drop all but the top 6 most prevalent colors. Add column for Prevalency Score (percentage of maximum)."
   ]
  },
  {
   "cell_type": "code",
   "execution_count": 192,
   "id": "6be582ce-1dd5-49e7-9915-8d3333a66eae",
   "metadata": {},
   "outputs": [],
   "source": [
    "stacked_top = stacked.groupby([\"variable\"]).sum().sort_values([\"value\"], ascending=False).head(6).reset_index()"
   ]
  },
  {
   "cell_type": "code",
   "execution_count": 193,
   "id": "a59e0b70-d66f-47c6-8032-0ecf73782f07",
   "metadata": {},
   "outputs": [
    {
     "data": {
      "text/html": [
       "<div>\n",
       "<style scoped>\n",
       "    .dataframe tbody tr th:only-of-type {\n",
       "        vertical-align: middle;\n",
       "    }\n",
       "\n",
       "    .dataframe tbody tr th {\n",
       "        vertical-align: top;\n",
       "    }\n",
       "\n",
       "    .dataframe thead th {\n",
       "        text-align: right;\n",
       "    }\n",
       "</style>\n",
       "<table border=\"1\" class=\"dataframe\">\n",
       "  <thead>\n",
       "    <tr style=\"text-align: right;\">\n",
       "      <th></th>\n",
       "      <th>variable</th>\n",
       "      <th>value</th>\n",
       "      <th>prevalency_score</th>\n",
       "    </tr>\n",
       "  </thead>\n",
       "  <tbody>\n",
       "    <tr>\n",
       "      <th>0</th>\n",
       "      <td>darkolivegreen</td>\n",
       "      <td>1130</td>\n",
       "      <td>1.00</td>\n",
       "    </tr>\n",
       "    <tr>\n",
       "      <th>1</th>\n",
       "      <td>sienna</td>\n",
       "      <td>1109</td>\n",
       "      <td>0.98</td>\n",
       "    </tr>\n",
       "    <tr>\n",
       "      <th>2</th>\n",
       "      <td>rosybrown</td>\n",
       "      <td>1103</td>\n",
       "      <td>0.98</td>\n",
       "    </tr>\n",
       "    <tr>\n",
       "      <th>3</th>\n",
       "      <td>indianred</td>\n",
       "      <td>899</td>\n",
       "      <td>0.80</td>\n",
       "    </tr>\n",
       "    <tr>\n",
       "      <th>4</th>\n",
       "      <td>peru</td>\n",
       "      <td>788</td>\n",
       "      <td>0.70</td>\n",
       "    </tr>\n",
       "    <tr>\n",
       "      <th>5</th>\n",
       "      <td>tan</td>\n",
       "      <td>704</td>\n",
       "      <td>0.62</td>\n",
       "    </tr>\n",
       "  </tbody>\n",
       "</table>\n",
       "</div>"
      ],
      "text/plain": [
       "         variable  value  prevalency_score\n",
       "0  darkolivegreen   1130              1.00\n",
       "1          sienna   1109              0.98\n",
       "2       rosybrown   1103              0.98\n",
       "3       indianred    899              0.80\n",
       "4            peru    788              0.70\n",
       "5             tan    704              0.62"
      ]
     },
     "execution_count": 193,
     "metadata": {},
     "output_type": "execute_result"
    }
   ],
   "source": [
    "stacked_top[\"prevalency_score\"] = round(stacked_top[\"value\"]/stacked_top.value.values.max(), 2)\n",
    "stacked_top"
   ]
  },
  {
   "cell_type": "code",
   "execution_count": 194,
   "id": "1168984d-4c33-44f4-97f6-bbccc965d2dc",
   "metadata": {},
   "outputs": [
    {
     "data": {
      "text/plain": [
       "{'darkolivegreen': 1130,\n",
       " 'sienna': 1109,\n",
       " 'rosybrown': 1103,\n",
       " 'indianred': 899,\n",
       " 'peru': 788,\n",
       " 'tan': 704}"
      ]
     },
     "execution_count": 194,
     "metadata": {},
     "output_type": "execute_result"
    }
   ],
   "source": [
    "color_totals = {}\n",
    "for index,row in stacked_top.iterrows():\n",
    "    color_totals[row[\"variable\"]] = row[\"value\"]\n",
    "color_totals"
   ]
  },
  {
   "cell_type": "code",
   "execution_count": 195,
   "id": "40fccb82-fb8d-40bd-9eb6-21608b69a9e7",
   "metadata": {},
   "outputs": [
    {
     "data": {
      "text/plain": [
       "['darkolivegreen', 'sienna', 'rosybrown', 'indianred', 'peru', 'tan']"
      ]
     },
     "execution_count": 195,
     "metadata": {},
     "output_type": "execute_result"
    }
   ],
   "source": [
    "top_colors = list(stacked_top.variable.values)\n",
    "top_colors"
   ]
  },
  {
   "cell_type": "code",
   "execution_count": 196,
   "id": "ad185f27-9b0b-4849-bafe-2e38b737db71",
   "metadata": {},
   "outputs": [
    {
     "data": {
      "text/html": [
       "<div>\n",
       "<style scoped>\n",
       "    .dataframe tbody tr th:only-of-type {\n",
       "        vertical-align: middle;\n",
       "    }\n",
       "\n",
       "    .dataframe tbody tr th {\n",
       "        vertical-align: top;\n",
       "    }\n",
       "\n",
       "    .dataframe thead th {\n",
       "        text-align: right;\n",
       "    }\n",
       "</style>\n",
       "<table border=\"1\" class=\"dataframe\">\n",
       "  <thead>\n",
       "    <tr style=\"text-align: right;\">\n",
       "      <th></th>\n",
       "      <th>colorIdentity</th>\n",
       "      <th>variable</th>\n",
       "      <th>value</th>\n",
       "    </tr>\n",
       "  </thead>\n",
       "  <tbody>\n",
       "    <tr>\n",
       "      <th>18</th>\n",
       "      <td>B</td>\n",
       "      <td>peru</td>\n",
       "      <td>57</td>\n",
       "    </tr>\n",
       "    <tr>\n",
       "      <th>19</th>\n",
       "      <td>C</td>\n",
       "      <td>peru</td>\n",
       "      <td>111</td>\n",
       "    </tr>\n",
       "    <tr>\n",
       "      <th>20</th>\n",
       "      <td>G</td>\n",
       "      <td>peru</td>\n",
       "      <td>57</td>\n",
       "    </tr>\n",
       "    <tr>\n",
       "      <th>21</th>\n",
       "      <td>R</td>\n",
       "      <td>peru</td>\n",
       "      <td>226</td>\n",
       "    </tr>\n",
       "    <tr>\n",
       "      <th>22</th>\n",
       "      <td>U</td>\n",
       "      <td>peru</td>\n",
       "      <td>237</td>\n",
       "    </tr>\n",
       "  </tbody>\n",
       "</table>\n",
       "</div>"
      ],
      "text/plain": [
       "   colorIdentity variable  value\n",
       "18             B     peru     57\n",
       "19             C     peru    111\n",
       "20             G     peru     57\n",
       "21             R     peru    226\n",
       "22             U     peru    237"
      ]
     },
     "execution_count": 196,
     "metadata": {},
     "output_type": "execute_result"
    }
   ],
   "source": [
    "stacked = stacked[(stacked[\"variable\"].isin(top_colors))]\n",
    "stacked.head()"
   ]
  },
  {
   "cell_type": "code",
   "execution_count": 197,
   "id": "9d4d8ee6-6eaf-4fb2-82d1-b47608265400",
   "metadata": {},
   "outputs": [
    {
     "data": {
      "text/html": [
       "<div>\n",
       "<style scoped>\n",
       "    .dataframe tbody tr th:only-of-type {\n",
       "        vertical-align: middle;\n",
       "    }\n",
       "\n",
       "    .dataframe tbody tr th {\n",
       "        vertical-align: top;\n",
       "    }\n",
       "\n",
       "    .dataframe thead th {\n",
       "        text-align: right;\n",
       "    }\n",
       "</style>\n",
       "<table border=\"1\" class=\"dataframe\">\n",
       "  <thead>\n",
       "    <tr style=\"text-align: right;\">\n",
       "      <th></th>\n",
       "      <th>colorIdentity</th>\n",
       "      <th>variable</th>\n",
       "      <th>value</th>\n",
       "      <th>percentage_col</th>\n",
       "    </tr>\n",
       "  </thead>\n",
       "  <tbody>\n",
       "    <tr>\n",
       "      <th>18</th>\n",
       "      <td>B</td>\n",
       "      <td>peru</td>\n",
       "      <td>57</td>\n",
       "      <td>0.072335</td>\n",
       "    </tr>\n",
       "    <tr>\n",
       "      <th>19</th>\n",
       "      <td>C</td>\n",
       "      <td>peru</td>\n",
       "      <td>111</td>\n",
       "      <td>0.140863</td>\n",
       "    </tr>\n",
       "    <tr>\n",
       "      <th>20</th>\n",
       "      <td>G</td>\n",
       "      <td>peru</td>\n",
       "      <td>57</td>\n",
       "      <td>0.072335</td>\n",
       "    </tr>\n",
       "    <tr>\n",
       "      <th>21</th>\n",
       "      <td>R</td>\n",
       "      <td>peru</td>\n",
       "      <td>226</td>\n",
       "      <td>0.286802</td>\n",
       "    </tr>\n",
       "    <tr>\n",
       "      <th>22</th>\n",
       "      <td>U</td>\n",
       "      <td>peru</td>\n",
       "      <td>237</td>\n",
       "      <td>0.300761</td>\n",
       "    </tr>\n",
       "  </tbody>\n",
       "</table>\n",
       "</div>"
      ],
      "text/plain": [
       "   colorIdentity variable  value  percentage_col\n",
       "18             B     peru     57        0.072335\n",
       "19             C     peru    111        0.140863\n",
       "20             G     peru     57        0.072335\n",
       "21             R     peru    226        0.286802\n",
       "22             U     peru    237        0.300761"
      ]
     },
     "execution_count": 197,
     "metadata": {},
     "output_type": "execute_result"
    }
   ],
   "source": [
    "percentage_col = []\n",
    "for index,row in stacked.iterrows():\n",
    "    percentage_col.append(row[\"value\"]/color_totals[row[\"variable\"]])\n",
    "stacked[\"percentage_col\"] = percentage_col\n",
    "stacked.head()"
   ]
  },
  {
   "cell_type": "markdown",
   "id": "c92a2191-a80b-4cfe-be1d-479c8d008a3e",
   "metadata": {},
   "source": [
    "## Create Pie Chart in Plotly showing distribution of colors."
   ]
  },
  {
   "cell_type": "code",
   "execution_count": 198,
   "id": "41517140-c16f-4f16-9aca-6ab814b1dcea",
   "metadata": {},
   "outputs": [
    {
     "data": {
      "application/vnd.plotly.v1+json": {
       "config": {
        "plotlyServerURL": "https://plot.ly"
       },
       "data": [
        {
         "domain": {
          "x": [
           0,
           0.2888888888888889
          ],
          "y": [
           0.625,
           1
          ]
         },
         "hole": 0.3,
         "labels": [
          "B",
          "C",
          "G",
          "R",
          "U",
          "W"
         ],
         "marker": {
          "colors": [
           "plum",
           "lightgray",
           "lightgreen",
           "salmon",
           "lightblue",
           "yellow"
          ],
          "line": {
           "color": "black",
           "width": 4
          }
         },
         "showlegend": false,
         "textfont": {
          "size": 14
         },
         "textinfo": "label",
         "textposition": "auto",
         "type": "pie",
         "values": [
          112,
          97,
          288,
          261,
          260,
          112
         ]
        },
        {
         "domain": {
          "x": [
           0.35555555555555557,
           0.6444444444444445
          ],
          "y": [
           0.625,
           1
          ]
         },
         "hole": 0.3,
         "labels": [
          "B",
          "C",
          "G",
          "R",
          "U",
          "W"
         ],
         "marker": {
          "colors": [
           "plum",
           "lightgray",
           "lightgreen",
           "salmon",
           "lightblue",
           "yellow"
          ],
          "line": {
           "color": "black",
           "width": 4
          }
         },
         "showlegend": false,
         "textfont": {
          "size": 14
         },
         "textinfo": "label",
         "textposition": "auto",
         "type": "pie",
         "values": [
          182,
          251,
          134,
          221,
          190,
          131
         ]
        },
        {
         "domain": {
          "x": [
           0.7111111111111111,
           1
          ],
          "y": [
           0.625,
           1
          ]
         },
         "hole": 0.3,
         "labels": [
          "B",
          "C",
          "G",
          "R",
          "U",
          "W"
         ],
         "marker": {
          "colors": [
           "plum",
           "lightgray",
           "lightgreen",
           "salmon",
           "lightblue",
           "yellow"
          ],
          "line": {
           "color": "black",
           "width": 4
          }
         },
         "showlegend": false,
         "textfont": {
          "size": 14
         },
         "textinfo": "label",
         "textposition": "auto",
         "type": "pie",
         "values": [
          317,
          151,
          106,
          156,
          146,
          227
         ]
        },
        {
         "domain": {
          "x": [
           0,
           0.2888888888888889
          ],
          "y": [
           0,
           0.375
          ]
         },
         "hole": 0.3,
         "labels": [
          "B",
          "C",
          "G",
          "R",
          "U",
          "W"
         ],
         "marker": {
          "colors": [
           "plum",
           "lightgray",
           "lightgreen",
           "salmon",
           "lightblue",
           "yellow"
          ],
          "line": {
           "color": "black",
           "width": 4
          }
         },
         "showlegend": false,
         "textfont": {
          "size": 14
         },
         "textinfo": "label",
         "textposition": "auto",
         "type": "pie",
         "values": [
          177,
          141,
          6,
          201,
          174,
          200
         ]
        },
        {
         "domain": {
          "x": [
           0.35555555555555557,
           0.6444444444444445
          ],
          "y": [
           0,
           0.375
          ]
         },
         "hole": 0.3,
         "labels": [
          "B",
          "C",
          "G",
          "R",
          "U",
          "W"
         ],
         "marker": {
          "colors": [
           "plum",
           "lightgray",
           "lightgreen",
           "salmon",
           "lightblue",
           "yellow"
          ],
          "line": {
           "color": "black",
           "width": 4
          }
         },
         "showlegend": false,
         "textfont": {
          "size": 14
         },
         "textinfo": "label",
         "textposition": "auto",
         "type": "pie",
         "values": [
          57,
          111,
          57,
          226,
          237,
          100
         ]
        },
        {
         "domain": {
          "x": [
           0.7111111111111111,
           1
          ],
          "y": [
           0,
           0.375
          ]
         },
         "hole": 0.3,
         "labels": [
          "B",
          "C",
          "G",
          "R",
          "U",
          "W"
         ],
         "marker": {
          "colors": [
           "plum",
           "lightgray",
           "lightgreen",
           "salmon",
           "lightblue",
           "yellow"
          ],
          "line": {
           "color": "black",
           "width": 4
          }
         },
         "showlegend": false,
         "textfont": {
          "size": 14
         },
         "textinfo": "label",
         "textposition": "auto",
         "type": "pie",
         "values": [
          88,
          112,
          94,
          135,
          200,
          75
         ]
        }
       ],
       "layout": {
        "annotations": [
         {
          "font": {
           "size": 24
          },
          "showarrow": false,
          "text": "darkolivegreen<br><sup>Prevalency Score: 1.0</sup>",
          "x": 0.14444444444444446,
          "xanchor": "center",
          "xref": "paper",
          "y": 0.495,
          "yanchor": "bottom",
          "yref": "paper"
         },
         {
          "font": {
           "size": 24
          },
          "showarrow": false,
          "text": "sienna<br><sup>Prevalency Score: 0.98</sup>",
          "x": 0.5,
          "xanchor": "center",
          "xref": "paper",
          "y": 0.495,
          "yanchor": "bottom",
          "yref": "paper"
         },
         {
          "font": {
           "size": 24
          },
          "showarrow": false,
          "text": "rosybrown<br><sup>Prevalency Score: 0.98</sup>",
          "x": 0.8555555555555556,
          "xanchor": "center",
          "xref": "paper",
          "y": 0.495,
          "yanchor": "bottom",
          "yref": "paper"
         },
         {
          "font": {
           "size": 24
          },
          "showarrow": false,
          "text": "indianred<br><sup>Prevalency Score: 0.8</sup>",
          "x": 0.14444444444444446,
          "xanchor": "center",
          "xref": "paper",
          "y": -0.13,
          "yanchor": "bottom",
          "yref": "paper"
         },
         {
          "font": {
           "size": 24
          },
          "showarrow": false,
          "text": "peru<br><sup>Prevalency Score: 0.7</sup>",
          "x": 0.5,
          "xanchor": "center",
          "xref": "paper",
          "y": -0.13,
          "yanchor": "bottom",
          "yref": "paper"
         },
         {
          "font": {
           "size": 24
          },
          "showarrow": false,
          "text": "tan<br><sup>Prevalency Score: 0.62</sup>",
          "x": 0.8555555555555556,
          "xanchor": "center",
          "xref": "paper",
          "y": -0.13,
          "yanchor": "bottom",
          "yref": "paper"
         }
        ],
        "font": {
         "color": "black",
         "size": 18
        },
        "height": 800,
        "margin": {
         "t": 150
        },
        "shapes": [
         {
          "fillcolor": "darkolivegreen",
          "line": {
           "color": "black",
           "width": 3
          },
          "type": "rect",
          "x0": -0.01,
          "x1": 0.04,
          "y0": 0.52,
          "y1": 0.61
         },
         {
          "fillcolor": "sienna",
          "line": {
           "color": "black",
           "width": 3
          },
          "type": "rect",
          "x0": 0.34,
          "x1": 0.39,
          "y0": 0.52,
          "y1": 0.61
         },
         {
          "fillcolor": "rosybrown",
          "line": {
           "color": "black",
           "width": 3
          },
          "type": "rect",
          "x0": 0.695,
          "x1": 0.745,
          "y0": 0.52,
          "y1": 0.61
         },
         {
          "fillcolor": "indianred",
          "line": {
           "color": "black",
           "width": 3
          },
          "type": "rect",
          "x0": -0.01,
          "x1": 0.04,
          "y0": -0.105,
          "y1": -0.015
         },
         {
          "fillcolor": "peru",
          "line": {
           "color": "black",
           "width": 3
          },
          "type": "rect",
          "x0": 0.34,
          "x1": 0.39,
          "y0": -0.105,
          "y1": -0.015
         },
         {
          "fillcolor": "tan",
          "line": {
           "color": "black",
           "width": 3
          },
          "type": "rect",
          "x0": 0.695,
          "x1": 0.745,
          "y0": -0.105,
          "y1": -0.015
         }
        ],
        "template": {
         "data": {
          "bar": [
           {
            "error_x": {
             "color": "#2a3f5f"
            },
            "error_y": {
             "color": "#2a3f5f"
            },
            "marker": {
             "line": {
              "color": "#E5ECF6",
              "width": 0.5
             },
             "pattern": {
              "fillmode": "overlay",
              "size": 10,
              "solidity": 0.2
             }
            },
            "type": "bar"
           }
          ],
          "barpolar": [
           {
            "marker": {
             "line": {
              "color": "#E5ECF6",
              "width": 0.5
             },
             "pattern": {
              "fillmode": "overlay",
              "size": 10,
              "solidity": 0.2
             }
            },
            "type": "barpolar"
           }
          ],
          "carpet": [
           {
            "aaxis": {
             "endlinecolor": "#2a3f5f",
             "gridcolor": "white",
             "linecolor": "white",
             "minorgridcolor": "white",
             "startlinecolor": "#2a3f5f"
            },
            "baxis": {
             "endlinecolor": "#2a3f5f",
             "gridcolor": "white",
             "linecolor": "white",
             "minorgridcolor": "white",
             "startlinecolor": "#2a3f5f"
            },
            "type": "carpet"
           }
          ],
          "choropleth": [
           {
            "colorbar": {
             "outlinewidth": 0,
             "ticks": ""
            },
            "type": "choropleth"
           }
          ],
          "contour": [
           {
            "colorbar": {
             "outlinewidth": 0,
             "ticks": ""
            },
            "colorscale": [
             [
              0,
              "#0d0887"
             ],
             [
              0.1111111111111111,
              "#46039f"
             ],
             [
              0.2222222222222222,
              "#7201a8"
             ],
             [
              0.3333333333333333,
              "#9c179e"
             ],
             [
              0.4444444444444444,
              "#bd3786"
             ],
             [
              0.5555555555555556,
              "#d8576b"
             ],
             [
              0.6666666666666666,
              "#ed7953"
             ],
             [
              0.7777777777777778,
              "#fb9f3a"
             ],
             [
              0.8888888888888888,
              "#fdca26"
             ],
             [
              1,
              "#f0f921"
             ]
            ],
            "type": "contour"
           }
          ],
          "contourcarpet": [
           {
            "colorbar": {
             "outlinewidth": 0,
             "ticks": ""
            },
            "type": "contourcarpet"
           }
          ],
          "heatmap": [
           {
            "colorbar": {
             "outlinewidth": 0,
             "ticks": ""
            },
            "colorscale": [
             [
              0,
              "#0d0887"
             ],
             [
              0.1111111111111111,
              "#46039f"
             ],
             [
              0.2222222222222222,
              "#7201a8"
             ],
             [
              0.3333333333333333,
              "#9c179e"
             ],
             [
              0.4444444444444444,
              "#bd3786"
             ],
             [
              0.5555555555555556,
              "#d8576b"
             ],
             [
              0.6666666666666666,
              "#ed7953"
             ],
             [
              0.7777777777777778,
              "#fb9f3a"
             ],
             [
              0.8888888888888888,
              "#fdca26"
             ],
             [
              1,
              "#f0f921"
             ]
            ],
            "type": "heatmap"
           }
          ],
          "heatmapgl": [
           {
            "colorbar": {
             "outlinewidth": 0,
             "ticks": ""
            },
            "colorscale": [
             [
              0,
              "#0d0887"
             ],
             [
              0.1111111111111111,
              "#46039f"
             ],
             [
              0.2222222222222222,
              "#7201a8"
             ],
             [
              0.3333333333333333,
              "#9c179e"
             ],
             [
              0.4444444444444444,
              "#bd3786"
             ],
             [
              0.5555555555555556,
              "#d8576b"
             ],
             [
              0.6666666666666666,
              "#ed7953"
             ],
             [
              0.7777777777777778,
              "#fb9f3a"
             ],
             [
              0.8888888888888888,
              "#fdca26"
             ],
             [
              1,
              "#f0f921"
             ]
            ],
            "type": "heatmapgl"
           }
          ],
          "histogram": [
           {
            "marker": {
             "pattern": {
              "fillmode": "overlay",
              "size": 10,
              "solidity": 0.2
             }
            },
            "type": "histogram"
           }
          ],
          "histogram2d": [
           {
            "colorbar": {
             "outlinewidth": 0,
             "ticks": ""
            },
            "colorscale": [
             [
              0,
              "#0d0887"
             ],
             [
              0.1111111111111111,
              "#46039f"
             ],
             [
              0.2222222222222222,
              "#7201a8"
             ],
             [
              0.3333333333333333,
              "#9c179e"
             ],
             [
              0.4444444444444444,
              "#bd3786"
             ],
             [
              0.5555555555555556,
              "#d8576b"
             ],
             [
              0.6666666666666666,
              "#ed7953"
             ],
             [
              0.7777777777777778,
              "#fb9f3a"
             ],
             [
              0.8888888888888888,
              "#fdca26"
             ],
             [
              1,
              "#f0f921"
             ]
            ],
            "type": "histogram2d"
           }
          ],
          "histogram2dcontour": [
           {
            "colorbar": {
             "outlinewidth": 0,
             "ticks": ""
            },
            "colorscale": [
             [
              0,
              "#0d0887"
             ],
             [
              0.1111111111111111,
              "#46039f"
             ],
             [
              0.2222222222222222,
              "#7201a8"
             ],
             [
              0.3333333333333333,
              "#9c179e"
             ],
             [
              0.4444444444444444,
              "#bd3786"
             ],
             [
              0.5555555555555556,
              "#d8576b"
             ],
             [
              0.6666666666666666,
              "#ed7953"
             ],
             [
              0.7777777777777778,
              "#fb9f3a"
             ],
             [
              0.8888888888888888,
              "#fdca26"
             ],
             [
              1,
              "#f0f921"
             ]
            ],
            "type": "histogram2dcontour"
           }
          ],
          "mesh3d": [
           {
            "colorbar": {
             "outlinewidth": 0,
             "ticks": ""
            },
            "type": "mesh3d"
           }
          ],
          "parcoords": [
           {
            "line": {
             "colorbar": {
              "outlinewidth": 0,
              "ticks": ""
             }
            },
            "type": "parcoords"
           }
          ],
          "pie": [
           {
            "automargin": true,
            "type": "pie"
           }
          ],
          "scatter": [
           {
            "fillpattern": {
             "fillmode": "overlay",
             "size": 10,
             "solidity": 0.2
            },
            "type": "scatter"
           }
          ],
          "scatter3d": [
           {
            "line": {
             "colorbar": {
              "outlinewidth": 0,
              "ticks": ""
             }
            },
            "marker": {
             "colorbar": {
              "outlinewidth": 0,
              "ticks": ""
             }
            },
            "type": "scatter3d"
           }
          ],
          "scattercarpet": [
           {
            "marker": {
             "colorbar": {
              "outlinewidth": 0,
              "ticks": ""
             }
            },
            "type": "scattercarpet"
           }
          ],
          "scattergeo": [
           {
            "marker": {
             "colorbar": {
              "outlinewidth": 0,
              "ticks": ""
             }
            },
            "type": "scattergeo"
           }
          ],
          "scattergl": [
           {
            "marker": {
             "colorbar": {
              "outlinewidth": 0,
              "ticks": ""
             }
            },
            "type": "scattergl"
           }
          ],
          "scattermapbox": [
           {
            "marker": {
             "colorbar": {
              "outlinewidth": 0,
              "ticks": ""
             }
            },
            "type": "scattermapbox"
           }
          ],
          "scatterpolar": [
           {
            "marker": {
             "colorbar": {
              "outlinewidth": 0,
              "ticks": ""
             }
            },
            "type": "scatterpolar"
           }
          ],
          "scatterpolargl": [
           {
            "marker": {
             "colorbar": {
              "outlinewidth": 0,
              "ticks": ""
             }
            },
            "type": "scatterpolargl"
           }
          ],
          "scatterternary": [
           {
            "marker": {
             "colorbar": {
              "outlinewidth": 0,
              "ticks": ""
             }
            },
            "type": "scatterternary"
           }
          ],
          "surface": [
           {
            "colorbar": {
             "outlinewidth": 0,
             "ticks": ""
            },
            "colorscale": [
             [
              0,
              "#0d0887"
             ],
             [
              0.1111111111111111,
              "#46039f"
             ],
             [
              0.2222222222222222,
              "#7201a8"
             ],
             [
              0.3333333333333333,
              "#9c179e"
             ],
             [
              0.4444444444444444,
              "#bd3786"
             ],
             [
              0.5555555555555556,
              "#d8576b"
             ],
             [
              0.6666666666666666,
              "#ed7953"
             ],
             [
              0.7777777777777778,
              "#fb9f3a"
             ],
             [
              0.8888888888888888,
              "#fdca26"
             ],
             [
              1,
              "#f0f921"
             ]
            ],
            "type": "surface"
           }
          ],
          "table": [
           {
            "cells": {
             "fill": {
              "color": "#EBF0F8"
             },
             "line": {
              "color": "white"
             }
            },
            "header": {
             "fill": {
              "color": "#C8D4E3"
             },
             "line": {
              "color": "white"
             }
            },
            "type": "table"
           }
          ]
         },
         "layout": {
          "annotationdefaults": {
           "arrowcolor": "#2a3f5f",
           "arrowhead": 0,
           "arrowwidth": 1
          },
          "autotypenumbers": "strict",
          "coloraxis": {
           "colorbar": {
            "outlinewidth": 0,
            "ticks": ""
           }
          },
          "colorscale": {
           "diverging": [
            [
             0,
             "#8e0152"
            ],
            [
             0.1,
             "#c51b7d"
            ],
            [
             0.2,
             "#de77ae"
            ],
            [
             0.3,
             "#f1b6da"
            ],
            [
             0.4,
             "#fde0ef"
            ],
            [
             0.5,
             "#f7f7f7"
            ],
            [
             0.6,
             "#e6f5d0"
            ],
            [
             0.7,
             "#b8e186"
            ],
            [
             0.8,
             "#7fbc41"
            ],
            [
             0.9,
             "#4d9221"
            ],
            [
             1,
             "#276419"
            ]
           ],
           "sequential": [
            [
             0,
             "#0d0887"
            ],
            [
             0.1111111111111111,
             "#46039f"
            ],
            [
             0.2222222222222222,
             "#7201a8"
            ],
            [
             0.3333333333333333,
             "#9c179e"
            ],
            [
             0.4444444444444444,
             "#bd3786"
            ],
            [
             0.5555555555555556,
             "#d8576b"
            ],
            [
             0.6666666666666666,
             "#ed7953"
            ],
            [
             0.7777777777777778,
             "#fb9f3a"
            ],
            [
             0.8888888888888888,
             "#fdca26"
            ],
            [
             1,
             "#f0f921"
            ]
           ],
           "sequentialminus": [
            [
             0,
             "#0d0887"
            ],
            [
             0.1111111111111111,
             "#46039f"
            ],
            [
             0.2222222222222222,
             "#7201a8"
            ],
            [
             0.3333333333333333,
             "#9c179e"
            ],
            [
             0.4444444444444444,
             "#bd3786"
            ],
            [
             0.5555555555555556,
             "#d8576b"
            ],
            [
             0.6666666666666666,
             "#ed7953"
            ],
            [
             0.7777777777777778,
             "#fb9f3a"
            ],
            [
             0.8888888888888888,
             "#fdca26"
            ],
            [
             1,
             "#f0f921"
            ]
           ]
          },
          "colorway": [
           "#636efa",
           "#EF553B",
           "#00cc96",
           "#ab63fa",
           "#FFA15A",
           "#19d3f3",
           "#FF6692",
           "#B6E880",
           "#FF97FF",
           "#FECB52"
          ],
          "font": {
           "color": "#2a3f5f"
          },
          "geo": {
           "bgcolor": "white",
           "lakecolor": "white",
           "landcolor": "#E5ECF6",
           "showlakes": true,
           "showland": true,
           "subunitcolor": "white"
          },
          "hoverlabel": {
           "align": "left"
          },
          "hovermode": "closest",
          "mapbox": {
           "style": "light"
          },
          "paper_bgcolor": "white",
          "plot_bgcolor": "#E5ECF6",
          "polar": {
           "angularaxis": {
            "gridcolor": "white",
            "linecolor": "white",
            "ticks": ""
           },
           "bgcolor": "#E5ECF6",
           "radialaxis": {
            "gridcolor": "white",
            "linecolor": "white",
            "ticks": ""
           }
          },
          "scene": {
           "xaxis": {
            "backgroundcolor": "#E5ECF6",
            "gridcolor": "white",
            "gridwidth": 2,
            "linecolor": "white",
            "showbackground": true,
            "ticks": "",
            "zerolinecolor": "white"
           },
           "yaxis": {
            "backgroundcolor": "#E5ECF6",
            "gridcolor": "white",
            "gridwidth": 2,
            "linecolor": "white",
            "showbackground": true,
            "ticks": "",
            "zerolinecolor": "white"
           },
           "zaxis": {
            "backgroundcolor": "#E5ECF6",
            "gridcolor": "white",
            "gridwidth": 2,
            "linecolor": "white",
            "showbackground": true,
            "ticks": "",
            "zerolinecolor": "white"
           }
          },
          "shapedefaults": {
           "line": {
            "color": "#2a3f5f"
           }
          },
          "ternary": {
           "aaxis": {
            "gridcolor": "white",
            "linecolor": "white",
            "ticks": ""
           },
           "baxis": {
            "gridcolor": "white",
            "linecolor": "white",
            "ticks": ""
           },
           "bgcolor": "#E5ECF6",
           "caxis": {
            "gridcolor": "white",
            "linecolor": "white",
            "ticks": ""
           }
          },
          "title": {
           "x": 0.05
          },
          "xaxis": {
           "automargin": true,
           "gridcolor": "white",
           "linecolor": "white",
           "ticks": "",
           "title": {
            "standoff": 15
           },
           "zerolinecolor": "white",
           "zerolinewidth": 2
          },
          "yaxis": {
           "automargin": true,
           "gridcolor": "white",
           "linecolor": "white",
           "ticks": "",
           "title": {
            "standoff": 15
           },
           "zerolinecolor": "white",
           "zerolinewidth": 2
          }
         }
        },
        "title": {
         "font": {
          "size": 30
         },
         "text": "Distribution of Most Prevalent Colors among Color Identities<br><sup>Limited Edition Alpha, Card Art</sup>",
         "x": 0.5,
         "y": 0.91
        },
        "width": 1200
       }
      },
      "image/png": "[encoded data removed]",
      "text/html": [
       "<div>                            <div id=\"ceed8e1a-9e81-418e-ba89-b218af0c9084\" class=\"plotly-graph-div\" style=\"height:800px; width:1200px;\"></div>            <script type=\"text/javascript\">                require([\"plotly\"], function(Plotly) {                    window.PLOTLYENV=window.PLOTLYENV || {};                                    if (document.getElementById(\"ceed8e1a-9e81-418e-ba89-b218af0c9084\")) {                    Plotly.newPlot(                        \"ceed8e1a-9e81-418e-ba89-b218af0c9084\",                        [{\"hole\":0.3,\"labels\":[\"B\",\"C\",\"G\",\"R\",\"U\",\"W\"],\"values\":[112,97,288,261,260,112],\"type\":\"pie\",\"domain\":{\"x\":[0.0,0.2888888888888889],\"y\":[0.625,1.0]},\"textfont\":{\"size\":14},\"marker\":{\"line\":{\"color\":\"black\",\"width\":4},\"colors\":[\"plum\",\"lightgray\",\"lightgreen\",\"salmon\",\"lightblue\",\"yellow\"]},\"showlegend\":false,\"textinfo\":\"label\",\"textposition\":\"auto\"},{\"hole\":0.3,\"labels\":[\"B\",\"C\",\"G\",\"R\",\"U\",\"W\"],\"values\":[182,251,134,221,190,131],\"type\":\"pie\",\"domain\":{\"x\":[0.35555555555555557,0.6444444444444445],\"y\":[0.625,1.0]},\"textfont\":{\"size\":14},\"marker\":{\"line\":{\"color\":\"black\",\"width\":4},\"colors\":[\"plum\",\"lightgray\",\"lightgreen\",\"salmon\",\"lightblue\",\"yellow\"]},\"showlegend\":false,\"textinfo\":\"label\",\"textposition\":\"auto\"},{\"hole\":0.3,\"labels\":[\"B\",\"C\",\"G\",\"R\",\"U\",\"W\"],\"values\":[317,151,106,156,146,227],\"type\":\"pie\",\"domain\":{\"x\":[0.7111111111111111,1.0],\"y\":[0.625,1.0]},\"textfont\":{\"size\":14},\"marker\":{\"line\":{\"color\":\"black\",\"width\":4},\"colors\":[\"plum\",\"lightgray\",\"lightgreen\",\"salmon\",\"lightblue\",\"yellow\"]},\"showlegend\":false,\"textinfo\":\"label\",\"textposition\":\"auto\"},{\"hole\":0.3,\"labels\":[\"B\",\"C\",\"G\",\"R\",\"U\",\"W\"],\"values\":[177,141,6,201,174,200],\"type\":\"pie\",\"domain\":{\"x\":[0.0,0.2888888888888889],\"y\":[0.0,0.375]},\"textfont\":{\"size\":14},\"marker\":{\"line\":{\"color\":\"black\",\"width\":4},\"colors\":[\"plum\",\"lightgray\",\"lightgreen\",\"salmon\",\"lightblue\",\"yellow\"]},\"showlegend\":false,\"textinfo\":\"label\",\"textposition\":\"auto\"},{\"hole\":0.3,\"labels\":[\"B\",\"C\",\"G\",\"R\",\"U\",\"W\"],\"values\":[57,111,57,226,237,100],\"type\":\"pie\",\"domain\":{\"x\":[0.35555555555555557,0.6444444444444445],\"y\":[0.0,0.375]},\"textfont\":{\"size\":14},\"marker\":{\"line\":{\"color\":\"black\",\"width\":4},\"colors\":[\"plum\",\"lightgray\",\"lightgreen\",\"salmon\",\"lightblue\",\"yellow\"]},\"showlegend\":false,\"textinfo\":\"label\",\"textposition\":\"auto\"},{\"hole\":0.3,\"labels\":[\"B\",\"C\",\"G\",\"R\",\"U\",\"W\"],\"values\":[88,112,94,135,200,75],\"type\":\"pie\",\"domain\":{\"x\":[0.7111111111111111,1.0],\"y\":[0.0,0.375]},\"textfont\":{\"size\":14},\"marker\":{\"line\":{\"color\":\"black\",\"width\":4},\"colors\":[\"plum\",\"lightgray\",\"lightgreen\",\"salmon\",\"lightblue\",\"yellow\"]},\"showlegend\":false,\"textinfo\":\"label\",\"textposition\":\"auto\"}],                        {\"template\":{\"data\":{\"histogram2dcontour\":[{\"type\":\"histogram2dcontour\",\"colorbar\":{\"outlinewidth\":0,\"ticks\":\"\"},\"colorscale\":[[0.0,\"#0d0887\"],[0.1111111111111111,\"#46039f\"],[0.2222222222222222,\"#7201a8\"],[0.3333333333333333,\"#9c179e\"],[0.4444444444444444,\"#bd3786\"],[0.5555555555555556,\"#d8576b\"],[0.6666666666666666,\"#ed7953\"],[0.7777777777777778,\"#fb9f3a\"],[0.8888888888888888,\"#fdca26\"],[1.0,\"#f0f921\"]]}],\"choropleth\":[{\"type\":\"choropleth\",\"colorbar\":{\"outlinewidth\":0,\"ticks\":\"\"}}],\"histogram2d\":[{\"type\":\"histogram2d\",\"colorbar\":{\"outlinewidth\":0,\"ticks\":\"\"},\"colorscale\":[[0.0,\"#0d0887\"],[0.1111111111111111,\"#46039f\"],[0.2222222222222222,\"#7201a8\"],[0.3333333333333333,\"#9c179e\"],[0.4444444444444444,\"#bd3786\"],[0.5555555555555556,\"#d8576b\"],[0.6666666666666666,\"#ed7953\"],[0.7777777777777778,\"#fb9f3a\"],[0.8888888888888888,\"#fdca26\"],[1.0,\"#f0f921\"]]}],\"heatmap\":[{\"type\":\"heatmap\",\"colorbar\":{\"outlinewidth\":0,\"ticks\":\"\"},\"colorscale\":[[0.0,\"#0d0887\"],[0.1111111111111111,\"#46039f\"],[0.2222222222222222,\"#7201a8\"],[0.3333333333333333,\"#9c179e\"],[0.4444444444444444,\"#bd3786\"],[0.5555555555555556,\"#d8576b\"],[0.6666666666666666,\"#ed7953\"],[0.7777777777777778,\"#fb9f3a\"],[0.8888888888888888,\"#fdca26\"],[1.0,\"#f0f921\"]]}],\"heatmapgl\":[{\"type\":\"heatmapgl\",\"colorbar\":{\"outlinewidth\":0,\"ticks\":\"\"},\"colorscale\":[[0.0,\"#0d0887\"],[0.1111111111111111,\"#46039f\"],[0.2222222222222222,\"#7201a8\"],[0.3333333333333333,\"#9c179e\"],[0.4444444444444444,\"#bd3786\"],[0.5555555555555556,\"#d8576b\"],[0.6666666666666666,\"#ed7953\"],[0.7777777777777778,\"#fb9f3a\"],[0.8888888888888888,\"#fdca26\"],[1.0,\"#f0f921\"]]}],\"contourcarpet\":[{\"type\":\"contourcarpet\",\"colorbar\":{\"outlinewidth\":0,\"ticks\":\"\"}}],\"contour\":[{\"type\":\"contour\",\"colorbar\":{\"outlinewidth\":0,\"ticks\":\"\"},\"colorscale\":[[0.0,\"#0d0887\"],[0.1111111111111111,\"#46039f\"],[0.2222222222222222,\"#7201a8\"],[0.3333333333333333,\"#9c179e\"],[0.4444444444444444,\"#bd3786\"],[0.5555555555555556,\"#d8576b\"],[0.6666666666666666,\"#ed7953\"],[0.7777777777777778,\"#fb9f3a\"],[0.8888888888888888,\"#fdca26\"],[1.0,\"#f0f921\"]]}],\"surface\":[{\"type\":\"surface\",\"colorbar\":{\"outlinewidth\":0,\"ticks\":\"\"},\"colorscale\":[[0.0,\"#0d0887\"],[0.1111111111111111,\"#46039f\"],[0.2222222222222222,\"#7201a8\"],[0.3333333333333333,\"#9c179e\"],[0.4444444444444444,\"#bd3786\"],[0.5555555555555556,\"#d8576b\"],[0.6666666666666666,\"#ed7953\"],[0.7777777777777778,\"#fb9f3a\"],[0.8888888888888888,\"#fdca26\"],[1.0,\"#f0f921\"]]}],\"mesh3d\":[{\"type\":\"mesh3d\",\"colorbar\":{\"outlinewidth\":0,\"ticks\":\"\"}}],\"scatter\":[{\"fillpattern\":{\"fillmode\":\"overlay\",\"size\":10,\"solidity\":0.2},\"type\":\"scatter\"}],\"parcoords\":[{\"type\":\"parcoords\",\"line\":{\"colorbar\":{\"outlinewidth\":0,\"ticks\":\"\"}}}],\"scatterpolargl\":[{\"type\":\"scatterpolargl\",\"marker\":{\"colorbar\":{\"outlinewidth\":0,\"ticks\":\"\"}}}],\"bar\":[{\"error_x\":{\"color\":\"#2a3f5f\"},\"error_y\":{\"color\":\"#2a3f5f\"},\"marker\":{\"line\":{\"color\":\"#E5ECF6\",\"width\":0.5},\"pattern\":{\"fillmode\":\"overlay\",\"size\":10,\"solidity\":0.2}},\"type\":\"bar\"}],\"scattergeo\":[{\"type\":\"scattergeo\",\"marker\":{\"colorbar\":{\"outlinewidth\":0,\"ticks\":\"\"}}}],\"scatterpolar\":[{\"type\":\"scatterpolar\",\"marker\":{\"colorbar\":{\"outlinewidth\":0,\"ticks\":\"\"}}}],\"histogram\":[{\"marker\":{\"pattern\":{\"fillmode\":\"overlay\",\"size\":10,\"solidity\":0.2}},\"type\":\"histogram\"}],\"scattergl\":[{\"type\":\"scattergl\",\"marker\":{\"colorbar\":{\"outlinewidth\":0,\"ticks\":\"\"}}}],\"scatter3d\":[{\"type\":\"scatter3d\",\"line\":{\"colorbar\":{\"outlinewidth\":0,\"ticks\":\"\"}},\"marker\":{\"colorbar\":{\"outlinewidth\":0,\"ticks\":\"\"}}}],\"scattermapbox\":[{\"type\":\"scattermapbox\",\"marker\":{\"colorbar\":{\"outlinewidth\":0,\"ticks\":\"\"}}}],\"scatterternary\":[{\"type\":\"scatterternary\",\"marker\":{\"colorbar\":{\"outlinewidth\":0,\"ticks\":\"\"}}}],\"scattercarpet\":[{\"type\":\"scattercarpet\",\"marker\":{\"colorbar\":{\"outlinewidth\":0,\"ticks\":\"\"}}}],\"carpet\":[{\"aaxis\":{\"endlinecolor\":\"#2a3f5f\",\"gridcolor\":\"white\",\"linecolor\":\"white\",\"minorgridcolor\":\"white\",\"startlinecolor\":\"#2a3f5f\"},\"baxis\":{\"endlinecolor\":\"#2a3f5f\",\"gridcolor\":\"white\",\"linecolor\":\"white\",\"minorgridcolor\":\"white\",\"startlinecolor\":\"#2a3f5f\"},\"type\":\"carpet\"}],\"table\":[{\"cells\":{\"fill\":{\"color\":\"#EBF0F8\"},\"line\":{\"color\":\"white\"}},\"header\":{\"fill\":{\"color\":\"#C8D4E3\"},\"line\":{\"color\":\"white\"}},\"type\":\"table\"}],\"barpolar\":[{\"marker\":{\"line\":{\"color\":\"#E5ECF6\",\"width\":0.5},\"pattern\":{\"fillmode\":\"overlay\",\"size\":10,\"solidity\":0.2}},\"type\":\"barpolar\"}],\"pie\":[{\"automargin\":true,\"type\":\"pie\"}]},\"layout\":{\"autotypenumbers\":\"strict\",\"colorway\":[\"#636efa\",\"#EF553B\",\"#00cc96\",\"#ab63fa\",\"#FFA15A\",\"#19d3f3\",\"#FF6692\",\"#B6E880\",\"#FF97FF\",\"#FECB52\"],\"font\":{\"color\":\"#2a3f5f\"},\"hovermode\":\"closest\",\"hoverlabel\":{\"align\":\"left\"},\"paper_bgcolor\":\"white\",\"plot_bgcolor\":\"#E5ECF6\",\"polar\":{\"bgcolor\":\"#E5ECF6\",\"angularaxis\":{\"gridcolor\":\"white\",\"linecolor\":\"white\",\"ticks\":\"\"},\"radialaxis\":{\"gridcolor\":\"white\",\"linecolor\":\"white\",\"ticks\":\"\"}},\"ternary\":{\"bgcolor\":\"#E5ECF6\",\"aaxis\":{\"gridcolor\":\"white\",\"linecolor\":\"white\",\"ticks\":\"\"},\"baxis\":{\"gridcolor\":\"white\",\"linecolor\":\"white\",\"ticks\":\"\"},\"caxis\":{\"gridcolor\":\"white\",\"linecolor\":\"white\",\"ticks\":\"\"}},\"coloraxis\":{\"colorbar\":{\"outlinewidth\":0,\"ticks\":\"\"}},\"colorscale\":{\"sequential\":[[0.0,\"#0d0887\"],[0.1111111111111111,\"#46039f\"],[0.2222222222222222,\"#7201a8\"],[0.3333333333333333,\"#9c179e\"],[0.4444444444444444,\"#bd3786\"],[0.5555555555555556,\"#d8576b\"],[0.6666666666666666,\"#ed7953\"],[0.7777777777777778,\"#fb9f3a\"],[0.8888888888888888,\"#fdca26\"],[1.0,\"#f0f921\"]],\"sequentialminus\":[[0.0,\"#0d0887\"],[0.1111111111111111,\"#46039f\"],[0.2222222222222222,\"#7201a8\"],[0.3333333333333333,\"#9c179e\"],[0.4444444444444444,\"#bd3786\"],[0.5555555555555556,\"#d8576b\"],[0.6666666666666666,\"#ed7953\"],[0.7777777777777778,\"#fb9f3a\"],[0.8888888888888888,\"#fdca26\"],[1.0,\"#f0f921\"]],\"diverging\":[[0,\"#8e0152\"],[0.1,\"#c51b7d\"],[0.2,\"#de77ae\"],[0.3,\"#f1b6da\"],[0.4,\"#fde0ef\"],[0.5,\"#f7f7f7\"],[0.6,\"#e6f5d0\"],[0.7,\"#b8e186\"],[0.8,\"#7fbc41\"],[0.9,\"#4d9221\"],[1,\"#276419\"]]},\"xaxis\":{\"gridcolor\":\"white\",\"linecolor\":\"white\",\"ticks\":\"\",\"title\":{\"standoff\":15},\"zerolinecolor\":\"white\",\"automargin\":true,\"zerolinewidth\":2},\"yaxis\":{\"gridcolor\":\"white\",\"linecolor\":\"white\",\"ticks\":\"\",\"title\":{\"standoff\":15},\"zerolinecolor\":\"white\",\"automargin\":true,\"zerolinewidth\":2},\"scene\":{\"xaxis\":{\"backgroundcolor\":\"#E5ECF6\",\"gridcolor\":\"white\",\"linecolor\":\"white\",\"showbackground\":true,\"ticks\":\"\",\"zerolinecolor\":\"white\",\"gridwidth\":2},\"yaxis\":{\"backgroundcolor\":\"#E5ECF6\",\"gridcolor\":\"white\",\"linecolor\":\"white\",\"showbackground\":true,\"ticks\":\"\",\"zerolinecolor\":\"white\",\"gridwidth\":2},\"zaxis\":{\"backgroundcolor\":\"#E5ECF6\",\"gridcolor\":\"white\",\"linecolor\":\"white\",\"showbackground\":true,\"ticks\":\"\",\"zerolinecolor\":\"white\",\"gridwidth\":2}},\"shapedefaults\":{\"line\":{\"color\":\"#2a3f5f\"}},\"annotationdefaults\":{\"arrowcolor\":\"#2a3f5f\",\"arrowhead\":0,\"arrowwidth\":1},\"geo\":{\"bgcolor\":\"white\",\"landcolor\":\"#E5ECF6\",\"subunitcolor\":\"white\",\"showland\":true,\"showlakes\":true,\"lakecolor\":\"white\"},\"title\":{\"x\":0.05},\"mapbox\":{\"style\":\"light\"}}},\"annotations\":[{\"font\":{\"size\":24},\"showarrow\":false,\"text\":\"darkolivegreen<br><sup>Prevalency Score: 1.0</sup>\",\"x\":0.14444444444444446,\"xanchor\":\"center\",\"xref\":\"paper\",\"y\":0.495,\"yanchor\":\"bottom\",\"yref\":\"paper\"},{\"font\":{\"size\":24},\"showarrow\":false,\"text\":\"sienna<br><sup>Prevalency Score: 0.98</sup>\",\"x\":0.5,\"xanchor\":\"center\",\"xref\":\"paper\",\"y\":0.495,\"yanchor\":\"bottom\",\"yref\":\"paper\"},{\"font\":{\"size\":24},\"showarrow\":false,\"text\":\"rosybrown<br><sup>Prevalency Score: 0.98</sup>\",\"x\":0.8555555555555556,\"xanchor\":\"center\",\"xref\":\"paper\",\"y\":0.495,\"yanchor\":\"bottom\",\"yref\":\"paper\"},{\"font\":{\"size\":24},\"showarrow\":false,\"text\":\"indianred<br><sup>Prevalency Score: 0.8</sup>\",\"x\":0.14444444444444446,\"xanchor\":\"center\",\"xref\":\"paper\",\"y\":-0.13,\"yanchor\":\"bottom\",\"yref\":\"paper\"},{\"font\":{\"size\":24},\"showarrow\":false,\"text\":\"peru<br><sup>Prevalency Score: 0.7</sup>\",\"x\":0.5,\"xanchor\":\"center\",\"xref\":\"paper\",\"y\":-0.13,\"yanchor\":\"bottom\",\"yref\":\"paper\"},{\"font\":{\"size\":24},\"showarrow\":false,\"text\":\"tan<br><sup>Prevalency Score: 0.62</sup>\",\"x\":0.8555555555555556,\"xanchor\":\"center\",\"xref\":\"paper\",\"y\":-0.13,\"yanchor\":\"bottom\",\"yref\":\"paper\"}],\"title\":{\"font\":{\"size\":30},\"text\":\"Distribution of Most Prevalent Colors among Color Identities<br><sup>Limited Edition Alpha, Card Art</sup>\",\"x\":0.5,\"y\":0.91},\"font\":{\"size\":18,\"color\":\"black\"},\"margin\":{\"t\":150},\"width\":1200,\"height\":800,\"shapes\":[{\"fillcolor\":\"darkolivegreen\",\"line\":{\"color\":\"black\",\"width\":3},\"type\":\"rect\",\"x0\":-0.01,\"x1\":0.04,\"y0\":0.52,\"y1\":0.61},{\"fillcolor\":\"sienna\",\"line\":{\"color\":\"black\",\"width\":3},\"type\":\"rect\",\"x0\":0.34,\"x1\":0.39,\"y0\":0.52,\"y1\":0.61},{\"fillcolor\":\"rosybrown\",\"line\":{\"color\":\"black\",\"width\":3},\"type\":\"rect\",\"x0\":0.695,\"x1\":0.745,\"y0\":0.52,\"y1\":0.61},{\"fillcolor\":\"indianred\",\"line\":{\"color\":\"black\",\"width\":3},\"type\":\"rect\",\"x0\":-0.01,\"x1\":0.04,\"y0\":-0.105,\"y1\":-0.015},{\"fillcolor\":\"peru\",\"line\":{\"color\":\"black\",\"width\":3},\"type\":\"rect\",\"x0\":0.34,\"x1\":0.39,\"y0\":-0.105,\"y1\":-0.015},{\"fillcolor\":\"tan\",\"line\":{\"color\":\"black\",\"width\":3},\"type\":\"rect\",\"x0\":0.695,\"x1\":0.745,\"y0\":-0.105,\"y1\":-0.015}]},                        {\"responsive\": true}                    ).then(function(){\n",
       "                            \n",
       "var gd = document.getElementById('ceed8e1a-9e81-418e-ba89-b218af0c9084');\n",
       "var x = new MutationObserver(function (mutations, observer) {{\n",
       "        var display = window.getComputedStyle(gd).display;\n",
       "        if (!display || display === 'none') {{\n",
       "            console.log([gd, 'removed!']);\n",
       "            Plotly.purge(gd);\n",
       "            observer.disconnect();\n",
       "        }}\n",
       "}});\n",
       "\n",
       "// Listen for the removal of the full notebook cells\n",
       "var notebookContainer = gd.closest('#notebook-container');\n",
       "if (notebookContainer) {{\n",
       "    x.observe(notebookContainer, {childList: true});\n",
       "}}\n",
       "\n",
       "// Listen for the clearing of the current output cell\n",
       "var outputEl = gd.closest('.output');\n",
       "if (outputEl) {{\n",
       "    x.observe(outputEl, {childList: true});\n",
       "}}\n",
       "\n",
       "                        })                };                });            </script>        </div>"
      ]
     },
     "metadata": {},
     "output_type": "display_data"
    }
   ],
   "source": [
    "specs = [[{'type':'domain'}, {'type':'domain'}, {'type':'domain'}], [{'type':'domain'}, {'type':'domain'}, {'type':'domain'}]]\n",
    "colors = [\"plum\", \"lightgray\", \"lightgreen\", \"salmon\", \"lightblue\", \"yellow\"]\n",
    "titles = []\n",
    "for index,i in enumerate(top_colors):\n",
    "    titles.append(f\"{i}<br><sup>Prevalency Score: {list(stacked_top.prevalency_score.values)[index]}</sup>\")\n",
    "\n",
    "fig = go.Figure()\n",
    "fig = make_subplots(rows=2, cols=3, \n",
    "                    specs=specs, \n",
    "                    subplot_titles=titles)\n",
    "\n",
    "labels = stacked[(stacked[\"variable\"] == \"darkolivegreen\")].colorIdentity.to_list()\n",
    "values = stacked[(stacked[\"variable\"] == \"darkolivegreen\")].value.to_list()\n",
    "fig.add_trace(go.Pie(labels=labels, values=values, hole=0.3), 1, 1)\n",
    "\n",
    "labels = stacked[(stacked[\"variable\"] == \"sienna\")].colorIdentity.to_list()\n",
    "values = stacked[(stacked[\"variable\"] == \"sienna\")].value.to_list()\n",
    "fig.add_trace(go.Pie(labels=labels, values=values, hole=0.3), 1, 2)\n",
    "\n",
    "labels = stacked[(stacked[\"variable\"] == \"rosybrown\")].colorIdentity.to_list()\n",
    "values = stacked[(stacked[\"variable\"] == \"rosybrown\")].value.to_list()\n",
    "fig.add_trace(go.Pie(labels=labels, values=values, hole=0.3), 1, 3)\n",
    "\n",
    "labels = stacked[(stacked[\"variable\"] == \"indianred\")].colorIdentity.to_list()\n",
    "values = stacked[(stacked[\"variable\"] == \"indianred\")].value.to_list()\n",
    "fig.add_trace(go.Pie(labels=labels, values=values, hole=0.3), 2, 1)\n",
    "\n",
    "labels = stacked[(stacked[\"variable\"] == \"peru\")].colorIdentity.to_list()\n",
    "values = stacked[(stacked[\"variable\"] == \"peru\")].value.to_list()\n",
    "fig.add_trace(go.Pie(labels=labels, values=values, hole=0.3), 2, 2)\n",
    "\n",
    "labels = stacked[(stacked[\"variable\"] == \"tan\")].colorIdentity.to_list()\n",
    "values = stacked[(stacked[\"variable\"] == \"tan\")].value.to_list()\n",
    "fig.add_trace(go.Pie(labels=labels, values=values, hole=0.3), 2, 3)\n",
    "\n",
    "fig.update_traces(textinfo=\"label\", \n",
    "                  textfont_size=14,\n",
    "                  textposition=\"auto\",\n",
    "                  marker=dict(colors=colors, line=dict(color=\"black\", width=4)),\n",
    "                  showlegend = False)\n",
    "fig.update_layout(title_text=f\"Distribution of Most Prevalent Colors among Color Identities<br><sup>Limited Edition Alpha, Card Art</sup>\",\n",
    "                  title_font_size=30,\n",
    "                  title_x=0.5,\n",
    "                  title_y=.91,\n",
    "                  font=dict(size=18,color=\"black\"),    \n",
    "                  margin=dict(t=150),\n",
    "                  width=1200,\n",
    "                  height=800,\n",
    "                  shapes=[dict(type=\"rect\", x0=-0.01, x1=0.04, y0=.52, y1=0.61, fillcolor=\"darkolivegreen\", line=dict(color=\"black\", width=3)),\n",
    "                          dict(type=\"rect\", x0=0.34, x1=0.39, y0=0.52, y1=0.61, fillcolor=\"sienna\", line=dict(color=\"black\", width=3)),\n",
    "                          dict(type=\"rect\", x0=0.695, x1=0.745, y0=0.52, y1=0.61, fillcolor=\"rosybrown\", line=dict(color=\"black\", width=3)),\n",
    "                          dict(type=\"rect\", x0=-0.01, x1=0.04, y0=-0.105, y1=-0.015, fillcolor=\"indianred\", line=dict(color=\"black\", width=3)),\n",
    "                          dict(type=\"rect\", x0=0.34, x1=0.39, y0=-0.105, y1=-0.015, fillcolor=\"peru\", line=dict(color=\"black\", width=3)),\n",
    "                          dict(type=\"rect\", x0=0.695, x1=0.745, y0=-0.105, y1=-0.015, fillcolor=\"tan\", line=dict(color=\"black\", width=3))])\n",
    "fig.layout.annotations[0].update(y=0.495, font=dict(size = 24))\n",
    "fig.layout.annotations[1].update(y=0.495, font=dict(size = 24))\n",
    "fig.layout.annotations[2].update(y=0.495, font=dict(size = 24))\n",
    "fig.layout.annotations[3].update(y=-0.13, font=dict(size = 24))\n",
    "fig.layout.annotations[4].update(y=-0.13, font=dict(size = 24))\n",
    "fig.layout.annotations[5].update(y=-0.13, font=dict(size = 24))\n",
    "fig.show()"
   ]
  },
  {
   "cell_type": "markdown",
   "id": "ff06524f-18cd-4354-9dd8-99bcf45ea8b3",
   "metadata": {},
   "source": [
    "## Plot the same data using a horizontal stacked bar chart."
   ]
  },
  {
   "cell_type": "code",
   "execution_count": 199,
   "id": "7bfd8392-a730-4246-93ac-8777be7f1901",
   "metadata": {},
   "outputs": [
    {
     "data": {
      "application/vnd.plotly.v1+json": {
       "config": {
        "plotlyServerURL": "https://plot.ly"
       },
       "data": [
        {
         "hovertemplate": "%{x}",
         "marker": {
          "color": "yellow",
          "line": {
           "color": "black",
           "width": 3
          }
         },
         "name": "W",
         "orientation": "h",
         "showlegend": false,
         "type": "bar",
         "x": [
          0.12690355329949238,
          0.11812443642921551,
          0.20580235720761558,
          0.10653409090909091,
          0.22246941045606228,
          0.09911504424778761
         ],
         "y": [
          "peru",
          "sienna",
          "rosybrown",
          "tan",
          "indianred",
          "darkolivegreen"
         ]
        },
        {
         "hovertemplate": "%{x}",
         "marker": {
          "color": "lightblue",
          "line": {
           "color": "black",
           "width": 3
          }
         },
         "name": "U",
         "orientation": "h",
         "showlegend": false,
         "type": "bar",
         "x": [
          0.30076142131979694,
          0.17132551848512173,
          0.13236627379873073,
          0.2840909090909091,
          0.1935483870967742,
          0.23008849557522124
         ],
         "y": [
          "peru",
          "sienna",
          "rosybrown",
          "tan",
          "indianred",
          "darkolivegreen"
         ]
        },
        {
         "hovertemplate": "%{x}",
         "marker": {
          "color": "plum",
          "line": {
           "color": "black",
           "width": 3
          }
         },
         "name": "B",
         "orientation": "h",
         "showlegend": false,
         "type": "bar",
         "x": [
          0.07233502538071065,
          0.16411181244364292,
          0.2873980054397099,
          0.125,
          0.19688542825361513,
          0.09911504424778761
         ],
         "y": [
          "peru",
          "sienna",
          "rosybrown",
          "tan",
          "indianred",
          "darkolivegreen"
         ]
        },
        {
         "hovertemplate": "%{x}",
         "marker": {
          "color": "salmon",
          "line": {
           "color": "black",
           "width": 3
          }
         },
         "name": "R",
         "orientation": "h",
         "showlegend": false,
         "type": "bar",
         "x": [
          0.2868020304568528,
          0.1992786293958521,
          0.1414324569356301,
          0.19176136363636365,
          0.2235817575083426,
          0.23097345132743363
         ],
         "y": [
          "peru",
          "sienna",
          "rosybrown",
          "tan",
          "indianred",
          "darkolivegreen"
         ]
        },
        {
         "hovertemplate": "%{x}",
         "marker": {
          "color": "lightgreen",
          "line": {
           "color": "black",
           "width": 3
          }
         },
         "name": "G",
         "orientation": "h",
         "showlegend": false,
         "type": "bar",
         "x": [
          0.07233502538071065,
          0.12082957619477007,
          0.09610154125113328,
          0.13352272727272727,
          0.006674082313681869,
          0.25486725663716814
         ],
         "y": [
          "peru",
          "sienna",
          "rosybrown",
          "tan",
          "indianred",
          "darkolivegreen"
         ]
        },
        {
         "hovertemplate": "%{x}",
         "marker": {
          "color": "lightgray",
          "line": {
           "color": "black",
           "width": 3
          }
         },
         "name": "C",
         "orientation": "h",
         "showlegend": false,
         "type": "bar",
         "x": [
          0.14086294416243655,
          0.22633002705139765,
          0.13689936536718042,
          0.1590909090909091,
          0.1568409343715239,
          0.08584070796460178
         ],
         "y": [
          "peru",
          "sienna",
          "rosybrown",
          "tan",
          "indianred",
          "darkolivegreen"
         ]
        }
       ],
       "layout": {
        "barmode": "stack",
        "font": {
         "color": "black",
         "size": 18
        },
        "height": 800,
        "margin": {
         "l": 175,
         "t": 150
        },
        "shapes": [
         {
          "fillcolor": "darkolivegreen",
          "line": {
           "color": "black",
           "width": 3
          },
          "type": "rect",
          "x0": -0.1,
          "x1": -0.02,
          "xref": "x",
          "y0": 4.7,
          "y1": 5.3,
          "yref": "y"
         },
         {
          "fillcolor": "indianred",
          "line": {
           "color": "black",
           "width": 3
          },
          "type": "rect",
          "x0": -0.1,
          "x1": -0.02,
          "xref": "x",
          "y0": 3.7,
          "y1": 4.3,
          "yref": "y"
         },
         {
          "fillcolor": "tan",
          "line": {
           "color": "black",
           "width": 3
          },
          "type": "rect",
          "x0": -0.1,
          "x1": -0.02,
          "xref": "x",
          "y0": 2.7,
          "y1": 3.3,
          "yref": "y"
         },
         {
          "fillcolor": "rosybrown",
          "line": {
           "color": "black",
           "width": 3
          },
          "type": "rect",
          "x0": -0.1,
          "x1": -0.02,
          "xref": "x",
          "y0": 1.7,
          "y1": 2.3,
          "yref": "y"
         },
         {
          "fillcolor": "sienna",
          "line": {
           "color": "black",
           "width": 3
          },
          "type": "rect",
          "x0": -0.1,
          "x1": -0.02,
          "xref": "x",
          "y0": 0.7,
          "y1": 1.3,
          "yref": "y"
         },
         {
          "fillcolor": "peru",
          "line": {
           "color": "black",
           "width": 3
          },
          "type": "rect",
          "x0": -0.1,
          "x1": -0.02,
          "xref": "x",
          "y0": -0.3,
          "y1": 0.3,
          "yref": "y"
         }
        ],
        "template": {
         "data": {
          "bar": [
           {
            "error_x": {
             "color": "#2a3f5f"
            },
            "error_y": {
             "color": "#2a3f5f"
            },
            "marker": {
             "line": {
              "color": "#E5ECF6",
              "width": 0.5
             },
             "pattern": {
              "fillmode": "overlay",
              "size": 10,
              "solidity": 0.2
             }
            },
            "type": "bar"
           }
          ],
          "barpolar": [
           {
            "marker": {
             "line": {
              "color": "#E5ECF6",
              "width": 0.5
             },
             "pattern": {
              "fillmode": "overlay",
              "size": 10,
              "solidity": 0.2
             }
            },
            "type": "barpolar"
           }
          ],
          "carpet": [
           {
            "aaxis": {
             "endlinecolor": "#2a3f5f",
             "gridcolor": "white",
             "linecolor": "white",
             "minorgridcolor": "white",
             "startlinecolor": "#2a3f5f"
            },
            "baxis": {
             "endlinecolor": "#2a3f5f",
             "gridcolor": "white",
             "linecolor": "white",
             "minorgridcolor": "white",
             "startlinecolor": "#2a3f5f"
            },
            "type": "carpet"
           }
          ],
          "choropleth": [
           {
            "colorbar": {
             "outlinewidth": 0,
             "ticks": ""
            },
            "type": "choropleth"
           }
          ],
          "contour": [
           {
            "colorbar": {
             "outlinewidth": 0,
             "ticks": ""
            },
            "colorscale": [
             [
              0,
              "#0d0887"
             ],
             [
              0.1111111111111111,
              "#46039f"
             ],
             [
              0.2222222222222222,
              "#7201a8"
             ],
             [
              0.3333333333333333,
              "#9c179e"
             ],
             [
              0.4444444444444444,
              "#bd3786"
             ],
             [
              0.5555555555555556,
              "#d8576b"
             ],
             [
              0.6666666666666666,
              "#ed7953"
             ],
             [
              0.7777777777777778,
              "#fb9f3a"
             ],
             [
              0.8888888888888888,
              "#fdca26"
             ],
             [
              1,
              "#f0f921"
             ]
            ],
            "type": "contour"
           }
          ],
          "contourcarpet": [
           {
            "colorbar": {
             "outlinewidth": 0,
             "ticks": ""
            },
            "type": "contourcarpet"
           }
          ],
          "heatmap": [
           {
            "colorbar": {
             "outlinewidth": 0,
             "ticks": ""
            },
            "colorscale": [
             [
              0,
              "#0d0887"
             ],
             [
              0.1111111111111111,
              "#46039f"
             ],
             [
              0.2222222222222222,
              "#7201a8"
             ],
             [
              0.3333333333333333,
              "#9c179e"
             ],
             [
              0.4444444444444444,
              "#bd3786"
             ],
             [
              0.5555555555555556,
              "#d8576b"
             ],
             [
              0.6666666666666666,
              "#ed7953"
             ],
             [
              0.7777777777777778,
              "#fb9f3a"
             ],
             [
              0.8888888888888888,
              "#fdca26"
             ],
             [
              1,
              "#f0f921"
             ]
            ],
            "type": "heatmap"
           }
          ],
          "heatmapgl": [
           {
            "colorbar": {
             "outlinewidth": 0,
             "ticks": ""
            },
            "colorscale": [
             [
              0,
              "#0d0887"
             ],
             [
              0.1111111111111111,
              "#46039f"
             ],
             [
              0.2222222222222222,
              "#7201a8"
             ],
             [
              0.3333333333333333,
              "#9c179e"
             ],
             [
              0.4444444444444444,
              "#bd3786"
             ],
             [
              0.5555555555555556,
              "#d8576b"
             ],
             [
              0.6666666666666666,
              "#ed7953"
             ],
             [
              0.7777777777777778,
              "#fb9f3a"
             ],
             [
              0.8888888888888888,
              "#fdca26"
             ],
             [
              1,
              "#f0f921"
             ]
            ],
            "type": "heatmapgl"
           }
          ],
          "histogram": [
           {
            "marker": {
             "pattern": {
              "fillmode": "overlay",
              "size": 10,
              "solidity": 0.2
             }
            },
            "type": "histogram"
           }
          ],
          "histogram2d": [
           {
            "colorbar": {
             "outlinewidth": 0,
             "ticks": ""
            },
            "colorscale": [
             [
              0,
              "#0d0887"
             ],
             [
              0.1111111111111111,
              "#46039f"
             ],
             [
              0.2222222222222222,
              "#7201a8"
             ],
             [
              0.3333333333333333,
              "#9c179e"
             ],
             [
              0.4444444444444444,
              "#bd3786"
             ],
             [
              0.5555555555555556,
              "#d8576b"
             ],
             [
              0.6666666666666666,
              "#ed7953"
             ],
             [
              0.7777777777777778,
              "#fb9f3a"
             ],
             [
              0.8888888888888888,
              "#fdca26"
             ],
             [
              1,
              "#f0f921"
             ]
            ],
            "type": "histogram2d"
           }
          ],
          "histogram2dcontour": [
           {
            "colorbar": {
             "outlinewidth": 0,
             "ticks": ""
            },
            "colorscale": [
             [
              0,
              "#0d0887"
             ],
             [
              0.1111111111111111,
              "#46039f"
             ],
             [
              0.2222222222222222,
              "#7201a8"
             ],
             [
              0.3333333333333333,
              "#9c179e"
             ],
             [
              0.4444444444444444,
              "#bd3786"
             ],
             [
              0.5555555555555556,
              "#d8576b"
             ],
             [
              0.6666666666666666,
              "#ed7953"
             ],
             [
              0.7777777777777778,
              "#fb9f3a"
             ],
             [
              0.8888888888888888,
              "#fdca26"
             ],
             [
              1,
              "#f0f921"
             ]
            ],
            "type": "histogram2dcontour"
           }
          ],
          "mesh3d": [
           {
            "colorbar": {
             "outlinewidth": 0,
             "ticks": ""
            },
            "type": "mesh3d"
           }
          ],
          "parcoords": [
           {
            "line": {
             "colorbar": {
              "outlinewidth": 0,
              "ticks": ""
             }
            },
            "type": "parcoords"
           }
          ],
          "pie": [
           {
            "automargin": true,
            "type": "pie"
           }
          ],
          "scatter": [
           {
            "fillpattern": {
             "fillmode": "overlay",
             "size": 10,
             "solidity": 0.2
            },
            "type": "scatter"
           }
          ],
          "scatter3d": [
           {
            "line": {
             "colorbar": {
              "outlinewidth": 0,
              "ticks": ""
             }
            },
            "marker": {
             "colorbar": {
              "outlinewidth": 0,
              "ticks": ""
             }
            },
            "type": "scatter3d"
           }
          ],
          "scattercarpet": [
           {
            "marker": {
             "colorbar": {
              "outlinewidth": 0,
              "ticks": ""
             }
            },
            "type": "scattercarpet"
           }
          ],
          "scattergeo": [
           {
            "marker": {
             "colorbar": {
              "outlinewidth": 0,
              "ticks": ""
             }
            },
            "type": "scattergeo"
           }
          ],
          "scattergl": [
           {
            "marker": {
             "colorbar": {
              "outlinewidth": 0,
              "ticks": ""
             }
            },
            "type": "scattergl"
           }
          ],
          "scattermapbox": [
           {
            "marker": {
             "colorbar": {
              "outlinewidth": 0,
              "ticks": ""
             }
            },
            "type": "scattermapbox"
           }
          ],
          "scatterpolar": [
           {
            "marker": {
             "colorbar": {
              "outlinewidth": 0,
              "ticks": ""
             }
            },
            "type": "scatterpolar"
           }
          ],
          "scatterpolargl": [
           {
            "marker": {
             "colorbar": {
              "outlinewidth": 0,
              "ticks": ""
             }
            },
            "type": "scatterpolargl"
           }
          ],
          "scatterternary": [
           {
            "marker": {
             "colorbar": {
              "outlinewidth": 0,
              "ticks": ""
             }
            },
            "type": "scatterternary"
           }
          ],
          "surface": [
           {
            "colorbar": {
             "outlinewidth": 0,
             "ticks": ""
            },
            "colorscale": [
             [
              0,
              "#0d0887"
             ],
             [
              0.1111111111111111,
              "#46039f"
             ],
             [
              0.2222222222222222,
              "#7201a8"
             ],
             [
              0.3333333333333333,
              "#9c179e"
             ],
             [
              0.4444444444444444,
              "#bd3786"
             ],
             [
              0.5555555555555556,
              "#d8576b"
             ],
             [
              0.6666666666666666,
              "#ed7953"
             ],
             [
              0.7777777777777778,
              "#fb9f3a"
             ],
             [
              0.8888888888888888,
              "#fdca26"
             ],
             [
              1,
              "#f0f921"
             ]
            ],
            "type": "surface"
           }
          ],
          "table": [
           {
            "cells": {
             "fill": {
              "color": "#EBF0F8"
             },
             "line": {
              "color": "white"
             }
            },
            "header": {
             "fill": {
              "color": "#C8D4E3"
             },
             "line": {
              "color": "white"
             }
            },
            "type": "table"
           }
          ]
         },
         "layout": {
          "annotationdefaults": {
           "arrowcolor": "#2a3f5f",
           "arrowhead": 0,
           "arrowwidth": 1
          },
          "autotypenumbers": "strict",
          "coloraxis": {
           "colorbar": {
            "outlinewidth": 0,
            "ticks": ""
           }
          },
          "colorscale": {
           "diverging": [
            [
             0,
             "#8e0152"
            ],
            [
             0.1,
             "#c51b7d"
            ],
            [
             0.2,
             "#de77ae"
            ],
            [
             0.3,
             "#f1b6da"
            ],
            [
             0.4,
             "#fde0ef"
            ],
            [
             0.5,
             "#f7f7f7"
            ],
            [
             0.6,
             "#e6f5d0"
            ],
            [
             0.7,
             "#b8e186"
            ],
            [
             0.8,
             "#7fbc41"
            ],
            [
             0.9,
             "#4d9221"
            ],
            [
             1,
             "#276419"
            ]
           ],
           "sequential": [
            [
             0,
             "#0d0887"
            ],
            [
             0.1111111111111111,
             "#46039f"
            ],
            [
             0.2222222222222222,
             "#7201a8"
            ],
            [
             0.3333333333333333,
             "#9c179e"
            ],
            [
             0.4444444444444444,
             "#bd3786"
            ],
            [
             0.5555555555555556,
             "#d8576b"
            ],
            [
             0.6666666666666666,
             "#ed7953"
            ],
            [
             0.7777777777777778,
             "#fb9f3a"
            ],
            [
             0.8888888888888888,
             "#fdca26"
            ],
            [
             1,
             "#f0f921"
            ]
           ],
           "sequentialminus": [
            [
             0,
             "#0d0887"
            ],
            [
             0.1111111111111111,
             "#46039f"
            ],
            [
             0.2222222222222222,
             "#7201a8"
            ],
            [
             0.3333333333333333,
             "#9c179e"
            ],
            [
             0.4444444444444444,
             "#bd3786"
            ],
            [
             0.5555555555555556,
             "#d8576b"
            ],
            [
             0.6666666666666666,
             "#ed7953"
            ],
            [
             0.7777777777777778,
             "#fb9f3a"
            ],
            [
             0.8888888888888888,
             "#fdca26"
            ],
            [
             1,
             "#f0f921"
            ]
           ]
          },
          "colorway": [
           "#636efa",
           "#EF553B",
           "#00cc96",
           "#ab63fa",
           "#FFA15A",
           "#19d3f3",
           "#FF6692",
           "#B6E880",
           "#FF97FF",
           "#FECB52"
          ],
          "font": {
           "color": "#2a3f5f"
          },
          "geo": {
           "bgcolor": "white",
           "lakecolor": "white",
           "landcolor": "#E5ECF6",
           "showlakes": true,
           "showland": true,
           "subunitcolor": "white"
          },
          "hoverlabel": {
           "align": "left"
          },
          "hovermode": "closest",
          "mapbox": {
           "style": "light"
          },
          "paper_bgcolor": "white",
          "plot_bgcolor": "#E5ECF6",
          "polar": {
           "angularaxis": {
            "gridcolor": "white",
            "linecolor": "white",
            "ticks": ""
           },
           "bgcolor": "#E5ECF6",
           "radialaxis": {
            "gridcolor": "white",
            "linecolor": "white",
            "ticks": ""
           }
          },
          "scene": {
           "xaxis": {
            "backgroundcolor": "#E5ECF6",
            "gridcolor": "white",
            "gridwidth": 2,
            "linecolor": "white",
            "showbackground": true,
            "ticks": "",
            "zerolinecolor": "white"
           },
           "yaxis": {
            "backgroundcolor": "#E5ECF6",
            "gridcolor": "white",
            "gridwidth": 2,
            "linecolor": "white",
            "showbackground": true,
            "ticks": "",
            "zerolinecolor": "white"
           },
           "zaxis": {
            "backgroundcolor": "#E5ECF6",
            "gridcolor": "white",
            "gridwidth": 2,
            "linecolor": "white",
            "showbackground": true,
            "ticks": "",
            "zerolinecolor": "white"
           }
          },
          "shapedefaults": {
           "line": {
            "color": "#2a3f5f"
           }
          },
          "ternary": {
           "aaxis": {
            "gridcolor": "white",
            "linecolor": "white",
            "ticks": ""
           },
           "baxis": {
            "gridcolor": "white",
            "linecolor": "white",
            "ticks": ""
           },
           "bgcolor": "#E5ECF6",
           "caxis": {
            "gridcolor": "white",
            "linecolor": "white",
            "ticks": ""
           }
          },
          "title": {
           "x": 0.05
          },
          "xaxis": {
           "automargin": true,
           "gridcolor": "white",
           "linecolor": "white",
           "ticks": "",
           "title": {
            "standoff": 15
           },
           "zerolinecolor": "white",
           "zerolinewidth": 2
          },
          "yaxis": {
           "automargin": true,
           "gridcolor": "white",
           "linecolor": "white",
           "ticks": "",
           "title": {
            "standoff": 15
           },
           "zerolinecolor": "white",
           "zerolinewidth": 2
          }
         }
        },
        "title": {
         "font": {
          "size": 30
         },
         "text": "Distribution of Most Prevalent Colors among Color Identities<br><sup>Limited Edition Alpha, Card Art</sup>",
         "x": 0.5,
         "y": 0.91
        },
        "width": 1200,
        "xaxis": {
         "range": [
          -0.115,
          1.02
         ],
         "showgrid": false,
         "showticklabels": false,
         "type": "linear",
         "zeroline": false
        },
        "yaxis": {
         "autorange": true,
         "range": [
          -0.5,
          5.5
         ],
         "showgrid": false,
         "ticklabelposition": "outside left",
         "type": "category",
         "zeroline": false
        }
       }
      },
      "image/png": "[encoded data removed]",
      "text/html": [
       "<div>                            <div id=\"48ba53b6-a3cd-4435-99b8-0b1b3e5065a6\" class=\"plotly-graph-div\" style=\"height:800px; width:1200px;\"></div>            <script type=\"text/javascript\">                require([\"plotly\"], function(Plotly) {                    window.PLOTLYENV=window.PLOTLYENV || {};                                    if (document.getElementById(\"48ba53b6-a3cd-4435-99b8-0b1b3e5065a6\")) {                    Plotly.newPlot(                        \"48ba53b6-a3cd-4435-99b8-0b1b3e5065a6\",                        [{\"hovertemplate\":\"%{x}\",\"marker\":{\"color\":\"yellow\",\"line\":{\"color\":\"black\",\"width\":3}},\"name\":\"W\",\"orientation\":\"h\",\"showlegend\":false,\"x\":[0.12690355329949238,0.11812443642921551,0.20580235720761558,0.10653409090909091,0.22246941045606228,0.09911504424778761],\"y\":[\"peru\",\"sienna\",\"rosybrown\",\"tan\",\"indianred\",\"darkolivegreen\"],\"type\":\"bar\"},{\"hovertemplate\":\"%{x}\",\"marker\":{\"color\":\"lightblue\",\"line\":{\"color\":\"black\",\"width\":3}},\"name\":\"U\",\"orientation\":\"h\",\"showlegend\":false,\"x\":[0.30076142131979694,0.17132551848512173,0.13236627379873073,0.2840909090909091,0.1935483870967742,0.23008849557522124],\"y\":[\"peru\",\"sienna\",\"rosybrown\",\"tan\",\"indianred\",\"darkolivegreen\"],\"type\":\"bar\"},{\"hovertemplate\":\"%{x}\",\"marker\":{\"color\":\"plum\",\"line\":{\"color\":\"black\",\"width\":3}},\"name\":\"B\",\"orientation\":\"h\",\"showlegend\":false,\"x\":[0.07233502538071065,0.16411181244364292,0.2873980054397099,0.125,0.19688542825361513,0.09911504424778761],\"y\":[\"peru\",\"sienna\",\"rosybrown\",\"tan\",\"indianred\",\"darkolivegreen\"],\"type\":\"bar\"},{\"hovertemplate\":\"%{x}\",\"marker\":{\"color\":\"salmon\",\"line\":{\"color\":\"black\",\"width\":3}},\"name\":\"R\",\"orientation\":\"h\",\"showlegend\":false,\"x\":[0.2868020304568528,0.1992786293958521,0.1414324569356301,0.19176136363636365,0.2235817575083426,0.23097345132743363],\"y\":[\"peru\",\"sienna\",\"rosybrown\",\"tan\",\"indianred\",\"darkolivegreen\"],\"type\":\"bar\"},{\"hovertemplate\":\"%{x}\",\"marker\":{\"color\":\"lightgreen\",\"line\":{\"color\":\"black\",\"width\":3}},\"name\":\"G\",\"orientation\":\"h\",\"showlegend\":false,\"x\":[0.07233502538071065,0.12082957619477007,0.09610154125113328,0.13352272727272727,0.006674082313681869,0.25486725663716814],\"y\":[\"peru\",\"sienna\",\"rosybrown\",\"tan\",\"indianred\",\"darkolivegreen\"],\"type\":\"bar\"},{\"hovertemplate\":\"%{x}\",\"marker\":{\"color\":\"lightgray\",\"line\":{\"color\":\"black\",\"width\":3}},\"name\":\"C\",\"orientation\":\"h\",\"showlegend\":false,\"x\":[0.14086294416243655,0.22633002705139765,0.13689936536718042,0.1590909090909091,0.1568409343715239,0.08584070796460178],\"y\":[\"peru\",\"sienna\",\"rosybrown\",\"tan\",\"indianred\",\"darkolivegreen\"],\"type\":\"bar\"}],                        {\"template\":{\"data\":{\"histogram2dcontour\":[{\"type\":\"histogram2dcontour\",\"colorbar\":{\"outlinewidth\":0,\"ticks\":\"\"},\"colorscale\":[[0.0,\"#0d0887\"],[0.1111111111111111,\"#46039f\"],[0.2222222222222222,\"#7201a8\"],[0.3333333333333333,\"#9c179e\"],[0.4444444444444444,\"#bd3786\"],[0.5555555555555556,\"#d8576b\"],[0.6666666666666666,\"#ed7953\"],[0.7777777777777778,\"#fb9f3a\"],[0.8888888888888888,\"#fdca26\"],[1.0,\"#f0f921\"]]}],\"choropleth\":[{\"type\":\"choropleth\",\"colorbar\":{\"outlinewidth\":0,\"ticks\":\"\"}}],\"histogram2d\":[{\"type\":\"histogram2d\",\"colorbar\":{\"outlinewidth\":0,\"ticks\":\"\"},\"colorscale\":[[0.0,\"#0d0887\"],[0.1111111111111111,\"#46039f\"],[0.2222222222222222,\"#7201a8\"],[0.3333333333333333,\"#9c179e\"],[0.4444444444444444,\"#bd3786\"],[0.5555555555555556,\"#d8576b\"],[0.6666666666666666,\"#ed7953\"],[0.7777777777777778,\"#fb9f3a\"],[0.8888888888888888,\"#fdca26\"],[1.0,\"#f0f921\"]]}],\"heatmap\":[{\"type\":\"heatmap\",\"colorbar\":{\"outlinewidth\":0,\"ticks\":\"\"},\"colorscale\":[[0.0,\"#0d0887\"],[0.1111111111111111,\"#46039f\"],[0.2222222222222222,\"#7201a8\"],[0.3333333333333333,\"#9c179e\"],[0.4444444444444444,\"#bd3786\"],[0.5555555555555556,\"#d8576b\"],[0.6666666666666666,\"#ed7953\"],[0.7777777777777778,\"#fb9f3a\"],[0.8888888888888888,\"#fdca26\"],[1.0,\"#f0f921\"]]}],\"heatmapgl\":[{\"type\":\"heatmapgl\",\"colorbar\":{\"outlinewidth\":0,\"ticks\":\"\"},\"colorscale\":[[0.0,\"#0d0887\"],[0.1111111111111111,\"#46039f\"],[0.2222222222222222,\"#7201a8\"],[0.3333333333333333,\"#9c179e\"],[0.4444444444444444,\"#bd3786\"],[0.5555555555555556,\"#d8576b\"],[0.6666666666666666,\"#ed7953\"],[0.7777777777777778,\"#fb9f3a\"],[0.8888888888888888,\"#fdca26\"],[1.0,\"#f0f921\"]]}],\"contourcarpet\":[{\"type\":\"contourcarpet\",\"colorbar\":{\"outlinewidth\":0,\"ticks\":\"\"}}],\"contour\":[{\"type\":\"contour\",\"colorbar\":{\"outlinewidth\":0,\"ticks\":\"\"},\"colorscale\":[[0.0,\"#0d0887\"],[0.1111111111111111,\"#46039f\"],[0.2222222222222222,\"#7201a8\"],[0.3333333333333333,\"#9c179e\"],[0.4444444444444444,\"#bd3786\"],[0.5555555555555556,\"#d8576b\"],[0.6666666666666666,\"#ed7953\"],[0.7777777777777778,\"#fb9f3a\"],[0.8888888888888888,\"#fdca26\"],[1.0,\"#f0f921\"]]}],\"surface\":[{\"type\":\"surface\",\"colorbar\":{\"outlinewidth\":0,\"ticks\":\"\"},\"colorscale\":[[0.0,\"#0d0887\"],[0.1111111111111111,\"#46039f\"],[0.2222222222222222,\"#7201a8\"],[0.3333333333333333,\"#9c179e\"],[0.4444444444444444,\"#bd3786\"],[0.5555555555555556,\"#d8576b\"],[0.6666666666666666,\"#ed7953\"],[0.7777777777777778,\"#fb9f3a\"],[0.8888888888888888,\"#fdca26\"],[1.0,\"#f0f921\"]]}],\"mesh3d\":[{\"type\":\"mesh3d\",\"colorbar\":{\"outlinewidth\":0,\"ticks\":\"\"}}],\"scatter\":[{\"fillpattern\":{\"fillmode\":\"overlay\",\"size\":10,\"solidity\":0.2},\"type\":\"scatter\"}],\"parcoords\":[{\"type\":\"parcoords\",\"line\":{\"colorbar\":{\"outlinewidth\":0,\"ticks\":\"\"}}}],\"scatterpolargl\":[{\"type\":\"scatterpolargl\",\"marker\":{\"colorbar\":{\"outlinewidth\":0,\"ticks\":\"\"}}}],\"bar\":[{\"error_x\":{\"color\":\"#2a3f5f\"},\"error_y\":{\"color\":\"#2a3f5f\"},\"marker\":{\"line\":{\"color\":\"#E5ECF6\",\"width\":0.5},\"pattern\":{\"fillmode\":\"overlay\",\"size\":10,\"solidity\":0.2}},\"type\":\"bar\"}],\"scattergeo\":[{\"type\":\"scattergeo\",\"marker\":{\"colorbar\":{\"outlinewidth\":0,\"ticks\":\"\"}}}],\"scatterpolar\":[{\"type\":\"scatterpolar\",\"marker\":{\"colorbar\":{\"outlinewidth\":0,\"ticks\":\"\"}}}],\"histogram\":[{\"marker\":{\"pattern\":{\"fillmode\":\"overlay\",\"size\":10,\"solidity\":0.2}},\"type\":\"histogram\"}],\"scattergl\":[{\"type\":\"scattergl\",\"marker\":{\"colorbar\":{\"outlinewidth\":0,\"ticks\":\"\"}}}],\"scatter3d\":[{\"type\":\"scatter3d\",\"line\":{\"colorbar\":{\"outlinewidth\":0,\"ticks\":\"\"}},\"marker\":{\"colorbar\":{\"outlinewidth\":0,\"ticks\":\"\"}}}],\"scattermapbox\":[{\"type\":\"scattermapbox\",\"marker\":{\"colorbar\":{\"outlinewidth\":0,\"ticks\":\"\"}}}],\"scatterternary\":[{\"type\":\"scatterternary\",\"marker\":{\"colorbar\":{\"outlinewidth\":0,\"ticks\":\"\"}}}],\"scattercarpet\":[{\"type\":\"scattercarpet\",\"marker\":{\"colorbar\":{\"outlinewidth\":0,\"ticks\":\"\"}}}],\"carpet\":[{\"aaxis\":{\"endlinecolor\":\"#2a3f5f\",\"gridcolor\":\"white\",\"linecolor\":\"white\",\"minorgridcolor\":\"white\",\"startlinecolor\":\"#2a3f5f\"},\"baxis\":{\"endlinecolor\":\"#2a3f5f\",\"gridcolor\":\"white\",\"linecolor\":\"white\",\"minorgridcolor\":\"white\",\"startlinecolor\":\"#2a3f5f\"},\"type\":\"carpet\"}],\"table\":[{\"cells\":{\"fill\":{\"color\":\"#EBF0F8\"},\"line\":{\"color\":\"white\"}},\"header\":{\"fill\":{\"color\":\"#C8D4E3\"},\"line\":{\"color\":\"white\"}},\"type\":\"table\"}],\"barpolar\":[{\"marker\":{\"line\":{\"color\":\"#E5ECF6\",\"width\":0.5},\"pattern\":{\"fillmode\":\"overlay\",\"size\":10,\"solidity\":0.2}},\"type\":\"barpolar\"}],\"pie\":[{\"automargin\":true,\"type\":\"pie\"}]},\"layout\":{\"autotypenumbers\":\"strict\",\"colorway\":[\"#636efa\",\"#EF553B\",\"#00cc96\",\"#ab63fa\",\"#FFA15A\",\"#19d3f3\",\"#FF6692\",\"#B6E880\",\"#FF97FF\",\"#FECB52\"],\"font\":{\"color\":\"#2a3f5f\"},\"hovermode\":\"closest\",\"hoverlabel\":{\"align\":\"left\"},\"paper_bgcolor\":\"white\",\"plot_bgcolor\":\"#E5ECF6\",\"polar\":{\"bgcolor\":\"#E5ECF6\",\"angularaxis\":{\"gridcolor\":\"white\",\"linecolor\":\"white\",\"ticks\":\"\"},\"radialaxis\":{\"gridcolor\":\"white\",\"linecolor\":\"white\",\"ticks\":\"\"}},\"ternary\":{\"bgcolor\":\"#E5ECF6\",\"aaxis\":{\"gridcolor\":\"white\",\"linecolor\":\"white\",\"ticks\":\"\"},\"baxis\":{\"gridcolor\":\"white\",\"linecolor\":\"white\",\"ticks\":\"\"},\"caxis\":{\"gridcolor\":\"white\",\"linecolor\":\"white\",\"ticks\":\"\"}},\"coloraxis\":{\"colorbar\":{\"outlinewidth\":0,\"ticks\":\"\"}},\"colorscale\":{\"sequential\":[[0.0,\"#0d0887\"],[0.1111111111111111,\"#46039f\"],[0.2222222222222222,\"#7201a8\"],[0.3333333333333333,\"#9c179e\"],[0.4444444444444444,\"#bd3786\"],[0.5555555555555556,\"#d8576b\"],[0.6666666666666666,\"#ed7953\"],[0.7777777777777778,\"#fb9f3a\"],[0.8888888888888888,\"#fdca26\"],[1.0,\"#f0f921\"]],\"sequentialminus\":[[0.0,\"#0d0887\"],[0.1111111111111111,\"#46039f\"],[0.2222222222222222,\"#7201a8\"],[0.3333333333333333,\"#9c179e\"],[0.4444444444444444,\"#bd3786\"],[0.5555555555555556,\"#d8576b\"],[0.6666666666666666,\"#ed7953\"],[0.7777777777777778,\"#fb9f3a\"],[0.8888888888888888,\"#fdca26\"],[1.0,\"#f0f921\"]],\"diverging\":[[0,\"#8e0152\"],[0.1,\"#c51b7d\"],[0.2,\"#de77ae\"],[0.3,\"#f1b6da\"],[0.4,\"#fde0ef\"],[0.5,\"#f7f7f7\"],[0.6,\"#e6f5d0\"],[0.7,\"#b8e186\"],[0.8,\"#7fbc41\"],[0.9,\"#4d9221\"],[1,\"#276419\"]]},\"xaxis\":{\"gridcolor\":\"white\",\"linecolor\":\"white\",\"ticks\":\"\",\"title\":{\"standoff\":15},\"zerolinecolor\":\"white\",\"automargin\":true,\"zerolinewidth\":2},\"yaxis\":{\"gridcolor\":\"white\",\"linecolor\":\"white\",\"ticks\":\"\",\"title\":{\"standoff\":15},\"zerolinecolor\":\"white\",\"automargin\":true,\"zerolinewidth\":2},\"scene\":{\"xaxis\":{\"backgroundcolor\":\"#E5ECF6\",\"gridcolor\":\"white\",\"linecolor\":\"white\",\"showbackground\":true,\"ticks\":\"\",\"zerolinecolor\":\"white\",\"gridwidth\":2},\"yaxis\":{\"backgroundcolor\":\"#E5ECF6\",\"gridcolor\":\"white\",\"linecolor\":\"white\",\"showbackground\":true,\"ticks\":\"\",\"zerolinecolor\":\"white\",\"gridwidth\":2},\"zaxis\":{\"backgroundcolor\":\"#E5ECF6\",\"gridcolor\":\"white\",\"linecolor\":\"white\",\"showbackground\":true,\"ticks\":\"\",\"zerolinecolor\":\"white\",\"gridwidth\":2}},\"shapedefaults\":{\"line\":{\"color\":\"#2a3f5f\"}},\"annotationdefaults\":{\"arrowcolor\":\"#2a3f5f\",\"arrowhead\":0,\"arrowwidth\":1},\"geo\":{\"bgcolor\":\"white\",\"landcolor\":\"#E5ECF6\",\"subunitcolor\":\"white\",\"showland\":true,\"showlakes\":true,\"lakecolor\":\"white\"},\"title\":{\"x\":0.05},\"mapbox\":{\"style\":\"light\"}}},\"title\":{\"font\":{\"size\":30},\"text\":\"Distribution of Most Prevalent Colors among Color Identities<br><sup>Limited Edition Alpha, Card Art</sup>\",\"x\":0.5,\"y\":0.91},\"yaxis\":{\"ticklabelposition\":\"outside left\",\"showgrid\":false,\"zeroline\":false},\"xaxis\":{\"range\":[-0.115,1.02],\"showgrid\":false,\"zeroline\":false,\"showticklabels\":false},\"font\":{\"size\":18,\"color\":\"black\"},\"margin\":{\"t\":150,\"l\":175},\"barmode\":\"stack\",\"width\":1200,\"height\":800,\"shapes\":[{\"fillcolor\":\"darkolivegreen\",\"line\":{\"color\":\"black\",\"width\":3},\"type\":\"rect\",\"x0\":-0.1,\"x1\":-0.02,\"xref\":\"x\",\"y0\":4.7,\"y1\":5.3,\"yref\":\"y\"},{\"fillcolor\":\"indianred\",\"line\":{\"color\":\"black\",\"width\":3},\"type\":\"rect\",\"x0\":-0.1,\"x1\":-0.02,\"xref\":\"x\",\"y0\":3.7,\"y1\":4.3,\"yref\":\"y\"},{\"fillcolor\":\"tan\",\"line\":{\"color\":\"black\",\"width\":3},\"type\":\"rect\",\"x0\":-0.1,\"x1\":-0.02,\"xref\":\"x\",\"y0\":2.7,\"y1\":3.3,\"yref\":\"y\"},{\"fillcolor\":\"rosybrown\",\"line\":{\"color\":\"black\",\"width\":3},\"type\":\"rect\",\"x0\":-0.1,\"x1\":-0.02,\"xref\":\"x\",\"y0\":1.7,\"y1\":2.3,\"yref\":\"y\"},{\"fillcolor\":\"sienna\",\"line\":{\"color\":\"black\",\"width\":3},\"type\":\"rect\",\"x0\":-0.1,\"x1\":-0.02,\"xref\":\"x\",\"y0\":0.7,\"y1\":1.3,\"yref\":\"y\"},{\"fillcolor\":\"peru\",\"line\":{\"color\":\"black\",\"width\":3},\"type\":\"rect\",\"x0\":-0.1,\"x1\":-0.02,\"xref\":\"x\",\"y0\":-0.3,\"y1\":0.3,\"yref\":\"y\"}]},                        {\"responsive\": true}                    ).then(function(){\n",
       "                            \n",
       "var gd = document.getElementById('48ba53b6-a3cd-4435-99b8-0b1b3e5065a6');\n",
       "var x = new MutationObserver(function (mutations, observer) {{\n",
       "        var display = window.getComputedStyle(gd).display;\n",
       "        if (!display || display === 'none') {{\n",
       "            console.log([gd, 'removed!']);\n",
       "            Plotly.purge(gd);\n",
       "            observer.disconnect();\n",
       "        }}\n",
       "}});\n",
       "\n",
       "// Listen for the removal of the full notebook cells\n",
       "var notebookContainer = gd.closest('#notebook-container');\n",
       "if (notebookContainer) {{\n",
       "    x.observe(notebookContainer, {childList: true});\n",
       "}}\n",
       "\n",
       "// Listen for the clearing of the current output cell\n",
       "var outputEl = gd.closest('.output');\n",
       "if (outputEl) {{\n",
       "    x.observe(outputEl, {childList: true});\n",
       "}}\n",
       "\n",
       "                        })                };                });            </script>        </div>"
      ]
     },
     "metadata": {},
     "output_type": "display_data"
    }
   ],
   "source": [
    "colors = [\"yellow\", \"lightblue\", \"plum\", \"salmon\", \"lightgreen\", \"lightgray\"]\n",
    "colorIdentities = [\"W\", \"U\", \"B\", \"R\", \"G\", \"C\"]\n",
    "\n",
    "fig = go.Figure()\n",
    "\n",
    "for index,i in enumerate(colors):\n",
    "    fig.add_trace(go.Bar(y=list(stacked.variable.unique()), \n",
    "                         x=stacked[(stacked[\"colorIdentity\"] == colorIdentities[index])].percentage_col.to_list(), \n",
    "                         orientation=\"h\", \n",
    "                         marker=dict(color=colors[index], line=dict(color=\"black\", width=3)),\n",
    "                         hovertemplate = \"%{x}\",\n",
    "                         showlegend=False,\n",
    "                         name=colorIdentities[index]))\n",
    "\n",
    "fig.update_layout(title_text=f\"Distribution of Most Prevalent Colors among Color Identities<br><sup>Limited Edition Alpha, Card Art</sup>\",\n",
    "                  title_font_size=30,\n",
    "                  title_x=0.5,\n",
    "                  title_y=.91,\n",
    "                  yaxis=dict(ticklabelposition=\"outside left\", showgrid=False, zeroline=False),\n",
    "                  xaxis=dict(range=[-0.115,1.02], showgrid=False, zeroline=False, showticklabels=False),\n",
    "                  barmode=\"stack\",\n",
    "                  font=dict(size=18,color=\"black\"),    \n",
    "                  margin=dict(t=150, l=175),\n",
    "                  width=1200,\n",
    "                  height=800,\n",
    "                  shapes=[dict(type=\"rect\", xref=\"x\", yref=\"y\", x0=-0.1, x1=-0.02, y0=4.7, y1=5.3, fillcolor=\"darkolivegreen\", line=dict(color=\"black\", width=3)),\n",
    "                          dict(type=\"rect\", xref=\"x\", yref=\"y\", x0=-0.1, x1=-0.02, y0=3.7, y1=4.3, fillcolor=\"indianred\", line=dict(color=\"black\", width=3)),\n",
    "                          dict(type=\"rect\", xref=\"x\", yref=\"y\", x0=-0.1, x1=-0.02, y0=2.7, y1=3.3, fillcolor=\"tan\", line=dict(color=\"black\", width=3)),\n",
    "                          dict(type=\"rect\", xref=\"x\", yref=\"y\", x0=-0.1, x1=-0.02, y0=1.7, y1=2.3, fillcolor=\"rosybrown\", line=dict(color=\"black\", width=3)),\n",
    "                          dict(type=\"rect\", xref=\"x\", yref=\"y\", x0=-0.1, x1=-0.02, y0=0.7, y1=1.3, fillcolor=\"sienna\", line=dict(color=\"black\", width=3)),\n",
    "                          dict(type=\"rect\", xref=\"x\", yref=\"y\", x0=-0.1, x1=-0.02, y0=-0.3, y1=0.3, fillcolor=\"peru\", line=dict(color=\"black\", width=3))])\n",
    "fig.show()"
   ]
  }
 ],
 "metadata": {
  "kernelspec": {
   "display_name": "Python 3 (ipykernel)",
   "language": "python",
   "name": "python3"
  },
  "language_info": {
   "codemirror_mode": {
    "name": "ipython",
    "version": 3
   },
   "file_extension": ".py",
   "mimetype": "text/x-python",
   "name": "python",
   "nbconvert_exporter": "python",
   "pygments_lexer": "ipython3",
   "version": "3.10.2"
  }
 },
 "nbformat": 4,
 "nbformat_minor": 5
}
