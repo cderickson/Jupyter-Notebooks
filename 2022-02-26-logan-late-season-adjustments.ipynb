{
 "cells": [
  {
   "cell_type": "markdown",
   "id": "10053b34",
   "metadata": {},
   "source": [
    "## Adding Libraries, Importing Dataset."
   ]
  },
  {
   "cell_type": "code",
   "execution_count": 11,
   "id": "358847db",
   "metadata": {},
   "outputs": [],
   "source": [
    "options(dplyr.summarise.inform = FALSE)\n",
    "options(warn = -1)\n",
    "library(tidyverse)\n",
    "library(baseballr)\n",
    "library(ggthemes) # Themes for ggplot2.\n",
    "library(ggimage) # Supports images in ggplot2.\n",
    "library(gt) # Create tables.\n",
    "library(readr) # Read in datasets.\n",
    "library(scatterplot3d)\n",
    "library(reshape)\n",
    "library(ExcelFunctionsR)"
   ]
  },
  {
   "cell_type": "code",
   "execution_count": 3,
   "id": "bad26c53",
   "metadata": {},
   "outputs": [],
   "source": [
    "# Custom plot settings.\n",
    "theme_reach <- function() {\n",
    "  theme_fivethirtyeight() +\n",
    "    theme(\n",
    "      legend.position = \"none\",\n",
    "      plot.title = element_text(size = 22, hjust = 0.5, face = \"bold\"),\n",
    "      plot.subtitle = element_text(size = 18, hjust = 0.5),\n",
    "      plot.caption = element_text(size = 16),\n",
    "      axis.title.x = element_text(size=18, margin = margin(t = 20)),\n",
    "      axis.title.y = element_text(size=18, margin = margin(r = 20)),\n",
    "      axis.text = element_text(size = 14),\n",
    "      strip.text = element_text(size = 16, face = \"bold\"),\n",
    "      legend.text = element_text(size = 14)\n",
    "    )\n",
    "}"
   ]
  },
  {
   "cell_type": "code",
   "execution_count": 4,
   "id": "958de650",
   "metadata": {},
   "outputs": [],
   "source": [
    "all_data_2021 <- read.csv(file = \"C:/Users/chris/Documents/Datasets/BaseballR/2021/2021merged.csv\")"
   ]
  },
  {
   "cell_type": "markdown",
   "id": "954de92d",
   "metadata": {},
   "source": [
    "## Filter Dataset and Divide into Pre/Post-8-21-2021 Subsets."
   ]
  },
  {
   "cell_type": "code",
   "execution_count": 25,
   "id": "c368b990",
   "metadata": {},
   "outputs": [],
   "source": [
    "logan_all <- all_data_2021 %>%\n",
    "  filter(pitcher == 669302)\n",
    "\n",
    "logan_pre <- logan_all %>%\n",
    "  filter(game_date.y <= \"2021-08-21\")\n",
    "logan_post <- logan_all %>%\n",
    "  filter(game_date.y > \"2021-08-21\")"
   ]
  },
  {
   "cell_type": "markdown",
   "id": "65e3fd39",
   "metadata": {},
   "source": [
    "## Compute ERA for Subsets."
   ]
  },
  {
   "cell_type": "code",
   "execution_count": 26,
   "id": "c3c03a5e",
   "metadata": {},
   "outputs": [],
   "source": [
    "logan_season_stats_pre <- logan_all %>%\n",
    "  filter(game_date.y <= \"2021-08-21\") %>%\n",
    "  group_by(game_date.y, at_bat_number) %>%\n",
    "  summarize(RBI = mean(result.rbi),\n",
    "            Outs = mean(count.outs.end - count.outs.start))\n",
    "  \n",
    "logan_season_stats_post <- logan_all %>%\n",
    "  filter(game_date.y > \"2021-08-21\") %>%\n",
    "  group_by(game_date.y, at_bat_number) %>%\n",
    "  summarize(RBI = mean(result.rbi),\n",
    "            Outs = mean(count.outs.end - count.outs.start))\n",
    "\n",
    "inn_pre <- sum(logan_season_stats_pre$Outs / 3)\n",
    "inn_post <- sum(logan_season_stats_post$Outs / 3)\n",
    "era_pre <- round((47/inn_pre) * 9, 2)\n",
    "era_post <- round((15/inn_post) * 9, 2)"
   ]
  },
  {
   "cell_type": "markdown",
   "id": "b637c376",
   "metadata": {},
   "source": [
    "## Compute and Arrange our Columns."
   ]
  },
  {
   "cell_type": "code",
   "execution_count": null,
   "id": "c8fb64f7",
   "metadata": {},
   "outputs": [],
   "source": [
    "logan_pre <- logan_pre %>%\n",
    "  group_by(pitch_name) %>%\n",
    "  summarize(pitch_count = n(),\n",
    "            avg_x = round(mean(release_pos_x), 2),\n",
    "            avg_delta_run_100 = round(mean(delta_run_exp), 4) * 100) %>%\n",
    "  mutate(date_range = c(\"Through 8-21\", \"\", \"\", \"\")) %>%\n",
    "  mutate(era = c(era_pre, \"\", \"\", \"\"))\n",
    "\n",
    "logan_post <- logan_post %>%\n",
    "  group_by(pitch_name) %>%\n",
    "  summarize(pitch_count = n(),\n",
    "            avg_x = round(mean(release_pos_x), 2),\n",
    "            avg_delta_run_100 = round(mean(delta_run_exp), 4) * 100) %>%\n",
    "  mutate(date_range = c(\"After 8-21\", \"\", \"\", \"\")) %>%\n",
    "  mutate(era = c(era_post, \"\", \"\", \"\"))\n",
    "\n",
    "logan_pre$delta_run_change <- c(\"\", \"\", \"\", \"\")\n",
    "logan_post$delta_run_change <- logan_post$avg_delta_run_100 - logan_pre$avg_delta_run_100"
   ]
  },
  {
   "cell_type": "markdown",
   "id": "a54d33c4",
   "metadata": {},
   "source": [
    "## Bind our Tables Vertically."
   ]
  },
  {
   "cell_type": "code",
   "execution_count": 29,
   "id": "c1e47bd5",
   "metadata": {},
   "outputs": [
    {
     "data": {
      "text/html": [
       "<table class=\"dataframe\">\n",
       "<caption>A tibble: 8 × 7</caption>\n",
       "<thead>\n",
       "\t<tr><th scope=col>date_range</th><th scope=col>era</th><th scope=col>pitch_name</th><th scope=col>pitch_count</th><th scope=col>avg_x</th><th scope=col>avg_delta_run_100</th><th scope=col>delta_run_change</th></tr>\n",
       "\t<tr><th scope=col>&lt;chr&gt;</th><th scope=col>&lt;chr&gt;</th><th scope=col>&lt;chr&gt;</th><th scope=col>&lt;int&gt;</th><th scope=col>&lt;dbl&gt;</th><th scope=col>&lt;dbl&gt;</th><th scope=col>&lt;dbl&gt;</th></tr>\n",
       "</thead>\n",
       "<tbody>\n",
       "\t<tr><td>Through 8-21</td><td>5.16</td><td>4-Seam Fastball</td><td>896</td><td>-2.38</td><td>-0.86</td><td>   NA</td></tr>\n",
       "\t<tr><td>            </td><td>    </td><td>Changeup       </td><td>114</td><td>-2.85</td><td> 4.33</td><td>   NA</td></tr>\n",
       "\t<tr><td>            </td><td>    </td><td>Knuckle Curve  </td><td>100</td><td>-1.91</td><td> 0.48</td><td>   NA</td></tr>\n",
       "\t<tr><td>            </td><td>    </td><td>Slider         </td><td>346</td><td>-2.67</td><td> 1.11</td><td>   NA</td></tr>\n",
       "\t<tr><td>After 8-21  </td><td>3.62</td><td>4-Seam Fastball</td><td>411</td><td>-1.29</td><td>-2.68</td><td>-1.82</td></tr>\n",
       "\t<tr><td>            </td><td>    </td><td>Changeup       </td><td> 51</td><td>-1.76</td><td> 1.44</td><td>-2.89</td></tr>\n",
       "\t<tr><td>            </td><td>    </td><td>Knuckle Curve  </td><td> 45</td><td>-1.07</td><td>-1.14</td><td>-1.62</td></tr>\n",
       "\t<tr><td>            </td><td>    </td><td>Slider         </td><td>162</td><td>-1.06</td><td> 3.52</td><td> 2.41</td></tr>\n",
       "</tbody>\n",
       "</table>\n"
      ],
      "text/latex": [
       "A tibble: 8 × 7\n",
       "\\begin{tabular}{lllllll}\n",
       " date\\_range & era & pitch\\_name & pitch\\_count & avg\\_x & avg\\_delta\\_run\\_100 & delta\\_run\\_change\\\\\n",
       " <chr> & <chr> & <chr> & <int> & <dbl> & <dbl> & <dbl>\\\\\n",
       "\\hline\n",
       "\t Through 8-21 & 5.16 & 4-Seam Fastball & 896 & -2.38 & -0.86 &    NA\\\\\n",
       "\t              &      & Changeup        & 114 & -2.85 &  4.33 &    NA\\\\\n",
       "\t              &      & Knuckle Curve   & 100 & -1.91 &  0.48 &    NA\\\\\n",
       "\t              &      & Slider          & 346 & -2.67 &  1.11 &    NA\\\\\n",
       "\t After 8-21   & 3.62 & 4-Seam Fastball & 411 & -1.29 & -2.68 & -1.82\\\\\n",
       "\t              &      & Changeup        &  51 & -1.76 &  1.44 & -2.89\\\\\n",
       "\t              &      & Knuckle Curve   &  45 & -1.07 & -1.14 & -1.62\\\\\n",
       "\t              &      & Slider          & 162 & -1.06 &  3.52 &  2.41\\\\\n",
       "\\end{tabular}\n"
      ],
      "text/markdown": [
       "\n",
       "A tibble: 8 × 7\n",
       "\n",
       "| date_range &lt;chr&gt; | era &lt;chr&gt; | pitch_name &lt;chr&gt; | pitch_count &lt;int&gt; | avg_x &lt;dbl&gt; | avg_delta_run_100 &lt;dbl&gt; | delta_run_change &lt;dbl&gt; |\n",
       "|---|---|---|---|---|---|---|\n",
       "| Through 8-21 | 5.16 | 4-Seam Fastball | 896 | -2.38 | -0.86 |    NA |\n",
       "| <!----> | <!----> | Changeup        | 114 | -2.85 |  4.33 |    NA |\n",
       "| <!----> | <!----> | Knuckle Curve   | 100 | -1.91 |  0.48 |    NA |\n",
       "| <!----> | <!----> | Slider          | 346 | -2.67 |  1.11 |    NA |\n",
       "| After 8-21   | 3.62 | 4-Seam Fastball | 411 | -1.29 | -2.68 | -1.82 |\n",
       "| <!----> | <!----> | Changeup        |  51 | -1.76 |  1.44 | -2.89 |\n",
       "| <!----> | <!----> | Knuckle Curve   |  45 | -1.07 | -1.14 | -1.62 |\n",
       "| <!----> | <!----> | Slider          | 162 | -1.06 |  3.52 |  2.41 |\n",
       "\n"
      ],
      "text/plain": [
       "  date_range   era  pitch_name      pitch_count avg_x avg_delta_run_100\n",
       "1 Through 8-21 5.16 4-Seam Fastball 896         -2.38 -0.86            \n",
       "2                   Changeup        114         -2.85  4.33            \n",
       "3                   Knuckle Curve   100         -1.91  0.48            \n",
       "4                   Slider          346         -2.67  1.11            \n",
       "5 After 8-21   3.62 4-Seam Fastball 411         -1.29 -2.68            \n",
       "6                   Changeup         51         -1.76  1.44            \n",
       "7                   Knuckle Curve    45         -1.07 -1.14            \n",
       "8                   Slider          162         -1.06  3.52            \n",
       "  delta_run_change\n",
       "1    NA           \n",
       "2    NA           \n",
       "3    NA           \n",
       "4    NA           \n",
       "5 -1.82           \n",
       "6 -2.89           \n",
       "7 -1.62           \n",
       "8  2.41           "
      ]
     },
     "metadata": {},
     "output_type": "display_data"
    }
   ],
   "source": [
    "logan_table <- rbind(logan_pre, logan_post)\n",
    "logan_table <- logan_table[, c(5, 6, 1, 2, 3, 4, 7)]\n",
    "logan_table$delta_run_change <- round(as.numeric(logan_table$delta_run_change), 2)\n",
    "logan_table"
   ]
  },
  {
   "cell_type": "markdown",
   "id": "9e80b4e7",
   "metadata": {},
   "source": [
    "## Create and Save Late-Season Adjustments Table."
   ]
  },
  {
   "cell_type": "code",
   "execution_count": 31,
   "id": "6bd53cc5",
   "metadata": {},
   "outputs": [],
   "source": [
    "logan_table_gt <- logan_table %>%\n",
    "  gt() %>%\n",
    "  cols_label(date_range = \"Date Range\",\n",
    "             era = \"ERA\",\n",
    "             pitch_name = \"Pitch Name\",\n",
    "             avg_x = \"Release Point X\",\n",
    "             avg_delta_run_100 = \"\\U0394 Runs Expected/100\",\n",
    "             delta_run_change = \"Improvement\",\n",
    "             pitch_count = \"Pitch Count\") %>%\n",
    "  cols_align(align = \"center\",\n",
    "             columns = c(era, avg_x, avg_delta_run_100, delta_run_change, pitch_count)) %>%\n",
    "  cols_width(c(era) ~ px(100)) %>%\n",
    "  gtExtras::gt_theme_espn() %>%\n",
    "  tab_header(title = \"Logan Gilbert Late-Season Adjustments, 2021\") %>%\n",
    "  tab_style(style = cell_borders(sides = \"right\",\n",
    "                                 color = \"#D3D3D3\",\n",
    "                                 weight = px(2)),\n",
    "            locations = cells_body(columns = c(era, pitch_count, avg_x),\n",
    "                                   rows = everything())) %>%\n",
    "  tab_style(style = cell_borders(sides = \"top\",\n",
    "                                 color = \"#808080\",\n",
    "                                 weight = px(4)),\n",
    "            locations = cells_body(columns = everything(),\n",
    "                                   rows = 1)) %>%\n",
    "  tab_style(style = cell_borders(sides = \"bottom\",\n",
    "                                 color = \"#808080\",\n",
    "                                 weight = px(4)),\n",
    "            locations = cells_body(columns = everything(),\n",
    "                                   rows = 4)) %>%\n",
    "  tab_style(style = cell_fill(color = \"#ff726f\"),\n",
    "            locations = cells_body(columns = delta_run_change,\n",
    "                                   rows = (delta_run_change > 0))) %>%\n",
    "  tab_style(style = cell_fill(color = \"#90EE90\"),\n",
    "            locations = cells_body(columns = delta_run_change,\n",
    "                                   rows = (delta_run_change < 0)))"
   ]
  },
  {
   "cell_type": "code",
   "execution_count": 32,
   "id": "fe15f23e",
   "metadata": {},
   "outputs": [],
   "source": [
    "gtsave(logan_table_gt, \"logan-overview-table.png\")"
   ]
  }
 ],
 "metadata": {
  "kernelspec": {
   "display_name": "R",
   "language": "R",
   "name": "ir"
  },
  "language_info": {
   "codemirror_mode": "r",
   "file_extension": ".r",
   "mimetype": "text/x-r-source",
   "name": "R",
   "pygments_lexer": "r",
   "version": "4.1.2"
  }
 },
 "nbformat": 4,
 "nbformat_minor": 5
}
