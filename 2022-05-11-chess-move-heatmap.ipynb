{
 "cells": [
  {
   "cell_type": "markdown",
   "id": "933f861f-af4c-4abb-8521-46dd891388ee",
   "metadata": {},
   "source": [
    "## Import Libraries."
   ]
  },
  {
   "cell_type": "code",
   "execution_count": 165,
   "id": "36e436f5-e29d-4b2e-b802-6cc3f3f57dd7",
   "metadata": {},
   "outputs": [],
   "source": [
    "import seaborn as sns\n",
    "import pandas as pd\n",
    "import matplotlib as plt\n",
    "from matplotlib import style\n",
    "%matplotlib inline"
   ]
  },
  {
   "cell_type": "markdown",
   "id": "e3e5067d-090d-44c6-ab62-3a8b9976382e",
   "metadata": {},
   "source": [
    "## Import dataset. Filter by piece and piece color. Drop excess columns, keeping only end square and piece code."
   ]
  },
  {
   "cell_type": "code",
   "execution_count": 166,
   "id": "4d43f9c7-d187-42ed-8409-eb5b8dd12ce7",
   "metadata": {},
   "outputs": [],
   "source": [
    "piece_code = \"Q1\"\n",
    "move_color = \"white\""
   ]
  },
  {
   "cell_type": "code",
   "execution_count": 167,
   "id": "712cdaa1-b090-43f0-a8d1-eaad2acab945",
   "metadata": {},
   "outputs": [
    {
     "data": {
      "text/html": [
       "<div>\n",
       "<style scoped>\n",
       "    .dataframe tbody tr th:only-of-type {\n",
       "        vertical-align: middle;\n",
       "    }\n",
       "\n",
       "    .dataframe tbody tr th {\n",
       "        vertical-align: top;\n",
       "    }\n",
       "\n",
       "    .dataframe thead th {\n",
       "        text-align: right;\n",
       "    }\n",
       "</style>\n",
       "<table border=\"1\" class=\"dataframe\">\n",
       "  <thead>\n",
       "    <tr style=\"text-align: right;\">\n",
       "      <th></th>\n",
       "      <th>end_square.x</th>\n",
       "      <th>end_square.y</th>\n",
       "      <th>piece_code</th>\n",
       "    </tr>\n",
       "  </thead>\n",
       "  <tbody>\n",
       "    <tr>\n",
       "      <th>8</th>\n",
       "      <td>4</td>\n",
       "      <td>4</td>\n",
       "      <td>Q1</td>\n",
       "    </tr>\n",
       "    <tr>\n",
       "      <th>12</th>\n",
       "      <td>4</td>\n",
       "      <td>1</td>\n",
       "      <td>Q1</td>\n",
       "    </tr>\n",
       "    <tr>\n",
       "      <th>28</th>\n",
       "      <td>4</td>\n",
       "      <td>6</td>\n",
       "      <td>Q1</td>\n",
       "    </tr>\n",
       "    <tr>\n",
       "      <th>35</th>\n",
       "      <td>2</td>\n",
       "      <td>8</td>\n",
       "      <td>Q1</td>\n",
       "    </tr>\n",
       "    <tr>\n",
       "      <th>44</th>\n",
       "      <td>4</td>\n",
       "      <td>4</td>\n",
       "      <td>Q1</td>\n",
       "    </tr>\n",
       "  </tbody>\n",
       "</table>\n",
       "</div>"
      ],
      "text/plain": [
       "    end_square.x  end_square.y piece_code\n",
       "8              4             4         Q1\n",
       "12             4             1         Q1\n",
       "28             4             6         Q1\n",
       "35             2             8         Q1\n",
       "44             4             4         Q1"
      ]
     },
     "execution_count": 167,
     "metadata": {},
     "output_type": "execute_result"
    }
   ],
   "source": [
    "df = pd.read_csv(\"C:\\\\Users\\\\chris\\\\Documents\\\\Datasets\\\\Chess PGN\\\\pgn_move_records.csv\", dtype={\"eco\": str})\n",
    "df = df[(df[\"piece_code\"] == piece_code) & (df[\"move_color\"] == move_color)]\n",
    "df = df[[\"end_square.x\", \"end_square.y\", \"piece_code\"]]\n",
    "df.head()"
   ]
  },
  {
   "cell_type": "markdown",
   "id": "c54cec01-e14f-4a87-8d20-3b91c5da47fc",
   "metadata": {},
   "source": [
    "## Group by square and count occurrences."
   ]
  },
  {
   "cell_type": "code",
   "execution_count": 168,
   "id": "d640c34a-bdee-434d-85b3-92502acf7c71",
   "metadata": {},
   "outputs": [
    {
     "data": {
      "text/html": [
       "<div>\n",
       "<style scoped>\n",
       "    .dataframe tbody tr th:only-of-type {\n",
       "        vertical-align: middle;\n",
       "    }\n",
       "\n",
       "    .dataframe tbody tr th {\n",
       "        vertical-align: top;\n",
       "    }\n",
       "\n",
       "    .dataframe thead th {\n",
       "        text-align: right;\n",
       "    }\n",
       "</style>\n",
       "<table border=\"1\" class=\"dataframe\">\n",
       "  <thead>\n",
       "    <tr style=\"text-align: right;\">\n",
       "      <th></th>\n",
       "      <th>end_square.x</th>\n",
       "      <th>end_square.y</th>\n",
       "      <th>move_count</th>\n",
       "    </tr>\n",
       "  </thead>\n",
       "  <tbody>\n",
       "    <tr>\n",
       "      <th>0</th>\n",
       "      <td>1</td>\n",
       "      <td>1</td>\n",
       "      <td>4</td>\n",
       "    </tr>\n",
       "    <tr>\n",
       "      <th>1</th>\n",
       "      <td>1</td>\n",
       "      <td>2</td>\n",
       "      <td>2</td>\n",
       "    </tr>\n",
       "    <tr>\n",
       "      <th>2</th>\n",
       "      <td>1</td>\n",
       "      <td>3</td>\n",
       "      <td>4</td>\n",
       "    </tr>\n",
       "    <tr>\n",
       "      <th>3</th>\n",
       "      <td>1</td>\n",
       "      <td>4</td>\n",
       "      <td>46</td>\n",
       "    </tr>\n",
       "    <tr>\n",
       "      <th>4</th>\n",
       "      <td>1</td>\n",
       "      <td>5</td>\n",
       "      <td>16</td>\n",
       "    </tr>\n",
       "  </tbody>\n",
       "</table>\n",
       "</div>"
      ],
      "text/plain": [
       "   end_square.x  end_square.y  move_count\n",
       "0             1             1           4\n",
       "1             1             2           2\n",
       "2             1             3           4\n",
       "3             1             4          46\n",
       "4             1             5          16"
      ]
     },
     "execution_count": 168,
     "metadata": {},
     "output_type": "execute_result"
    }
   ],
   "source": [
    "df = df.groupby([\"end_square.x\", \"end_square.y\"]).count().reset_index()\n",
    "df.rename(columns = {\"piece_code\" : \"move_count\"}, inplace = True)\n",
    "df.head()"
   ]
  },
  {
   "cell_type": "markdown",
   "id": "f705d024-5c10-4592-991d-1ce51648b640",
   "metadata": {},
   "source": [
    "## Fill our table with zeros and replace our x-values with letters so our heatmap resembles a chessboard."
   ]
  },
  {
   "cell_type": "code",
   "execution_count": 169,
   "id": "bdc7a627-c8d9-49e8-b841-5271c990a530",
   "metadata": {},
   "outputs": [],
   "source": [
    "for x in range(1,9):\n",
    "    for y in range(1,9):\n",
    "        if (x not in list(df[\"end_square.x\"])) or (y not in list(df[\"end_square.y\"])):\n",
    "            df2 = {\"end_square.x\" : x, \"end_square.y\" : y, \"move_count\": 0}\n",
    "            df = df.append(df2, ignore_index = True)"
   ]
  },
  {
   "cell_type": "code",
   "execution_count": 170,
   "id": "4a7c8acf-bc58-494b-aa92-4a86d82a8b1d",
   "metadata": {},
   "outputs": [],
   "source": [
    "df[\"end_square.x\"] = df[\"end_square.x\"].replace(1, \"a\")\n",
    "df[\"end_square.x\"] = df[\"end_square.x\"].replace(2, \"b\")\n",
    "df[\"end_square.x\"] = df[\"end_square.x\"].replace(3, \"c\")\n",
    "df[\"end_square.x\"] = df[\"end_square.x\"].replace(4, \"d\")\n",
    "df[\"end_square.x\"] = df[\"end_square.x\"].replace(5, \"e\")\n",
    "df[\"end_square.x\"] = df[\"end_square.x\"].replace(6, \"f\")\n",
    "df[\"end_square.x\"] = df[\"end_square.x\"].replace(7, \"g\")\n",
    "df[\"end_square.x\"] = df[\"end_square.x\"].replace(8, \"h\")"
   ]
  },
  {
   "cell_type": "markdown",
   "id": "6a75c605-1648-4794-8370-526094b4f837",
   "metadata": {},
   "source": [
    "## Create a pivot table from our data. Fill empty/NA cells with 0."
   ]
  },
  {
   "cell_type": "code",
   "execution_count": 171,
   "id": "c6e4540e-2c39-431d-a46f-d95967131805",
   "metadata": {},
   "outputs": [
    {
     "data": {
      "text/html": [
       "<div>\n",
       "<style scoped>\n",
       "    .dataframe tbody tr th:only-of-type {\n",
       "        vertical-align: middle;\n",
       "    }\n",
       "\n",
       "    .dataframe tbody tr th {\n",
       "        vertical-align: top;\n",
       "    }\n",
       "\n",
       "    .dataframe thead th {\n",
       "        text-align: right;\n",
       "    }\n",
       "</style>\n",
       "<table border=\"1\" class=\"dataframe\">\n",
       "  <thead>\n",
       "    <tr style=\"text-align: right;\">\n",
       "      <th>end_square.x</th>\n",
       "      <th>a</th>\n",
       "      <th>b</th>\n",
       "      <th>c</th>\n",
       "      <th>d</th>\n",
       "      <th>e</th>\n",
       "      <th>f</th>\n",
       "      <th>g</th>\n",
       "      <th>h</th>\n",
       "    </tr>\n",
       "    <tr>\n",
       "      <th>end_square.y</th>\n",
       "      <th></th>\n",
       "      <th></th>\n",
       "      <th></th>\n",
       "      <th></th>\n",
       "      <th></th>\n",
       "      <th></th>\n",
       "      <th></th>\n",
       "      <th></th>\n",
       "    </tr>\n",
       "  </thead>\n",
       "  <tbody>\n",
       "    <tr>\n",
       "      <th>1</th>\n",
       "      <td>4</td>\n",
       "      <td>6</td>\n",
       "      <td>7</td>\n",
       "      <td>36</td>\n",
       "      <td>14</td>\n",
       "      <td>7</td>\n",
       "      <td>3</td>\n",
       "      <td>3</td>\n",
       "    </tr>\n",
       "    <tr>\n",
       "      <th>2</th>\n",
       "      <td>2</td>\n",
       "      <td>6</td>\n",
       "      <td>30</td>\n",
       "      <td>86</td>\n",
       "      <td>134</td>\n",
       "      <td>18</td>\n",
       "      <td>14</td>\n",
       "      <td>4</td>\n",
       "    </tr>\n",
       "    <tr>\n",
       "      <th>3</th>\n",
       "      <td>4</td>\n",
       "      <td>36</td>\n",
       "      <td>46</td>\n",
       "      <td>112</td>\n",
       "      <td>64</td>\n",
       "      <td>156</td>\n",
       "      <td>38</td>\n",
       "      <td>31</td>\n",
       "    </tr>\n",
       "    <tr>\n",
       "      <th>4</th>\n",
       "      <td>46</td>\n",
       "      <td>31</td>\n",
       "      <td>52</td>\n",
       "      <td>119</td>\n",
       "      <td>60</td>\n",
       "      <td>48</td>\n",
       "      <td>73</td>\n",
       "      <td>22</td>\n",
       "    </tr>\n",
       "    <tr>\n",
       "      <th>5</th>\n",
       "      <td>16</td>\n",
       "      <td>45</td>\n",
       "      <td>30</td>\n",
       "      <td>68</td>\n",
       "      <td>52</td>\n",
       "      <td>35</td>\n",
       "      <td>34</td>\n",
       "      <td>74</td>\n",
       "    </tr>\n",
       "    <tr>\n",
       "      <th>6</th>\n",
       "      <td>24</td>\n",
       "      <td>14</td>\n",
       "      <td>43</td>\n",
       "      <td>28</td>\n",
       "      <td>36</td>\n",
       "      <td>35</td>\n",
       "      <td>20</td>\n",
       "      <td>28</td>\n",
       "    </tr>\n",
       "    <tr>\n",
       "      <th>7</th>\n",
       "      <td>33</td>\n",
       "      <td>59</td>\n",
       "      <td>31</td>\n",
       "      <td>27</td>\n",
       "      <td>29</td>\n",
       "      <td>53</td>\n",
       "      <td>44</td>\n",
       "      <td>32</td>\n",
       "    </tr>\n",
       "    <tr>\n",
       "      <th>8</th>\n",
       "      <td>14</td>\n",
       "      <td>10</td>\n",
       "      <td>11</td>\n",
       "      <td>40</td>\n",
       "      <td>18</td>\n",
       "      <td>13</td>\n",
       "      <td>9</td>\n",
       "      <td>19</td>\n",
       "    </tr>\n",
       "  </tbody>\n",
       "</table>\n",
       "</div>"
      ],
      "text/plain": [
       "end_square.x   a   b   c    d    e    f   g   h\n",
       "end_square.y                                   \n",
       "1              4   6   7   36   14    7   3   3\n",
       "2              2   6  30   86  134   18  14   4\n",
       "3              4  36  46  112   64  156  38  31\n",
       "4             46  31  52  119   60   48  73  22\n",
       "5             16  45  30   68   52   35  34  74\n",
       "6             24  14  43   28   36   35  20  28\n",
       "7             33  59  31   27   29   53  44  32\n",
       "8             14  10  11   40   18   13   9  19"
      ]
     },
     "execution_count": 171,
     "metadata": {},
     "output_type": "execute_result"
    }
   ],
   "source": [
    "df_pivot = df.pivot_table(index=\"end_square.y\", columns=\"end_square.x\", values=\"move_count\", fill_value=0, dropna=False)\n",
    "df_pivot"
   ]
  },
  {
   "cell_type": "markdown",
   "id": "5b00f225-2f42-4a55-b6a5-9bc3ca08987a",
   "metadata": {},
   "source": [
    "## Create heatmap using Seaborn."
   ]
  },
  {
   "cell_type": "code",
   "execution_count": 174,
   "id": "acf61004-7cfc-46cd-9c04-c28b35c342e9",
   "metadata": {},
   "outputs": [
    {
     "data": {
      "image/png": "[encoded data removed]",
      "text/plain": [
       "<Figure size 864x864 with 1 Axes>"
      ]
     },
     "metadata": {},
     "output_type": "display_data"
    }
   ],
   "source": [
    "sns.set(rc = {\"figure.figsize\" : (12,12)})\n",
    "sns.set(font_scale = 2)\n",
    "heatmap = sns.heatmap(df_pivot, fmt=\"d\", cmap=\"YlGnBu\", square=True, xticklabels=True, yticklabels=True, linewidths=2, linecolor=\"black\", cbar=False)\n",
    "heatmap.invert_yaxis()\n",
    "heatmap.set(xlabel=None, ylabel=None)\n",
    "heatmap.set_title(f\"Chess Piece - Placement Frequencies\\n{piece_code} - {move_color.capitalize()}\\n\")\n",
    "heatmap.tick_params(left=False, bottom=False)"
   ]
  },
  {
   "cell_type": "code",
   "execution_count": 175,
   "id": "033a9b95-3efa-4185-b593-b162e9016486",
   "metadata": {},
   "outputs": [],
   "source": [
    "fig = heatmap.get_figure()\n",
    "fig.savefig(\"chess-heatmap.png\") "
   ]
  }
 ],
 "metadata": {
  "kernelspec": {
   "display_name": "Python 3 (ipykernel)",
   "language": "python",
   "name": "python3"
  },
  "language_info": {
   "codemirror_mode": {
    "name": "ipython",
    "version": 3
   },
   "file_extension": ".py",
   "mimetype": "text/x-python",
   "name": "python",
   "nbconvert_exporter": "python",
   "pygments_lexer": "ipython3",
   "version": "3.10.2"
  }
 },
 "nbformat": 4,
 "nbformat_minor": 5
}
