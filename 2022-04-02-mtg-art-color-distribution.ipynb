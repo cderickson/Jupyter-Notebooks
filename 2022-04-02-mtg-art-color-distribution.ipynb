{
 "cells": [
  {
   "cell_type": "markdown",
   "id": "80755ec6",
   "metadata": {},
   "source": [
    "## Import libraries and datasets."
   ]
  },
  {
   "cell_type": "code",
   "execution_count": 54,
   "id": "b3af1d55",
   "metadata": {},
   "outputs": [],
   "source": [
    "library(tidyverse)\n",
    "library(readr) # Read in datasets.\n",
    "options(scipen = 9999)\n",
    "library(reshape2)"
   ]
  },
  {
   "cell_type": "code",
   "execution_count": 55,
   "id": "7bc63df0",
   "metadata": {},
   "outputs": [],
   "source": [
    "lea_color_data <- read_csv(file = \"C:/Users/chris/Documents/Datasets/MTG Art Colors/lea_color_data.csv\",\n",
    "                          show_col_types = FALSE)\n",
    "CSS3_NAMES_TO_HEX <- read_csv(file = \"C:/Users/chris/Documents/Datasets/MTG Art Colors/CSS3_NAMES_TO_HEX.csv\",\n",
    "                          show_col_types = FALSE)"
   ]
  },
  {
   "cell_type": "markdown",
   "id": "2e1f5704",
   "metadata": {},
   "source": [
    "## Omit ubiquitous gray colors."
   ]
  },
  {
   "cell_type": "code",
   "execution_count": 56,
   "id": "618bf90d",
   "metadata": {},
   "outputs": [],
   "source": [
    "lea_color_data <- lea_color_data[,-which(names(lea_color_data) %in% c(\"darkslategray\",\n",
    "                                                                      \"dimgray\",\n",
    "                                                                      \"gray\",\n",
    "                                                                      \"darkgray\",\n",
    "                                                                      \"silver\",\n",
    "                                                                      \"lightgray\",\n",
    "                                                                      \"slategray\",\n",
    "                                                                      \"lightslategray\"))]"
   ]
  },
  {
   "cell_type": "markdown",
   "id": "255525ca",
   "metadata": {},
   "source": [
    "## Filter by color identity and sum each detected color."
   ]
  },
  {
   "cell_type": "code",
   "execution_count": 57,
   "id": "ad20bb1a",
   "metadata": {},
   "outputs": [],
   "source": [
    "stacked <- lea_color_data %>%\n",
    "  filter(colorIdentity %in% c(\"W\", \"U\", \"B\", \"R\", \"G\", \"C\")) %>%\n",
    "  group_by(colorIdentity) %>%\n",
    "  summarize(lightpink = sum(lightpink),darkslateblue = sum(darkslateblue),black = sum(black),\n",
    "            peru = sum(peru),seagreen = sum(seagreen),olivedrab = sum(olivedrab),\n",
    "            darksalmon = sum(darksalmon),lightcoral = sum(lightcoral),sandybrown = sum(sandybrown),\n",
    "            khaki = sum(khaki),midnightblue = sum(midnightblue),sienna = sum(sienna),\n",
    "            linen = sum(linen),darkkhaki = sum(darkkhaki),cadetblue = sum(cadetblue),\n",
    "            rosybrown = sum(rosybrown),gainsboro = sum(gainsboro),steelblue = sum(steelblue),\n",
    "            burlywood = sum(burlywood),wheat = sum(wheat),saddlebrown = sum(saddlebrown),\n",
    "            palevioletred = sum(palevioletred),darkgoldenrod = sum(darkgoldenrod),darkseagreen = sum(darkseagreen),\n",
    "            coral = sum(coral),tan = sum(tan),palegoldenrod = sum(palegoldenrod),\n",
    "            goldenrod = sum(goldenrod),lightsteelblue = sum(lightsteelblue),yellowgreen = sum(yellowgreen),\n",
    "            brown = sum(brown),powderblue = sum(powderblue),teal = sum(teal),\n",
    "            indianred = sum(indianred),beige = sum(beige),darkolivegreen = sum(darkolivegreen),\n",
    "           )"
   ]
  },
  {
   "cell_type": "markdown",
   "id": "7c0eaeea",
   "metadata": {},
   "source": [
    "## Melt dataframe so we have columns for \"color identity\" and \"color\"."
   ]
  },
  {
   "cell_type": "code",
   "execution_count": 58,
   "id": "e92b6da8",
   "metadata": {},
   "outputs": [],
   "source": [
    "stacked <- melt(stacked, id = \"colorIdentity\")\n",
    "write.csv(stacked,\"C:/Users/chris/Documents/Datasets/MTG Art Colors/stacked.csv\", row.names = FALSE)"
   ]
  },
  {
   "cell_type": "markdown",
   "id": "86726f19",
   "metadata": {},
   "source": [
    "## Create stacked bar chart showing distribution of detected colors between color identities."
   ]
  },
  {
   "cell_type": "code",
   "execution_count": 59,
   "id": "1c897ffa",
   "metadata": {},
   "outputs": [
    {
     "data": {
      "image/png": "[encoded data removed]",
      "text/plain": [
       "plot without title"
      ]
     },
     "metadata": {
      "image/png": {
       "height": 420,
       "width": 420
      }
     },
     "output_type": "display_data"
    }
   ],
   "source": [
    "ggplot(stacked, aes(fill=colorIdentity, y = value, x = reorder(variable, -value))) + \n",
    "  geom_bar(position=\"stack\", stat=\"identity\", color=\"black\") + \n",
    "  scale_fill_manual(values = c(\"black\", \"gray\", \"yellowgreen\", \"indianred\", \"skyblue\", \"beige\")) +\n",
    "  theme(axis.text.x = element_text(face=\"bold\", vjust=0.5, hjust=1, size=10, angle=90),\n",
    "        axis.text.y = element_blank(),\n",
    "        axis.ticks = element_blank(),\n",
    "        axis.title = element_text(face=\"bold\", size = 20),\n",
    "        plot.title = element_text(face=\"bold\", size = 20),\n",
    "        plot.subtitle = element_text(size = 16)) +\n",
    "  labs(title = \"Distribution of Colors in Card Art among Color Identities\",\n",
    "       subtitle = \"Limited Edition Alpha\",\n",
    "       x = \"Colors Found in Card Art\",\n",
    "       y = \"\") + \n",
    "  guides(fill=guide_legend(title=\"Color Identity\"))"
   ]
  },
  {
   "cell_type": "code",
   "execution_count": 60,
   "id": "5e50fb96",
   "metadata": {},
   "outputs": [],
   "source": [
    "ggsave(\"mtg-art-color-stacked-bar.png\", width=15, height=10, dpi=\"retina\")"
   ]
  },
  {
   "cell_type": "markdown",
   "id": "91903b3c",
   "metadata": {},
   "source": [
    "## Filter for White cards. Drop color columns if sum = 0. Append color hex values."
   ]
  },
  {
   "cell_type": "code",
   "execution_count": 61,
   "id": "ca8b6da3",
   "metadata": {},
   "outputs": [],
   "source": [
    "white <- lea_color_data %>%\n",
    "  filter(colorIdentity == \"W\")\n",
    "cols_to_dropW = c(rep(TRUE, 12), colSums(white[,13:ncol(white)]) > 0)\n",
    "white <- white[,cols_to_dropW]\n",
    "\n",
    "white_sums <- data.frame(sum = colSums(white[,13:ncol(white)]))\n",
    "white_sums <- cbind(color = rownames(white_sums), white_sums)\n",
    "rownames(white_sums) <- 1:nrow(white_sums)\n",
    "white_sums <- merge(x = white_sums, y = CSS3_NAMES_TO_HEX, by = \"color\", all.x = TRUE)"
   ]
  },
  {
   "cell_type": "code",
   "execution_count": 62,
   "id": "e33e5e8b-e885-4f8b-93a8-f360dd3163dc",
   "metadata": {},
   "outputs": [
    {
     "data": {
      "text/html": [
       "<table class=\"dataframe\">\n",
       "<caption>A data.frame: 4 × 3</caption>\n",
       "<thead>\n",
       "\t<tr><th></th><th scope=col>color</th><th scope=col>sum</th><th scope=col>hex</th></tr>\n",
       "\t<tr><th></th><th scope=col>&lt;chr&gt;</th><th scope=col>&lt;dbl&gt;</th><th scope=col>&lt;chr&gt;</th></tr>\n",
       "</thead>\n",
       "<tbody>\n",
       "\t<tr><th scope=row>18</th><td>rosybrown</td><td>227</td><td>#bc8f8f</td></tr>\n",
       "\t<tr><th scope=row>10</th><td>indianred</td><td>200</td><td>#cd5c5c</td></tr>\n",
       "\t<tr><th scope=row>8</th><td>gainsboro</td><td>192</td><td>#dcdcdc</td></tr>\n",
       "\t<tr><th scope=row>20</th><td>sienna   </td><td>131</td><td>#a0522d</td></tr>\n",
       "</tbody>\n",
       "</table>\n"
      ],
      "text/latex": [
       "A data.frame: 4 × 3\n",
       "\\begin{tabular}{r|lll}\n",
       "  & color & sum & hex\\\\\n",
       "  & <chr> & <dbl> & <chr>\\\\\n",
       "\\hline\n",
       "\t18 & rosybrown & 227 & \\#bc8f8f\\\\\n",
       "\t10 & indianred & 200 & \\#cd5c5c\\\\\n",
       "\t8 & gainsboro & 192 & \\#dcdcdc\\\\\n",
       "\t20 & sienna    & 131 & \\#a0522d\\\\\n",
       "\\end{tabular}\n"
      ],
      "text/markdown": [
       "\n",
       "A data.frame: 4 × 3\n",
       "\n",
       "| <!--/--> | color &lt;chr&gt; | sum &lt;dbl&gt; | hex &lt;chr&gt; |\n",
       "|---|---|---|---|\n",
       "| 18 | rosybrown | 227 | #bc8f8f |\n",
       "| 10 | indianred | 200 | #cd5c5c |\n",
       "| 8 | gainsboro | 192 | #dcdcdc |\n",
       "| 20 | sienna    | 131 | #a0522d |\n",
       "\n"
      ],
      "text/plain": [
       "   color     sum hex    \n",
       "18 rosybrown 227 #bc8f8f\n",
       "10 indianred 200 #cd5c5c\n",
       "8  gainsboro 192 #dcdcdc\n",
       "20 sienna    131 #a0522d"
      ]
     },
     "metadata": {},
     "output_type": "display_data"
    }
   ],
   "source": [
    "white_sums <- white_sums[order(-white_sums$sum),]\n",
    "white_sums <- head(white_sums, n=4)\n",
    "white_sums"
   ]
  },
  {
   "cell_type": "markdown",
   "id": "776eb0b3",
   "metadata": {},
   "source": [
    "## Create bar chart showing breakdown of detected colors among White cards."
   ]
  },
  {
   "cell_type": "code",
   "execution_count": 63,
   "id": "cb8fee06",
   "metadata": {},
   "outputs": [
    {
     "data": {
      "image/png": "[encoded data removed]",
      "text/plain": [
       "plot without title"
      ]
     },
     "metadata": {
      "image/png": {
       "height": 420,
       "width": 420
      }
     },
     "output_type": "display_data"
    }
   ],
   "source": [
    "ggplot(white_sums, aes(x = reorder(color, -sum), y = sum)) +\n",
    "  geom_bar(stat=\"identity\", fill = white_sums$hex, color = \"black\") +\n",
    "  theme(axis.text.x = element_text(face=\"bold\", vjust=0.5, size=15),\n",
    "        axis.text.y = element_blank(),\n",
    "        axis.ticks = element_blank(),\n",
    "        axis.title = element_text(face=\"bold\", size = 20),\n",
    "        plot.title = element_text(face=\"bold\", size = 20),\n",
    "        plot.subtitle = element_text(size = 16)) +\n",
    "  labs(title = \"Distribution of Most Prevalent Colors in Card Art\",\n",
    "       subtitle = \"Limited Edition Alpha, White Cards\",\n",
    "       x = \"\",\n",
    "       y = \"\")"
   ]
  },
  {
   "cell_type": "code",
   "execution_count": 64,
   "id": "04ec5c8e",
   "metadata": {},
   "outputs": [],
   "source": [
    "ggsave(\"mtg-art-color-bar-graph.png\", width=15, height=10, dpi=\"retina\")"
   ]
  }
 ],
 "metadata": {
  "kernelspec": {
   "display_name": "R",
   "language": "R",
   "name": "ir"
  },
  "language_info": {
   "codemirror_mode": "r",
   "file_extension": ".r",
   "mimetype": "text/x-r-source",
   "name": "R",
   "pygments_lexer": "r",
   "version": "4.1.2"
  }
 },
 "nbformat": 4,
 "nbformat_minor": 5
}
