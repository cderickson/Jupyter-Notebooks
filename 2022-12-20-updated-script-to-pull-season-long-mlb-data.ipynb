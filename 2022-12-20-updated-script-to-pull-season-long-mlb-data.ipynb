{
 "cells": [
  {
   "attachments": {},
   "cell_type": "markdown",
   "metadata": {},
   "source": [
    "### Import Libraries."
   ]
  },
  {
   "cell_type": "code",
   "execution_count": 2,
   "metadata": {
    "vscode": {
     "languageId": "r"
    }
   },
   "outputs": [],
   "source": [
    "library(tidyverse)\n",
    "library(baseballr)\n",
    "library(ggthemes)\n",
    "library(ggimage)\n",
    "library(gt)\n",
    "library(readr)\n",
    "options(scipen = 9999)"
   ]
  },
  {
   "attachments": {},
   "cell_type": "markdown",
   "metadata": {},
   "source": [
    "### Pull Statcast Data."
   ]
  },
  {
   "cell_type": "code",
   "execution_count": 3,
   "metadata": {
    "vscode": {
     "languageId": "r"
    }
   },
   "outputs": [],
   "source": [
    "start_date <- as.Date('2022-04-07', '%Y-%m-%d')\n",
    "end_date <- as.Date('2022-10-05', '%Y-%m-%d')\n",
    "\n",
    "date_seq <- seq(from=start_date, to=end_date, by=\"day\")\n",
    "date_seq <- as.character(date_seq)"
   ]
  },
  {
   "cell_type": "code",
   "execution_count": 4,
   "metadata": {
    "vscode": {
     "languageId": "r"
    }
   },
   "outputs": [],
   "source": [
    "# 30 min runtime for full season.\n",
    "statcast_df <- data.frame()\n",
    "for (date in date_seq){\n",
    "    suppressWarnings({\n",
    "        statcast <- statcast_search_pitchers(start_date=date, end_date=date)\n",
    "    })\n",
    "    if (nrow(statcast) > 0){\n",
    "        statcast_df <- rbind(statcast_df, statcast)\n",
    "    }\n",
    "}"
   ]
  },
  {
   "attachments": {},
   "cell_type": "markdown",
   "metadata": {},
   "source": [
    "### Pull MLB Stats API Data."
   ]
  },
  {
   "cell_type": "code",
   "execution_count": 5,
   "metadata": {
    "vscode": {
     "languageId": "r"
    }
   },
   "outputs": [],
   "source": [
    "schedule <- mlb_schedule(season=\"2022\") %>%\n",
    "    filter(status_detailed_state != \"Postponed\") %>%\n",
    "    filter(status_detailed_state != \"Cancelled\") %>%\n",
    "    filter(series_description == \"Regular Season\") %>%\n",
    "    group_by(game_pk) %>%\n",
    "    summarize(count=n())\n",
    "\n",
    "games_list <- as.list(schedule$game_pk)"
   ]
  },
  {
   "cell_type": "code",
   "execution_count": 6,
   "metadata": {
    "vscode": {
     "languageId": "r"
    }
   },
   "outputs": [],
   "source": [
    "# 120 min runtime for full season.\n",
    "pbp_df <- data.frame()\n",
    "for (i in games_list){\n",
    "    pbp <- mlb_pbp(i) %>%\n",
    "        filter(isPitch == \"TRUE\")\n",
    "    pbp_df <- bind_rows(pbp_df, pbp)\n",
    "}"
   ]
  },
  {
   "attachments": {},
   "cell_type": "markdown",
   "metadata": {},
   "source": [
    "### Merge Datasets."
   ]
  },
  {
   "cell_type": "code",
   "execution_count": 7,
   "metadata": {
    "vscode": {
     "languageId": "r"
    }
   },
   "outputs": [],
   "source": [
    "statcast_df$at_bat_number <- sprintf(\"%02d\", statcast_df$at_bat_number)\n",
    "statcast_df$pitch_number <- sprintf(\"%02d\", statcast_df$pitch_number)\n",
    "statcast_df$pitch_id <- paste(statcast_df$game_pk, statcast_df$at_bat_number, statcast_df$pitch_number, sep = \"-\")\n",
    "\n",
    "pbp_df$atBatIndex <- sprintf(\"%02d\", strtoi(pbp_df$atBatIndex) + 1)\n",
    "pbp_df$pitchNumber <- sprintf(\"%02d\", strtoi(pbp_df$pitchNumber))\n",
    "pbp_df$pitch_id <- paste(pbp_df$game_pk, pbp_df$atBatIndex, pbp_df$pitchNumber, sep = \"-\")"
   ]
  },
  {
   "cell_type": "code",
   "execution_count": 8,
   "metadata": {
    "vscode": {
     "languageId": "r"
    }
   },
   "outputs": [],
   "source": [
    "joined_df <- merge(pbp_df, statcast_df, by=\"pitch_id\", all=TRUE)\n",
    "joined_df <- subset(joined_df, select=-reviewDetails.additionalReviews)"
   ]
  },
  {
   "attachments": {},
   "cell_type": "markdown",
   "metadata": {},
   "source": [
    "### Save Merged Dataset to CSV."
   ]
  },
  {
   "cell_type": "code",
   "execution_count": 9,
   "metadata": {
    "vscode": {
     "languageId": "r"
    }
   },
   "outputs": [],
   "source": [
    "# 3 min runtime for full season. 1.2GB file size.\n",
    "write.csv(joined_df,\"C:\\\\Users\\\\chris\\\\Documents\\\\Datasets\\\\BaseballR\\\\2022\\\\2022merged.csv\", row.names = FALSE)"
   ]
  }
 ],
 "metadata": {
  "kernelspec": {
   "display_name": "R",
   "language": "R",
   "name": "ir"
  },
  "language_info": {
   "codemirror_mode": "r",
   "file_extension": ".r",
   "mimetype": "text/x-r-source",
   "name": "R",
   "pygments_lexer": "r",
   "version": "4.2.2"
  },
  "orig_nbformat": 4
 },
 "nbformat": 4,
 "nbformat_minor": 2
}
