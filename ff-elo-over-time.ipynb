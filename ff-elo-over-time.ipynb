{
 "cells": [
  {
   "cell_type": "markdown",
   "id": "d032c8ed",
   "metadata": {},
   "source": [
    "## Import libraries and dataset."
   ]
  },
  {
   "cell_type": "code",
   "execution_count": 44,
   "id": "299a0d9e",
   "metadata": {},
   "outputs": [],
   "source": [
    "import pandas as pd\n",
    "\n",
    "elo_history = pd.read_csv(\"C:\\\\Users\\\\chris\\\\Documents\\\\Datasets\\\\FFL\\\\elo_history.csv\")"
   ]
  },
  {
   "cell_type": "markdown",
   "id": "3e4a4498",
   "metadata": {},
   "source": [
    "## Get list of teams."
   ]
  },
  {
   "cell_type": "code",
   "execution_count": 13,
   "id": "231c6cd1",
   "metadata": {},
   "outputs": [
    {
     "data": {
      "text/plain": [
       "['CHRIS',\n",
       " 'ANDREW',\n",
       " 'STEVE',\n",
       " 'MATT',\n",
       " 'KYLE',\n",
       " 'CARLEN',\n",
       " 'NATHAN',\n",
       " 'DREW',\n",
       " 'SAM',\n",
       " 'DYLAN',\n",
       " 'NICK',\n",
       " 'JASON',\n",
       " 'NOAH']"
      ]
     },
     "execution_count": 13,
     "metadata": {},
     "output_type": "execute_result"
    }
   ],
   "source": [
    "team_list = list(elo_history.team_1.unique())\n",
    "team_list"
   ]
  },
  {
   "cell_type": "markdown",
   "id": "bb471c40",
   "metadata": {},
   "source": [
    "## Create \"Dates\" column."
   ]
  },
  {
   "cell_type": "code",
   "execution_count": 42,
   "id": "20197b05",
   "metadata": {},
   "outputs": [],
   "source": [
    "dates = list(elo_history.date.unique())\n",
    "dates.insert(0, \"2014-00\")"
   ]
  },
  {
   "cell_type": "markdown",
   "id": "0197e31b",
   "metadata": {},
   "source": [
    "## Initialize team elo rating columns at 0."
   ]
  },
  {
   "cell_type": "code",
   "execution_count": 35,
   "id": "cc949441",
   "metadata": {},
   "outputs": [],
   "source": [
    "elo_dict = {}\n",
    "\n",
    "for i in team_list:\n",
    "    elo_dict[i] = [0] * len(dates)"
   ]
  },
  {
   "cell_type": "markdown",
   "id": "6106ca3f",
   "metadata": {},
   "source": [
    "## Populate columns with data from elo history dataset."
   ]
  },
  {
   "cell_type": "code",
   "execution_count": 36,
   "id": "e4a2d95b",
   "metadata": {},
   "outputs": [],
   "source": [
    "curr_date = \"\"\n",
    "date_index = 0\n",
    "for index,row in elo_history.iterrows():\n",
    "    if row[\"date\"] != curr_date:\n",
    "        curr_date = row[\"date\"]\n",
    "        date_index += 1\n",
    "        \n",
    "    elo_dict[row[\"team_1\"]][date_index] = round(row[\"team1_elo_post\"])\n",
    "    elo_dict[row[\"team_2\"]][date_index] = round(row[\"team2_elo_post\"])\n",
    "\n",
    "\n",
    "for i in team_list:\n",
    "    for index,j in enumerate(elo_dict[i]):\n",
    "        if (j != 0):\n",
    "            elo_dict[i][index - 1] = 1500\n",
    "            break"
   ]
  },
  {
   "cell_type": "markdown",
   "id": "d2108a4c",
   "metadata": {},
   "source": [
    "## Merge team elo rating columns and date column."
   ]
  },
  {
   "cell_type": "code",
   "execution_count": 40,
   "id": "c1c8409e",
   "metadata": {},
   "outputs": [
    {
     "data": {
      "text/html": [
       "<div>\n",
       "<style scoped>\n",
       "    .dataframe tbody tr th:only-of-type {\n",
       "        vertical-align: middle;\n",
       "    }\n",
       "\n",
       "    .dataframe tbody tr th {\n",
       "        vertical-align: top;\n",
       "    }\n",
       "\n",
       "    .dataframe thead th {\n",
       "        text-align: right;\n",
       "    }\n",
       "</style>\n",
       "<table border=\"1\" class=\"dataframe\">\n",
       "  <thead>\n",
       "    <tr style=\"text-align: right;\">\n",
       "      <th></th>\n",
       "      <th>date</th>\n",
       "      <th>CHRIS</th>\n",
       "      <th>ANDREW</th>\n",
       "      <th>STEVE</th>\n",
       "      <th>MATT</th>\n",
       "      <th>KYLE</th>\n",
       "      <th>CARLEN</th>\n",
       "      <th>NATHAN</th>\n",
       "      <th>DREW</th>\n",
       "      <th>SAM</th>\n",
       "      <th>DYLAN</th>\n",
       "      <th>NICK</th>\n",
       "      <th>JASON</th>\n",
       "      <th>NOAH</th>\n",
       "    </tr>\n",
       "  </thead>\n",
       "  <tbody>\n",
       "    <tr>\n",
       "      <th>112</th>\n",
       "      <td>2021-11</td>\n",
       "      <td>1644</td>\n",
       "      <td>1521</td>\n",
       "      <td>1523</td>\n",
       "      <td>1369</td>\n",
       "      <td>1533</td>\n",
       "      <td>0</td>\n",
       "      <td>0</td>\n",
       "      <td>0</td>\n",
       "      <td>1487</td>\n",
       "      <td>1454</td>\n",
       "      <td>1518</td>\n",
       "      <td>1465</td>\n",
       "      <td>1542</td>\n",
       "    </tr>\n",
       "    <tr>\n",
       "      <th>113</th>\n",
       "      <td>2021-12</td>\n",
       "      <td>1654</td>\n",
       "      <td>1533</td>\n",
       "      <td>1513</td>\n",
       "      <td>1390</td>\n",
       "      <td>1511</td>\n",
       "      <td>0</td>\n",
       "      <td>0</td>\n",
       "      <td>0</td>\n",
       "      <td>1505</td>\n",
       "      <td>1442</td>\n",
       "      <td>1530</td>\n",
       "      <td>1453</td>\n",
       "      <td>1524</td>\n",
       "    </tr>\n",
       "    <tr>\n",
       "      <th>114</th>\n",
       "      <td>2021-13</td>\n",
       "      <td>1663</td>\n",
       "      <td>1547</td>\n",
       "      <td>1529</td>\n",
       "      <td>1381</td>\n",
       "      <td>1502</td>\n",
       "      <td>0</td>\n",
       "      <td>0</td>\n",
       "      <td>0</td>\n",
       "      <td>1491</td>\n",
       "      <td>1427</td>\n",
       "      <td>1540</td>\n",
       "      <td>1467</td>\n",
       "      <td>1509</td>\n",
       "    </tr>\n",
       "    <tr>\n",
       "      <th>115</th>\n",
       "      <td>2021-14</td>\n",
       "      <td>1643</td>\n",
       "      <td>1567</td>\n",
       "      <td>1544</td>\n",
       "      <td>1368</td>\n",
       "      <td>1487</td>\n",
       "      <td>0</td>\n",
       "      <td>0</td>\n",
       "      <td>0</td>\n",
       "      <td>1506</td>\n",
       "      <td>1440</td>\n",
       "      <td>1524</td>\n",
       "      <td>1484</td>\n",
       "      <td>1492</td>\n",
       "    </tr>\n",
       "    <tr>\n",
       "      <th>116</th>\n",
       "      <td>2021-15</td>\n",
       "      <td>1653</td>\n",
       "      <td>1581</td>\n",
       "      <td>1530</td>\n",
       "      <td>1388</td>\n",
       "      <td>1500</td>\n",
       "      <td>0</td>\n",
       "      <td>0</td>\n",
       "      <td>0</td>\n",
       "      <td>1520</td>\n",
       "      <td>1427</td>\n",
       "      <td>1514</td>\n",
       "      <td>1470</td>\n",
       "      <td>1472</td>\n",
       "    </tr>\n",
       "  </tbody>\n",
       "</table>\n",
       "</div>"
      ],
      "text/plain": [
       "        date  CHRIS  ANDREW  STEVE  MATT  KYLE  CARLEN  NATHAN  DREW   SAM  \\\n",
       "112  2021-11   1644    1521   1523  1369  1533       0       0     0  1487   \n",
       "113  2021-12   1654    1533   1513  1390  1511       0       0     0  1505   \n",
       "114  2021-13   1663    1547   1529  1381  1502       0       0     0  1491   \n",
       "115  2021-14   1643    1567   1544  1368  1487       0       0     0  1506   \n",
       "116  2021-15   1653    1581   1530  1388  1500       0       0     0  1520   \n",
       "\n",
       "     DYLAN  NICK  JASON  NOAH  \n",
       "112   1454  1518   1465  1542  \n",
       "113   1442  1530   1453  1524  \n",
       "114   1427  1540   1467  1509  \n",
       "115   1440  1524   1484  1492  \n",
       "116   1427  1514   1470  1472  "
      ]
     },
     "execution_count": 40,
     "metadata": {},
     "output_type": "execute_result"
    }
   ],
   "source": [
    "df = pd.DataFrame({\"date\" : dates} | elo_dict)\n",
    "df.tail()"
   ]
  },
  {
   "cell_type": "markdown",
   "id": "37c4b9ba",
   "metadata": {},
   "source": [
    "## Save and export table to CSV."
   ]
  },
  {
   "cell_type": "code",
   "execution_count": 43,
   "id": "54436ae3",
   "metadata": {},
   "outputs": [],
   "source": [
    "df.to_csv(\"C:\\\\Users\\\\chris\\\\Desktop\\\\elo_over_time.csv\", index=False)"
   ]
  }
 ],
 "metadata": {
  "kernelspec": {
   "display_name": "Python 3 (ipykernel)",
   "language": "python",
   "name": "python3"
  },
  "language_info": {
   "codemirror_mode": {
    "name": "ipython",
    "version": 3
   },
   "file_extension": ".py",
   "mimetype": "text/x-python",
   "name": "python",
   "nbconvert_exporter": "python",
   "pygments_lexer": "ipython3",
   "version": "3.10.2"
  }
 },
 "nbformat": 4,
 "nbformat_minor": 5
}
