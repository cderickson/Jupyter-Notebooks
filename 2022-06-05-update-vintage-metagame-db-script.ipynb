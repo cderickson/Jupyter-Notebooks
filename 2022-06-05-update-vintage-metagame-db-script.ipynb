{
 "cells": [
  {
   "cell_type": "markdown",
   "id": "f1bdc477-12f8-4150-aa8f-7cd5e6cb9860",
   "metadata": {},
   "source": [
    "## Import libraries."
   ]
  },
  {
   "cell_type": "code",
   "execution_count": 1,
   "id": "5247d97a-b7d3-4118-9941-138038cd200e",
   "metadata": {},
   "outputs": [],
   "source": [
    "import mysql.connector\n",
    "import pandas as pd\n",
    "from datetime import datetime\n",
    "from datetime import date\n",
    "import calendar\n",
    "import requests\n",
    "import warnings\n",
    "warnings.filterwarnings('ignore')"
   ]
  },
  {
   "cell_type": "markdown",
   "id": "6f93e165-5801-42d4-af7c-ad37915a6ff9",
   "metadata": {},
   "source": [
    "## Function to get MySQL login information from TXT file."
   ]
  },
  {
   "cell_type": "code",
   "execution_count": 2,
   "id": "db91c995-d9d8-41ac-a8b1-08a2e74c9624",
   "metadata": {},
   "outputs": [],
   "source": [
    "def get_login():\n",
    "\twith open(\"mysql.txt\") as f:\n",
    "\t\tlines = f.read().split(\"\\n\")\n",
    "\t\tfor i in lines:\n",
    "\t\t\tif i.split(\"=\")[0] == \"host\":\n",
    "\t\t\t\thost = i.split(\"=\")[1]\n",
    "\t\t\tif i.split(\"=\")[0] == \"user\":\n",
    "\t\t\t\tuser = i.split(\"=\")[1]\n",
    "\t\t\tif i.split(\"=\")[0] == \"passwd\":\n",
    "\t\t\t\tpasswd = i.split(\"=\")[1]\n",
    "\tprint(\"Getting MySQL Login.\")\n",
    "\treturn (host, user, passwd)"
   ]
  },
  {
   "cell_type": "markdown",
   "id": "cb473c62-0ebb-4a4a-8a01-0870a5cf54d9",
   "metadata": {},
   "source": [
    "## Function to save single sheet from Google Sheets."
   ]
  },
  {
   "cell_type": "code",
   "execution_count": 3,
   "id": "65705ed9-6ecd-442b-9428-a1213152c893",
   "metadata": {},
   "outputs": [],
   "source": [
    "def get_sheet(spreadsheetID, sheetID, create_date):\n",
    "\turl = f\"https://docs.google.com/spreadsheets/d/{spreadsheetID}/gviz/tq?tqx=out:csv&gid={sheetID}\"\n",
    "\tres = requests.get(url)\n",
    "\twith open(f\"vintage-metagame-rawdata-{create_date}.csv\", \"wb\") as f:\n",
    "\t    f.write(res.content)\n",
    "\tprint(f\"Saved latest metagame data: vintage-metagame-rawdata-{create_date}.csv\")"
   ]
  },
  {
   "cell_type": "markdown",
   "id": "d0bb7fde-7be0-43b9-836b-2291a8a5b1fa",
   "metadata": {},
   "source": [
    "## Function to clean Vintage metagame data. (Reference original notebook: https://cderickson.io/vintage-metagame-data-cleaning/)"
   ]
  },
  {
   "cell_type": "code",
   "execution_count": 4,
   "id": "384e48b3-80c1-4776-b668-f4e981607924",
   "metadata": {},
   "outputs": [],
   "source": [
    "def clean_merged_data(create_date):\n",
    "\tvintage = pd.read_csv(f\"vintage-metagame-rawdata-{create_date}.csv\", \n",
    "\t\t\t\t\t\t  names=[\"rank\",\"player\",\"wins\",\"losses\",\"byes\",\"arch\",\"subarch\",\"deck\",\"details\",\"date\",\"event_type\"],\n",
    "\t\t\t\t\t\t  skiprows = 1,\n",
    "\t\t\t\t\t\t  usecols = [i for i in range(11)])\n",
    "\t\n",
    "\t# Replace NA values in 'byes' column with 0.\n",
    "\tvintage.byes = vintage.byes.fillna(0)\n",
    "\tvintage.byes = vintage.byes.astype(\"int\")\n",
    "\n",
    "\t# Propagate 'event_type' data to each record.\n",
    "\tvintage[\"event_type\"].replace({\"Showcase Qualifier\": \"Showcase_Qualifier\"}, inplace=True)\n",
    "\n",
    "\tevent_type = vintage.event_type.tolist()\n",
    "\tfor index,i in enumerate(event_type):\n",
    "\t    if isinstance(i, str):\n",
    "\t        new = i\n",
    "\t    else:\n",
    "\t        event_type[index] = new\n",
    "\tvintage[\"event_type\"] = event_type\n",
    "\n",
    "\t# Create unique 'event_id' column. Format event_date string.\n",
    "\tevent_id = []\n",
    "\tdates = vintage.date.tolist()\n",
    "\tevent_type = vintage.event_type.to_list()\n",
    "\tdates_new = []\n",
    "\tfor index,i in enumerate(dates):\n",
    "\t\tmonth = i.split(\"/\")[0].zfill(2)\n",
    "\t\tday = i.split(\"/\")[1].zfill(2)\n",
    "\t\tyear = i.split(\"/\")[2]\n",
    "\t\tevent_id.append(f\"20{year}-{month}-{day}-{event_type[index]}\")\n",
    "\t\tdates_new.append(f\"20{year}-{month}-{day}\")\n",
    "\tvintage[\"event_id\"] = event_id\n",
    "\n",
    "\t# Create a second table called Events. Remove duplicate records such that each row represents a unique event.\n",
    "\tevents = pd.DataFrame({\"event_id\" : event_id, \"event_type\" : event_type, \"date\" : dates_new})\n",
    "\tevents = events.groupby([\"event_id\"], as_index=False)[\"event_type\", \"date\"].last()\n",
    "\n",
    "\t# Add 'entries' column to Events table to represents number of players in each event.\n",
    "\tplayers = vintage.groupby([\"event_id\"], as_index=False)[\"rank\"].max()\n",
    "\n",
    "\tevents = events.merge(players, on=\"event_id\")\n",
    "\tevents.rename(columns={\"rank\" : \"entries\", \"date\" : \"event_date\"}, inplace=True)\n",
    "\n",
    "\t# Add 'day_of_week' column to Events table.\n",
    "\tevents[\"day_of_week\"] = events[\"event_date\"].apply(lambda x: calendar.day_name[datetime.strptime(x, \"%Y-%m-%d\").weekday()])\n",
    "\n",
    "\t# Drop 'details' column. Drop 'date' and 'event_type' columns that are now in the Events table.\n",
    "\tvintage.drop([\"details\"], axis=1, inplace=True)\n",
    "\tvintage.drop([\"date\"], axis=1, inplace=True)\n",
    "\tvintage.drop([\"event_type\"], axis=1, inplace=True)\n",
    "\n",
    "\t# Rename 'rank' column to 'finish'.\n",
    "\tvintage.rename(columns={\"rank\" : \"finish\"}, inplace=True)\n",
    "\n",
    "\t# Replace commas because it breaks CSV importing with MySQL.\n",
    "\tvintage[\"arch\"] = vintage[\"arch\"].apply(lambda x: str(x).replace(\",\", \"\"))\n",
    "\tvintage[\"subarch\"] = vintage[\"subarch\"].apply(lambda x: str(x).replace(\",\", \"\"))\n",
    "\tvintage[\"deck\"] = vintage[\"deck\"].apply(lambda x: str(x).replace(\",\", \"\"))\n",
    "\n",
    "\t# Save and export to CSV.\n",
    "\tvintage.to_csv(f\"vintage-results-{create_date}.csv\", index=False)\n",
    "\tevents.to_csv(f\"vintage-events-{create_date}.csv\", index=False)\n",
    "\n",
    "\tprint(f\"Saved cleaned data: vintage-results-{create_date}.csv, vintage-events-{create_date}.csv\")"
   ]
  },
  {
   "cell_type": "markdown",
   "id": "ea884b61-8c77-4345-ae90-f33412c0ee78",
   "metadata": {},
   "source": [
    "## Download latest data from Google Sheets, clean data, and save as CSV files."
   ]
  },
  {
   "cell_type": "code",
   "execution_count": 5,
   "id": "f83f9a03-5a33-49f4-9321-5556d4527024",
   "metadata": {},
   "outputs": [
    {
     "name": "stdout",
     "output_type": "stream",
     "text": [
      "Saved latest metagame data: vintage-metagame-rawdata-2022-06-05.csv\n",
      "Saved cleaned data: vintage-results-2022-06-05.csv, vintage-events-2022-06-05.csv\n"
     ]
    }
   ],
   "source": [
    "create_date = date.today().strftime(\"%Y-%m-%d\")\n",
    "get_sheet(\"1wxR3iYna86qrdViwHjUPzHuw6bCNeMLb72M25hpUHYk\", \"1693401931\", create_date)\n",
    "clean_merged_data(create_date)"
   ]
  },
  {
   "cell_type": "markdown",
   "id": "18a3b053-2906-4b7c-85f2-426ee868a50b",
   "metadata": {},
   "source": [
    "## Connect to MySQL database."
   ]
  },
  {
   "cell_type": "code",
   "execution_count": 6,
   "id": "2bb8548b-72b0-4096-9bcf-ae35a09ae693",
   "metadata": {},
   "outputs": [
    {
     "name": "stdout",
     "output_type": "stream",
     "text": [
      "Getting MySQL Login.\n"
     ]
    }
   ],
   "source": [
    "host, user, passwd = get_login()\n",
    "vintage_db = mysql.connector.connect(\n",
    "\thost = host,\n",
    "\tuser = user,\n",
    "\tpasswd = passwd,\n",
    "\tallow_local_infile = True\n",
    ")\n",
    "cursor = vintage_db.cursor()"
   ]
  },
  {
   "cell_type": "markdown",
   "id": "d8c1c449-2737-4be9-9793-b837585da76a",
   "metadata": {},
   "source": [
    "## Load new data to database using SQL and commit changes."
   ]
  },
  {
   "cell_type": "code",
   "execution_count": 7,
   "id": "e2268188-9d74-497c-acdc-0707e94b9d38",
   "metadata": {},
   "outputs": [
    {
     "name": "stdout",
     "output_type": "stream",
     "text": [
      "Executed 'load_events' SQL statement.\n",
      "Executed 'load_results' SQL statement.\n",
      "Committed changes.\n"
     ]
    }
   ],
   "source": [
    "load_events_sql = \"\"\"\n",
    "\tLOAD DATA LOCAL INFILE %s\n",
    "\tINTO TABLE vintage_metagame_db.vintage_events\n",
    "\tFIELDS TERMINATED BY \",\"\n",
    "\tOPTIONALLY ENCLOSED BY '\"'\n",
    "\tLINES TERMINATED BY '\\r\\n'\n",
    "\tIGNORE 1 ROWS;\n",
    "\"\"\"\n",
    "\n",
    "load_results_sql = \"\"\"\n",
    "\tLOAD DATA LOCAL INFILE %s\n",
    "\tINTO TABLE vintage_metagame_db.vintage_results\n",
    "\tFIELDS TERMINATED BY \",\"\n",
    "\tOPTIONALLY ENCLOSED BY '\"'\n",
    "\tLINES TERMINATED BY '\\r\\n'\n",
    "\tIGNORE 1 ROWS;\n",
    "\"\"\"\n",
    "\n",
    "events_fn = (f\"vintage-events-{create_date}.csv\",)\n",
    "results_fn = (f\"vintage-results-{create_date}.csv\",)\n",
    "\n",
    "cursor.execute(load_events_sql, events_fn)\n",
    "print(\"Executed 'load_events' SQL statement.\")\n",
    "cursor.execute(load_results_sql, results_fn)\n",
    "print(\"Executed 'load_results' SQL statement.\")\n",
    "\n",
    "vintage_db.commit()\n",
    "print(\"Committed changes.\")"
   ]
  }
 ],
 "metadata": {
  "kernelspec": {
   "display_name": "Python 3 (ipykernel)",
   "language": "python",
   "name": "python3"
  },
  "language_info": {
   "codemirror_mode": {
    "name": "ipython",
    "version": 3
   },
   "file_extension": ".py",
   "mimetype": "text/x-python",
   "name": "python",
   "nbconvert_exporter": "python",
   "pygments_lexer": "ipython3",
   "version": "3.10.2"
  }
 },
 "nbformat": 4,
 "nbformat_minor": 5
}
