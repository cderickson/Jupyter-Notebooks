{
 "cells": [
  {
   "cell_type": "markdown",
   "id": "306693b5",
   "metadata": {},
   "source": [
    "## Adding Libraries, Importing Dataset."
   ]
  },
  {
   "cell_type": "code",
   "execution_count": 2,
   "id": "2d3a5f79",
   "metadata": {},
   "outputs": [],
   "source": [
    "options(warn = -1)\n",
    "library(tidyverse)\n",
    "library(baseballr)\n",
    "library(ggthemes) # Themes for ggplot2.\n",
    "library(ggimage) # Supports images in ggplot2.\n",
    "library(gt) # Create tables.\n",
    "library(readr) # Read in datasets.\n",
    "library(scatterplot3d)\n",
    "library(reshape)\n",
    "library(ExcelFunctionsR)"
   ]
  },
  {
   "cell_type": "code",
   "execution_count": 3,
   "id": "3c50d3ae",
   "metadata": {},
   "outputs": [],
   "source": [
    "# Custom plot settings.\n",
    "theme_reach <- function() {\n",
    "  theme_fivethirtyeight() +\n",
    "    theme(\n",
    "      legend.position = \"none\",\n",
    "      plot.title = element_text(size = 22, hjust = 0.5, face = \"bold\"),\n",
    "      plot.subtitle = element_text(size = 18, hjust = 0.5),\n",
    "      plot.caption = element_text(size = 16),\n",
    "      axis.title.x = element_text(size=18, margin = margin(t = 20)),\n",
    "      axis.title.y = element_text(size=18, margin = margin(r = 20)),\n",
    "      axis.text = element_text(size = 14),\n",
    "      strip.text = element_text(size = 16, face = \"bold\"),\n",
    "      legend.text = element_text(size = 14)\n",
    "    )\n",
    "}"
   ]
  },
  {
   "cell_type": "code",
   "execution_count": 4,
   "id": "db847e52",
   "metadata": {},
   "outputs": [],
   "source": [
    "all_data_2021 <- read.csv(file = \"C:/Users/chris/Documents/Datasets/BaseballR/2021/2021merged.csv\")"
   ]
  },
  {
   "cell_type": "markdown",
   "id": "f422eb08",
   "metadata": {},
   "source": [
    "## Adding Color Code Column. Splitting into two Datasets at 8-21-2021."
   ]
  },
  {
   "cell_type": "code",
   "execution_count": 5,
   "id": "995ad737",
   "metadata": {
    "scrolled": true
   },
   "outputs": [],
   "source": [
    "logan_all <- all_data_2021 %>%\n",
    "  filter(pitcher == 669302) %>%\n",
    "  mutate(color_code = as.factor(pitch_name))\n",
    "colors <- c(\"#000000\", \"#1f78b4\", \"#e41a1c\", \"#33a02c\")\n",
    "colors <- colors[as.numeric(logan_all$color_code)]\n",
    "logan_all$colors <- colors"
   ]
  },
  {
   "cell_type": "code",
   "execution_count": 6,
   "id": "1ec2139f",
   "metadata": {},
   "outputs": [],
   "source": [
    "logan_pre <- logan_all %>%\n",
    "  filter(game_date.y <= \"2021-08-21\")\n",
    "logan_post <- logan_all %>%\n",
    "  filter(game_date.y > \"2021-08-21\")"
   ]
  },
  {
   "cell_type": "markdown",
   "id": "faaa12fb",
   "metadata": {},
   "source": [
    "## Computing/Re-arranging our Columns."
   ]
  },
  {
   "cell_type": "code",
   "execution_count": 7,
   "id": "3e484689",
   "metadata": {},
   "outputs": [],
   "source": [
    "logan_pitch_stats_pre <- logan_pre %>%\n",
    "  summarize(pitch_name,\n",
    "            description,\n",
    "            launch_speed,\n",
    "            launch_angle,\n",
    "            spin_axis,\n",
    "            hitData.trajectory,\n",
    "            details.isBall,\n",
    "            details.isStrike,\n",
    "            details.isInPlay,\n",
    "            hitData.trajectory,\n",
    "            estimated_ba_using_speedangle,\n",
    "            launch_speed_angle)\n",
    "\n",
    "logan_pitch_stats_post <- logan_post %>%\n",
    "  summarize(pitch_name,\n",
    "            description,\n",
    "            launch_speed,\n",
    "            launch_angle,\n",
    "            spin_axis,\n",
    "            hitData.trajectory,\n",
    "            details.isBall,\n",
    "            details.isStrike,\n",
    "            details.isInPlay,\n",
    "            hitData.trajectory,\n",
    "            estimated_ba_using_speedangle,\n",
    "            launch_speed_angle)\n",
    "\n",
    "options(warn = -1)\n",
    "\n",
    "logan_pitch_stats_pre <- logan_pitch_stats_pre %>%\n",
    "  group_by(pitch_name) %>%\n",
    "  summarize(strike_rate = round((sum(description %in% c(\"swinging_strike\", \"swinging_strike_blocked\", \"called_strike\", \"foul\", \"foul_bunt\", \"foul_tip\", \"hit_into_play\"))/n())*100, 1),\n",
    "            swing_rate = round((sum(description %in% c(\"swinging_strike\", \"swinging_strike_blocked\", \"foul\", \"foul_bunt\", \"foul_tip\", \"hit_into_play\"))/n())*100, 1),\n",
    "            whiff_rate = round((sum(description %in% c(\"swinging_strike\", \"swinging_strike_blocked\"))/\n",
    "                                  sum(description %in% c(\"swinging_strike\", \"swinging_strike_blocked\", \"hit_into_play\", \"foul\", \"foul_tip\")))*100, 1),\n",
    "            exit_velo = round(AVERAGEIF(description, \"hit_into_play\", launch_speed), 1),\n",
    "            launch_angle = round(AVERAGEIF(description, \"hit_into_play\", launch_angle), 1),\n",
    "            barrel_rate = round((sum(launch_speed_angle %in% c(6))/sum(launch_speed_angle %in% c(1, 2, 3, 4, 5)))*100, 1),\n",
    "            expected_avg = round(AVERAGEIF(description, \"hit_into_play\", estimated_ba_using_speedangle), 3),\n",
    "            gb_rate = round((sum(hitData.trajectory %in% c(\"ground_ball\"))/sum(hitData.trajectory %in% c(\"ground_ball\", \"fly_ball\", \"line_drive\", \"popup\")))*100, 1),\n",
    "            fb_rate = round((sum(hitData.trajectory %in% c(\"fly_ball\"))/sum(hitData.trajectory %in% c(\"ground_ball\", \"fly_ball\", \"line_drive\", \"popup\")))*100, 1),\n",
    "            ld_rate = round((sum(hitData.trajectory %in% c(\"line_drive\"))/sum(hitData.trajectory %in% c(\"ground_ball\", \"fly_ball\", \"line_drive\", \"popup\")))*100, 1),\n",
    "            pitches_thrown = n()\n",
    "  ) %>%\n",
    "  mutate(freq = round((pitches_thrown/sum(pitches_thrown))*100, 1))\n",
    "\n",
    "logan_pitch_stats_post <- logan_pitch_stats_post %>%\n",
    "  group_by(pitch_name) %>%\n",
    "  summarize(strike_rate = round((sum(description %in% c(\"swinging_strike\", \"swinging_strike_blocked\", \"called_strike\", \"foul\", \"foul_bunt\", \"foul_tip\", \"hit_into_play\"))/n())*100, 1),\n",
    "            swing_rate = round((sum(description %in% c(\"swinging_strike\", \"swinging_strike_blocked\", \"foul\", \"foul_bunt\", \"foul_tip\", \"hit_into_play\"))/n())*100, 1),\n",
    "            whiff_rate = round((sum(description %in% c(\"swinging_strike\", \"swinging_strike_blocked\"))/\n",
    "                                  sum(description %in% c(\"swinging_strike\", \"swinging_strike_blocked\", \"hit_into_play\", \"foul\", \"foul_tip\")))*100, 1),\n",
    "            exit_velo = round(AVERAGEIF(description, \"hit_into_play\", launch_speed), 1),\n",
    "            launch_angle = round(AVERAGEIF(description, \"hit_into_play\", launch_angle), 1),\n",
    "            barrel_rate = round((sum(launch_speed_angle %in% c(6))/sum(launch_speed_angle %in% c(1, 2, 3, 4, 5)))*100, 1),\n",
    "            expected_avg = round(AVERAGEIF(description, \"hit_into_play\", estimated_ba_using_speedangle), 3),\n",
    "            gb_rate = round((sum(hitData.trajectory %in% c(\"ground_ball\"))/sum(hitData.trajectory %in% c(\"ground_ball\", \"fly_ball\", \"line_drive\", \"popup\")))*100, 1),\n",
    "            fb_rate = round((sum(hitData.trajectory %in% c(\"fly_ball\"))/sum(hitData.trajectory %in% c(\"ground_ball\", \"fly_ball\", \"line_drive\", \"popup\")))*100, 1),\n",
    "            ld_rate = round((sum(hitData.trajectory %in% c(\"line_drive\"))/sum(hitData.trajectory %in% c(\"ground_ball\", \"fly_ball\", \"line_drive\", \"popup\")))*100, 1),\n",
    "            pitches_thrown = n()\n",
    "  ) %>%\n",
    "  mutate(freq = round((pitches_thrown/sum(pitches_thrown))*100, 1))\n",
    "\n",
    "logan_pitch_stats_pre <- subset(logan_pitch_stats_pre, select = -c(pitches_thrown, launch_angle))\n",
    "logan_pitch_stats_post <- subset(logan_pitch_stats_post, select = -c(pitches_thrown, launch_angle))\n",
    "logan_pitch_stats_pre <- logan_pitch_stats_pre[, c(1, 11, 2, 3, 4, 5, 6, 7, 8, 9, 10)]\n",
    "logan_pitch_stats_post <- logan_pitch_stats_post[, c(1, 11, 2, 3, 4, 5, 6, 7, 8, 9, 10)]"
   ]
  },
  {
   "cell_type": "markdown",
   "id": "2f99ec00",
   "metadata": {},
   "source": [
    "## Computing Differences Between our two Datasets."
   ]
  },
  {
   "cell_type": "code",
   "execution_count": 8,
   "id": "b2efc5d4",
   "metadata": {},
   "outputs": [],
   "source": [
    "logan_diff <- data.frame(pitch_name = logan_pitch_stats_pre$pitch_name)\n",
    "\n",
    "diff_matrix <- data.matrix(subset(logan_pitch_stats_post, select = -c(pitch_name))) - \n",
    "  data.matrix(subset(logan_pitch_stats_pre, select = -c(pitch_name)))\n",
    "logan_diff <- cbind(logan_diff, diff_matrix)"
   ]
  },
  {
   "cell_type": "code",
   "execution_count": 9,
   "id": "37eeca7e",
   "metadata": {},
   "outputs": [],
   "source": [
    "logan_pitch_stats_pre$data_type <- c(\"Through 8-21\", \"Through 8-21\", \"Through 8-21\", \"Through 8-21\")\n",
    "logan_pitch_stats_post$data_type <- c(\"After 8-21\", \"After 8-21\", \"After 8-21\", \"After 8-21\")\n",
    "logan_diff$data_type <- c(\"Differences\", \"Differences\", \"Differences\", \"Differences\")"
   ]
  },
  {
   "cell_type": "markdown",
   "id": "adb29a06",
   "metadata": {},
   "source": [
    "## Formatting 'Differences' Table with +/- Signs."
   ]
  },
  {
   "cell_type": "code",
   "execution_count": 10,
   "id": "904d3989",
   "metadata": {},
   "outputs": [],
   "source": [
    "logan_diff$freq <- ifelse(!grepl(\"-\", logan_diff$freq), paste(\"+\", as.character(round(logan_diff$freq, 1)), sep = \"\"), as.character(round(logan_diff$freq, 1)))\n",
    "logan_diff$strike_rate <- ifelse(!grepl(\"-\", logan_diff$strike_rate), paste(\"+\", as.character(round(logan_diff$strike_rate, 1)), sep = \"\"), as.character(round(logan_diff$strike_rate, 1)))\n",
    "logan_diff$swing_rate <- ifelse(!grepl(\"-\", logan_diff$swing_rate), paste(\"+\", as.character(round(logan_diff$swing_rate, 1)), sep = \"\"), as.character(round(logan_diff$swing_rate, 1)))\n",
    "logan_diff$whiff_rate <- ifelse(!grepl(\"-\", logan_diff$whiff_rate), paste(\"+\", as.character(round(logan_diff$whiff_rate, 1)), sep = \"\"), as.character(round(logan_diff$whiff_rate, 1)))\n",
    "logan_diff$gb_rate <- ifelse(!grepl(\"-\", logan_diff$gb_rate), paste(\"+\", as.character(round(logan_diff$gb_rate, 1)), sep = \"\"), as.character(round(logan_diff$gb_rate, 1)))\n",
    "logan_diff$fb_rate <- ifelse(!grepl(\"-\", logan_diff$fb_rate), paste(\"+\", as.character(round(logan_diff$fb_rate, 1)), sep = \"\"), as.character(round(logan_diff$fb_rate, 1)))\n",
    "logan_diff$ld_rate <- ifelse(!grepl(\"-\", logan_diff$ld_rate), paste(\"+\", as.character(round(logan_diff$ld_rate, 1)), sep = \"\"), as.character(round(logan_diff$ld_rate, 1)))\n",
    "\n",
    "logan_diff$exit_velo <- ifelse(!grepl(\"-\", logan_diff$exit_velo), paste(\"+\", as.character(round(logan_diff$exit_velo, 1)), sep = \"\"), as.character(round(logan_diff$exit_velo, 1)))\n",
    "logan_diff$barrel_rate <- ifelse(!grepl(\"-\", logan_diff$barrel_rate), paste(\"+\", as.character(round(logan_diff$barrel_rate, 1)), sep = \"\"), as.character(round(logan_diff$barrel_rate, 1)))\n",
    "logan_diff$expected_avg <- ifelse(!grepl(\"-\", logan_diff$expected_avg), paste(\"+\", as.character(sprintf(\"%.3f\", round(logan_diff$expected_avg, 3))), sep = \"\"), as.character(sprintf(\"%.3f\", round(logan_diff$expected_avg, 3))))\n",
    "\n",
    "logan_pitch_stats_pre$expected_avg <- sprintf(\"%.3f\", round(logan_pitch_stats_pre$expected_avg, 3))\n",
    "logan_pitch_stats_post$expected_avg <- sprintf(\"%.3f\", round(logan_pitch_stats_post$expected_avg, 3))"
   ]
  },
  {
   "cell_type": "markdown",
   "id": "2de83982",
   "metadata": {},
   "source": [
    "## Combine all Three Tables Vertically."
   ]
  },
  {
   "cell_type": "code",
   "execution_count": 11,
   "id": "f2a6c53b",
   "metadata": {},
   "outputs": [],
   "source": [
    "logan_pitch_table <- rbind(logan_pitch_stats_pre, logan_pitch_stats_post, logan_diff)"
   ]
  },
  {
   "cell_type": "markdown",
   "id": "ee2883a4",
   "metadata": {},
   "source": [
    "## Create and Save Table."
   ]
  },
  {
   "cell_type": "code",
   "execution_count": 12,
   "id": "9b6ee89d",
   "metadata": {},
   "outputs": [],
   "source": [
    "logan_pitch_table_gt <- logan_pitch_table %>%\n",
    "  gt(groupname_col = \"data_type\") %>%\n",
    "  cols_label(pitch_name = \"Pitch Name\",\n",
    "             strike_rate = \"Strike Rate\",\n",
    "             swing_rate = \"Swing Rate\",\n",
    "             whiff_rate = \"Whiff Rate\",\n",
    "             exit_velo = \"Exit Velocity\",\n",
    "             barrel_rate = \"Barrel Rate\",\n",
    "             expected_avg = \"Expected BABIP\",\n",
    "             gb_rate = \"Groundball\",\n",
    "             fb_rate = \"Flyball\",\n",
    "             ld_rate = \"Line Drive\",\n",
    "             freq = \"Frequency\"\n",
    "  ) %>%\n",
    "  cols_align(align = \"center\",\n",
    "             columns = c(\"strike_rate\", \"whiff_rate\", \"exit_velo\", \"barrel_rate\", \"expected_avg\", \"gb_rate\", \"fb_rate\", \n",
    "                         \"ld_rate\", \"swing_rate\", \"freq\")) %>%\n",
    "  gtExtras::gt_theme_espn() %>%\n",
    "  tab_header(title = \"Logan Gilbert Pitch Outcome Table, 2021\") %>%\n",
    "  tab_style(style = cell_borders(sides = \"right\",\n",
    "                                 color = \"#D3D3D3\",\n",
    "                                 weight = px(2)),\n",
    "            locations = cells_body(columns = c(freq, whiff_rate, expected_avg),\n",
    "                                   rows = everything())) %>%\n",
    "  tab_style(style = cell_borders(sides = \"bottom\",\n",
    "                                 color = \"#808080\",\n",
    "                                 weight = px(4)),\n",
    "            locations = cells_body(columns = everything(),\n",
    "                                   rows = c(4, 8, 12))) %>%\n",
    "  tab_style(style = cell_borders(sides = \"top\",\n",
    "                                 color = \"#808080\",\n",
    "                                 weight = px(4)),\n",
    "            locations = cells_body(columns = everything(),\n",
    "                                   rows = 1)) %>%\n",
    "  tab_style(style = cell_fill(color = \"#90EE90\"),\n",
    "            locations = cells_body(columns = strike_rate,\n",
    "                                   rows = (!grepl(\"-\", strike_rate)) & (data_type == \"Differences\"))) %>%\n",
    "  tab_style(style = cell_fill(color = \"#ff726f\"),\n",
    "            locations = cells_body(columns = strike_rate,\n",
    "                                   rows = (grepl(\"-\", strike_rate)) & (data_type == \"Differences\"))) %>%\n",
    "  tab_style(style = cell_fill(color = \"#90EE90\"),\n",
    "            locations = cells_body(columns = swing_rate,\n",
    "                                   rows = (!grepl(\"-\", swing_rate)) & (data_type == \"Differences\"))) %>%\n",
    "  tab_style(style = cell_fill(color = \"#ff726f\"),\n",
    "            locations = cells_body(columns = swing_rate,\n",
    "                                   rows = (grepl(\"-\", swing_rate)) & (data_type == \"Differences\"))) %>%\n",
    "  tab_style(style = cell_fill(color = \"#90EE90\"),\n",
    "            locations = cells_body(columns = whiff_rate,\n",
    "                                   rows = (!grepl(\"-\", whiff_rate)) & (data_type == \"Differences\"))) %>%\n",
    "  tab_style(style = cell_fill(color = \"#ff726f\"),\n",
    "            locations = cells_body(columns = whiff_rate,\n",
    "                                   rows = (grepl(\"-\", whiff_rate)) & (data_type == \"Differences\"))) %>%\n",
    "  tab_style(style = cell_fill(color = \"#ff726f\"),\n",
    "            locations = cells_body(columns = exit_velo,\n",
    "                                   rows = (!grepl(\"-\", exit_velo)) & (data_type == \"Differences\"))) %>%\n",
    "  tab_style(style = cell_fill(color = \"#90EE90\"),\n",
    "            locations = cells_body(columns = exit_velo,\n",
    "                                   rows = (grepl(\"-\", exit_velo)) & (data_type == \"Differences\"))) %>%\n",
    "  tab_style(style = cell_fill(color = \"#ff726f\"),\n",
    "            locations = cells_body(columns = barrel_rate,\n",
    "                                   rows = (!grepl(\"-\", barrel_rate)) & (data_type == \"Differences\"))) %>%\n",
    "  tab_style(style = cell_fill(color = \"#90EE90\"),\n",
    "            locations = cells_body(columns = barrel_rate,\n",
    "                                   rows = (grepl(\"-\", barrel_rate)) & (data_type == \"Differences\"))) %>%\n",
    "  tab_style(style = cell_fill(color = \"#ff726f\"),\n",
    "            locations = cells_body(columns = expected_avg,\n",
    "                                   rows = (!grepl(\"-\", expected_avg)) & (data_type == \"Differences\"))) %>%\n",
    "  tab_style(style = cell_fill(color = \"#90EE90\"),\n",
    "            locations = cells_body(columns = expected_avg,\n",
    "                                   rows = (grepl(\"-\", expected_avg)) & (data_type == \"Differences\"))) %>%\n",
    "  tab_style(style = cell_fill(color = \"#90EE90\"),\n",
    "            locations = cells_body(columns = gb_rate,\n",
    "                                   rows = (!grepl(\"-\", gb_rate)) & (data_type == \"Differences\"))) %>%\n",
    "  tab_style(style = cell_fill(color = \"#ff726f\"),\n",
    "            locations = cells_body(columns = gb_rate,\n",
    "                                   rows = (grepl(\"-\", gb_rate)) & (data_type == \"Differences\"))) %>%\n",
    "  tab_style(style = cell_fill(color = \"#90EE90\"),\n",
    "            locations = cells_body(columns = fb_rate,\n",
    "                                   rows = (!grepl(\"-\", fb_rate)) & (data_type == \"Differences\"))) %>%\n",
    "  tab_style(style = cell_fill(color = \"#ff726f\"),\n",
    "            locations = cells_body(columns = fb_rate,\n",
    "                                   rows = (grepl(\"-\", fb_rate)) & (data_type == \"Differences\"))) %>%\n",
    "  tab_style(style = cell_fill(color = \"#ff726f\"),\n",
    "            locations = cells_body(columns = ld_rate,\n",
    "                                   rows = (!grepl(\"-\", ld_rate)) & (data_type == \"Differences\"))) %>%\n",
    "  tab_style(style = cell_fill(color = \"#90EE90\"),\n",
    "            locations = cells_body(columns = ld_rate,\n",
    "                                   rows = (grepl(\"-\", ld_rate)) & (data_type == \"Differences\"))) %>%\n",
    "  tab_spanner(label = \"Trajectory Rates\", columns = c(gb_rate, fb_rate, ld_rate)) %>%\n",
    "  tab_spanner(label = \"Contact\", columns = c(exit_velo, barrel_rate, expected_avg)) %>%\n",
    "  tab_options(table.width = pct(100))"
   ]
  },
  {
   "cell_type": "code",
   "execution_count": 13,
   "id": "3a05b77c",
   "metadata": {},
   "outputs": [],
   "source": [
    "gtsave(logan_pitch_table_gt, \"logan-pitch-outcome-table.png\", vwidth = 1200)"
   ]
  }
 ],
 "metadata": {
  "kernelspec": {
   "display_name": "R",
   "language": "R",
   "name": "ir"
  },
  "language_info": {
   "codemirror_mode": "r",
   "file_extension": ".r",
   "mimetype": "text/x-r-source",
   "name": "R",
   "pygments_lexer": "r",
   "version": "4.1.2"
  }
 },
 "nbformat": 4,
 "nbformat_minor": 5
}
