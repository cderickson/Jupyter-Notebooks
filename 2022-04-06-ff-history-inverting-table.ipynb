{
 "cells": [
  {
   "cell_type": "markdown",
   "id": "d3c427a2",
   "metadata": {},
   "source": [
    "## Import libraries and dataset."
   ]
  },
  {
   "cell_type": "code",
   "execution_count": 2,
   "id": "3cadb536",
   "metadata": {},
   "outputs": [],
   "source": [
    "library(tidyverse)\n",
    "library(readr) # Read in datasets.\n",
    "options(scipen = 9999)"
   ]
  },
  {
   "cell_type": "code",
   "execution_count": 3,
   "id": "8efdff92",
   "metadata": {},
   "outputs": [],
   "source": [
    "ffhistory <- read_csv(file = \"C:/Users/chris/Documents/Datasets/FFL/ff_scores.csv\", \n",
    "                      show_col_types = FALSE)"
   ]
  },
  {
   "cell_type": "markdown",
   "id": "917b22d7",
   "metadata": {},
   "source": [
    "## Invert table by swapping team_1 and team_2, and inverting win column data."
   ]
  },
  {
   "cell_type": "code",
   "execution_count": 17,
   "id": "0916f9a2",
   "metadata": {},
   "outputs": [],
   "source": [
    "ffhistory_inverse <- ffhistory\n",
    "team_1 <- ffhistory$team_1\n",
    "team_1_score <- ffhistory$team_1_score\n",
    "team_2 <- ffhistory$team_2\n",
    "team_2_score <- ffhistory$team_2_score\n",
    "\n",
    "ffhistory_inverse$team_1 <- team_2\n",
    "ffhistory_inverse$team_1_score <- team_2_score\n",
    "ffhistory_inverse$team_2 <- team_1\n",
    "ffhistory_inverse$team_2_score <- team_1_score\n",
    "ffhistory_inverse$win <- ifelse(ffhistory_inverse$win == 0, 1, 0)"
   ]
  },
  {
   "cell_type": "markdown",
   "id": "1c5d6925",
   "metadata": {},
   "source": [
    "## Join tables vertically. Save and export as CSV."
   ]
  },
  {
   "cell_type": "code",
   "execution_count": 22,
   "id": "548a8259",
   "metadata": {},
   "outputs": [],
   "source": [
    "ffhistory_inverted <- rbind(ffhistory, ffhistory_inverse) %>%\n",
    "    arrange(date)"
   ]
  },
  {
   "cell_type": "code",
   "execution_count": 26,
   "id": "48ee0b26",
   "metadata": {},
   "outputs": [
    {
     "data": {
      "text/html": [
       "<table class=\"dataframe\">\n",
       "<caption>A tibble: 6 × 9</caption>\n",
       "<thead>\n",
       "\t<tr><th scope=col>year</th><th scope=col>week</th><th scope=col>team_1</th><th scope=col>team_1_score</th><th scope=col>team_2</th><th scope=col>team_2_score</th><th scope=col>win</th><th scope=col>reg</th><th scope=col>playoffs</th></tr>\n",
       "\t<tr><th scope=col>&lt;dbl&gt;</th><th scope=col>&lt;chr&gt;</th><th scope=col>&lt;chr&gt;</th><th scope=col>&lt;dbl&gt;</th><th scope=col>&lt;chr&gt;</th><th scope=col>&lt;dbl&gt;</th><th scope=col>&lt;dbl&gt;</th><th scope=col>&lt;dbl&gt;</th><th scope=col>&lt;dbl&gt;</th></tr>\n",
       "</thead>\n",
       "<tbody>\n",
       "\t<tr><td>2014</td><td>01</td><td>CHRIS </td><td>119.68</td><td>CARLEN</td><td>126.34</td><td>0</td><td>1</td><td>0</td></tr>\n",
       "\t<tr><td>2014</td><td>01</td><td>ANDREW</td><td>106.28</td><td>KYLE  </td><td>145.94</td><td>0</td><td>1</td><td>0</td></tr>\n",
       "\t<tr><td>2014</td><td>01</td><td>STEVE </td><td>103.46</td><td>DREW  </td><td>101.92</td><td>1</td><td>1</td><td>0</td></tr>\n",
       "\t<tr><td>2014</td><td>01</td><td>MATT  </td><td>125.50</td><td>NATHAN</td><td> 99.86</td><td>1</td><td>1</td><td>0</td></tr>\n",
       "\t<tr><td>2014</td><td>01</td><td>CARLEN</td><td>126.34</td><td>CHRIS </td><td>119.68</td><td>1</td><td>1</td><td>0</td></tr>\n",
       "\t<tr><td>2014</td><td>01</td><td>KYLE  </td><td>145.94</td><td>ANDREW</td><td>106.28</td><td>1</td><td>1</td><td>0</td></tr>\n",
       "</tbody>\n",
       "</table>\n"
      ],
      "text/latex": [
       "A tibble: 6 × 9\n",
       "\\begin{tabular}{lllllllll}\n",
       " year & week & team\\_1 & team\\_1\\_score & team\\_2 & team\\_2\\_score & win & reg & playoffs\\\\\n",
       " <dbl> & <chr> & <chr> & <dbl> & <chr> & <dbl> & <dbl> & <dbl> & <dbl>\\\\\n",
       "\\hline\n",
       "\t 2014 & 01 & CHRIS  & 119.68 & CARLEN & 126.34 & 0 & 1 & 0\\\\\n",
       "\t 2014 & 01 & ANDREW & 106.28 & KYLE   & 145.94 & 0 & 1 & 0\\\\\n",
       "\t 2014 & 01 & STEVE  & 103.46 & DREW   & 101.92 & 1 & 1 & 0\\\\\n",
       "\t 2014 & 01 & MATT   & 125.50 & NATHAN &  99.86 & 1 & 1 & 0\\\\\n",
       "\t 2014 & 01 & CARLEN & 126.34 & CHRIS  & 119.68 & 1 & 1 & 0\\\\\n",
       "\t 2014 & 01 & KYLE   & 145.94 & ANDREW & 106.28 & 1 & 1 & 0\\\\\n",
       "\\end{tabular}\n"
      ],
      "text/markdown": [
       "\n",
       "A tibble: 6 × 9\n",
       "\n",
       "| year &lt;dbl&gt; | week &lt;chr&gt; | team_1 &lt;chr&gt; | team_1_score &lt;dbl&gt; | team_2 &lt;chr&gt; | team_2_score &lt;dbl&gt; | win &lt;dbl&gt; | reg &lt;dbl&gt; | playoffs &lt;dbl&gt; |\n",
       "|---|---|---|---|---|---|---|---|---|\n",
       "| 2014 | 01 | CHRIS  | 119.68 | CARLEN | 126.34 | 0 | 1 | 0 |\n",
       "| 2014 | 01 | ANDREW | 106.28 | KYLE   | 145.94 | 0 | 1 | 0 |\n",
       "| 2014 | 01 | STEVE  | 103.46 | DREW   | 101.92 | 1 | 1 | 0 |\n",
       "| 2014 | 01 | MATT   | 125.50 | NATHAN |  99.86 | 1 | 1 | 0 |\n",
       "| 2014 | 01 | CARLEN | 126.34 | CHRIS  | 119.68 | 1 | 1 | 0 |\n",
       "| 2014 | 01 | KYLE   | 145.94 | ANDREW | 106.28 | 1 | 1 | 0 |\n",
       "\n"
      ],
      "text/plain": [
       "  year week team_1 team_1_score team_2 team_2_score win reg playoffs\n",
       "1 2014 01   CHRIS  119.68       CARLEN 126.34       0   1   0       \n",
       "2 2014 01   ANDREW 106.28       KYLE   145.94       0   1   0       \n",
       "3 2014 01   STEVE  103.46       DREW   101.92       1   1   0       \n",
       "4 2014 01   MATT   125.50       NATHAN  99.86       1   1   0       \n",
       "5 2014 01   CARLEN 126.34       CHRIS  119.68       1   1   0       \n",
       "6 2014 01   KYLE   145.94       ANDREW 106.28       1   1   0       "
      ]
     },
     "metadata": {},
     "output_type": "display_data"
    }
   ],
   "source": [
    "head(ffhistory_inverted[,1:9])"
   ]
  },
  {
   "cell_type": "code",
   "execution_count": 27,
   "id": "0333ba82",
   "metadata": {},
   "outputs": [],
   "source": [
    "write.csv(ffhistory_inverted,\"C:\\\\Users\\\\chris\\\\Desktop\\\\ffscores_inverted.csv\", row.names = FALSE)"
   ]
  }
 ],
 "metadata": {
  "kernelspec": {
   "display_name": "R",
   "language": "R",
   "name": "ir"
  },
  "language_info": {
   "codemirror_mode": "r",
   "file_extension": ".r",
   "mimetype": "text/x-r-source",
   "name": "R",
   "pygments_lexer": "r",
   "version": "4.1.2"
  }
 },
 "nbformat": 4,
 "nbformat_minor": 5
}
