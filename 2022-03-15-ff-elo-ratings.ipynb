{
 "cells": [
  {
   "cell_type": "markdown",
   "id": "a56ff647",
   "metadata": {},
   "source": [
    "## Adding libraries."
   ]
  },
  {
   "cell_type": "code",
   "execution_count": 2,
   "id": "0193b753",
   "metadata": {},
   "outputs": [],
   "source": [
    "options(warn = -1)\n",
    "library(tidyverse)\n",
    "library(elo)"
   ]
  },
  {
   "cell_type": "markdown",
   "id": "d48ad82f",
   "metadata": {},
   "source": [
    "## Import dataset."
   ]
  },
  {
   "cell_type": "code",
   "execution_count": 3,
   "id": "9bf7d6b0",
   "metadata": {},
   "outputs": [],
   "source": [
    "ff_scores <- read.csv(file = \"C:/Users/chris/Documents/Datasets/FFL/ff_scores.csv\")\n",
    "ff_scores <- ff_scores %>%\n",
    "  select(date, team_1, team_2, win) %>%\n",
    "  arrange(date)"
   ]
  },
  {
   "cell_type": "markdown",
   "id": "d9151ad2",
   "metadata": {},
   "source": [
    "## Generate teams table with initial elo value = 1500."
   ]
  },
  {
   "cell_type": "code",
   "execution_count": 4,
   "id": "8b3dee70",
   "metadata": {},
   "outputs": [],
   "source": [
    "teams <- data.frame(team = unique(ff_scores$team_1)) %>%\n",
    "  mutate(elo = 1500)"
   ]
  },
  {
   "cell_type": "markdown",
   "id": "03621d07",
   "metadata": {},
   "source": [
    "## Calculate changes in elo rating based on weekly results."
   ]
  },
  {
   "cell_type": "code",
   "execution_count": 5,
   "id": "5d644148",
   "metadata": {},
   "outputs": [],
   "source": [
    "team1_elo_pre_vector <- c()\n",
    "team2_elo_pre_vector <- c()\n",
    "team1_elo_post_vector <- c()\n",
    "team2_elo_post_vector <- c()\n",
    "\n",
    "for (i in seq_len(nrow(ff_scores))) {\n",
    "  match <- ff_scores[i, ]\n",
    "  \n",
    "  # Pre-match ratings.\n",
    "  team_1_elo <- subset(teams, team == match$team_1)$elo\n",
    "  team_2_elo <- subset(teams, team == match$team_2)$elo\n",
    "  \n",
    "  # Elo calculation.\n",
    "  new_elo <- elo.calc(wins.A = match$win,\n",
    "                      elo.A = team_1_elo,\n",
    "                      elo.B = team_2_elo,\n",
    "                      k = 30)\n",
    "    \n",
    "  # Post-match ratings  .\n",
    "  team_1_new_elo <- new_elo[1, 1]\n",
    "  team_2_new_elo <- new_elo[1, 2]\n",
    "\n",
    "  team1_elo_pre_vector <- append(team1_elo_pre_vector, team_1_elo)\n",
    "  team2_elo_pre_vector <- append(team2_elo_pre_vector, team_2_elo)\n",
    "  team1_elo_post_vector <- append(team1_elo_post_vector, team_1_new_elo)\n",
    "  team2_elo_post_vector <- append(team2_elo_post_vector, team_2_new_elo)\n",
    "\n",
    "  # Update team elo ratings table.\n",
    "  teams <- teams %>%\n",
    "    mutate(elo = case_when(\n",
    "        (team == match$team_1) ~ team_1_new_elo,\n",
    "        (team == match$team_2) ~ team_2_new_elo,\n",
    "        ((team != match$team_1) & (team != match$team_2)) ~ elo\n",
    "    ))\n",
    "}"
   ]
  },
  {
   "cell_type": "markdown",
   "id": "1222525c",
   "metadata": {},
   "source": [
    "## Create columns to save pre/post-week elo ratings."
   ]
  },
  {
   "cell_type": "code",
   "execution_count": 6,
   "id": "559f0fe1",
   "metadata": {},
   "outputs": [],
   "source": [
    "ff_scores$team1_elo_pre <- team1_elo_pre_vector\n",
    "ff_scores$team2_elo_pre <- team2_elo_pre_vector\n",
    "ff_scores$team1_elo_post <- team1_elo_post_vector\n",
    "ff_scores$team2_elo_post <- team2_elo_post_vector"
   ]
  },
  {
   "cell_type": "markdown",
   "id": "1a94a2a5",
   "metadata": {},
   "source": [
    "## Elo rating history table."
   ]
  },
  {
   "cell_type": "code",
   "execution_count": 7,
   "id": "cdddaa8f",
   "metadata": {},
   "outputs": [
    {
     "data": {
      "text/html": [
       "<table class=\"dataframe\">\n",
       "<caption>A data.frame: 6 × 8</caption>\n",
       "<thead>\n",
       "\t<tr><th></th><th scope=col>date</th><th scope=col>team_1</th><th scope=col>team_2</th><th scope=col>win</th><th scope=col>team1_elo_pre</th><th scope=col>team2_elo_pre</th><th scope=col>team1_elo_post</th><th scope=col>team2_elo_post</th></tr>\n",
       "\t<tr><th></th><th scope=col>&lt;chr&gt;</th><th scope=col>&lt;chr&gt;</th><th scope=col>&lt;chr&gt;</th><th scope=col>&lt;int&gt;</th><th scope=col>&lt;dbl&gt;</th><th scope=col>&lt;dbl&gt;</th><th scope=col>&lt;dbl&gt;</th><th scope=col>&lt;dbl&gt;</th></tr>\n",
       "</thead>\n",
       "<tbody>\n",
       "\t<tr><th scope=row>1</th><td>2014-01</td><td>CHRIS </td><td>CARLEN</td><td>0</td><td>1500</td><td>1500</td><td>1485.000</td><td>1515.000</td></tr>\n",
       "\t<tr><th scope=row>2</th><td>2014-01</td><td>ANDREW</td><td>KYLE  </td><td>0</td><td>1500</td><td>1500</td><td>1485.000</td><td>1515.000</td></tr>\n",
       "\t<tr><th scope=row>3</th><td>2014-01</td><td>STEVE </td><td>DREW  </td><td>1</td><td>1500</td><td>1500</td><td>1515.000</td><td>1485.000</td></tr>\n",
       "\t<tr><th scope=row>4</th><td>2014-01</td><td>MATT  </td><td>NATHAN</td><td>1</td><td>1500</td><td>1500</td><td>1515.000</td><td>1485.000</td></tr>\n",
       "\t<tr><th scope=row>5</th><td>2014-02</td><td>MATT  </td><td>CHRIS </td><td>1</td><td>1515</td><td>1485</td><td>1528.708</td><td>1471.292</td></tr>\n",
       "\t<tr><th scope=row>6</th><td>2014-02</td><td>STEVE </td><td>ANDREW</td><td>0</td><td>1515</td><td>1485</td><td>1498.708</td><td>1501.292</td></tr>\n",
       "</tbody>\n",
       "</table>\n"
      ],
      "text/latex": [
       "A data.frame: 6 × 8\n",
       "\\begin{tabular}{r|llllllll}\n",
       "  & date & team\\_1 & team\\_2 & win & team1\\_elo\\_pre & team2\\_elo\\_pre & team1\\_elo\\_post & team2\\_elo\\_post\\\\\n",
       "  & <chr> & <chr> & <chr> & <int> & <dbl> & <dbl> & <dbl> & <dbl>\\\\\n",
       "\\hline\n",
       "\t1 & 2014-01 & CHRIS  & CARLEN & 0 & 1500 & 1500 & 1485.000 & 1515.000\\\\\n",
       "\t2 & 2014-01 & ANDREW & KYLE   & 0 & 1500 & 1500 & 1485.000 & 1515.000\\\\\n",
       "\t3 & 2014-01 & STEVE  & DREW   & 1 & 1500 & 1500 & 1515.000 & 1485.000\\\\\n",
       "\t4 & 2014-01 & MATT   & NATHAN & 1 & 1500 & 1500 & 1515.000 & 1485.000\\\\\n",
       "\t5 & 2014-02 & MATT   & CHRIS  & 1 & 1515 & 1485 & 1528.708 & 1471.292\\\\\n",
       "\t6 & 2014-02 & STEVE  & ANDREW & 0 & 1515 & 1485 & 1498.708 & 1501.292\\\\\n",
       "\\end{tabular}\n"
      ],
      "text/markdown": [
       "\n",
       "A data.frame: 6 × 8\n",
       "\n",
       "| <!--/--> | date &lt;chr&gt; | team_1 &lt;chr&gt; | team_2 &lt;chr&gt; | win &lt;int&gt; | team1_elo_pre &lt;dbl&gt; | team2_elo_pre &lt;dbl&gt; | team1_elo_post &lt;dbl&gt; | team2_elo_post &lt;dbl&gt; |\n",
       "|---|---|---|---|---|---|---|---|---|\n",
       "| 1 | 2014-01 | CHRIS  | CARLEN | 0 | 1500 | 1500 | 1485.000 | 1515.000 |\n",
       "| 2 | 2014-01 | ANDREW | KYLE   | 0 | 1500 | 1500 | 1485.000 | 1515.000 |\n",
       "| 3 | 2014-01 | STEVE  | DREW   | 1 | 1500 | 1500 | 1515.000 | 1485.000 |\n",
       "| 4 | 2014-01 | MATT   | NATHAN | 1 | 1500 | 1500 | 1515.000 | 1485.000 |\n",
       "| 5 | 2014-02 | MATT   | CHRIS  | 1 | 1515 | 1485 | 1528.708 | 1471.292 |\n",
       "| 6 | 2014-02 | STEVE  | ANDREW | 0 | 1515 | 1485 | 1498.708 | 1501.292 |\n",
       "\n"
      ],
      "text/plain": [
       "  date    team_1 team_2 win team1_elo_pre team2_elo_pre team1_elo_post\n",
       "1 2014-01 CHRIS  CARLEN 0   1500          1500          1485.000      \n",
       "2 2014-01 ANDREW KYLE   0   1500          1500          1485.000      \n",
       "3 2014-01 STEVE  DREW   1   1500          1500          1515.000      \n",
       "4 2014-01 MATT   NATHAN 1   1500          1500          1515.000      \n",
       "5 2014-02 MATT   CHRIS  1   1515          1485          1528.708      \n",
       "6 2014-02 STEVE  ANDREW 0   1515          1485          1498.708      \n",
       "  team2_elo_post\n",
       "1 1515.000      \n",
       "2 1515.000      \n",
       "3 1485.000      \n",
       "4 1485.000      \n",
       "5 1471.292      \n",
       "6 1501.292      "
      ]
     },
     "metadata": {},
     "output_type": "display_data"
    }
   ],
   "source": [
    "head(ff_scores)"
   ]
  },
  {
   "cell_type": "markdown",
   "id": "a90fd701",
   "metadata": {},
   "source": [
    "## Current elo rating table."
   ]
  },
  {
   "cell_type": "code",
   "execution_count": 8,
   "id": "5f39b0c9",
   "metadata": {},
   "outputs": [
    {
     "data": {
      "text/html": [
       "<table class=\"dataframe\">\n",
       "<caption>A data.frame: 13 × 2</caption>\n",
       "<thead>\n",
       "\t<tr><th scope=col>team</th><th scope=col>elo</th></tr>\n",
       "\t<tr><th scope=col>&lt;chr&gt;</th><th scope=col>&lt;dbl&gt;</th></tr>\n",
       "</thead>\n",
       "<tbody>\n",
       "\t<tr><td>CHRIS </td><td>1652.983</td></tr>\n",
       "\t<tr><td>ANDREW</td><td>1580.769</td></tr>\n",
       "\t<tr><td>STEVE </td><td>1530.280</td></tr>\n",
       "\t<tr><td>SAM   </td><td>1520.478</td></tr>\n",
       "\t<tr><td>NICK  </td><td>1514.191</td></tr>\n",
       "\t<tr><td>KYLE  </td><td>1499.722</td></tr>\n",
       "\t<tr><td>NATHAN</td><td>1493.890</td></tr>\n",
       "\t<tr><td>CARLEN</td><td>1475.735</td></tr>\n",
       "\t<tr><td>DREW  </td><td>1474.429</td></tr>\n",
       "\t<tr><td>NOAH  </td><td>1471.976</td></tr>\n",
       "\t<tr><td>JASON </td><td>1469.839</td></tr>\n",
       "\t<tr><td>DYLAN </td><td>1427.423</td></tr>\n",
       "\t<tr><td>MATT  </td><td>1388.285</td></tr>\n",
       "</tbody>\n",
       "</table>\n"
      ],
      "text/latex": [
       "A data.frame: 13 × 2\n",
       "\\begin{tabular}{ll}\n",
       " team & elo\\\\\n",
       " <chr> & <dbl>\\\\\n",
       "\\hline\n",
       "\t CHRIS  & 1652.983\\\\\n",
       "\t ANDREW & 1580.769\\\\\n",
       "\t STEVE  & 1530.280\\\\\n",
       "\t SAM    & 1520.478\\\\\n",
       "\t NICK   & 1514.191\\\\\n",
       "\t KYLE   & 1499.722\\\\\n",
       "\t NATHAN & 1493.890\\\\\n",
       "\t CARLEN & 1475.735\\\\\n",
       "\t DREW   & 1474.429\\\\\n",
       "\t NOAH   & 1471.976\\\\\n",
       "\t JASON  & 1469.839\\\\\n",
       "\t DYLAN  & 1427.423\\\\\n",
       "\t MATT   & 1388.285\\\\\n",
       "\\end{tabular}\n"
      ],
      "text/markdown": [
       "\n",
       "A data.frame: 13 × 2\n",
       "\n",
       "| team &lt;chr&gt; | elo &lt;dbl&gt; |\n",
       "|---|---|\n",
       "| CHRIS  | 1652.983 |\n",
       "| ANDREW | 1580.769 |\n",
       "| STEVE  | 1530.280 |\n",
       "| SAM    | 1520.478 |\n",
       "| NICK   | 1514.191 |\n",
       "| KYLE   | 1499.722 |\n",
       "| NATHAN | 1493.890 |\n",
       "| CARLEN | 1475.735 |\n",
       "| DREW   | 1474.429 |\n",
       "| NOAH   | 1471.976 |\n",
       "| JASON  | 1469.839 |\n",
       "| DYLAN  | 1427.423 |\n",
       "| MATT   | 1388.285 |\n",
       "\n"
      ],
      "text/plain": [
       "   team   elo     \n",
       "1  CHRIS  1652.983\n",
       "2  ANDREW 1580.769\n",
       "3  STEVE  1530.280\n",
       "4  SAM    1520.478\n",
       "5  NICK   1514.191\n",
       "6  KYLE   1499.722\n",
       "7  NATHAN 1493.890\n",
       "8  CARLEN 1475.735\n",
       "9  DREW   1474.429\n",
       "10 NOAH   1471.976\n",
       "11 JASON  1469.839\n",
       "12 DYLAN  1427.423\n",
       "13 MATT   1388.285"
      ]
     },
     "metadata": {},
     "output_type": "display_data"
    }
   ],
   "source": [
    "teams %>%\n",
    "  arrange(-elo)"
   ]
  },
  {
   "cell_type": "code",
   "execution_count": 9,
   "id": "e8ee7d24",
   "metadata": {},
   "outputs": [],
   "source": [
    "write.csv(ff_scores,\"C:\\\\Users\\\\chris\\\\Desktop\\\\elo_history.csv\", row.names = FALSE)"
   ]
  }
 ],
 "metadata": {
  "kernelspec": {
   "display_name": "R",
   "language": "R",
   "name": "ir"
  },
  "language_info": {
   "codemirror_mode": "r",
   "file_extension": ".r",
   "mimetype": "text/x-r-source",
   "name": "R",
   "pygments_lexer": "r",
   "version": "4.1.2"
  }
 },
 "nbformat": 4,
 "nbformat_minor": 5
}
