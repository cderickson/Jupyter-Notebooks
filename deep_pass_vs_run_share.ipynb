{
 "cells": [
  {
   "cell_type": "markdown",
   "id": "a06315ff",
   "metadata": {},
   "source": [
    "## Importing Libraries."
   ]
  },
  {
   "cell_type": "code",
   "execution_count": 141,
   "id": "5f42f8d8",
   "metadata": {},
   "outputs": [],
   "source": [
    "library(tidyverse)\n",
    "library(nflfastR)\n",
    "library(ggthemes) # Themes for ggplot2.\n",
    "library(ggimage) # Supports images in ggplot2.\n",
    "library(gt) # Create tables.\n",
    "library(readr) # Read in datasets.\n",
    "options(scipen = 9999)"
   ]
  },
  {
   "cell_type": "markdown",
   "id": "6fc2f7aa",
   "metadata": {},
   "source": [
    "## Importing PBP Data."
   ]
  },
  {
   "cell_type": "code",
   "execution_count": 142,
   "id": "6ae3b205",
   "metadata": {},
   "outputs": [],
   "source": [
    "ignore <- c(\"enforced between downs.\")\n",
    "pbp_raw <- load_pbp(2021) %>%\n",
    "  filter(season == 2021) %>%\n",
    "  filter(season_type == \"REG\") %>%\n",
    "  filter(play_type != \"no_play\" | str_detect(desc, paste(ignore, collapse = \"|\"))) %>% \n",
    "  filter(!(str_detect(desc, \"enforced between downs.\") & str_detect(desc, \"Kick formation\"))) %>%\n",
    "  filter(!(str_detect(desc, \"enforced between downs.\") & str_detect(desc, \"No Play.\")))\n",
    "pbp_raw$new_play_num <- ave(pbp_raw$play_id ,pbp_raw$game_id,FUN = seq_along)\n",
    "pbp_raw <- pbp_raw %>%\n",
    "  mutate(UNIQUE_PLAY_ID = paste(game_id, new_play_num, sep = \"_\"))"
   ]
  },
  {
   "cell_type": "markdown",
   "id": "ff8f41d5",
   "metadata": {},
   "source": [
    "## Importing Sport Radar Data and Joining Dataframes."
   ]
  },
  {
   "cell_type": "code",
   "execution_count": 143,
   "id": "4d3ccd4b",
   "metadata": {},
   "outputs": [],
   "source": [
    "pbp_sportradar <- read_csv(file = \"C:/Users/chris/Documents/Datasets/Sportradar NFL/CSV/2021-Sportradar-NFL.csv\",\n",
    "                           show_col_types = FALSE)\n",
    "pbp_raw <- inner_join(pbp_raw, pbp_sportradar, by = \"UNIQUE_PLAY_ID\")"
   ]
  },
  {
   "cell_type": "markdown",
   "id": "fc90d1a4",
   "metadata": {},
   "source": [
    "## Appending Column for Drive Results. (pts)"
   ]
  },
  {
   "cell_type": "code",
   "execution_count": 144,
   "id": "9fbbfd8e",
   "metadata": {},
   "outputs": [],
   "source": [
    "pbp_raw <- pbp_raw %>%\n",
    "  filter(rush == 1 | pass == 1) %>%\n",
    "  filter(!is.na(epa)) %>%\n",
    "  mutate(gid_team = paste(game_id, posteam, sep = \"-\")) %>%\n",
    "  mutate(yr_team = paste(season, posteam, sep = \"-\")) %>%\n",
    "  mutate(drive_id = paste(game_id, posteam, fixed_drive, sep = \"-\")) %>%\n",
    "  mutate(drive_res = case_when(\n",
    "      fixed_drive_result == \"End of half\" ~ 0,\n",
    "      fixed_drive_result == \"Field goal\" ~ 3,\n",
    "      fixed_drive_result == \"Missed field goal\" ~ 0,\n",
    "      fixed_drive_result == \"Opp touchdown\" ~ -6,\n",
    "      fixed_drive_result == \"Punt\" ~ 0,\n",
    "      fixed_drive_result == \"Safety\" ~ -2,\n",
    "      fixed_drive_result == \"Touchdown\" ~ 6,\n",
    "      fixed_drive_result == \"Turnover\" ~ 0,\n",
    "      fixed_drive_result == \"Turnover on downs\" ~ 0,\n",
    "  ))"
   ]
  },
  {
   "cell_type": "markdown",
   "id": "784c88e4",
   "metadata": {},
   "source": [
    "## Appending Columns for Playcall Type Percentages."
   ]
  },
  {
   "cell_type": "code",
   "execution_count": 145,
   "id": "f152a59e",
   "metadata": {},
   "outputs": [],
   "source": [
    "pbp_raw$rushes_game <- ave(pbp_raw$rush, pbp_raw$gid_team, FUN = cumsum)\n",
    "pbp_raw$passes_game <- ave(pbp_raw$pass, pbp_raw$gid_team, FUN = cumsum)\n",
    "pbp_raw$rushes_season <- ave(pbp_raw$rush, pbp_raw$yr_team, FUN = cumsum)\n",
    "pbp_raw$passes_season <- ave(pbp_raw$pass, pbp_raw$yr_team, FUN = cumsum)\n",
    "pbp_raw$play_action_season <- ave(pbp_raw$PLAY_ACTION, pbp_raw$yr_team, FUN = cumsum)\n",
    "pbp_raw$rpo_season <- ave(pbp_raw$RPO, pbp_raw$yr_team, FUN = cumsum)\n",
    "pbp_raw$screen_season <- ave(pbp_raw$SCREEN_PASS, pbp_raw$yr_team, FUN = cumsum)\n",
    "pbp_raw$season_play_num <- ave(pbp_raw$play_id, pbp_raw$yr_team, FUN = seq_along)\n",
    "\n",
    "pbp_raw <- pbp_raw %>%\n",
    "  mutate(run_share_gm = round(rushes_game/(rushes_game + passes_game), 4)) %>%\n",
    "  mutate(pass_share_gm = round(passes_game/(rushes_game + passes_game), 4)) %>%\n",
    "  mutate(run_share_szn = round(rushes_season/(rushes_season + passes_season), 4)) %>%\n",
    "  mutate(pass_share_szn = round(passes_season/(rushes_season + passes_season), 4)) %>%\n",
    "  mutate(play_action_share_szn = round(play_action_season/(rushes_season + passes_season), 4)) %>%\n",
    "  mutate(rpo_share_szn = round(rpo_season/(rushes_season + passes_season), 4)) %>%\n",
    "  mutate(screen_share_szn = round(screen_season/(rushes_season + passes_season), 4))"
   ]
  },
  {
   "cell_type": "markdown",
   "id": "d5cf8751",
   "metadata": {},
   "source": [
    "## Create Table: Playcall Type Percentages by Team."
   ]
  },
  {
   "cell_type": "code",
   "execution_count": 146,
   "id": "4af3e488",
   "metadata": {},
   "outputs": [],
   "source": [
    "team_playcalls <- pbp_raw %>%\n",
    "  group_by(posteam) %>%\n",
    "  summarize(run_share = round(last(run_share_szn), 3), \n",
    "            pass_share = round(last(pass_share_szn), 3), \n",
    "            pa_share = round(last(play_action_share_szn), 3), \n",
    "            rpo_share = round(last(rpo_share_szn), 3), \n",
    "            screen_share = round(last(screen_share_szn), 3)) %>%\n",
    "  arrange(-screen_share)"
   ]
  },
  {
   "cell_type": "markdown",
   "id": "44d20b9f",
   "metadata": {},
   "source": [
    "## Create Table: Drive Summaries."
   ]
  },
  {
   "cell_type": "code",
   "execution_count": 147,
   "id": "615683ca",
   "metadata": {},
   "outputs": [],
   "source": [
    "drive_summaries <- pbp_raw %>%\n",
    "  group_by(drive_id) %>%\n",
    "  summarize(team = last(posteam), start_yardline = first(yardline_100), end_yardline = last(yardline_100), \n",
    "            res = last(fixed_drive_result), res_pts = last(drive_res)) %>%\n",
    "  filter(res != \"End of half\")"
   ]
  },
  {
   "cell_type": "markdown",
   "id": "77065e30",
   "metadata": {},
   "source": [
    "## Create Vector: Points Per Drive by Team."
   ]
  },
  {
   "cell_type": "code",
   "execution_count": 148,
   "id": "18c57c88",
   "metadata": {},
   "outputs": [],
   "source": [
    "ppd <- drive_summaries %>%\n",
    "  group_by(team) %>%\n",
    "  summarize(pts_per_drive = round(sum(res_pts)/n(), 2)) %>%\n",
    "  arrange(-pts_per_drive)"
   ]
  },
  {
   "cell_type": "markdown",
   "id": "201c791e",
   "metadata": {},
   "source": [
    "## Merge Playcall Type Table and Points Per Drive Vector."
   ]
  },
  {
   "cell_type": "code",
   "execution_count": 149,
   "id": "acd4a121",
   "metadata": {},
   "outputs": [
    {
     "data": {
      "text/html": [
       "<table class=\"dataframe\">\n",
       "<caption>A data.frame: 32 × 7</caption>\n",
       "<thead>\n",
       "\t<tr><th scope=col>posteam</th><th scope=col>run_share</th><th scope=col>pass_share</th><th scope=col>pa_share</th><th scope=col>rpo_share</th><th scope=col>screen_share</th><th scope=col>pts_per_drive</th></tr>\n",
       "\t<tr><th scope=col>&lt;chr&gt;</th><th scope=col>&lt;dbl&gt;</th><th scope=col>&lt;dbl&gt;</th><th scope=col>&lt;dbl&gt;</th><th scope=col>&lt;dbl&gt;</th><th scope=col>&lt;dbl&gt;</th><th scope=col>&lt;dbl&gt;</th></tr>\n",
       "</thead>\n",
       "<tbody>\n",
       "\t<tr><td>KC </td><td>0.326</td><td>0.674</td><td>0.140</td><td>0.177</td><td>0.058</td><td>2.53</td></tr>\n",
       "\t<tr><td>TB </td><td>0.319</td><td>0.681</td><td>0.106</td><td>0.023</td><td>0.080</td><td>2.40</td></tr>\n",
       "\t<tr><td>BUF</td><td>0.348</td><td>0.652</td><td>0.177</td><td>0.175</td><td>0.049</td><td>2.39</td></tr>\n",
       "\t<tr><td>LAC</td><td>0.334</td><td>0.666</td><td>0.163</td><td>0.076</td><td>0.039</td><td>2.38</td></tr>\n",
       "\t<tr><td>GB </td><td>0.385</td><td>0.615</td><td>0.123</td><td>0.111</td><td>0.060</td><td>2.34</td></tr>\n",
       "\t<tr><td>ARI</td><td>0.401</td><td>0.599</td><td>0.150</td><td>0.233</td><td>0.076</td><td>2.25</td></tr>\n",
       "\t<tr><td>LA </td><td>0.377</td><td>0.623</td><td>0.126</td><td>0.053</td><td>0.062</td><td>2.24</td></tr>\n",
       "\t<tr><td>IND</td><td>0.442</td><td>0.558</td><td>0.153</td><td>0.118</td><td>0.042</td><td>2.22</td></tr>\n",
       "\t<tr><td>DAL</td><td>0.382</td><td>0.618</td><td>0.119</td><td>0.086</td><td>0.052</td><td>2.17</td></tr>\n",
       "\t<tr><td>NE </td><td>0.441</td><td>0.559</td><td>0.112</td><td>0.050</td><td>0.046</td><td>2.17</td></tr>\n",
       "\t<tr><td>PHI</td><td>0.456</td><td>0.544</td><td>0.146</td><td>0.281</td><td>0.068</td><td>2.16</td></tr>\n",
       "\t<tr><td>SF </td><td>0.454</td><td>0.546</td><td>0.126</td><td>0.088</td><td>0.046</td><td>2.15</td></tr>\n",
       "\t<tr><td>CIN</td><td>0.392</td><td>0.608</td><td>0.093</td><td>0.035</td><td>0.045</td><td>2.14</td></tr>\n",
       "\t<tr><td>TEN</td><td>0.463</td><td>0.537</td><td>0.135</td><td>0.046</td><td>0.048</td><td>2.11</td></tr>\n",
       "\t<tr><td>MIN</td><td>0.398</td><td>0.602</td><td>0.118</td><td>0.027</td><td>0.060</td><td>1.93</td></tr>\n",
       "\t<tr><td>SEA</td><td>0.399</td><td>0.601</td><td>0.149</td><td>0.099</td><td>0.055</td><td>1.91</td></tr>\n",
       "\t<tr><td>LV </td><td>0.361</td><td>0.639</td><td>0.097</td><td>0.066</td><td>0.043</td><td>1.85</td></tr>\n",
       "\t<tr><td>BAL</td><td>0.367</td><td>0.633</td><td>0.128</td><td>0.188</td><td>0.016</td><td>1.79</td></tr>\n",
       "\t<tr><td>DEN</td><td>0.414</td><td>0.586</td><td>0.108</td><td>0.040</td><td>0.028</td><td>1.76</td></tr>\n",
       "\t<tr><td>CLE</td><td>0.425</td><td>0.575</td><td>0.127</td><td>0.037</td><td>0.052</td><td>1.71</td></tr>\n",
       "\t<tr><td>NO </td><td>0.441</td><td>0.559</td><td>0.123</td><td>0.033</td><td>0.041</td><td>1.68</td></tr>\n",
       "\t<tr><td>PIT</td><td>0.355</td><td>0.645</td><td>0.100</td><td>0.064</td><td>0.049</td><td>1.67</td></tr>\n",
       "\t<tr><td>DET</td><td>0.391</td><td>0.609</td><td>0.109</td><td>0.063</td><td>0.058</td><td>1.60</td></tr>\n",
       "\t<tr><td>WAS</td><td>0.403</td><td>0.597</td><td>0.137</td><td>0.153</td><td>0.051</td><td>1.57</td></tr>\n",
       "\t<tr><td>NYJ</td><td>0.344</td><td>0.656</td><td>0.119</td><td>0.064</td><td>0.049</td><td>1.53</td></tr>\n",
       "\t<tr><td>CHI</td><td>0.382</td><td>0.618</td><td>0.105</td><td>0.065</td><td>0.037</td><td>1.52</td></tr>\n",
       "\t<tr><td>ATL</td><td>0.368</td><td>0.632</td><td>0.146</td><td>0.049</td><td>0.042</td><td>1.45</td></tr>\n",
       "\t<tr><td>MIA</td><td>0.366</td><td>0.634</td><td>0.149</td><td>0.182</td><td>0.037</td><td>1.45</td></tr>\n",
       "\t<tr><td>HOU</td><td>0.391</td><td>0.609</td><td>0.110</td><td>0.058</td><td>0.059</td><td>1.34</td></tr>\n",
       "\t<tr><td>CAR</td><td>0.378</td><td>0.622</td><td>0.115</td><td>0.090</td><td>0.056</td><td>1.32</td></tr>\n",
       "\t<tr><td>JAX</td><td>0.346</td><td>0.654</td><td>0.138</td><td>0.114</td><td>0.047</td><td>1.24</td></tr>\n",
       "\t<tr><td>NYG</td><td>0.364</td><td>0.636</td><td>0.144</td><td>0.104</td><td>0.054</td><td>1.17</td></tr>\n",
       "</tbody>\n",
       "</table>\n"
      ],
      "text/latex": [
       "A data.frame: 32 × 7\n",
       "\\begin{tabular}{lllllll}\n",
       " posteam & run\\_share & pass\\_share & pa\\_share & rpo\\_share & screen\\_share & pts\\_per\\_drive\\\\\n",
       " <chr> & <dbl> & <dbl> & <dbl> & <dbl> & <dbl> & <dbl>\\\\\n",
       "\\hline\n",
       "\t KC  & 0.326 & 0.674 & 0.140 & 0.177 & 0.058 & 2.53\\\\\n",
       "\t TB  & 0.319 & 0.681 & 0.106 & 0.023 & 0.080 & 2.40\\\\\n",
       "\t BUF & 0.348 & 0.652 & 0.177 & 0.175 & 0.049 & 2.39\\\\\n",
       "\t LAC & 0.334 & 0.666 & 0.163 & 0.076 & 0.039 & 2.38\\\\\n",
       "\t GB  & 0.385 & 0.615 & 0.123 & 0.111 & 0.060 & 2.34\\\\\n",
       "\t ARI & 0.401 & 0.599 & 0.150 & 0.233 & 0.076 & 2.25\\\\\n",
       "\t LA  & 0.377 & 0.623 & 0.126 & 0.053 & 0.062 & 2.24\\\\\n",
       "\t IND & 0.442 & 0.558 & 0.153 & 0.118 & 0.042 & 2.22\\\\\n",
       "\t DAL & 0.382 & 0.618 & 0.119 & 0.086 & 0.052 & 2.17\\\\\n",
       "\t NE  & 0.441 & 0.559 & 0.112 & 0.050 & 0.046 & 2.17\\\\\n",
       "\t PHI & 0.456 & 0.544 & 0.146 & 0.281 & 0.068 & 2.16\\\\\n",
       "\t SF  & 0.454 & 0.546 & 0.126 & 0.088 & 0.046 & 2.15\\\\\n",
       "\t CIN & 0.392 & 0.608 & 0.093 & 0.035 & 0.045 & 2.14\\\\\n",
       "\t TEN & 0.463 & 0.537 & 0.135 & 0.046 & 0.048 & 2.11\\\\\n",
       "\t MIN & 0.398 & 0.602 & 0.118 & 0.027 & 0.060 & 1.93\\\\\n",
       "\t SEA & 0.399 & 0.601 & 0.149 & 0.099 & 0.055 & 1.91\\\\\n",
       "\t LV  & 0.361 & 0.639 & 0.097 & 0.066 & 0.043 & 1.85\\\\\n",
       "\t BAL & 0.367 & 0.633 & 0.128 & 0.188 & 0.016 & 1.79\\\\\n",
       "\t DEN & 0.414 & 0.586 & 0.108 & 0.040 & 0.028 & 1.76\\\\\n",
       "\t CLE & 0.425 & 0.575 & 0.127 & 0.037 & 0.052 & 1.71\\\\\n",
       "\t NO  & 0.441 & 0.559 & 0.123 & 0.033 & 0.041 & 1.68\\\\\n",
       "\t PIT & 0.355 & 0.645 & 0.100 & 0.064 & 0.049 & 1.67\\\\\n",
       "\t DET & 0.391 & 0.609 & 0.109 & 0.063 & 0.058 & 1.60\\\\\n",
       "\t WAS & 0.403 & 0.597 & 0.137 & 0.153 & 0.051 & 1.57\\\\\n",
       "\t NYJ & 0.344 & 0.656 & 0.119 & 0.064 & 0.049 & 1.53\\\\\n",
       "\t CHI & 0.382 & 0.618 & 0.105 & 0.065 & 0.037 & 1.52\\\\\n",
       "\t ATL & 0.368 & 0.632 & 0.146 & 0.049 & 0.042 & 1.45\\\\\n",
       "\t MIA & 0.366 & 0.634 & 0.149 & 0.182 & 0.037 & 1.45\\\\\n",
       "\t HOU & 0.391 & 0.609 & 0.110 & 0.058 & 0.059 & 1.34\\\\\n",
       "\t CAR & 0.378 & 0.622 & 0.115 & 0.090 & 0.056 & 1.32\\\\\n",
       "\t JAX & 0.346 & 0.654 & 0.138 & 0.114 & 0.047 & 1.24\\\\\n",
       "\t NYG & 0.364 & 0.636 & 0.144 & 0.104 & 0.054 & 1.17\\\\\n",
       "\\end{tabular}\n"
      ],
      "text/markdown": [
       "\n",
       "A data.frame: 32 × 7\n",
       "\n",
       "| posteam &lt;chr&gt; | run_share &lt;dbl&gt; | pass_share &lt;dbl&gt; | pa_share &lt;dbl&gt; | rpo_share &lt;dbl&gt; | screen_share &lt;dbl&gt; | pts_per_drive &lt;dbl&gt; |\n",
       "|---|---|---|---|---|---|---|\n",
       "| KC  | 0.326 | 0.674 | 0.140 | 0.177 | 0.058 | 2.53 |\n",
       "| TB  | 0.319 | 0.681 | 0.106 | 0.023 | 0.080 | 2.40 |\n",
       "| BUF | 0.348 | 0.652 | 0.177 | 0.175 | 0.049 | 2.39 |\n",
       "| LAC | 0.334 | 0.666 | 0.163 | 0.076 | 0.039 | 2.38 |\n",
       "| GB  | 0.385 | 0.615 | 0.123 | 0.111 | 0.060 | 2.34 |\n",
       "| ARI | 0.401 | 0.599 | 0.150 | 0.233 | 0.076 | 2.25 |\n",
       "| LA  | 0.377 | 0.623 | 0.126 | 0.053 | 0.062 | 2.24 |\n",
       "| IND | 0.442 | 0.558 | 0.153 | 0.118 | 0.042 | 2.22 |\n",
       "| DAL | 0.382 | 0.618 | 0.119 | 0.086 | 0.052 | 2.17 |\n",
       "| NE  | 0.441 | 0.559 | 0.112 | 0.050 | 0.046 | 2.17 |\n",
       "| PHI | 0.456 | 0.544 | 0.146 | 0.281 | 0.068 | 2.16 |\n",
       "| SF  | 0.454 | 0.546 | 0.126 | 0.088 | 0.046 | 2.15 |\n",
       "| CIN | 0.392 | 0.608 | 0.093 | 0.035 | 0.045 | 2.14 |\n",
       "| TEN | 0.463 | 0.537 | 0.135 | 0.046 | 0.048 | 2.11 |\n",
       "| MIN | 0.398 | 0.602 | 0.118 | 0.027 | 0.060 | 1.93 |\n",
       "| SEA | 0.399 | 0.601 | 0.149 | 0.099 | 0.055 | 1.91 |\n",
       "| LV  | 0.361 | 0.639 | 0.097 | 0.066 | 0.043 | 1.85 |\n",
       "| BAL | 0.367 | 0.633 | 0.128 | 0.188 | 0.016 | 1.79 |\n",
       "| DEN | 0.414 | 0.586 | 0.108 | 0.040 | 0.028 | 1.76 |\n",
       "| CLE | 0.425 | 0.575 | 0.127 | 0.037 | 0.052 | 1.71 |\n",
       "| NO  | 0.441 | 0.559 | 0.123 | 0.033 | 0.041 | 1.68 |\n",
       "| PIT | 0.355 | 0.645 | 0.100 | 0.064 | 0.049 | 1.67 |\n",
       "| DET | 0.391 | 0.609 | 0.109 | 0.063 | 0.058 | 1.60 |\n",
       "| WAS | 0.403 | 0.597 | 0.137 | 0.153 | 0.051 | 1.57 |\n",
       "| NYJ | 0.344 | 0.656 | 0.119 | 0.064 | 0.049 | 1.53 |\n",
       "| CHI | 0.382 | 0.618 | 0.105 | 0.065 | 0.037 | 1.52 |\n",
       "| ATL | 0.368 | 0.632 | 0.146 | 0.049 | 0.042 | 1.45 |\n",
       "| MIA | 0.366 | 0.634 | 0.149 | 0.182 | 0.037 | 1.45 |\n",
       "| HOU | 0.391 | 0.609 | 0.110 | 0.058 | 0.059 | 1.34 |\n",
       "| CAR | 0.378 | 0.622 | 0.115 | 0.090 | 0.056 | 1.32 |\n",
       "| JAX | 0.346 | 0.654 | 0.138 | 0.114 | 0.047 | 1.24 |\n",
       "| NYG | 0.364 | 0.636 | 0.144 | 0.104 | 0.054 | 1.17 |\n",
       "\n"
      ],
      "text/plain": [
       "   posteam run_share pass_share pa_share rpo_share screen_share pts_per_drive\n",
       "1  KC      0.326     0.674      0.140    0.177     0.058        2.53         \n",
       "2  TB      0.319     0.681      0.106    0.023     0.080        2.40         \n",
       "3  BUF     0.348     0.652      0.177    0.175     0.049        2.39         \n",
       "4  LAC     0.334     0.666      0.163    0.076     0.039        2.38         \n",
       "5  GB      0.385     0.615      0.123    0.111     0.060        2.34         \n",
       "6  ARI     0.401     0.599      0.150    0.233     0.076        2.25         \n",
       "7  LA      0.377     0.623      0.126    0.053     0.062        2.24         \n",
       "8  IND     0.442     0.558      0.153    0.118     0.042        2.22         \n",
       "9  DAL     0.382     0.618      0.119    0.086     0.052        2.17         \n",
       "10 NE      0.441     0.559      0.112    0.050     0.046        2.17         \n",
       "11 PHI     0.456     0.544      0.146    0.281     0.068        2.16         \n",
       "12 SF      0.454     0.546      0.126    0.088     0.046        2.15         \n",
       "13 CIN     0.392     0.608      0.093    0.035     0.045        2.14         \n",
       "14 TEN     0.463     0.537      0.135    0.046     0.048        2.11         \n",
       "15 MIN     0.398     0.602      0.118    0.027     0.060        1.93         \n",
       "16 SEA     0.399     0.601      0.149    0.099     0.055        1.91         \n",
       "17 LV      0.361     0.639      0.097    0.066     0.043        1.85         \n",
       "18 BAL     0.367     0.633      0.128    0.188     0.016        1.79         \n",
       "19 DEN     0.414     0.586      0.108    0.040     0.028        1.76         \n",
       "20 CLE     0.425     0.575      0.127    0.037     0.052        1.71         \n",
       "21 NO      0.441     0.559      0.123    0.033     0.041        1.68         \n",
       "22 PIT     0.355     0.645      0.100    0.064     0.049        1.67         \n",
       "23 DET     0.391     0.609      0.109    0.063     0.058        1.60         \n",
       "24 WAS     0.403     0.597      0.137    0.153     0.051        1.57         \n",
       "25 NYJ     0.344     0.656      0.119    0.064     0.049        1.53         \n",
       "26 CHI     0.382     0.618      0.105    0.065     0.037        1.52         \n",
       "27 ATL     0.368     0.632      0.146    0.049     0.042        1.45         \n",
       "28 MIA     0.366     0.634      0.149    0.182     0.037        1.45         \n",
       "29 HOU     0.391     0.609      0.110    0.058     0.059        1.34         \n",
       "30 CAR     0.378     0.622      0.115    0.090     0.056        1.32         \n",
       "31 JAX     0.346     0.654      0.138    0.114     0.047        1.24         \n",
       "32 NYG     0.364     0.636      0.144    0.104     0.054        1.17         "
      ]
     },
     "metadata": {},
     "output_type": "display_data"
    }
   ],
   "source": [
    "team_off <- merge(team_playcalls, ppd, by.x = \"posteam\", by.y = \"team\") %>%\n",
    "  arrange(-pts_per_drive)\n",
    "team_off"
   ]
  },
  {
   "cell_type": "markdown",
   "id": "837193a1",
   "metadata": {},
   "source": [
    "## Create Boxplot Table."
   ]
  },
  {
   "cell_type": "code",
   "execution_count": 150,
   "id": "ffb894e4",
   "metadata": {},
   "outputs": [
    {
     "data": {
      "text/html": [
       "<style>\n",
       ".list-inline {list-style: none; margin:0; padding: 0}\n",
       ".list-inline>li {display: inline-block}\n",
       ".list-inline>li:not(:last-child)::after {content: \"\\00b7\"; padding: 0 .5ex}\n",
       "</style>\n",
       "<ol class=list-inline><li>0.233</li><li>0.281</li><li>0.016</li></ol>\n"
      ],
      "text/latex": [
       "\\begin{enumerate*}\n",
       "\\item 0.233\n",
       "\\item 0.281\n",
       "\\item 0.016\n",
       "\\end{enumerate*}\n"
      ],
      "text/markdown": [
       "1. 0.233\n",
       "2. 0.281\n",
       "3. 0.016\n",
       "\n",
       "\n"
      ],
      "text/plain": [
       "[1] 0.233 0.281 0.016"
      ]
     },
     "metadata": {},
     "output_type": "display_data"
    },
    {
     "data": {
      "image/png": "[encoded data removed]",
      "text/plain": [
       "plot without title"
      ]
     },
     "metadata": {
      "image/png": {
       "height": 420,
       "width": 420
      }
     },
     "output_type": "display_data"
    }
   ],
   "source": [
    "boxplot(team_off[,3:6])$out"
   ]
  },
  {
   "cell_type": "markdown",
   "id": "b54119e1",
   "metadata": {},
   "source": [
    "## EXTRA: Create Dataset and Perform Regression Analysis."
   ]
  },
  {
   "cell_type": "code",
   "execution_count": 151,
   "id": "637f0363",
   "metadata": {},
   "outputs": [],
   "source": [
    "df <- pbp_raw %>%\n",
    "  filter(wp > .20, wp < .80, down < 4, half_seconds_remaining > 120, week > 1) %>%\n",
    "  filter(PLAY_ACTION == 1)"
   ]
  },
  {
   "cell_type": "code",
   "execution_count": 153,
   "id": "0316c45c",
   "metadata": {},
   "outputs": [
    {
     "data": {
      "text/plain": [
       "\n",
       "Call:\n",
       "lm(formula = pts_per_drive ~ pass_share + pa_share + rpo_share + \n",
       "    screen_share, data = team_off)\n",
       "\n",
       "Residuals:\n",
       "     Min       1Q   Median       3Q      Max \n",
       "-0.77900 -0.26725  0.01885  0.29052  0.57988 \n",
       "\n",
       "Coefficients:\n",
       "             Estimate Std. Error t value Pr(>|t|)\n",
       "(Intercept)    1.5284     1.2170   1.256    0.220\n",
       "pass_share    -0.8860     1.8077  -0.490    0.628\n",
       "pa_share       3.4698     4.2822   0.810    0.425\n",
       "rpo_share      0.1958     1.3672   0.143    0.887\n",
       "screen_share   8.5933     5.5836   1.539    0.135\n",
       "\n",
       "Residual standard error: 0.3897 on 27 degrees of freedom\n",
       "Multiple R-squared:  0.1262,\tAdjusted R-squared:  -0.003275 \n",
       "F-statistic: 0.9747 on 4 and 27 DF,  p-value: 0.4376\n"
      ]
     },
     "metadata": {},
     "output_type": "display_data"
    }
   ],
   "source": [
    "playcall_reg <- lm(pts_per_drive ~ pass_share + pa_share + rpo_share + screen_share, data = team_off)\n",
    "summary(playcall_reg)"
   ]
  }
 ],
 "metadata": {
  "kernelspec": {
   "display_name": "R",
   "language": "R",
   "name": "ir"
  },
  "language_info": {
   "codemirror_mode": "r",
   "file_extension": ".r",
   "mimetype": "text/x-r-source",
   "name": "R",
   "pygments_lexer": "r",
   "version": "4.1.2"
  }
 },
 "nbformat": 4,
 "nbformat_minor": 5
}
