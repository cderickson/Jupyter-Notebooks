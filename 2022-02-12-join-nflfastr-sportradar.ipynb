{
 "cells": [
  {
   "cell_type": "markdown",
   "id": "43520de5",
   "metadata": {},
   "source": [
    "## Adding Libraries."
   ]
  },
  {
   "cell_type": "code",
   "execution_count": 2,
   "id": "c8e215aa",
   "metadata": {},
   "outputs": [],
   "source": [
    "library(tidyverse)\n",
    "library(nflfastR)\n",
    "library(ggthemes) # Themes for ggplot2.\n",
    "library(ggimage) # Supports images in ggplot2.\n",
    "library(gt) # Create tables.\n",
    "options(scipen = 9999)"
   ]
  },
  {
   "cell_type": "markdown",
   "id": "9087c8e3",
   "metadata": {},
   "source": [
    "## Import nflfastR Dataset. Filter to Match Sport Radar NFL Dataset."
   ]
  },
  {
   "cell_type": "code",
   "execution_count": 4,
   "id": "61662e6b",
   "metadata": {},
   "outputs": [],
   "source": [
    "ignore <- c(\"enforced between downs.\")\n",
    "\n",
    "pbp_raw <- load_pbp(2021) %>%\n",
    "  filter(season == 2021) %>%\n",
    "  filter(season_type == \"REG\") %>%\n",
    "  filter(play_type != \"no_play\" | str_detect(desc, paste(ignore, collapse = \"|\"))) %>% \n",
    "  filter(!(str_detect(desc, \"enforced between downs.\") & str_detect(desc, \"Kick formation\"))) %>%\n",
    "  filter(!(str_detect(desc, \"enforced between downs.\") & str_detect(desc, \"No Play.\")))\n",
    "\n",
    "pbp_raw$new_play_num <- ave(pbp_raw$play_id ,pbp_raw$game_id,FUN = seq_along)\n",
    "pbp_raw <- pbp_raw %>%\n",
    "  mutate(UNIQUE_PLAY_ID = paste(game_id, new_play_num, sep = \"_\"))"
   ]
  },
  {
   "cell_type": "markdown",
   "id": "8a21a913",
   "metadata": {},
   "source": [
    "## Import Sport Radar PBP Dataset."
   ]
  },
  {
   "cell_type": "code",
   "execution_count": 5,
   "id": "43ed4a77",
   "metadata": {},
   "outputs": [],
   "source": [
    "pbp_sportradar <- read_csv(file = \"C:/Users/chris/Documents/Datasets/Sportradar NFL/CSV/2021-Sportradar-NFL.csv\",\n",
    "                          show_col_types = FALSE)"
   ]
  },
  {
   "cell_type": "markdown",
   "id": "78aea2f5",
   "metadata": {},
   "source": [
    "## Join Datasets."
   ]
  },
  {
   "cell_type": "code",
   "execution_count": 6,
   "id": "26c5a30b",
   "metadata": {},
   "outputs": [],
   "source": [
    "joined_pbp <- inner_join(pbp_raw, pbp_sportradar, by = \"UNIQUE_PLAY_ID\")"
   ]
  },
  {
   "cell_type": "code",
   "execution_count": 11,
   "id": "595bb7d2",
   "metadata": {},
   "outputs": [
    {
     "data": {
      "text/html": [
       "<style>\n",
       ".list-inline {list-style: none; margin:0; padding: 0}\n",
       ".list-inline>li {display: inline-block}\n",
       ".list-inline>li:not(:last-child)::after {content: \"\\00b7\"; padding: 0 .5ex}\n",
       "</style>\n",
       "<ol class=list-inline><li>41742</li><li>374</li></ol>\n"
      ],
      "text/latex": [
       "\\begin{enumerate*}\n",
       "\\item 41742\n",
       "\\item 374\n",
       "\\end{enumerate*}\n"
      ],
      "text/markdown": [
       "1. 41742\n",
       "2. 374\n",
       "\n",
       "\n"
      ],
      "text/plain": [
       "[1] 41742   374"
      ]
     },
     "metadata": {},
     "output_type": "display_data"
    },
    {
     "data": {
      "text/html": [
       "<style>\n",
       ".list-inline {list-style: none; margin:0; padding: 0}\n",
       ".list-inline>li {display: inline-block}\n",
       ".list-inline>li:not(:last-child)::after {content: \"\\00b7\"; padding: 0 .5ex}\n",
       "</style>\n",
       "<ol class=list-inline><li>41742</li><li>38</li></ol>\n"
      ],
      "text/latex": [
       "\\begin{enumerate*}\n",
       "\\item 41742\n",
       "\\item 38\n",
       "\\end{enumerate*}\n"
      ],
      "text/markdown": [
       "1. 41742\n",
       "2. 38\n",
       "\n",
       "\n"
      ],
      "text/plain": [
       "[1] 41742    38"
      ]
     },
     "metadata": {},
     "output_type": "display_data"
    },
    {
     "data": {
      "text/html": [
       "<style>\n",
       ".list-inline {list-style: none; margin:0; padding: 0}\n",
       ".list-inline>li {display: inline-block}\n",
       ".list-inline>li:not(:last-child)::after {content: \"\\00b7\"; padding: 0 .5ex}\n",
       "</style>\n",
       "<ol class=list-inline><li>41742</li><li>411</li></ol>\n"
      ],
      "text/latex": [
       "\\begin{enumerate*}\n",
       "\\item 41742\n",
       "\\item 411\n",
       "\\end{enumerate*}\n"
      ],
      "text/markdown": [
       "1. 41742\n",
       "2. 411\n",
       "\n",
       "\n"
      ],
      "text/plain": [
       "[1] 41742   411"
      ]
     },
     "metadata": {},
     "output_type": "display_data"
    }
   ],
   "source": [
    "dim(pbp_raw)\n",
    "dim(pbp_sportradar)\n",
    "dim(joined_pbp)"
   ]
  }
 ],
 "metadata": {
  "kernelspec": {
   "display_name": "R",
   "language": "R",
   "name": "ir"
  },
  "language_info": {
   "codemirror_mode": "r",
   "file_extension": ".r",
   "mimetype": "text/x-r-source",
   "name": "R",
   "pygments_lexer": "r",
   "version": "4.1.2"
  }
 },
 "nbformat": 4,
 "nbformat_minor": 5
}
