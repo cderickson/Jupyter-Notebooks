{
 "cells": [
  {
   "cell_type": "markdown",
   "id": "5d6e6b45",
   "metadata": {},
   "source": [
    "## Import libraries."
   ]
  },
  {
   "cell_type": "code",
   "execution_count": 40,
   "id": "e3590082",
   "metadata": {},
   "outputs": [],
   "source": [
    "import pandas as pd\n",
    "import json\n",
    "import io\n",
    "pd.set_option('mode.chained_assignment',None)"
   ]
  },
  {
   "cell_type": "markdown",
   "id": "85681a21",
   "metadata": {},
   "source": [
    "## Functions to pull buried data into their own columns."
   ]
  },
  {
   "cell_type": "code",
   "execution_count": 31,
   "id": "c996b735",
   "metadata": {},
   "outputs": [],
   "source": [
    "def get_scryfall_id(row):\n",
    "    return row[\"identifiers\"][\"scryfallId\"]\n",
    "\n",
    "# Art link options: \"small\", \"normal\", \"large\", \"png\", \"art_crop\", border_crop\n",
    "def get_art_link(row):\n",
    "    return row[\"image_uris\"][\"art_crop\"]"
   ]
  },
  {
   "cell_type": "markdown",
   "id": "23940e3c",
   "metadata": {},
   "source": [
    "## Import JSON files from MTGJSON and Scryfall."
   ]
  },
  {
   "cell_type": "code",
   "execution_count": 4,
   "id": "ee58240e",
   "metadata": {},
   "outputs": [],
   "source": [
    "with open(\"C:\\\\Users\\\\chris\\\\Desktop\\\\LEA.json\", \"r\", encoding=\"utf8\") as file:\n",
    "    lea = json.load(file)\n",
    "\n",
    "with open(\"C:\\\\Users\\\\chris\\\\Desktop\\\\artwork.json\", \"r\", encoding=\"utf8\") as file:\n",
    "    art = json.load(file)"
   ]
  },
  {
   "cell_type": "markdown",
   "id": "b0308609",
   "metadata": {},
   "source": [
    "## Build dataframes from JSON."
   ]
  },
  {
   "cell_type": "code",
   "execution_count": 5,
   "id": "548a98e1",
   "metadata": {},
   "outputs": [],
   "source": [
    "lea_df = pd.DataFrame.from_dict(lea[\"data\"][\"cards\"])\n",
    "art_df = pd.DataFrame.from_dict(art)"
   ]
  },
  {
   "cell_type": "markdown",
   "id": "a94a0303",
   "metadata": {},
   "source": [
    "## Filter dataframes by set code."
   ]
  },
  {
   "cell_type": "code",
   "execution_count": 41,
   "id": "4871aa8a",
   "metadata": {},
   "outputs": [],
   "source": [
    "alpha_df_lea = lea_df[(lea_df.setCode == \"LEA\")]\n",
    "alpha_df_art = art_df[(art_df.set == \"lea\")]"
   ]
  },
  {
   "cell_type": "markdown",
   "id": "f91c814a",
   "metadata": {},
   "source": [
    "## Add Scryfall ID and Cropped Art Link columns to dataframes."
   ]
  },
  {
   "cell_type": "code",
   "execution_count": 42,
   "id": "2e5edf26",
   "metadata": {},
   "outputs": [],
   "source": [
    "alpha_df_lea[\"scryfallid\"] = alpha_df_lea.apply(lambda row: get_scryfall_id(row), axis=1)\n",
    "alpha_df_art[\"artlink\"] = alpha_df_art.apply(lambda row: get_art_link(row), axis=1)"
   ]
  },
  {
   "cell_type": "markdown",
   "id": "8cc9e2b2",
   "metadata": {},
   "source": [
    "## Merge dataframes by Scryfall ID."
   ]
  },
  {
   "cell_type": "code",
   "execution_count": 44,
   "id": "61b367df",
   "metadata": {},
   "outputs": [],
   "source": [
    "merged_df = pd.merge(left=alpha_df_lea, right=alpha_df_art, how=\"inner\", left_on=\"scryfallid\", right_on=\"id\")"
   ]
  },
  {
   "cell_type": "markdown",
   "id": "6c6ce54d",
   "metadata": {},
   "source": [
    "## Save and export dataframe to CSV."
   ]
  },
  {
   "cell_type": "code",
   "execution_count": 46,
   "id": "8f4b90ac",
   "metadata": {},
   "outputs": [],
   "source": [
    "merged_df.to_csv(\"C:\\\\Users\\\\chris\\\\Desktop\\\\lea_card_data.csv\", index=False)"
   ]
  }
 ],
 "metadata": {
  "kernelspec": {
   "display_name": "Python 3 (ipykernel)",
   "language": "python",
   "name": "python3"
  },
  "language_info": {
   "codemirror_mode": {
    "name": "ipython",
    "version": 3
   },
   "file_extension": ".py",
   "mimetype": "text/x-python",
   "name": "python",
   "nbconvert_exporter": "python",
   "pygments_lexer": "ipython3",
   "version": "3.10.2"
  }
 },
 "nbformat": 4,
 "nbformat_minor": 5
}
