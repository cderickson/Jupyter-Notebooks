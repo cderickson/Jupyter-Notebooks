{
 "cells": [
  {
   "cell_type": "code",
   "execution_count": 2,
   "id": "13fb96bf",
   "metadata": {},
   "outputs": [],
   "source": [
    "import webcolors\n",
    "import pandas as pd\n",
    "pd.options.display.max_columns = 7"
   ]
  },
  {
   "cell_type": "code",
   "execution_count": 20,
   "id": "5cbe38f8",
   "metadata": {},
   "outputs": [],
   "source": [
    "CSS3_NAMES_TO_HEX = pd.DataFrame.from_dict(webcolors.CSS3_NAMES_TO_HEX, orient = \"index\")\n",
    "CSS3_NAMES_TO_HEX.reset_index(inplace=True)\n",
    "CSS3_NAMES_TO_HEX.rename(columns = {\"index\":\"color\", 0:\"hex\"}, inplace=True)"
   ]
  },
  {
   "cell_type": "code",
   "execution_count": 21,
   "id": "d5febdd0",
   "metadata": {},
   "outputs": [],
   "source": [
    "CSS3_NAMES_TO_HEX.to_csv(\"C:\\\\Users\\\\chris\\\\Desktop\\\\CSS3_NAMES_TO_HEX.csv\", index=False)"
   ]
  }
 ],
 "metadata": {
  "kernelspec": {
   "display_name": "Python 3 (ipykernel)",
   "language": "python",
   "name": "python3"
  },
  "language_info": {
   "codemirror_mode": {
    "name": "ipython",
    "version": 3
   },
   "file_extension": ".py",
   "mimetype": "text/x-python",
   "name": "python",
   "nbconvert_exporter": "python",
   "pygments_lexer": "ipython3",
   "version": "3.10.2"
  }
 },
 "nbformat": 4,
 "nbformat_minor": 5
}
