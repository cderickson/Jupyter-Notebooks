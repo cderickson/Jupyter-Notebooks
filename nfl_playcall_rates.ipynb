{
 "cells": [
  {
   "cell_type": "markdown",
   "id": "a06315ff",
   "metadata": {},
   "source": [
    "## Importing Libraries."
   ]
  },
  {
   "cell_type": "code",
   "execution_count": 3,
   "id": "5f42f8d8",
   "metadata": {},
   "outputs": [],
   "source": [
    "library(tidyverse)\n",
    "library(nflfastR)\n",
    "library(ggthemes) # Themes for ggplot2.\n",
    "library(ggimage) # Supports images in ggplot2.\n",
    "library(gt) # Create tables.\n",
    "library(readr) # Read in datasets.\n",
    "options(scipen = 9999)"
   ]
  },
  {
   "cell_type": "markdown",
   "id": "6fc2f7aa",
   "metadata": {},
   "source": [
    "## Importing PBP Data."
   ]
  },
  {
   "cell_type": "code",
   "execution_count": 4,
   "id": "6ae3b205",
   "metadata": {},
   "outputs": [],
   "source": [
    "ignore <- c(\"enforced between downs.\")\n",
    "pbp_raw <- load_pbp(2021) %>%\n",
    "  filter(season == 2021) %>%\n",
    "  filter(season_type == \"REG\") %>%\n",
    "  filter(play_type != \"no_play\" | str_detect(desc, paste(ignore, collapse = \"|\"))) %>% \n",
    "  filter(!(str_detect(desc, \"enforced between downs.\") & str_detect(desc, \"Kick formation\"))) %>%\n",
    "  filter(!(str_detect(desc, \"enforced between downs.\") & str_detect(desc, \"No Play.\")))\n",
    "pbp_raw$new_play_num <- ave(pbp_raw$play_id ,pbp_raw$game_id,FUN = seq_along)\n",
    "pbp_raw <- pbp_raw %>%\n",
    "  mutate(UNIQUE_PLAY_ID = paste(game_id, new_play_num, sep = \"_\"))"
   ]
  },
  {
   "cell_type": "markdown",
   "id": "ff8f41d5",
   "metadata": {},
   "source": [
    "## Importing Sport Radar Data and Joining Dataframes."
   ]
  },
  {
   "cell_type": "code",
   "execution_count": 5,
   "id": "4d3ccd4b",
   "metadata": {},
   "outputs": [],
   "source": [
    "pbp_sportradar <- read_csv(file = \"C:/Users/chris/Documents/Datasets/Sportradar NFL/CSV/2021-Sportradar-NFL.csv\",\n",
    "                           show_col_types = FALSE)\n",
    "pbp_raw <- inner_join(pbp_raw, pbp_sportradar, by = \"UNIQUE_PLAY_ID\")"
   ]
  },
  {
   "cell_type": "markdown",
   "id": "fc90d1a4",
   "metadata": {},
   "source": [
    "## Appending Column for Drive Results. (pts)"
   ]
  },
  {
   "cell_type": "code",
   "execution_count": 6,
   "id": "9fbbfd8e",
   "metadata": {},
   "outputs": [],
   "source": [
    "pbp_raw <- pbp_raw %>%\n",
    "  filter(rush == 1 | pass == 1) %>%\n",
    "  filter(!is.na(epa)) %>%\n",
    "  mutate(gid_team = paste(game_id, posteam, sep = \"-\")) %>%\n",
    "  mutate(yr_team = paste(season, posteam, sep = \"-\")) %>%\n",
    "  mutate(drive_id = paste(game_id, posteam, fixed_drive, sep = \"-\")) %>%\n",
    "  mutate(drive_res = case_when(\n",
    "      fixed_drive_result == \"End of half\" ~ 0,\n",
    "      fixed_drive_result == \"Field goal\" ~ 3,\n",
    "      fixed_drive_result == \"Missed field goal\" ~ 0,\n",
    "      fixed_drive_result == \"Opp touchdown\" ~ -6,\n",
    "      fixed_drive_result == \"Punt\" ~ 0,\n",
    "      fixed_drive_result == \"Safety\" ~ -2,\n",
    "      fixed_drive_result == \"Touchdown\" ~ 6,\n",
    "      fixed_drive_result == \"Turnover\" ~ 0,\n",
    "      fixed_drive_result == \"Turnover on downs\" ~ 0,\n",
    "  ))"
   ]
  },
  {
   "cell_type": "markdown",
   "id": "784c88e4",
   "metadata": {},
   "source": [
    "## Appending Columns for Playcall Type Percentages."
   ]
  },
  {
   "cell_type": "code",
   "execution_count": 7,
   "id": "f152a59e",
   "metadata": {},
   "outputs": [],
   "source": [
    "pbp_raw$rushes_game <- ave(pbp_raw$rush, pbp_raw$gid_team, FUN = cumsum)\n",
    "pbp_raw$passes_game <- ave(pbp_raw$pass, pbp_raw$gid_team, FUN = cumsum)\n",
    "pbp_raw$rushes_season <- ave(pbp_raw$rush, pbp_raw$yr_team, FUN = cumsum)\n",
    "pbp_raw$passes_season <- ave(pbp_raw$pass, pbp_raw$yr_team, FUN = cumsum)\n",
    "pbp_raw$play_action_season <- ave(pbp_raw$PLAY_ACTION, pbp_raw$yr_team, FUN = cumsum)\n",
    "pbp_raw$rpo_season <- ave(pbp_raw$RPO, pbp_raw$yr_team, FUN = cumsum)\n",
    "pbp_raw$screen_season <- ave(pbp_raw$SCREEN_PASS, pbp_raw$yr_team, FUN = cumsum)\n",
    "pbp_raw$season_play_num <- ave(pbp_raw$play_id, pbp_raw$yr_team, FUN = seq_along)\n",
    "\n",
    "pbp_raw <- pbp_raw %>%\n",
    "  mutate(run_share_gm = round(rushes_game/(rushes_game + passes_game), 4)) %>%\n",
    "  mutate(pass_share_gm = round(passes_game/(rushes_game + passes_game), 4)) %>%\n",
    "  mutate(run_share_szn = round(rushes_season/(rushes_season + passes_season), 4)) %>%\n",
    "  mutate(pass_share_szn = round(passes_season/(rushes_season + passes_season), 4)) %>%\n",
    "  mutate(play_action_share_szn = round(play_action_season/(rushes_season + passes_season), 4)) %>%\n",
    "  mutate(rpo_share_szn = round(rpo_season/(rushes_season + passes_season), 4)) %>%\n",
    "  mutate(screen_share_szn = round(screen_season/(rushes_season + passes_season), 4))"
   ]
  },
  {
   "cell_type": "markdown",
   "id": "d5cf8751",
   "metadata": {},
   "source": [
    "## Create Table: Playcall Type Percentages by Team."
   ]
  },
  {
   "cell_type": "code",
   "execution_count": 8,
   "id": "4af3e488",
   "metadata": {},
   "outputs": [],
   "source": [
    "team_playcalls <- pbp_raw %>%\n",
    "  group_by(posteam) %>%\n",
    "  summarize(run_share = round(last(run_share_szn), 3), \n",
    "            pass_share = round(last(pass_share_szn), 3), \n",
    "            pa_share = round(last(play_action_share_szn), 3), \n",
    "            rpo_share = round(last(rpo_share_szn), 3), \n",
    "            screen_share = round(last(screen_share_szn), 3)) %>%\n",
    "  arrange(-screen_share)"
   ]
  },
  {
   "cell_type": "markdown",
   "id": "44d20b9f",
   "metadata": {},
   "source": [
    "## Create Table: Drive Summaries."
   ]
  },
  {
   "cell_type": "code",
   "execution_count": 9,
   "id": "615683ca",
   "metadata": {},
   "outputs": [],
   "source": [
    "drive_summaries <- pbp_raw %>%\n",
    "  group_by(drive_id) %>%\n",
    "  summarize(team = last(posteam), start_yardline = first(yardline_100), end_yardline = last(yardline_100), \n",
    "            res = last(fixed_drive_result), res_pts = last(drive_res)) %>%\n",
    "  filter(res != \"End of half\")"
   ]
  },
  {
   "cell_type": "markdown",
   "id": "77065e30",
   "metadata": {},
   "source": [
    "## Create Vector: Points Per Drive by Team."
   ]
  },
  {
   "cell_type": "code",
   "execution_count": 10,
   "id": "18c57c88",
   "metadata": {},
   "outputs": [],
   "source": [
    "ppd <- drive_summaries %>%\n",
    "  group_by(team) %>%\n",
    "  summarize(pts_per_drive = round(sum(res_pts)/n(), 2)) %>%\n",
    "  arrange(-pts_per_drive)"
   ]
  },
  {
   "cell_type": "markdown",
   "id": "201c791e",
   "metadata": {},
   "source": [
    "## Merge Playcall Type Table and Points Per Drive Vector."
   ]
  },
  {
   "cell_type": "code",
   "execution_count": 86,
   "id": "acd4a121",
   "metadata": {},
   "outputs": [],
   "source": [
    "team_off <- merge(team_playcalls, ppd, by.x = \"posteam\", by.y = \"team\")"
   ]
  },
  {
   "cell_type": "markdown",
   "id": "aeb2f870",
   "metadata": {},
   "source": [
    "## Add Team Logo Image Column."
   ]
  },
  {
   "cell_type": "code",
   "execution_count": 87,
   "id": "1507331d",
   "metadata": {},
   "outputs": [],
   "source": [
    "team_off <- merge(team_off, teams_colors_logos[,c(\"team_abbr\", \"team_wordmark\")], by.x = \"posteam\", by.y = \"team_abbr\")\n",
    "team_off <- team_off[,c(8, 7, 3, 4, 5, 6)] %>%\n",
    "  arrange(-pts_per_drive)"
   ]
  },
  {
   "cell_type": "markdown",
   "id": "cb375ef0",
   "metadata": {},
   "source": [
    "## Create Table: NFL Playcall Rates."
   ]
  },
  {
   "cell_type": "code",
   "execution_count": 88,
   "id": "8a46789b",
   "metadata": {},
   "outputs": [],
   "source": [
    "team_off_gt <- team_off %>%\n",
    "  gt() %>%\n",
    "  cols_label(team_wordmark = \"\",\n",
    "             pts_per_drive = \"Points/Drive\",\n",
    "             pass_share = \"Pass Rate\",\n",
    "             pa_share = \"Play Action Rate\",\n",
    "             rpo_share = \"RPO Rate\",\n",
    "             screen_share = \"Screen Rate\") %>%\n",
    "  cols_align(align = \"center\",\n",
    "             columns = c(pts_per_drive, pass_share, pa_share, rpo_share, screen_share)) %>%\n",
    "  gtExtras::gt_img_rows(team_wordmark) %>%\n",
    "  gtExtras::gt_theme_espn() %>%\n",
    "  tab_header(title = \"Playcall Rates by Team, 2021\") %>%\n",
    "  tab_options(heading.title.font.size = 30,\n",
    "              heading.border.bottom.color = \"#808080\") %>%\n",
    "  tab_style(style = cell_borders(sides = \"right\",\n",
    "                                 color = \"#808080\",\n",
    "                                 weight = px(5)),\n",
    "            locations = cells_body(columns = c(team_wordmark, pts_per_drive),\n",
    "                                   rows = everything())) %>%\n",
    "  tab_style(style = cell_borders(sides = \"bottom\",\n",
    "                                 color = \"#808080\",\n",
    "                                 weight = px(2)),\n",
    "            locations = cells_body(columns = everything(),\n",
    "                                   rows = c(32))) %>%\n",
    "  tab_style(style = cell_borders(sides = \"top\",\n",
    "                                 color = \"#808080\",\n",
    "                                 weight = px(2)),\n",
    "            locations = cells_body(columns = everything(),\n",
    "                                   rows = 1)) %>%\n",
    "  data_color(columns = pts_per_drive,\n",
    "             colors = scales::col_numeric(palette = c(\"#FEFE69\", \"#DDF969\", \"#A9F36A\", \"#78EC6C\", \"#57E86B\"),\n",
    "                                          domain = c(1, 3))) %>%\n",
    "  data_color(columns = pass_share,\n",
    "             colors = scales::col_numeric(palette = c(\"#FEFE69\", \"#DDF969\", \"#A9F36A\", \"#78EC6C\", \"#57E86B\"),\n",
    "                                          domain = c(0.5, 0.7))) %>%\n",
    "  data_color(columns = pa_share,\n",
    "             colors = scales::col_numeric(palette = c(\"#FEFE69\", \"#DDF969\", \"#A9F36A\", \"#78EC6C\", \"#57E86B\"),\n",
    "                                          domain = c(.05, 0.2))) %>%\n",
    "  data_color(columns = rpo_share,\n",
    "             colors = scales::col_numeric(palette = c(\"#FEFE69\", \"#DDF969\", \"#A9F36A\", \"#78EC6C\", \"#57E86B\"),\n",
    "                                          domain = c(0.0, 0.3))) %>%\n",
    "  data_color(columns = screen_share,\n",
    "             colors = scales::col_numeric(palette = c(\"#FEFE69\", \"#DDF969\", \"#A9F36A\", \"#78EC6C\", \"#57E86B\"),\n",
    "                                          domain = c(0.0, 0.1)))"
   ]
  },
  {
   "cell_type": "code",
   "execution_count": 94,
   "id": "d4ddbf08",
   "metadata": {},
   "outputs": [],
   "source": [
    "gtsave(team_off_gt, \"nfl_playcall_rates.png\")"
   ]
  },
  {
   "cell_type": "markdown",
   "id": "837193a1",
   "metadata": {},
   "source": [
    "## Create Boxplot Table."
   ]
  },
  {
   "cell_type": "code",
   "execution_count": 91,
   "id": "ffb894e4",
   "metadata": {},
   "outputs": [
    {
     "data": {
      "text/html": [
       "<style>\n",
       ".list-inline {list-style: none; margin:0; padding: 0}\n",
       ".list-inline>li {display: inline-block}\n",
       ".list-inline>li:not(:last-child)::after {content: \"\\00b7\"; padding: 0 .5ex}\n",
       "</style>\n",
       "<ol class=list-inline><li>0.233</li><li>0.281</li><li>0.016</li></ol>\n"
      ],
      "text/latex": [
       "\\begin{enumerate*}\n",
       "\\item 0.233\n",
       "\\item 0.281\n",
       "\\item 0.016\n",
       "\\end{enumerate*}\n"
      ],
      "text/markdown": [
       "1. 0.233\n",
       "2. 0.281\n",
       "3. 0.016\n",
       "\n",
       "\n"
      ],
      "text/plain": [
       "[1] 0.233 0.281 0.016"
      ]
     },
     "metadata": {},
     "output_type": "display_data"
    },
    {
     "data": {
      "image/png": "[encoded data removed]",
      "text/plain": [
       "plot without title"
      ]
     },
     "metadata": {
      "image/png": {
       "height": 420,
       "width": 420
      }
     },
     "output_type": "display_data"
    }
   ],
   "source": [
    "boxplot(team_off[,3:6])$out"
   ]
  },
  {
   "cell_type": "markdown",
   "id": "b54119e1",
   "metadata": {},
   "source": [
    "## EXTRA: Create Dataset and Perform Regression Analysis."
   ]
  },
  {
   "cell_type": "code",
   "execution_count": 92,
   "id": "637f0363",
   "metadata": {},
   "outputs": [],
   "source": [
    "df <- pbp_raw %>%\n",
    "  filter(wp > .20, wp < .80, down < 4, half_seconds_remaining > 120, week > 1) %>%\n",
    "  filter(PLAY_ACTION == 1)"
   ]
  },
  {
   "cell_type": "code",
   "execution_count": 93,
   "id": "0316c45c",
   "metadata": {},
   "outputs": [
    {
     "data": {
      "text/plain": [
       "\n",
       "Call:\n",
       "lm(formula = pts_per_drive ~ pass_share + pa_share + rpo_share + \n",
       "    screen_share, data = team_off)\n",
       "\n",
       "Residuals:\n",
       "     Min       1Q   Median       3Q      Max \n",
       "-0.77900 -0.26725  0.01885  0.29052  0.57988 \n",
       "\n",
       "Coefficients:\n",
       "             Estimate Std. Error t value Pr(>|t|)\n",
       "(Intercept)    1.5284     1.2170   1.256    0.220\n",
       "pass_share    -0.8860     1.8077  -0.490    0.628\n",
       "pa_share       3.4698     4.2822   0.810    0.425\n",
       "rpo_share      0.1958     1.3672   0.143    0.887\n",
       "screen_share   8.5933     5.5836   1.539    0.135\n",
       "\n",
       "Residual standard error: 0.3897 on 27 degrees of freedom\n",
       "Multiple R-squared:  0.1262,\tAdjusted R-squared:  -0.003275 \n",
       "F-statistic: 0.9747 on 4 and 27 DF,  p-value: 0.4376\n"
      ]
     },
     "metadata": {},
     "output_type": "display_data"
    }
   ],
   "source": [
    "playcall_reg <- lm(pts_per_drive ~ pass_share + pa_share + rpo_share + screen_share, data = team_off)\n",
    "summary(playcall_reg)"
   ]
  }
 ],
 "metadata": {
  "kernelspec": {
   "display_name": "R",
   "language": "R",
   "name": "ir"
  },
  "language_info": {
   "codemirror_mode": "r",
   "file_extension": ".r",
   "mimetype": "text/x-r-source",
   "name": "R",
   "pygments_lexer": "r",
   "version": "4.1.2"
  }
 },
 "nbformat": 4,
 "nbformat_minor": 5
}
