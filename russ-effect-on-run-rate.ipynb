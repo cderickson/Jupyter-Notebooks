{
 "cells": [
  {
   "cell_type": "markdown",
   "id": "842037c4",
   "metadata": {},
   "source": [
    "## Adding Libraries, Importing Datasets."
   ]
  },
  {
   "cell_type": "code",
   "execution_count": 2,
   "id": "e0e06cb1",
   "metadata": {},
   "outputs": [],
   "source": [
    "library(tidyverse)\n",
    "library(nflfastR)\n",
    "library(ggthemes) # Themes for ggplot2.\n",
    "library(ggimage) # Supports images in ggplot2.\n",
    "library(gt) # Create tables.\n",
    "library(readr) # Read in datasets.\n",
    "options(scipen = 9999)"
   ]
  },
  {
   "cell_type": "code",
   "execution_count": 3,
   "id": "43589028",
   "metadata": {},
   "outputs": [],
   "source": [
    "# Custom plot settings.\n",
    "theme_reach <- function() {\n",
    "  theme_fivethirtyeight() +\n",
    "    theme(\n",
    "      legend.position = \"none\",\n",
    "      plot.title = element_text(size = 22, hjust = 0.5, face = \"bold\"),\n",
    "      plot.subtitle = element_text(size = 18, hjust = 0.5),\n",
    "      plot.caption = element_text(size = 16),\n",
    "      axis.title.x = element_text(size=18, margin = margin(t = 20)),\n",
    "      axis.title.y = element_text(size=18, margin = margin(r = 20)),\n",
    "      axis.text = element_text(size = 14),\n",
    "      strip.text = element_text(size = 16, face = \"bold\"),\n",
    "      legend.text = element_text(size = 14)\n",
    "    )\n",
    "}"
   ]
  },
  {
   "cell_type": "code",
   "execution_count": 8,
   "id": "0a8f80c0",
   "metadata": {},
   "outputs": [],
   "source": [
    "ignore <- c(\"enforced between downs.\")\n",
    "pbp_raw <- load_pbp(2021) %>%\n",
    "  filter(season == 2021) %>%\n",
    "  filter(season_type == \"REG\") %>%\n",
    "  filter(play_type != \"no_play\" | str_detect(desc, paste(ignore, collapse = \"|\"))) %>% \n",
    "  filter(!(str_detect(desc, \"enforced between downs.\") & str_detect(desc, \"Kick formation\"))) %>%\n",
    "  filter(!(str_detect(desc, \"enforced between downs.\") & str_detect(desc, \"No Play.\")))\n",
    "pbp_raw$new_play_num <- ave(pbp_raw$play_id ,pbp_raw$game_id,FUN = seq_along)\n",
    "pbp_raw <- pbp_raw %>%\n",
    "  mutate(UNIQUE_PLAY_ID = paste(game_id, new_play_num, sep = \"_\"))\n",
    "\n",
    "pbp_sportradar <- read_csv(file = \"C:/Users/chris/Documents/Datasets/Sportradar NFL/CSV/2021-Sportradar-NFL.csv\",\n",
    "                          show_col_types = FALSE)"
   ]
  },
  {
   "cell_type": "markdown",
   "id": "ea92a1a6",
   "metadata": {},
   "source": [
    "## Joining Datasets."
   ]
  },
  {
   "cell_type": "code",
   "execution_count": 9,
   "id": "2654376d",
   "metadata": {},
   "outputs": [],
   "source": [
    "joined_pbp <- inner_join(pbp_raw, pbp_sportradar, by = \"UNIQUE_PLAY_ID\")"
   ]
  },
  {
   "cell_type": "markdown",
   "id": "a29de557",
   "metadata": {},
   "source": [
    "## Adding Columns for Cumulative Rushes/Passes, Run/Pass Share."
   ]
  },
  {
   "cell_type": "code",
   "execution_count": 10,
   "id": "7f592bc0",
   "metadata": {},
   "outputs": [],
   "source": [
    "joined_pbp <- joined_pbp %>%\n",
    "  filter(rush == 1 | pass == 1) %>%\n",
    "  filter(!is.na(epa)) %>%\n",
    "  mutate(gid_team = paste(game_id, posteam, sep = \"-\")) %>%\n",
    "  mutate(yr_team = paste(season, posteam, sep = \"-\"))\n",
    "\n",
    "joined_pbp$rushes_game <- ave(joined_pbp$rush, joined_pbp$gid_team, FUN = cumsum)\n",
    "joined_pbp$passes_game <- ave(joined_pbp$pass, joined_pbp$gid_team, FUN = cumsum)\n",
    "joined_pbp$rushes_season <- ave(joined_pbp$rush, joined_pbp$yr_team, FUN = cumsum)\n",
    "joined_pbp$passes_season <- ave(joined_pbp$pass, joined_pbp$yr_team, FUN = cumsum)\n",
    "joined_pbp$season_play_num <- ave(joined_pbp$play_id, joined_pbp$yr_team, FUN = seq_along)\n",
    "\n",
    "joined_pbp <- joined_pbp %>%\n",
    "  mutate(run_share_gm = round(rushes_game/(rushes_game + passes_game), 4)) %>%\n",
    "  mutate(pass_share_gm = round(passes_game/(rushes_game + passes_game), 4)) %>%\n",
    "  mutate(run_share_szn = round(rushes_season/(rushes_season + passes_season), 4)) %>%\n",
    "  mutate(pass_share_szn = round(passes_season/(rushes_season + passes_season), 4))"
   ]
  },
  {
   "cell_type": "markdown",
   "id": "7e4330e3",
   "metadata": {},
   "source": [
    "## Creating Subsets."
   ]
  },
  {
   "cell_type": "code",
   "execution_count": 11,
   "id": "7e6ad396",
   "metadata": {},
   "outputs": [],
   "source": [
    "sea_pbp <- joined_pbp %>%\n",
    "  filter(posteam == \"SEA\") %>%\n",
    "  filter(week > 4)\n",
    "\n",
    "nfl_pbp <- joined_pbp %>%\n",
    "  filter(posteam != \"SEA\")\n",
    "\n",
    "russ_pbp_pre <- sea_pbp %>%\n",
    "  filter(season_play_num < 246)\n",
    "geno_pbp <- sea_pbp %>%\n",
    "  filter(season_play_num >= 246) %>%\n",
    "  filter(season_play_num < 438)\n",
    "russ_pbp_post <- sea_pbp %>%\n",
    "  filter(season_play_num >= 438)"
   ]
  },
  {
   "cell_type": "markdown",
   "id": "6000edb5",
   "metadata": {},
   "source": [
    "## Create and Save 'Russ Effect on Run Rate' Scatterplot."
   ]
  },
  {
   "cell_type": "code",
   "execution_count": 12,
   "id": "22436207",
   "metadata": {},
   "outputs": [
    {
     "data": {
      "image/png": "[encoded data removed]",
      "text/plain": [
       "plot without title"
      ]
     },
     "metadata": {
      "image/png": {
       "height": 420,
       "width": 420
      }
     },
     "output_type": "display_data"
    }
   ],
   "source": [
    "ggplot() +\n",
    "  geom_line(data = russ_pbp_pre,\n",
    "            aes(x = season_play_num, y = run_share_szn),\n",
    "            size = 2) +\n",
    "  geom_line(data = geno_pbp,\n",
    "            aes(x = season_play_num, y = run_share_szn),\n",
    "            size = 0.25) +\n",
    "  geom_line(data = russ_pbp_post,\n",
    "            aes(x = season_play_num, y = run_share_szn),\n",
    "            size = 2) +\n",
    "  geom_hline(yintercept = sum(nfl_pbp$rush)/nrow(nfl_pbp), linetype = \"dashed\") +\n",
    "  geom_segment(aes(x = 246, xend = 246, y = 0.36, yend = 0.3984), linetype = \"dashed\") +\n",
    "  geom_segment(aes(x = 438, xend = 438, y = 0.36, yend = 0.4087), linetype = \"dashed\") +\n",
    "  theme_reach() +\n",
    "  theme(panel.grid.major = element_blank(),\n",
    "        panel.grid.minor = element_blank()) +\n",
    "  labs(x = \"Offensive Plays\",\n",
    "       y = \"Run Rate\",\n",
    "       title = \"Seahawks Run Rate Over Time, 2021\",\n",
    "       subtitle = \"Weeks 5-18\") +\n",
    "  annotate(\"text\", x = 650, y = 0.363, label = \"Week 13 vs. SF\", size = 4) +\n",
    "  annotate(\"text\", x = 276, y = 0.402, label = \"R.Wilson injured.\\nWeek 5 vs. LA\", size = 4, fontface = 2) +\n",
    "  annotate(\"text\", x = 500, y = 0.41, label = \"R.Wilson returns.\\nWeek 10 vs. GB\", size = 4, fontface = 2) +\n",
    "  annotate(\"point\", x = 651, y = 0.366, size = 7, color = \"red\") +\n",
    "  annotate(\"point\", x = 438, y= 0.4087, size = 7, color = \"darkgreen\") +\n",
    "  annotate(\"point\", x = 246, y = 0.3984, size = 7, color = \"blue\")"
   ]
  },
  {
   "cell_type": "code",
   "execution_count": 13,
   "id": "39a194ce",
   "metadata": {},
   "outputs": [],
   "source": [
    "ggsave(\"russ-effect-on-run-rate.png\", width=15, height=10, dpi=\"retina\")"
   ]
  },
  {
   "cell_type": "markdown",
   "id": "ceff1094",
   "metadata": {},
   "source": [
    "## Getting Lowest Run Share Point for Annotation Above."
   ]
  },
  {
   "cell_type": "code",
   "execution_count": 14,
   "id": "0559f183",
   "metadata": {},
   "outputs": [
    {
     "data": {
      "text/html": [
       "<table class=\"dataframe\">\n",
       "<caption>A tibble: 1 × 6</caption>\n",
       "<thead>\n",
       "\t<tr><th scope=col>game_id</th><th scope=col>UNIQUE_PLAY_ID</th><th scope=col>rushes_game</th><th scope=col>passes_game</th><th scope=col>run_share_szn</th><th scope=col>season_play_num</th></tr>\n",
       "\t<tr><th scope=col>&lt;chr&gt;</th><th scope=col>&lt;chr&gt;</th><th scope=col>&lt;dbl&gt;</th><th scope=col>&lt;dbl&gt;</th><th scope=col>&lt;dbl&gt;</th><th scope=col>&lt;dbl&gt;</th></tr>\n",
       "</thead>\n",
       "<tbody>\n",
       "\t<tr><td>2021_13_SF_SEA</td><td>2021_13_SF_SEA_131</td><td>19</td><td>41</td><td>0.3656</td><td>651</td></tr>\n",
       "</tbody>\n",
       "</table>\n"
      ],
      "text/latex": [
       "A tibble: 1 × 6\n",
       "\\begin{tabular}{llllll}\n",
       " game\\_id & UNIQUE\\_PLAY\\_ID & rushes\\_game & passes\\_game & run\\_share\\_szn & season\\_play\\_num\\\\\n",
       " <chr> & <chr> & <dbl> & <dbl> & <dbl> & <dbl>\\\\\n",
       "\\hline\n",
       "\t 2021\\_13\\_SF\\_SEA & 2021\\_13\\_SF\\_SEA\\_131 & 19 & 41 & 0.3656 & 651\\\\\n",
       "\\end{tabular}\n"
      ],
      "text/markdown": [
       "\n",
       "A tibble: 1 × 6\n",
       "\n",
       "| game_id &lt;chr&gt; | UNIQUE_PLAY_ID &lt;chr&gt; | rushes_game &lt;dbl&gt; | passes_game &lt;dbl&gt; | run_share_szn &lt;dbl&gt; | season_play_num &lt;dbl&gt; |\n",
       "|---|---|---|---|---|---|\n",
       "| 2021_13_SF_SEA | 2021_13_SF_SEA_131 | 19 | 41 | 0.3656 | 651 |\n",
       "\n"
      ],
      "text/plain": [
       "  game_id        UNIQUE_PLAY_ID     rushes_game passes_game run_share_szn\n",
       "1 2021_13_SF_SEA 2021_13_SF_SEA_131 19          41          0.3656       \n",
       "  season_play_num\n",
       "1 651            "
      ]
     },
     "metadata": {},
     "output_type": "display_data"
    }
   ],
   "source": [
    "russ_pbp_post %>%\n",
    "  slice_min(run_share_szn) %>%\n",
    "  summarize(game_id, UNIQUE_PLAY_ID, rushes_game, passes_game, run_share_szn, season_play_num)"
   ]
  },
  {
   "cell_type": "markdown",
   "id": "f246f927",
   "metadata": {},
   "source": [
    "## Getting Headshots."
   ]
  },
  {
   "cell_type": "code",
   "execution_count": 15,
   "id": "9f897425",
   "metadata": {},
   "outputs": [],
   "source": [
    "headshots <- data.frame(passer = c(\"R.Wilson\", \"G.Smith\", \"League Avg.\"), \n",
    "                        headshot = c(\"https://a.espncdn.com/combiner/i?img=/i/headshots/nfl/players/full/14881.png\",\n",
    "                                     \"https://a.espncdn.com/combiner/i?img=/i/headshots/nfl/players/full/15864.png\",\n",
    "                                     \"https://a.espncdn.com/combiner/i?img=/i/espn/misc_logos/500/nfl.png\"))"
   ]
  },
  {
   "cell_type": "markdown",
   "id": "411d2034",
   "metadata": {},
   "source": [
    "## Filtering Subsets and Formatting Columns for EPA Table."
   ]
  },
  {
   "cell_type": "code",
   "execution_count": 21,
   "id": "5a61db2f",
   "metadata": {},
   "outputs": [],
   "source": [
    "russ_epa_pre <- joined_pbp %>%\n",
    "  filter(posteam == \"SEA\") %>%\n",
    "  filter(season_play_num < 246) %>%\n",
    "  filter(!is.na(passer)) %>%\n",
    "  group_by(passer) %>%\n",
    "  summarize(weeks = \"1-5\", epa_dropback = round(mean(epa),3), dropbacks = n())\n",
    "\n",
    "geno_epa <- geno_pbp %>%\n",
    "  filter(!is.na(passer)) %>%\n",
    "  group_by(passer) %>%\n",
    "  summarize(weeks = \"5-9\", epa_dropback = round(mean(epa),3), dropbacks = n())\n",
    "\n",
    "russ_epa_post <- russ_pbp_post %>%\n",
    "  filter(season_play_num <= 651) %>%\n",
    "  filter(!is.na(passer)) %>%\n",
    "  group_by(passer) %>%\n",
    "  summarize(weeks = \"10-13\", epa_dropback = round(mean(epa),3), dropbacks = n())\n",
    "\n",
    "russ_epa_post_sf <- russ_pbp_post %>%\n",
    "  filter(season_play_num > 651) %>%\n",
    "  filter(!is.na(passer)) %>%\n",
    "  group_by(passer) %>%\n",
    "  summarize(weeks = \"13+\", epa_dropback = round(mean(epa),3), dropbacks = n())\n",
    "\n",
    "nfl_epa <- nfl_pbp %>%\n",
    "  filter(!is.na(passer)) %>%\n",
    "  summarize(weeks = \"1-18\", epa_dropback = round(mean(epa),3), dropbacks = n())\n",
    "nfl_epa <- cbind(passer = \"League Avg.\", nfl_epa)"
   ]
  },
  {
   "cell_type": "markdown",
   "id": "05df5a35",
   "metadata": {},
   "source": [
    "## Bind Rows. Add 'Headshots' Column."
   ]
  },
  {
   "cell_type": "code",
   "execution_count": 22,
   "id": "7c7de750",
   "metadata": {},
   "outputs": [],
   "source": [
    "final_epa <- rbind(russ_epa_pre, geno_epa, russ_epa_post, russ_epa_post_sf, nfl_epa)\n",
    "final_epa <- inner_join(final_epa, headshots, by = \"passer\")\n",
    "final_epa <- final_epa[, c(1, 5, 2, 3, 4)]"
   ]
  },
  {
   "cell_type": "markdown",
   "id": "d5297558",
   "metadata": {},
   "source": [
    "## Create and Save 'Russ Effect' Table."
   ]
  },
  {
   "cell_type": "code",
   "execution_count": 23,
   "id": "b94edd97",
   "metadata": {},
   "outputs": [],
   "source": [
    "russ_table <- final_epa %>%\n",
    "  gt() %>%\n",
    "  gtExtras::gt_img_rows(headshot) %>%\n",
    "  cols_label(passer = \"Passer\",\n",
    "             headshot = \"\",\n",
    "             weeks = \"Weeks\",\n",
    "             epa_dropback = \"EPA/Dropback\",\n",
    "             dropbacks = \"Total Dropbacks\") %>%\n",
    "  cols_align(align = \"center\",\n",
    "             columns = c(headshot, weeks, epa_dropback, dropbacks)) %>%\n",
    "  gtExtras::gt_theme_espn() %>%\n",
    "  tab_header(title = \"Seahawks EPA/Dropback, 2021\")"
   ]
  },
  {
   "cell_type": "code",
   "execution_count": 24,
   "id": "57ac6562",
   "metadata": {},
   "outputs": [],
   "source": [
    "gtsave(russ_table, \"russ-effect-table.png\")"
   ]
  },
  {
   "cell_type": "markdown",
   "id": "950da927",
   "metadata": {},
   "source": [
    "## Preparing Labels and Colors for Bar Graph."
   ]
  },
  {
   "cell_type": "code",
   "execution_count": 25,
   "id": "a48e6c4e",
   "metadata": {},
   "outputs": [],
   "source": [
    "final_epa$bar_labels <- paste(final_epa$passer, \"\\nWeeks\", final_epa$weeks)\n",
    "final_epa$bar_labels <- factor(final_epa$bar_labels, levels = final_epa$bar_labels)\n",
    "final_epa$team_color <- c(\"#002244\",\"#002244\",\"#002244\",\"#002244\",\"#a5acaf\")\n",
    "final_epa$team_color2 <- c(\"#a5acaf\",\"#a5acaf\",\"#a5acaf\",\"#a5acaf\",\"#000000\")\n",
    "final_epa$label_color <- c(\"white\", \"black\", \"white\", \"white\", \"black\")"
   ]
  },
  {
   "cell_type": "markdown",
   "id": "e5603039",
   "metadata": {},
   "source": [
    "## Calculating Difference from League Average EPA/Play."
   ]
  },
  {
   "cell_type": "code",
   "execution_count": 26,
   "id": "81c7a5d4",
   "metadata": {},
   "outputs": [],
   "source": [
    "league_avg_epa_val <- final_epa$epa_dropback[5]\n",
    "  \n",
    "final_epa <- final_epa %>%\n",
    "  filter(passer != \"League Avg.\")\n",
    "final_epa$epa_dropback <- final_epa$epa_dropback - league_avg_epa_val"
   ]
  },
  {
   "cell_type": "markdown",
   "id": "f877831c",
   "metadata": {},
   "source": [
    "## Create and Save 'Russ Effect' Bar Graph."
   ]
  },
  {
   "cell_type": "code",
   "execution_count": 27,
   "id": "6f3b71d6",
   "metadata": {},
   "outputs": [
    {
     "data": {
      "image/png": "[encoded data removed]",
      "text/plain": [
       "plot without title"
      ]
     },
     "metadata": {
      "image/png": {
       "height": 420,
       "width": 420
      }
     },
     "output_type": "display_data"
    }
   ],
   "source": [
    "ggplot(final_epa, aes(x = bar_labels, y = epa_dropback)) +\n",
    "  geom_bar(aes(fill = team_color, color = team_color2), \n",
    "           stat = \"identity\", \n",
    "           alpha = 1,\n",
    "           size = 1.25) +\n",
    "  scale_color_identity(aesthetics = c(\"fill\", \"color\")) + \n",
    "  geom_text(aes(label = ifelse(epa_dropback < 0, epa_dropback, paste(\"+\", epa_dropback))), \n",
    "            vjust = ifelse(final_epa$epa_dropback > 0, 1.5, -0.7), \n",
    "            color = \"white\",\n",
    "            fontface = \"bold\") +\n",
    "  labs(x = \"\",\n",
    "       y = \"\",\n",
    "       title = \"Seahawks EPA/Dropback, 2021\",\n",
    "       subtitle = \"Compared to League Average\") +\n",
    "  theme(axis.text.x = element_text(size = 10, face = \"bold\"),\n",
    "        plot.title = element_text(size = 16, hjust = 0.5),\n",
    "        plot.subtitle = element_text(size = 12, hjust = 0.5))"
   ]
  },
  {
   "cell_type": "code",
   "execution_count": 28,
   "id": "5371846d",
   "metadata": {},
   "outputs": [],
   "source": [
    "ggsave(\"russ-effect-bar-graph2.png\", width=10, height=6, dpi=\"retina\")"
   ]
  }
 ],
 "metadata": {
  "kernelspec": {
   "display_name": "R",
   "language": "R",
   "name": "ir"
  },
  "language_info": {
   "codemirror_mode": "r",
   "file_extension": ".r",
   "mimetype": "text/x-r-source",
   "name": "R",
   "pygments_lexer": "r",
   "version": "4.1.2"
  }
 },
 "nbformat": 4,
 "nbformat_minor": 5
}
