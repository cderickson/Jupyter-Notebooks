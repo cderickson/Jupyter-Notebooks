{
 "cells": [
  {
   "cell_type": "markdown",
   "id": "9560f72a",
   "metadata": {},
   "source": [
    "## Import Libraries."
   ]
  },
  {
   "cell_type": "code",
   "execution_count": 2,
   "id": "b8765099",
   "metadata": {},
   "outputs": [],
   "source": [
    "library(tidyverse)\n",
    "library(baseballr)\n",
    "library(ggthemes) # Themes for ggplot2.\n",
    "library(ggimage) # Supports images in ggplot2.\n",
    "library(gt) # Create tables.\n",
    "library(readr) # Read in datasets.\n",
    "options(scipen = 9999)"
   ]
  },
  {
   "cell_type": "markdown",
   "id": "df79b91f",
   "metadata": {},
   "source": [
    "## Download Weekly Statcast Data and Combine into one Dataframe."
   ]
  },
  {
   "cell_type": "code",
   "execution_count": null,
   "id": "0d593a7e",
   "metadata": {},
   "outputs": [],
   "source": [
    "statcast2021_1 <- statcast_search_pitchers(start_date = \"2021-04-01\",\n",
    "                                           end_date = \"2021-04-08\")\n",
    "statcast2021_2 <- statcast_search_pitchers(start_date = \"2021-04-09\",\n",
    "                                           end_date = \"2021-04-15\")\n",
    "statcast2021_3 <- statcast_search_pitchers(start_date = \"2021-04-16\",\n",
    "                                           end_date = \"2021-04-23\")\n",
    "statcast2021_4 <- statcast_search_pitchers(start_date = \"2021-04-24\",\n",
    "                                           end_date = \"2021-04-30\")\n",
    "\n",
    "statcast2021_5 <- statcast_search_pitchers(start_date = \"2021-05-01\",\n",
    "                                           end_date = \"2021-05-08\")\n",
    "statcast2021_6 <- statcast_search_pitchers(start_date = \"2021-05-09\",\n",
    "                                           end_date = \"2021-05-15\")\n",
    "statcast2021_7 <- statcast_search_pitchers(start_date = \"2021-05-16\",\n",
    "                                           end_date = \"2021-05-23\")\n",
    "statcast2021_8 <- statcast_search_pitchers(start_date = \"2021-05-24\",\n",
    "                                           end_date = \"2021-05-31\")\n",
    "\n",
    "statcast2021_9 <- statcast_search_pitchers(start_date = \"2021-06-01\",\n",
    "                                           end_date = \"2021-06-08\")\n",
    "statcast2021_10 <- statcast_search_pitchers(start_date = \"2021-06-09\",\n",
    "                                           end_date = \"2021-06-15\")\n",
    "statcast2021_11 <- statcast_search_pitchers(start_date = \"2021-06-16\",\n",
    "                                           end_date = \"2021-06-23\")\n",
    "statcast2021_12 <- statcast_search_pitchers(start_date = \"2021-06-24\",\n",
    "                                           end_date = \"2021-06-30\")\n",
    "\n",
    "statcast2021_13 <- statcast_search_pitchers(start_date = \"2021-07-01\",\n",
    "                                           end_date = \"2021-07-08\")\n",
    "statcast2021_14 <- statcast_search_pitchers(start_date = \"2021-07-09\",\n",
    "                                           end_date = \"2021-07-15\")\n",
    "statcast2021_15 <- statcast_search_pitchers(start_date = \"2021-07-16\",\n",
    "                                           end_date = \"2021-07-23\")\n",
    "statcast2021_16 <- statcast_search_pitchers(start_date = \"2021-07-24\",\n",
    "                                           end_date = \"2021-07-31\")\n",
    "\n",
    "statcast2021_17 <- statcast_search_pitchers(start_date = \"2021-08-01\",\n",
    "                                           end_date = \"2021-08-08\")\n",
    "statcast2021_18 <- statcast_search_pitchers(start_date = \"2021-08-09\",\n",
    "                                           end_date = \"2021-08-15\")\n",
    "statcast2021_19 <- statcast_search_pitchers(start_date = \"2021-08-16\",\n",
    "                                           end_date = \"2021-08-23\")\n",
    "statcast2021_20 <- statcast_search_pitchers(start_date = \"2021-08-24\",\n",
    "                                           end_date = \"2021-08-31\")\n",
    "\n",
    "statcast2021_21 <- statcast_search_pitchers(start_date = \"2021-09-01\",\n",
    "                                           end_date = \"2021-09-08\")\n",
    "statcast2021_22 <- statcast_search_pitchers(start_date = \"2021-09-09\",\n",
    "                                           end_date = \"2021-09-15\")\n",
    "statcast2021_23 <- statcast_search_pitchers(start_date = \"2021-09-16\",\n",
    "                                           end_date = \"2021-09-23\")\n",
    "statcast2021_24 <- statcast_search_pitchers(start_date = \"2021-09-24\",\n",
    "                                           end_date = \"2021-09-30\")\n",
    "\n",
    "statcast2021_25 <- statcast_search_pitchers(start_date = \"2021-10-01\",\n",
    "                                           end_date = \"2021-10-03\")\n",
    "\n",
    "statcast2021 <- rbind(statcast2021_1, statcast2021_2, statcast2021_3, statcast2021_4, statcast2021_5, statcast2021_6,\n",
    "                      statcast2021_7, statcast2021_8, statcast2021_9, statcast2021_10, statcast2021_11, statcast2021_12,\n",
    "                      statcast2021_13, statcast2021_14, statcast2021_15, statcast2021_16, statcast2021_17, statcast2021_18, \n",
    "                      statcast2021_19, statcast2021_20, statcast2021_21, statcast2021_22, statcast2021_23, statcast2021_24, \n",
    "                      statcast2021_25)"
   ]
  },
  {
   "cell_type": "markdown",
   "id": "255bfba0",
   "metadata": {},
   "source": [
    "## Append Unique 'pitch_id' Column to Statcast Dataframe."
   ]
  },
  {
   "cell_type": "code",
   "execution_count": null,
   "id": "4d58ab95",
   "metadata": {},
   "outputs": [],
   "source": [
    "statcast2021$at_bat_number <- sprintf(\"%02d\", statcast2021$at_bat_number)\n",
    "statcast2021$pitch_number <- sprintf(\"%02d\", statcast2021$pitch_number)\n",
    "statcast2021$pitch_id <- paste(statcast2021$game_pk, statcast2021$at_bat_number, statcast2021$pitch_number, sep = \"-\")"
   ]
  },
  {
   "cell_type": "markdown",
   "id": "c141db1c",
   "metadata": {},
   "source": [
    "## Get List of 'game_pk' Codes for 2021 Season."
   ]
  },
  {
   "cell_type": "code",
   "execution_count": null,
   "id": "1d7e9789",
   "metadata": {},
   "outputs": [],
   "source": [
    "schedule <- mlb_schedule(season = \"2021\") %>%\n",
    "  filter(status_detailed_state != \"Postponed\") %>%\n",
    "  filter(status_detailed_state != \"Cancelled\") %>%\n",
    "  filter(series_description == \"Regular Season\") %>%\n",
    "  group_by(game_pk) %>%\n",
    "  summarize(count = n())\n",
    "\n",
    "games_list <- as.list(schedule$game_pk)"
   ]
  },
  {
   "cell_type": "markdown",
   "id": "b5e93665",
   "metadata": {},
   "source": [
    "## Loop Through 'game_pk' List, Grabbing PBP Data and Combining into one Dataframe. (~35 minutes)"
   ]
  },
  {
   "cell_type": "code",
   "execution_count": null,
   "id": "fe12c49e",
   "metadata": {},
   "outputs": [],
   "source": [
    "pbp2021 <- data.frame()\n",
    "count <- 0\n",
    "for (i in games_list) {\n",
    "  count <- count + 1\n",
    "  print(count)\n",
    "  pbp <- mlb_pbp(i) %>%\n",
    "    filter(isPitch == \"TRUE\")\n",
    "  pbp2021 <- bind_rows(pbp2021, pbp)\n",
    "}"
   ]
  },
  {
   "cell_type": "markdown",
   "id": "3890a375",
   "metadata": {},
   "source": [
    "## Append Unique 'pitch_id' Column to PBP Dataframe."
   ]
  },
  {
   "cell_type": "code",
   "execution_count": null,
   "id": "7905779a",
   "metadata": {},
   "outputs": [],
   "source": [
    "pbp2021$atBatIndex <- sprintf(\"%02d\", strtoi(pbp2021$atBatIndex) + 1)\n",
    "pbp2021$pitchNumber <- sprintf(\"%02d\", strtoi(pbp2021$pitchNumber))\n",
    "pbp2021$pitch_id <- paste(pbp2021$game_pk, pbp2021$atBatIndex, pbp2021$pitchNumber, sep = \"-\")"
   ]
  },
  {
   "cell_type": "markdown",
   "id": "a0b86086",
   "metadata": {},
   "source": [
    "## Join Statcast and PBP Dataframes by 'pitch_id'."
   ]
  },
  {
   "cell_type": "code",
   "execution_count": null,
   "id": "cf47c9d6",
   "metadata": {},
   "outputs": [],
   "source": [
    "joined_df <- merge(pbp2021, statcast2021, by = \"pitch_id\", all = TRUE)\n",
    "joined_df <- subset(joined_df, select = -reviewDetails.additionalReviews)"
   ]
  },
  {
   "cell_type": "markdown",
   "id": "d8911d69",
   "metadata": {},
   "source": [
    "## Save Joined Dataframe as CSV. (~3 minutes, 1.2GB per season)"
   ]
  },
  {
   "cell_type": "code",
   "execution_count": null,
   "id": "53d17b50",
   "metadata": {},
   "outputs": [],
   "source": [
    "write.csv(joined_df,\"C:\\\\Users\\\\chris\\\\Documents\\\\GitHub\\\\R-Scripts\\\\2021merged.csv\", row.names = FALSE)"
   ]
  },
  {
   "cell_type": "markdown",
   "id": "fc87e2b5",
   "metadata": {},
   "source": [
    "## EXTRA: Create Merged Dataframe for Individual Game (using 'game_pk' value)."
   ]
  },
  {
   "cell_type": "code",
   "execution_count": null,
   "id": "ed8ff56c",
   "metadata": {},
   "outputs": [],
   "source": [
    "pbp_game <- mlb_pbp(632170) %>%\n",
    "  filter(isPitch == \"TRUE\")\n",
    "pbp_game$atBatIndex <- sprintf(\"%02d\", strtoi(pbp_game$atBatIndex) + 1)\n",
    "pbp_game$pitchNumber <- sprintf(\"%02d\", strtoi(pbp_game$pitchNumber))\n",
    "pbp_game$pitch_id <- paste(pbp_game$game_pk, pbp_game$atBatIndex, pbp_game$pitchNumber, sep = \"-\")\n",
    "pbp_stat <- statcast2021 %>%\n",
    "  filter(game_pk == 632170)\n",
    "pbp_stat$at_bat_number <- sprintf(\"%02d\", pbp_stat$at_bat_number)\n",
    "pbp_stat$pitch_number <- sprintf(\"%02d\", pbp_stat$pitch_number)\n",
    "pbp_stat$pitch_id <- paste(pbp_stat$game_pk, pbp_stat$at_bat_number, pbp_stat$pitch_number, sep = \"-\")\n",
    "\n",
    "pbp_game <- subset(pbp_game, select = -reviewDetails.challengeTeamId)"
   ]
  },
  {
   "cell_type": "markdown",
   "id": "50048562",
   "metadata": {},
   "source": [
    "## EXTRA: Query, Save, and Export Tables for Individual Players. (Date Range Required)"
   ]
  },
  {
   "cell_type": "code",
   "execution_count": null,
   "id": "16702e8e",
   "metadata": {},
   "outputs": [],
   "source": [
    "correa <- statcast_search(start_date = \"2016-04-06\",\n",
    "                          end_date = \"2016-04-15\", playerid = 621043, player_type = 'batter')\n",
    "noah <- statcast_search(start_date = \"2016-04-06\",\n",
    "                        end_date = \"2016-04-15\", playerid = 592789, player_type = 'pitcher')\n",
    "\n",
    "write.csv(correa,\"C:\\\\Users\\\\chris\\\\Documents\\\\GitHub\\\\R-Scripts\\\\correa.csv\", row.names = FALSE)"
   ]
  }
 ],
 "metadata": {
  "kernelspec": {
   "display_name": "R",
   "language": "R",
   "name": "ir"
  },
  "language_info": {
   "codemirror_mode": "r",
   "file_extension": ".r",
   "mimetype": "text/x-r-source",
   "name": "R",
   "pygments_lexer": "r",
   "version": "4.1.2"
  }
 },
 "nbformat": 4,
 "nbformat_minor": 5
}
