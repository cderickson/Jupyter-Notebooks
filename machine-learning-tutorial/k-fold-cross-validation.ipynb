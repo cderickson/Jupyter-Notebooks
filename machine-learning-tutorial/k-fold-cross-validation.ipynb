{
 "cells": [
  {
   "cell_type": "markdown",
   "id": "bd67eb6c-c0d2-49b5-b3c4-3b597e3d0d7e",
   "metadata": {},
   "source": [
    "## Cross Validation: Methods to evaluate model performance\n",
    "\n",
    "### Option 1: \n",
    "Use all available data for training and test on same dataset. Not very good for testing/evaluation because the model will have already seen the test cases.\n",
    "\n",
    "### Option 2: \n",
    "Split available dataset into training and test sets. Solves issues with Option 1, however, you could end up with a random training sample set that is significantly different from the testing sample set.\n",
    "\n",
    "### Option 3: K Fold Cross Validation:\n",
    "\n",
    "Divide dataset into K equal sized sets.\n",
    "Perform K iterations:\n",
    "- Use each set as the testing sample set, and the rest as the training set.\n",
    "- Average the results of each iteration"
   ]
  },
  {
   "cell_type": "code",
   "execution_count": 1,
   "id": "5510f1f4-a6b2-41eb-b9c0-1a25ad367a13",
   "metadata": {},
   "outputs": [],
   "source": [
    "from sklearn.linear_model import LogisticRegression\n",
    "from sklearn.svm import SVC\n",
    "from sklearn.ensemble import RandomForestClassifier\n",
    "import numpy as np\n",
    "from sklearn.datasets import load_digits\n",
    "\n",
    "digits = load_digits()"
   ]
  },
  {
   "cell_type": "markdown",
   "id": "17eca17e-d576-41ee-af29-1a89dee305c0",
   "metadata": {},
   "source": [
    "## Perform train/test split and train Logistic Regression, Support Vector Machine, and Random Forest models. Model accuracy will change each time you update the training/testing sample sets, which is what K-Fold Cross Validation helps prevent."
   ]
  },
  {
   "cell_type": "code",
   "execution_count": 16,
   "id": "1598f692-d75b-4f5d-850d-404a3660480c",
   "metadata": {},
   "outputs": [],
   "source": [
    "from sklearn.model_selection import train_test_split\n",
    "x_train, x_test, y_train, y_test = train_test_split(digits.data, digits.target, test_size=0.3)"
   ]
  },
  {
   "cell_type": "code",
   "execution_count": 17,
   "id": "33bf5a94-bb07-49dc-9895-3a42b8a0007d",
   "metadata": {},
   "outputs": [
    {
     "data": {
      "text/plain": [
       "0.9666666666666667"
      ]
     },
     "execution_count": 17,
     "metadata": {},
     "output_type": "execute_result"
    }
   ],
   "source": [
    "lr = LogisticRegression(solver=\"newton-cg\", multi_class=\"auto\")\n",
    "lr.fit(x_train, y_train)\n",
    "lr.score(x_test, y_test)"
   ]
  },
  {
   "cell_type": "code",
   "execution_count": 18,
   "id": "029b5363-63c3-4cf7-80b7-b21f3d2ec209",
   "metadata": {},
   "outputs": [
    {
     "data": {
      "text/plain": [
       "0.9851851851851852"
      ]
     },
     "execution_count": 18,
     "metadata": {},
     "output_type": "execute_result"
    }
   ],
   "source": [
    "svm = SVC()\n",
    "svm.fit(x_train, y_train)\n",
    "svm.score(x_test, y_test)"
   ]
  },
  {
   "cell_type": "code",
   "execution_count": 19,
   "id": "935f7927-a36a-4f72-a72f-4bf59e80a5f8",
   "metadata": {},
   "outputs": [
    {
     "data": {
      "text/plain": [
       "0.9722222222222222"
      ]
     },
     "execution_count": 19,
     "metadata": {},
     "output_type": "execute_result"
    }
   ],
   "source": [
    "rf = RandomForestClassifier(n_estimators=40)\n",
    "rf.fit(x_train, y_train)\n",
    "rf.score(x_test, y_test)"
   ]
  },
  {
   "cell_type": "markdown",
   "id": "fc639552-75b8-4870-86f6-843a410b8f1f",
   "metadata": {},
   "source": [
    "## Perform train/test split using KFold and StratifiedKFold."
   ]
  },
  {
   "cell_type": "code",
   "execution_count": 22,
   "id": "9a66a995-f7ea-4a2c-9251-8c1e10f872e1",
   "metadata": {},
   "outputs": [],
   "source": [
    "def get_score(model, x_train, x_test, y_train, y_test):\n",
    "    model.fit(x_train, y_train)\n",
    "    return model.score(x_test, y_test)"
   ]
  },
  {
   "cell_type": "code",
   "execution_count": 24,
   "id": "30441512-8170-412e-a876-811ae1cab76a",
   "metadata": {},
   "outputs": [
    {
     "data": {
      "text/plain": [
       "0.9666666666666667"
      ]
     },
     "execution_count": 24,
     "metadata": {},
     "output_type": "execute_result"
    }
   ],
   "source": [
    "get_score(LogisticRegression(solver=\"newton-cg\", multi_class=\"auto\"), x_train, x_test, y_train, y_test)"
   ]
  },
  {
   "cell_type": "markdown",
   "id": "7a34fcca-b27e-466e-892c-0f76a322a3d0",
   "metadata": {},
   "source": [
    "**StratifiedKFold**<br>\n",
    "If dataset is  divided  into 5 fold. Then each fold will contains 10 instance from each class, i.e. number of instance per class is equal and follow  uniform distribution.\n",
    "\n",
    "**KFold**<br>\n",
    "it will randomly took 30 instance and no of instance per class may or may not be equal or uniform.\n",
    "\n",
    "**When to use**<br>\n",
    "Classification task: StratifiedKFold.\n",
    "Regression task: use Kfold.\n",
    " \n",
    "But if dataset contains  large number of instances, both StratifiedKFold and Kfold can be used in classification task."
   ]
  },
  {
   "cell_type": "code",
   "execution_count": 20,
   "id": "4511c60b-f829-4fd4-b35c-4bb547f76416",
   "metadata": {},
   "outputs": [],
   "source": [
    "from sklearn.model_selection import KFold\n",
    "kf = KFold(n_splits=3)"
   ]
  },
  {
   "cell_type": "code",
   "execution_count": 21,
   "id": "576827a7-e1da-4d59-91aa-70406cecde8f",
   "metadata": {},
   "outputs": [
    {
     "name": "stdout",
     "output_type": "stream",
     "text": [
      "[3 4 5 6 7 8] [0 1 2]\n",
      "[0 1 2 6 7 8] [3 4 5]\n",
      "[0 1 2 3 4 5] [6 7 8]\n"
     ]
    }
   ],
   "source": [
    "for train_index, test_index in kf.split([1,2,3,4,5,6,7,8,9]):\n",
    "    print(train_index, test_index)"
   ]
  },
  {
   "cell_type": "code",
   "execution_count": 25,
   "id": "2915a52f-883e-4554-9f60-c38c679394a5",
   "metadata": {},
   "outputs": [],
   "source": [
    "from sklearn.model_selection import StratifiedKFold\n",
    "folds = StratifiedKFold(n_splits=3)"
   ]
  },
  {
   "cell_type": "code",
   "execution_count": 30,
   "id": "aa24b1a5-0f8b-4c3c-be3b-51371ca986bb",
   "metadata": {},
   "outputs": [],
   "source": [
    "scores_lr = []\n",
    "scores_svm = []\n",
    "scores_rf = []\n",
    "\n",
    "for train_index, test_index in kf.split(digits.data):\n",
    "    x_train, x_test, y_train, y_test = digits.data[train_index], digits.data[test_index], digits.target[train_index], digits.target[test_index]\n",
    "    scores_lr.append(get_score(LogisticRegression(solver=\"newton-cg\", multi_class=\"auto\"), x_train, x_test, y_train, y_test))\n",
    "    scores_svm.append(get_score(SVC(), x_train, x_test, y_train, y_test))\n",
    "    scores_rf.append(get_score(RandomForestClassifier(n_estimators=40), x_train, x_test, y_train, y_test))"
   ]
  },
  {
   "cell_type": "code",
   "execution_count": 31,
   "id": "46c626b7-8f86-4546-a1c0-861a8f0ba723",
   "metadata": {},
   "outputs": [
    {
     "data": {
      "text/plain": [
       "[0.9282136894824707, 0.9415692821368948, 0.9165275459098498]"
      ]
     },
     "execution_count": 31,
     "metadata": {},
     "output_type": "execute_result"
    }
   ],
   "source": [
    "scores_lr"
   ]
  },
  {
   "cell_type": "code",
   "execution_count": 32,
   "id": "73ac3209-332b-4b1c-a9f4-f4ab70882cbd",
   "metadata": {},
   "outputs": [
    {
     "data": {
      "text/plain": [
       "[0.9666110183639399, 0.9816360601001669, 0.9549248747913188]"
      ]
     },
     "execution_count": 32,
     "metadata": {},
     "output_type": "execute_result"
    }
   ],
   "source": [
    "scores_svm"
   ]
  },
  {
   "cell_type": "code",
   "execution_count": 33,
   "id": "c98448a7-7ac0-43ef-bb43-53d33e3ad70f",
   "metadata": {},
   "outputs": [
    {
     "data": {
      "text/plain": [
       "[0.9298831385642737, 0.9348914858096828, 0.9198664440734557]"
      ]
     },
     "execution_count": 33,
     "metadata": {},
     "output_type": "execute_result"
    }
   ],
   "source": [
    "scores_rf"
   ]
  },
  {
   "cell_type": "markdown",
   "id": "557dcd68-4708-42df-a5c9-437b1fa643d0",
   "metadata": {},
   "source": [
    "## You can use 'cross_val_score' to do the above cross validation in a single function. Look at the resulting arrays to evaluate model performance. Defaults to K = 5 Folds."
   ]
  },
  {
   "cell_type": "code",
   "execution_count": 38,
   "id": "e632037b-642e-4e19-9ec0-effe033c4634",
   "metadata": {},
   "outputs": [],
   "source": [
    "from sklearn.model_selection import cross_val_score"
   ]
  },
  {
   "cell_type": "code",
   "execution_count": 39,
   "id": "e16bd1a7-434e-455d-b3fa-6d0eb90d134b",
   "metadata": {},
   "outputs": [
    {
     "data": {
      "text/plain": [
       "array([0.925     , 0.87777778, 0.93871866, 0.93314763, 0.89693593])"
      ]
     },
     "execution_count": 39,
     "metadata": {},
     "output_type": "execute_result"
    }
   ],
   "source": [
    "cross_val_score(LogisticRegression(solver=\"newton-cg\", multi_class=\"auto\"), digits.data, digits.target)"
   ]
  },
  {
   "cell_type": "code",
   "execution_count": 36,
   "id": "35abe92e-ae11-4e81-b26c-533b3a3a41f3",
   "metadata": {},
   "outputs": [
    {
     "data": {
      "text/plain": [
       "array([0.96111111, 0.94444444, 0.98328691, 0.98885794, 0.93871866])"
      ]
     },
     "execution_count": 36,
     "metadata": {},
     "output_type": "execute_result"
    }
   ],
   "source": [
    "cross_val_score(SVC(), digits.data, digits.target)"
   ]
  },
  {
   "cell_type": "code",
   "execution_count": 37,
   "id": "5bc668ea-0284-493b-84ee-64c88f55fc91",
   "metadata": {},
   "outputs": [
    {
     "data": {
      "text/plain": [
       "array([0.93611111, 0.90833333, 0.95543175, 0.95821727, 0.91086351])"
      ]
     },
     "execution_count": 37,
     "metadata": {},
     "output_type": "execute_result"
    }
   ],
   "source": [
    "cross_val_score(RandomForestClassifier(n_estimators=40), digits.data, digits.target)"
   ]
  }
 ],
 "metadata": {
  "kernelspec": {
   "display_name": "Python 3 (ipykernel)",
   "language": "python",
   "name": "python3"
  },
  "language_info": {
   "codemirror_mode": {
    "name": "ipython",
    "version": 3
   },
   "file_extension": ".py",
   "mimetype": "text/x-python",
   "name": "python",
   "nbconvert_exporter": "python",
   "pygments_lexer": "ipython3",
   "version": "3.10.2"
  }
 },
 "nbformat": 4,
 "nbformat_minor": 5
}
