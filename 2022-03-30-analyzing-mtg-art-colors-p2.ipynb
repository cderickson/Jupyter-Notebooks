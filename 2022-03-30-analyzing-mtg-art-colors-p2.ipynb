{
 "cells": [
  {
   "cell_type": "markdown",
   "id": "0f39b300",
   "metadata": {},
   "source": [
    "## Import libraries and dataset."
   ]
  },
  {
   "cell_type": "code",
   "execution_count": 79,
   "id": "ce2bd3e1",
   "metadata": {},
   "outputs": [],
   "source": [
    "import pandas as pd\n",
    "pd.options.display.max_columns = 9"
   ]
  },
  {
   "cell_type": "code",
   "execution_count": 40,
   "id": "df45654d",
   "metadata": {},
   "outputs": [],
   "source": [
    "lea_color_data = pd.read_csv(\"C:\\\\Users\\\\chris\\\\Desktop\\\\lea_color_data1.csv\")"
   ]
  },
  {
   "cell_type": "markdown",
   "id": "0cd4c2c4",
   "metadata": {},
   "source": [
    "## Get unique colors found in artwork."
   ]
  },
  {
   "cell_type": "code",
   "execution_count": 78,
   "id": "60d3f1b7",
   "metadata": {},
   "outputs": [],
   "source": [
    "set1 = set(lea_color_data.col_string1.unique())\n",
    "set2 = set(lea_color_data.col_string2.unique())\n",
    "set3 = set(lea_color_data.col_string3.unique())\n",
    "set4 = set(lea_color_data.col_string4.unique())\n",
    "set5 = set(lea_color_data.col_string5.unique())\n",
    "\n",
    "all_colors = set1.union(set2).union(set3).union(set4).union(set5)"
   ]
  },
  {
   "cell_type": "markdown",
   "id": "2d04160a",
   "metadata": {},
   "source": [
    "## Zero out values for non-prominent colors."
   ]
  },
  {
   "cell_type": "code",
   "execution_count": 42,
   "id": "f11b363e",
   "metadata": {},
   "outputs": [],
   "source": [
    "color_dict = {}\n",
    "for i in all_colors:\n",
    "    color_dict[i] = 0\n",
    "\n",
    "color_list = []\n",
    "\n",
    "for index,row in lea_color_data.iterrows():\n",
    "    color_dict[row[\"col_string1\"]] += row[\"col_prop1\"]\n",
    "    color_dict[row[\"col_string2\"]] += row[\"col_prop2\"]\n",
    "    color_dict[row[\"col_string3\"]] += row[\"col_prop3\"]\n",
    "    color_dict[row[\"col_string4\"]] += row[\"col_prop4\"]\n",
    "    color_dict[row[\"col_string5\"]] += row[\"col_prop5\"]\n",
    "    color_list.append(color_dict.copy())\n",
    "    color_dict[row[\"col_string1\"]] = 0\n",
    "    color_dict[row[\"col_string2\"]] = 0\n",
    "    color_dict[row[\"col_string3\"]] = 0\n",
    "    color_dict[row[\"col_string4\"]] = 0\n",
    "    color_dict[row[\"col_string5\"]] = 0"
   ]
  },
  {
   "cell_type": "markdown",
   "id": "5fd31593",
   "metadata": {},
   "source": [
    "## Revise color identity formatting."
   ]
  },
  {
   "cell_type": "code",
   "execution_count": 64,
   "id": "9cd6586c",
   "metadata": {},
   "outputs": [],
   "source": [
    "identity_string = \"\"\n",
    "for index,row in lea_color_data.iterrows():\n",
    "    for i in row[\"colorIdentity\"]:\n",
    "        if i.isalpha():\n",
    "            identity_string += i\n",
    "    if identity_string == \"\":\n",
    "        identity_string = \"C\"\n",
    "    lea_color_data.at[index, \"colorIdentity\"] = identity_string\n",
    "    identity_string = \"\""
   ]
  },
  {
   "cell_type": "markdown",
   "id": "99be53d2",
   "metadata": {},
   "source": [
    "## Split color identity into individual columns."
   ]
  },
  {
   "cell_type": "code",
   "execution_count": 68,
   "id": "23c13e4c",
   "metadata": {},
   "outputs": [],
   "source": [
    "color_identity_dict = {}\n",
    "color_identity_list = []\n",
    "for index,row in lea_color_data.iterrows():\n",
    "    for col in [\"W\", \"U\", \"B\", \"R\", \"G\", \"C\"]:\n",
    "        if col in row[\"colorIdentity\"]:\n",
    "            color_identity_dict[col] = 1\n",
    "        else:\n",
    "            color_identity_dict[col] = 0\n",
    "    color_identity_list.append(color_identity_dict.copy())"
   ]
  },
  {
   "cell_type": "markdown",
   "id": "513ea352",
   "metadata": {},
   "source": [
    "## Create dataframe using data from previous steps. Combine with card data."
   ]
  },
  {
   "cell_type": "code",
   "execution_count": 73,
   "id": "8bb4dacc",
   "metadata": {},
   "outputs": [],
   "source": [
    "card_df1 = lea_color_data.iloc[:,list(range(0,3))]\n",
    "identity_df = pd.DataFrame(color_identity_list)\n",
    "card_df2 = lea_color_data.iloc[:,list(range(3,6))]\n",
    "color_df = pd.DataFrame(color_list)\n",
    "\n",
    "merged_df = pd.concat([card_df1, identity_df, card_df2, color_df], axis=1)"
   ]
  },
  {
   "cell_type": "code",
   "execution_count": 80,
   "id": "ff012ac6",
   "metadata": {},
   "outputs": [
    {
     "data": {
      "text/html": [
       "<div>\n",
       "<style scoped>\n",
       "    .dataframe tbody tr th:only-of-type {\n",
       "        vertical-align: middle;\n",
       "    }\n",
       "\n",
       "    .dataframe tbody tr th {\n",
       "        vertical-align: top;\n",
       "    }\n",
       "\n",
       "    .dataframe thead th {\n",
       "        text-align: right;\n",
       "    }\n",
       "</style>\n",
       "<table border=\"1\" class=\"dataframe\">\n",
       "  <thead>\n",
       "    <tr style=\"text-align: right;\">\n",
       "      <th></th>\n",
       "      <th>name_x</th>\n",
       "      <th>types</th>\n",
       "      <th>colorIdentity</th>\n",
       "      <th>W</th>\n",
       "      <th>...</th>\n",
       "      <th>indianred</th>\n",
       "      <th>beige</th>\n",
       "      <th>silver</th>\n",
       "      <th>darkolivegreen</th>\n",
       "    </tr>\n",
       "  </thead>\n",
       "  <tbody>\n",
       "    <tr>\n",
       "      <th>0</th>\n",
       "      <td>Animate Wall</td>\n",
       "      <td>['Enchantment']</td>\n",
       "      <td>W</td>\n",
       "      <td>1</td>\n",
       "      <td>...</td>\n",
       "      <td>0</td>\n",
       "      <td>0</td>\n",
       "      <td>25</td>\n",
       "      <td>0</td>\n",
       "    </tr>\n",
       "    <tr>\n",
       "      <th>1</th>\n",
       "      <td>Armageddon</td>\n",
       "      <td>['Sorcery']</td>\n",
       "      <td>W</td>\n",
       "      <td>1</td>\n",
       "      <td>...</td>\n",
       "      <td>0</td>\n",
       "      <td>0</td>\n",
       "      <td>0</td>\n",
       "      <td>0</td>\n",
       "    </tr>\n",
       "    <tr>\n",
       "      <th>2</th>\n",
       "      <td>Balance</td>\n",
       "      <td>['Sorcery']</td>\n",
       "      <td>W</td>\n",
       "      <td>1</td>\n",
       "      <td>...</td>\n",
       "      <td>0</td>\n",
       "      <td>0</td>\n",
       "      <td>0</td>\n",
       "      <td>0</td>\n",
       "    </tr>\n",
       "    <tr>\n",
       "      <th>3</th>\n",
       "      <td>Benalish Hero</td>\n",
       "      <td>['Creature']</td>\n",
       "      <td>W</td>\n",
       "      <td>1</td>\n",
       "      <td>...</td>\n",
       "      <td>0</td>\n",
       "      <td>0</td>\n",
       "      <td>0</td>\n",
       "      <td>0</td>\n",
       "    </tr>\n",
       "    <tr>\n",
       "      <th>4</th>\n",
       "      <td>Black Ward</td>\n",
       "      <td>['Enchantment']</td>\n",
       "      <td>W</td>\n",
       "      <td>1</td>\n",
       "      <td>...</td>\n",
       "      <td>0</td>\n",
       "      <td>0</td>\n",
       "      <td>0</td>\n",
       "      <td>0</td>\n",
       "    </tr>\n",
       "    <tr>\n",
       "      <th>...</th>\n",
       "      <td>...</td>\n",
       "      <td>...</td>\n",
       "      <td>...</td>\n",
       "      <td>...</td>\n",
       "      <td>...</td>\n",
       "      <td>...</td>\n",
       "      <td>...</td>\n",
       "      <td>...</td>\n",
       "      <td>...</td>\n",
       "    </tr>\n",
       "    <tr>\n",
       "      <th>290</th>\n",
       "      <td>Swamp</td>\n",
       "      <td>['Land']</td>\n",
       "      <td>B</td>\n",
       "      <td>0</td>\n",
       "      <td>...</td>\n",
       "      <td>0</td>\n",
       "      <td>0</td>\n",
       "      <td>31</td>\n",
       "      <td>0</td>\n",
       "    </tr>\n",
       "    <tr>\n",
       "      <th>291</th>\n",
       "      <td>Mountain</td>\n",
       "      <td>['Land']</td>\n",
       "      <td>R</td>\n",
       "      <td>0</td>\n",
       "      <td>...</td>\n",
       "      <td>0</td>\n",
       "      <td>0</td>\n",
       "      <td>3</td>\n",
       "      <td>0</td>\n",
       "    </tr>\n",
       "    <tr>\n",
       "      <th>292</th>\n",
       "      <td>Mountain</td>\n",
       "      <td>['Land']</td>\n",
       "      <td>R</td>\n",
       "      <td>0</td>\n",
       "      <td>...</td>\n",
       "      <td>0</td>\n",
       "      <td>0</td>\n",
       "      <td>0</td>\n",
       "      <td>0</td>\n",
       "    </tr>\n",
       "    <tr>\n",
       "      <th>293</th>\n",
       "      <td>Forest</td>\n",
       "      <td>['Land']</td>\n",
       "      <td>G</td>\n",
       "      <td>0</td>\n",
       "      <td>...</td>\n",
       "      <td>0</td>\n",
       "      <td>0</td>\n",
       "      <td>0</td>\n",
       "      <td>0</td>\n",
       "    </tr>\n",
       "    <tr>\n",
       "      <th>294</th>\n",
       "      <td>Forest</td>\n",
       "      <td>['Land']</td>\n",
       "      <td>G</td>\n",
       "      <td>0</td>\n",
       "      <td>...</td>\n",
       "      <td>0</td>\n",
       "      <td>0</td>\n",
       "      <td>0</td>\n",
       "      <td>0</td>\n",
       "    </tr>\n",
       "  </tbody>\n",
       "</table>\n",
       "<p>295 rows × 56 columns</p>\n",
       "</div>"
      ],
      "text/plain": [
       "            name_x            types colorIdentity  W  ...  indianred  beige  \\\n",
       "0     Animate Wall  ['Enchantment']             W  1  ...          0      0   \n",
       "1       Armageddon      ['Sorcery']             W  1  ...          0      0   \n",
       "2          Balance      ['Sorcery']             W  1  ...          0      0   \n",
       "3    Benalish Hero     ['Creature']             W  1  ...          0      0   \n",
       "4       Black Ward  ['Enchantment']             W  1  ...          0      0   \n",
       "..             ...              ...           ... ..  ...        ...    ...   \n",
       "290          Swamp         ['Land']             B  0  ...          0      0   \n",
       "291       Mountain         ['Land']             R  0  ...          0      0   \n",
       "292       Mountain         ['Land']             R  0  ...          0      0   \n",
       "293         Forest         ['Land']             G  0  ...          0      0   \n",
       "294         Forest         ['Land']             G  0  ...          0      0   \n",
       "\n",
       "     silver  darkolivegreen  \n",
       "0        25               0  \n",
       "1         0               0  \n",
       "2         0               0  \n",
       "3         0               0  \n",
       "4         0               0  \n",
       "..      ...             ...  \n",
       "290      31               0  \n",
       "291       3               0  \n",
       "292       0               0  \n",
       "293       0               0  \n",
       "294       0               0  \n",
       "\n",
       "[295 rows x 56 columns]"
      ]
     },
     "execution_count": 80,
     "metadata": {},
     "output_type": "execute_result"
    }
   ],
   "source": [
    "merged_df"
   ]
  },
  {
   "cell_type": "markdown",
   "id": "18a27e56",
   "metadata": {},
   "source": [
    "## Save dataframe and export to CSV."
   ]
  },
  {
   "cell_type": "code",
   "execution_count": 77,
   "id": "2bbbe98c",
   "metadata": {},
   "outputs": [],
   "source": [
    "merged_df.to_csv(\"C:\\\\Users\\\\chris\\\\Desktop\\\\lea_color_data.csv\", index=False)"
   ]
  }
 ],
 "metadata": {
  "kernelspec": {
   "display_name": "Python 3 (ipykernel)",
   "language": "python",
   "name": "python3"
  },
  "language_info": {
   "codemirror_mode": {
    "name": "ipython",
    "version": 3
   },
   "file_extension": ".py",
   "mimetype": "text/x-python",
   "name": "python",
   "nbconvert_exporter": "python",
   "pygments_lexer": "ipython3",
   "version": "3.10.2"
  }
 },
 "nbformat": 4,
 "nbformat_minor": 5
}
