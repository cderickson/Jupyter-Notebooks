{
 "cells": [
  {
   "cell_type": "markdown",
   "id": "eb32f744",
   "metadata": {},
   "source": [
    "## Adding Libraries, Importing Dataset."
   ]
  },
  {
   "cell_type": "code",
   "execution_count": 11,
   "id": "b1387179",
   "metadata": {},
   "outputs": [],
   "source": [
    "options(dplyr.summarise.inform = FALSE)\n",
    "options(warn = -1)\n",
    "library(tidyverse)\n",
    "library(baseballr)\n",
    "library(ggthemes) # Themes for ggplot2.\n",
    "library(ggimage) # Supports images in ggplot2.\n",
    "library(gt) # Create tables.\n",
    "library(readr) # Read in datasets.\n",
    "library(scatterplot3d)\n",
    "library(reshape)\n",
    "library(ExcelFunctionsR)"
   ]
  },
  {
   "cell_type": "code",
   "execution_count": 3,
   "id": "be9e2504",
   "metadata": {},
   "outputs": [],
   "source": [
    "# Custom plot settings.\n",
    "theme_reach <- function() {\n",
    "  theme_fivethirtyeight() +\n",
    "    theme(\n",
    "      legend.position = \"none\",\n",
    "      plot.title = element_text(size = 22, hjust = 0.5, face = \"bold\"),\n",
    "      plot.subtitle = element_text(size = 18, hjust = 0.5),\n",
    "      plot.caption = element_text(size = 16),\n",
    "      axis.title.x = element_text(size=18, margin = margin(t = 20)),\n",
    "      axis.title.y = element_text(size=18, margin = margin(r = 20)),\n",
    "      axis.text = element_text(size = 14),\n",
    "      strip.text = element_text(size = 16, face = \"bold\"),\n",
    "      legend.text = element_text(size = 14)\n",
    "    )\n",
    "}"
   ]
  },
  {
   "cell_type": "code",
   "execution_count": 4,
   "id": "f7d5b39d",
   "metadata": {},
   "outputs": [],
   "source": [
    "all_data_2021 <- read.csv(file = \"C:/Users/chris/Documents/Datasets/BaseballR/2021/2021merged.csv\")"
   ]
  },
  {
   "cell_type": "markdown",
   "id": "b44137bc",
   "metadata": {},
   "source": [
    "## Filter Dataset and Divide into Pre/Post-8-21-2021 Subsets."
   ]
  },
  {
   "cell_type": "code",
   "execution_count": 46,
   "id": "f2fdaa84",
   "metadata": {},
   "outputs": [],
   "source": [
    "logan_all <- all_data_2021 %>%\n",
    "  filter(pitcher == 669302)\n",
    "\n",
    "logan_pre <- logan_all %>%\n",
    "  filter(game_date.y <= \"2021-08-21\") %>%\n",
    "  filter(!is.na(release_spin_rate))\n",
    "logan_post <- logan_all %>%\n",
    "  filter(game_date.y > \"2021-08-21\") %>%\n",
    "  filter(!is.na(release_spin_rate))"
   ]
  },
  {
   "cell_type": "markdown",
   "id": "79175e26",
   "metadata": {},
   "source": [
    "## Functions to calculate 3-dimensional distance from the average for each release point."
   ]
  },
  {
   "cell_type": "code",
   "execution_count": 47,
   "id": "6222ab8d",
   "metadata": {},
   "outputs": [],
   "source": [
    "distance_pre = function(x, output){\n",
    "  P = x[\"pitch_name\"]\n",
    "  A = x[\"release_pos_x\"]\n",
    "  B = x[\"release_pos_y\"]\n",
    "  C = x[\"release_pos_z\"]\n",
    "  D = 0\n",
    "  D = ifelse(P == \"4-Seam Fastball\", (dist(rbind(zero_loc1, c(A, B, C)))), D)\n",
    "  D = ifelse(P == \"Changeup\", (dist(rbind(zero_loc2, c(A, B, C)))), D)\n",
    "  D = ifelse(P == \"Knuckle Curve\", (dist(rbind(zero_loc3, c(A, B, C)))), D)\n",
    "  D = ifelse(P == \"Slider\", (dist(rbind(zero_loc4, c(A, B, C)))), D)\n",
    "  \n",
    "  return(D)\n",
    "}\n",
    "distance_post = function(x, output){\n",
    "  P = x[\"pitch_name\"]\n",
    "  A = x[\"release_pos_x\"]\n",
    "  B = x[\"release_pos_y\"]\n",
    "  C = x[\"release_pos_z\"]\n",
    "  D = 0\n",
    "  D = ifelse(P == \"4-Seam Fastball\", (dist(rbind(zero_loc_post1, c(A, B, C)))), D)\n",
    "  D = ifelse(P == \"Changeup\", (dist(rbind(zero_loc_post2, c(A, B, C)))), D)\n",
    "  D = ifelse(P == \"Knuckle Curve\", (dist(rbind(zero_loc_post3, c(A, B, C)))), D)\n",
    "  D = ifelse(P == \"Slider\", (dist(rbind(zero_loc_post4, c(A, B, C)))), D)\n",
    "  \n",
    "  return(D)\n",
    "}"
   ]
  },
  {
   "cell_type": "markdown",
   "id": "4c62c253",
   "metadata": {},
   "source": [
    "## Calculating average release point by pitch for each subset."
   ]
  },
  {
   "cell_type": "code",
   "execution_count": 48,
   "id": "70b02219",
   "metadata": {},
   "outputs": [],
   "source": [
    "logan_pre_grp <- logan_pre %>%\n",
    "  group_by(pitch_name) %>%\n",
    "  summarize(avg_release_x = mean(release_pos_x), \n",
    "            avg_release_y = mean(release_pos_y), \n",
    "            avg_release_z = mean(release_pos_z))\n",
    "\n",
    "logan_post_grp <- logan_post %>%\n",
    "  group_by(pitch_name) %>%\n",
    "  summarize(avg_release_x = mean(release_pos_x), \n",
    "            avg_release_y = mean(release_pos_y), \n",
    "            avg_release_z = mean(release_pos_z))\n",
    "\n",
    "zero_loc1 <- c(logan_pre_grp[1,]$avg_release_x, logan_pre_grp[1,]$avg_release_y, logan_pre_grp[1,]$avg_release_z)\n",
    "zero_loc2 <- c(logan_pre_grp[2,]$avg_release_x, logan_pre_grp[2,]$avg_release_y, logan_pre_grp[2,]$avg_release_z)\n",
    "zero_loc3 <- c(logan_pre_grp[3,]$avg_release_x, logan_pre_grp[3,]$avg_release_y, logan_pre_grp[3,]$avg_release_z)\n",
    "zero_loc4 <- c(logan_pre_grp[4,]$avg_release_x, logan_pre_grp[4,]$avg_release_y, logan_pre_grp[4,]$avg_release_z)\n",
    "\n",
    "zero_loc_post1 <- c(logan_post_grp[1,]$avg_release_x, logan_post_grp[1,]$avg_release_y, logan_post_grp[1,]$avg_release_z)\n",
    "zero_loc_post2 <- c(logan_post_grp[2,]$avg_release_x, logan_post_grp[2,]$avg_release_y, logan_post_grp[2,]$avg_release_z)\n",
    "zero_loc_post3 <- c(logan_post_grp[3,]$avg_release_x, logan_post_grp[3,]$avg_release_y, logan_post_grp[3,]$avg_release_z)\n",
    "zero_loc_post4 <- c(logan_post_grp[4,]$avg_release_x, logan_post_grp[4,]$avg_release_y, logan_post_grp[4,]$avg_release_z)"
   ]
  },
  {
   "cell_type": "markdown",
   "id": "5c0e0c06",
   "metadata": {},
   "source": [
    "## Calculating 3-dimensional change in average release points by pitch."
   ]
  },
  {
   "cell_type": "code",
   "execution_count": null,
   "id": "e30a8b80",
   "metadata": {},
   "outputs": [],
   "source": [
    "diff1 <- dist(rbind(zero_loc1, c(logan_post_grp[1,]$avg_release_x, \n",
    "                                 logan_post_grp[1,]$avg_release_y, \n",
    "                                 logan_post_grp[1,]$avg_release_z)))\n",
    "diff2 <- dist(rbind(zero_loc2, c(logan_post_grp[2,]$avg_release_x, \n",
    "                                 logan_post_grp[2,]$avg_release_y, \n",
    "                                 logan_post_grp[2,]$avg_release_z)))\n",
    "diff3 <- dist(rbind(zero_loc3, c(logan_post_grp[3,]$avg_release_x, \n",
    "                                 logan_post_grp[3,]$avg_release_y, \n",
    "                                 logan_post_grp[3,]$avg_release_z)))\n",
    "diff4 <- dist(rbind(zero_loc4, c(logan_post_grp[4,]$avg_release_x, \n",
    "                                 logan_post_grp[4,]$avg_release_y, \n",
    "                                 logan_post_grp[4,]$avg_release_z)))"
   ]
  },
  {
   "cell_type": "markdown",
   "id": "3f79d7d3",
   "metadata": {},
   "source": [
    "## Computing Release Point Differences, 3-dimensional Movement, and Release Point Variance for Each Pitch."
   ]
  },
  {
   "cell_type": "code",
   "execution_count": 49,
   "id": "ca15caaa",
   "metadata": {},
   "outputs": [],
   "source": [
    "logan_pre$release_point_diff <- apply(logan_pre, 1, distance_pre)\n",
    "logan_post$release_point_diff <- apply(logan_post, 1, distance_post)\n",
    "\n",
    "logan_pre$movement_abs <- sqrt((logan_pre$pfx_x ^ 2) + (logan_pre$pfx_z ^ 2))\n",
    "logan_post$movement_abs <- sqrt((logan_post$pfx_x ^ 2) + (logan_post$pfx_z ^ 2))\n",
    "\n",
    "variance_pre <- logan_pre %>%\n",
    "  group_by(pitch_name) %>%\n",
    "  summarize(variance = mean(release_point_diff ^2))\n",
    "\n",
    "variance_post <- logan_post %>%\n",
    "  group_by(pitch_name) %>%\n",
    "  summarize(variance = mean(release_point_diff ^2))"
   ]
  },
  {
   "cell_type": "markdown",
   "id": "3d1cad62",
   "metadata": {},
   "source": [
    "## Computing Columns for Each Subset."
   ]
  },
  {
   "cell_type": "code",
   "execution_count": 50,
   "id": "06174315",
   "metadata": {},
   "outputs": [],
   "source": [
    "logan_pre <- logan_pre %>%\n",
    "  group_by(pitch_name) %>%\n",
    "  summarize(count = n(), \n",
    "            avg_spin_rate = mean(release_spin_rate), \n",
    "            spin_rate_stdev = sd(release_spin_rate),\n",
    "            avg_mph = mean(release_speed), \n",
    "            mph_stdev = sd(release_speed),\n",
    "            avg_release_x = mean(release_pos_x), \n",
    "            avg_release_y = mean(release_pos_y), \n",
    "            avg_release_z = mean(release_pos_z),\n",
    "            release_x_stdev = sd(release_pos_x), \n",
    "            release_y_stdev = sd(release_pos_y), \n",
    "            release_z_stdev = sd(release_pos_z),\n",
    "            avg_movement_x = mean(pfx_x), \n",
    "            movement_x_stdev = sd(pfx_x),\n",
    "            avg_movement_z = mean(pfx_z), \n",
    "            movement_z_stdev = sd(pfx_z),\n",
    "            avg_plate_x = mean(plate_x), \n",
    "            avg_plate_z = mean(plate_z),\n",
    "            plate_x_stdev = sd(plate_x),\n",
    "            plate_z_stdev = sd(plate_z),\n",
    "            avg_release_diff = mean(release_point_diff),\n",
    "            release_diff_stdev = sd(release_point_diff),\n",
    "            avg_movement_abs = mean(movement_abs),\n",
    "            movement_abs_stdev = sd(movement_abs))\n",
    "logan_pre$date_range <- c(\"Through 8-21\", \"Through 8-21\", \"Through 8-21\", \"Through 8-21\")\n",
    "\n",
    "logan_post <- logan_post %>%\n",
    "  group_by(pitch_name) %>%\n",
    "  summarize(count = n(), \n",
    "            avg_spin_rate = mean(release_spin_rate), \n",
    "            spin_rate_stdev = sd(release_spin_rate),\n",
    "            avg_mph = mean(release_speed), \n",
    "            mph_stdev = sd(release_speed),\n",
    "            avg_release_x = mean(release_pos_x), \n",
    "            avg_release_y = mean(release_pos_y), \n",
    "            avg_release_z = mean(release_pos_z),\n",
    "            release_x_stdev = sd(release_pos_x), \n",
    "            release_y_stdev = sd(release_pos_y), \n",
    "            release_z_stdev = sd(release_pos_z),\n",
    "            avg_movement_x = mean(pfx_x), \n",
    "            movement_x_stdev = sd(pfx_x),\n",
    "            avg_movement_z = mean(pfx_z), \n",
    "            movement_z_stdev = sd(pfx_z),\n",
    "            avg_plate_x = mean(plate_x), \n",
    "            avg_plate_z = mean(plate_z),\n",
    "            plate_x_stdev = sd(plate_x),\n",
    "            plate_z_stdev = sd(plate_z),\n",
    "            avg_release_diff = mean(release_point_diff),\n",
    "            release_diff_stdev = sd(release_point_diff),\n",
    "            avg_movement_abs = mean(movement_abs),\n",
    "            movement_abs_stdev = sd(movement_abs))\n",
    "logan_post$date_range <- c(\"After 8-21\", \"After 8-21\", \"After 8-21\", \"After 8-21\")"
   ]
  },
  {
   "cell_type": "markdown",
   "id": "1730a842",
   "metadata": {},
   "source": [
    "## Adding Release Point Variance Column to our Tables."
   ]
  },
  {
   "cell_type": "code",
   "execution_count": 51,
   "id": "8478cf61",
   "metadata": {},
   "outputs": [],
   "source": [
    "logan_pre <- merge(logan_pre, variance_pre, by = \"pitch_name\")\n",
    "logan_post <- merge(logan_post, variance_post, by = \"pitch_name\")"
   ]
  },
  {
   "cell_type": "markdown",
   "id": "9ee0fd15",
   "metadata": {},
   "source": [
    "## Creating Table to Show Differences Between Subsets."
   ]
  },
  {
   "cell_type": "code",
   "execution_count": 53,
   "id": "8499fc33",
   "metadata": {},
   "outputs": [],
   "source": [
    "logan_diff <- data.frame(pitch_name = logan_pre$pitch_name)\n",
    "\n",
    "diff_matrix <- data.matrix(subset(logan_post, select = -c(pitch_name, count, date_range))) - \n",
    "               data.matrix(subset(logan_pre, select = -c(pitch_name, count, date_range)))\n",
    "\n",
    "logan_diff <- cbind(logan_diff, diff_matrix)\n",
    "logan_diff$diff_3d <- c(diff1, diff2, diff3, diff4)"
   ]
  },
  {
   "cell_type": "markdown",
   "id": "a27eabe0",
   "metadata": {},
   "source": [
    "## Combine Data and Format Before Outputting to Table Visualization."
   ]
  },
  {
   "cell_type": "code",
   "execution_count": 57,
   "id": "656be462",
   "metadata": {},
   "outputs": [],
   "source": [
    "logan_all_by_pitch <- rbind(logan_pre, logan_post)\n",
    "\n",
    "logan_statcast_table <- logan_all_by_pitch[, c(25, 1, 2, 5, 3, 7, 8, 9, 13, 15, 23)]\n",
    "logan_statcast_table$avg_mph <- round(logan_statcast_table$avg_mph, 1)\n",
    "logan_statcast_table$avg_spin_rate <- round(logan_statcast_table$avg_spin_rate)\n",
    "logan_statcast_table$avg_release_x <- round(logan_statcast_table$avg_release_x, 2)\n",
    "logan_statcast_table$avg_release_y <- round(logan_statcast_table$avg_release_y, 2)\n",
    "logan_statcast_table$avg_release_z <- round(logan_statcast_table$avg_release_z, 2)\n",
    "logan_statcast_table$avg_movement_x <- round(logan_statcast_table$avg_movement_x * 12, 2)\n",
    "logan_statcast_table$avg_movement_z <- round(logan_statcast_table$avg_movement_z * 12, 2)\n",
    "logan_statcast_table$avg_movement_abs <- round(logan_statcast_table$avg_movement_abs * 12, 2)\n",
    "logan_statcast_table$date_range <- c(\"Through 8-21\",\"\",\"\",\"\",\"After 8-21\",\"\",\"\",\"\")"
   ]
  },
  {
   "cell_type": "markdown",
   "id": "00e877ee",
   "metadata": {},
   "source": [
    "## Create and Save 'Statcast Data by Pitch' Table."
   ]
  },
  {
   "cell_type": "code",
   "execution_count": 58,
   "id": "5e90297c",
   "metadata": {},
   "outputs": [],
   "source": [
    "logan_statcast_table_gt <- logan_statcast_table %>%\n",
    "  gt() %>%\n",
    "  cols_label(date_range = \"Date Range\",\n",
    "             pitch_name = \"Pitch Name\",\n",
    "             count = \"Pitch Count\",\n",
    "             avg_mph = \"MPH\",\n",
    "             avg_spin_rate = \"Spin Rate\",\n",
    "             avg_release_x = \"X\",\n",
    "             avg_release_y = \"Y\",\n",
    "             avg_release_z = \"Z\",\n",
    "             avg_movement_x = \"Horizontal\",\n",
    "             avg_movement_z = \"Vertical\",\n",
    "             avg_movement_abs = \"Absolute\",) %>%\n",
    "  cols_align(align = \"center\",\n",
    "             columns = c(count, avg_mph, avg_spin_rate, avg_release_x, avg_release_y, avg_release_z, \n",
    "                         avg_movement_x, avg_movement_z, avg_movement_abs)) %>%\n",
    "  gtExtras::gt_theme_espn() %>%\n",
    "  tab_header(title = \"Logan Gilbert Statcast Data by Pitch, 2021\") %>%\n",
    "  tab_style(style = cell_borders(sides = \"right\",\n",
    "                                 color = \"#D3D3D3\",\n",
    "                                 weight = px(2)),\n",
    "            locations = cells_body(columns = c(pitch_name, avg_spin_rate, avg_release_z),\n",
    "                                   rows = everything())) %>%\n",
    "  tab_style(style = cell_borders(sides = \"top\",\n",
    "                                 color = \"#808080\",\n",
    "                                 weight = px(4)),\n",
    "            locations = cells_body(columns = everything(),\n",
    "                                   rows = 1)) %>%\n",
    "  tab_style(style = cell_borders(sides = \"bottom\",\n",
    "                                 color = \"#808080\",\n",
    "                                 weight = px(4)),\n",
    "            locations = cells_body(columns = everything(),\n",
    "                                   rows = 4)) %>%\n",
    "  tab_spanner(label = \"Release Point (ft)\", columns = c(avg_release_x, avg_release_y, avg_release_z)) %>%\n",
    "  tab_spanner(label = \"Spin Induced Movement (in)\", columns = c(avg_movement_x, avg_movement_z, avg_movement_abs))"
   ]
  },
  {
   "cell_type": "code",
   "execution_count": 59,
   "id": "03632d6d",
   "metadata": {},
   "outputs": [],
   "source": [
    "gtsave(logan_statcast_table_gt, \"logan_statcast_table_gt.png\")"
   ]
  },
  {
   "cell_type": "markdown",
   "id": "57db2a5f",
   "metadata": {},
   "source": [
    "## Format and Arrange 'Differences' Table. "
   ]
  },
  {
   "cell_type": "code",
   "execution_count": 61,
   "id": "a2d61edd",
   "metadata": {},
   "outputs": [],
   "source": [
    "logan_diff$avg_movement_x <- ((logan_post$avg_movement_x-logan_pre$avg_movement_x)/logan_pre$avg_movement_x)*100\n",
    "logan_diff$avg_movement_z <- ((logan_post$avg_movement_z-logan_pre$avg_movement_z)/logan_pre$avg_movement_z)*100\n",
    "logan_diff$avg_movement_abs <- ((logan_post$avg_movement_abs-logan_pre$avg_movement_abs)/logan_pre$avg_movement_abs)*100\n",
    "logan_diff$movement_abs_stdev <- ((logan_post$movement_abs_stdev-logan_pre$movement_abs_stdev)/logan_pre$movement_abs_stdev)*100\n",
    "logan_diff$spin_rate_stdev <- ((logan_post$spin_rate_stdev-logan_pre$spin_rate_stdev)/logan_pre$spin_rate_stdev)*100\n",
    "logan_diff$mph_stdev <- ((logan_post$mph_stdev-logan_pre$mph_stdev)/logan_pre$mph_stdev)*100\n",
    "logan_diff$release_x_stdev <- ((logan_post$release_x_stdev-logan_pre$release_x_stdev)/logan_pre$release_x_stdev)*100\n",
    "logan_diff$release_y_stdev <- ((logan_post$release_y_stdev-logan_pre$release_y_stdev)/logan_pre$release_y_stdev)*100\n",
    "logan_diff$release_z_stdev <- ((logan_post$release_z_stdev-logan_pre$release_z_stdev)/logan_pre$release_z_stdev)*100\n",
    "logan_diff$release_diff_stdev <- ((logan_post$release_diff_stdev-logan_pre$release_diff_stdev)/logan_pre$release_diff_stdev)*100\n",
    "logan_diff$movement_x_stdev <- ((logan_post$movement_x_stdev-logan_pre$movement_x_stdev)/logan_pre$movement_x_stdev)*100\n",
    "logan_diff$movement_z_stdev <- ((logan_post$movement_z_stdev-logan_pre$movement_z_stdev)/logan_pre$movement_z_stdev)*100\n",
    "logan_diff$variance <- ((logan_post$variance-logan_pre$variance)/logan_pre$variance)*100\n",
    "\n",
    "logan_diff$avg_mph <- as.character(round(logan_diff$avg_mph, 1))\n",
    "logan_diff$avg_spin_rate <- as.character(round(logan_diff$avg_spin_rate, 0))\n",
    "logan_diff$avg_release_x <- paste(as.character(round(logan_diff$avg_release_x * 12, 1)), \"in\", sep = \" \")\n",
    "logan_diff$avg_release_y <- paste(as.character(round(logan_diff$avg_release_y * 12, 1)), \"in\", sep = \" \")\n",
    "logan_diff$avg_release_z <- paste(as.character(round(logan_diff$avg_release_z * 12, 1)), \"in\", sep = \" \")\n",
    "logan_diff$avg_movement_x <- as.character(round(logan_diff$avg_movement_x, 0))\n",
    "logan_diff$avg_movement_z <- as.character(round(logan_diff$avg_movement_z, 0))\n",
    "logan_diff$avg_movement_abs <- as.character(round(logan_diff$avg_movement_abs, 0))\n",
    "logan_diff$movement_abs_stdev <- as.character(round(logan_diff$movement_abs_stdev, 0))\n",
    "logan_diff$spin_rate_stdev <- as.character(round(logan_diff$spin_rate_stdev, 0))\n",
    "logan_diff$mph_stdev <- as.character(round(logan_diff$mph_stdev, 0))\n",
    "logan_diff$release_x_stdev <- as.character(round(logan_diff$release_x_stdev, 0))\n",
    "logan_diff$release_y_stdev <- as.character(round(logan_diff$release_y_stdev, 0))\n",
    "logan_diff$release_z_stdev <- as.character(round(logan_diff$release_z_stdev, 0))\n",
    "logan_diff$avg_release_diff <- paste(as.character(round(logan_diff$avg_release_diff * 12, 1)), \"in\", sep = \" \")\n",
    "logan_diff$release_diff_stdev <- as.character(round(logan_diff$release_diff_stdev, 0))\n",
    "logan_diff$movement_x_stdev <- as.character(round(logan_diff$movement_x_stdev, 0))\n",
    "logan_diff$movement_z_stdev <- as.character(round(logan_diff$movement_z_stdev, 0))\n",
    "logan_diff$variance <- as.character(round(logan_diff$variance, 0))\n",
    "logan_diff$diff_3d <- paste(as.character(round(logan_diff$diff_3d * 12, 1)), \"in\", sep = \" \")\n",
    "\n",
    "logan_diff_table <- logan_diff[, c(1, 4, 5, 2, 3, 6, 7, 8, 9, 10, 11, 12, 14, 13, 15, 22, 23, 25, 24)]"
   ]
  },
  {
   "cell_type": "markdown",
   "id": "58d01414",
   "metadata": {},
   "source": [
    "## Melt Table Twice to Arrange Vertically in Two Columns."
   ]
  },
  {
   "cell_type": "code",
   "execution_count": 64,
   "id": "3f89fc8d",
   "metadata": {},
   "outputs": [],
   "source": [
    "logan_melt <- melt(logan_diff_table, id = c(\"pitch_name\"))\n",
    "\n",
    "logan_melt1 <- logan_melt %>%\n",
    "  filter(variable %in% c(\"mph_stdev\", \"spin_rate_stdev\", \"release_x_stdev\", \"release_y_stdev\", \"release_z_stdev\",\n",
    "                         \"movement_x_stdev\", \"movement_z_stdev\", \"movement_abs_stdev\", \"variance\"))\n",
    "logan_melt1$value <- paste(as.character(logan_melt1$value), \"%\", sep = \"\")\n",
    "logan_melt1$value <- ifelse(!grepl(\"-\", logan_melt1$value), \n",
    "                            paste(\"+\", as.character(logan_melt1$value), sep = \"\"),\n",
    "                            logan_melt1$value)\n",
    "\n",
    "logan_melt2 <- logan_melt %>%\n",
    "  filter(variable %in% c(\"avg_mph\", \"avg_spin_rate\", \"avg_release_x\", \"avg_release_y\", \"avg_release_z\",\n",
    "                          \"avg_movement_x\", \"avg_movement_z\", \"avg_movement_abs\", \"diff_3d\"))\n",
    "logan_melt2$value <- ifelse(logan_melt2$variable %in% c(\"avg_movement_x\", \"avg_movement_z\", \"avg_movement_abs\"), \n",
    "                            paste(as.character(logan_melt2$value), \"%\", sep = \"\"),\n",
    "                            logan_melt2$value)\n",
    "logan_melt2$value <- ifelse((!grepl(\"-\", logan_melt2$value)) & (logan_melt2$variable != \"diff_3d\"), \n",
    "                            paste(\"+\", as.character(logan_melt2$value), sep = \"\"),\n",
    "                            logan_melt2$value)\n",
    "logan_melt2$value <- ifelse(logan_melt2$variable == \"avg_mph\", \n",
    "                            paste(as.character(logan_melt2$value), \"mph\", sep = \" \"),\n",
    "                            logan_melt2$value)\n",
    "logan_melt2$value <- ifelse(logan_melt2$variable == \"avg_spin_rate\", \n",
    "                            paste(as.character(logan_melt2$value), \"rpm\", sep = \" \"),\n",
    "                            logan_melt2$value)\n",
    "\n",
    "logan_diff_table2 <- cbind(logan_melt2, logan_melt1)\n",
    "logan_diff_table2 <- logan_diff_table2[-4]"
   ]
  },
  {
   "cell_type": "markdown",
   "id": "d11c45a6",
   "metadata": {},
   "source": [
    "## Format Column Names. Arrange Rows before Outputting to Table."
   ]
  },
  {
   "cell_type": "code",
   "execution_count": 66,
   "id": "51e8517a",
   "metadata": {},
   "outputs": [],
   "source": [
    "logan_diff_table2$variable <- case_when(logan_diff_table2$variable == \"avg_mph\" ~ \"MPH\",\n",
    "                                        logan_diff_table2$variable == \"avg_spin_rate\" ~ \"Spin Rate\",\n",
    "                                        logan_diff_table2$variable == \"avg_release_x\" ~ \"Release X\",\n",
    "                                        logan_diff_table2$variable == \"avg_release_y\" ~ \"Release Y\",\n",
    "                                        logan_diff_table2$variable == \"avg_release_z\" ~ \"Release Z\",\n",
    "                                        logan_diff_table2$variable == \"diff_3d\" ~ \"\\U0394 Release Point Absolute\",\n",
    "                                        logan_diff_table2$variable == \"avg_movement_x\" ~ \"Movement X\",\n",
    "                                        logan_diff_table2$variable == \"avg_movement_z\" ~ \"Movement Z\",\n",
    "                                        logan_diff_table2$variable == \"avg_movement_abs\" ~ \"Movement\")\n",
    "\n",
    "logan_diff_table2$variable.1 <- case_when(logan_diff_table2$variable.1 == \"mph_stdev\" ~ \"MPH \\U03C3\",\n",
    "                                          logan_diff_table2$variable.1 == \"spin_rate_stdev\" ~ \"Spin Rate \\U03C3\",\n",
    "                                          logan_diff_table2$variable.1 == \"release_x_stdev\" ~ \"Release Point X \\U03C3\",\n",
    "                                          logan_diff_table2$variable.1 == \"release_y_stdev\" ~ \"Release Point Y \\U03C3\",\n",
    "                                          logan_diff_table2$variable.1 == \"release_z_stdev\" ~ \"Release Point Z \\U03C3\",\n",
    "                                          logan_diff_table2$variable.1 == \"movement_x_stdev\" ~ \"Movement X \\U03C3\",\n",
    "                                          logan_diff_table2$variable.1 == \"movement_z_stdev\" ~ \"Movement Z \\U03C3\",\n",
    "                                          logan_diff_table2$variable.1 == \"movement_abs_stdev\" ~ \"Total Movement \\U03C3\",\n",
    "                                          logan_diff_table2$variable.1 == \"variance\" ~ \"Release Point Variance\")\n",
    "\n",
    "logan_diff_table2 <- rbind(logan_diff_table2[1:8,], \n",
    "                           logan_diff_table2[29:32,], \n",
    "                           logan_diff_table2[21:28,],\n",
    "                           logan_diff_table2[9:20,],\n",
    "                           logan_diff_table2[33:36,])"
   ]
  },
  {
   "cell_type": "markdown",
   "id": "2b12f556",
   "metadata": {},
   "source": [
    "## Create and Save 'Differences' Table."
   ]
  },
  {
   "cell_type": "code",
   "execution_count": 68,
   "id": "415874c8",
   "metadata": {},
   "outputs": [],
   "source": [
    "logan_diff_table2_gt <- logan_diff_table2 %>%\n",
    "  gt(groupname_col = \"pitch_name\") %>%\n",
    "  cols_label(variable.1 = \"Standard Deviation\",\n",
    "             value.1 = \"Value\") %>%\n",
    "  cols_align(align = \"left\",\n",
    "             columns = c(\"variable\", \"value\", \"variable.1\", \"value.1\")) %>%\n",
    "  cols_align(align = \"center\",\n",
    "             columns = c(\"value\", \"value.1\")) %>%\n",
    "  gtExtras::gt_theme_espn() %>%\n",
    "  tab_header(title = \"Logan Gilbert Pitch Comparison, 2021\",\n",
    "             subtitle = \"Post-8-21-21 Data Shown in Relation to Pre-8-21-21 Data\") %>%\n",
    "  tab_options(table.width = pct(100)) %>%\n",
    "  tab_style(style = cell_fill(color = \"#90EE90\"),\n",
    "            locations = cells_body(columns = value,\n",
    "                                   rows = (!grepl(\"-\", value)) & !(variable %in% c(\"Release X\", \n",
    "                                                                                   \"Release Y\", \n",
    "                                                                                   \"Release Z\",\n",
    "                                                                                   \"Movement X\",\n",
    "                                                                                   \"Movement Z\",\n",
    "                                                                                   \"\\U0394 Release Point Absolute\")))) %>%\n",
    "  tab_style(style = cell_fill(color = \"#ff726f\"),\n",
    "            locations = cells_body(columns = value,\n",
    "                                   rows = (grepl(\"-\", value)) & !(variable %in% c(\"Release X\", \n",
    "                                                                                  \"Release Y\", \n",
    "                                                                                  \"Release Z\",\n",
    "                                                                                  \"Movement X\",\n",
    "                                                                                  \"Movement Z\",\n",
    "                                                                                  \"\\U0394 Release Point Absolute\")))) %>%\n",
    "  tab_style(style = cell_fill(color = \"#90EE90\"),\n",
    "            locations = cells_body(columns = value.1,\n",
    "                                   rows = (grepl(\"-\", value.1)) & !(variable.1 %in% c(\"Movement X \\U03C3\",\n",
    "                                                                                      \"Movement Z \\U03C3\",\n",
    "                                                                                      \"Release Point X \\U03C3\", \n",
    "                                                                                      \"Release Point Y \\U03C3\", \n",
    "                                                                                      \"Release Point Z \\U03C3\")))) %>%\n",
    "  tab_style(style = cell_fill(color = \"#ff726f\"),\n",
    "            locations = cells_body(columns = value.1,\n",
    "                                   rows = (!grepl(\"-\", value.1)) & !(variable.1 %in% c(\"Movement X \\U03C3\",\n",
    "                                                                                       \"Movement Z \\U03C3\",\n",
    "                                                                                       \"Release Point X \\U03C3\", \n",
    "                                                                                       \"Release Point Y \\U03C3\", \n",
    "                                                                                       \"Release Point Z \\U03C3\")) & (value.1 != \"\")))"
   ]
  },
  {
   "cell_type": "code",
   "execution_count": 69,
   "id": "0b1a3d62",
   "metadata": {},
   "outputs": [],
   "source": [
    "gtsave(logan_diff_table2_gt, \"logan_diff_table2_gt.png\")"
   ]
  },
  {
   "cell_type": "markdown",
   "id": "b00d63c3",
   "metadata": {},
   "source": [
    "## Filter 'Differences' Table by Pitch to Create Four Smaller Tables."
   ]
  },
  {
   "cell_type": "code",
   "execution_count": 70,
   "id": "e66ef5e7",
   "metadata": {},
   "outputs": [],
   "source": [
    "logan_diff_fb <- logan_diff_table2 %>%\n",
    "  filter(pitch_name == \"4-Seam Fastball\")\n",
    "logan_diff_fb <- subset(logan_diff_fb, select = -c(pitch_name))\n",
    "\n",
    "logan_diff_change <- logan_diff_table2 %>%\n",
    "  filter(pitch_name == \"Changeup\")\n",
    "logan_diff_change <- subset(logan_diff_change, select = -c(pitch_name))\n",
    "\n",
    "logan_diff_curve <- logan_diff_table2 %>%\n",
    "  filter(pitch_name == \"Knuckle Curve\")\n",
    "logan_diff_curve <- subset(logan_diff_curve, select = -c(pitch_name))\n",
    "\n",
    "logan_diff_slider <- logan_diff_table2 %>%\n",
    "  filter(pitch_name == \"Slider\")\n",
    "logan_diff_slider <- subset(logan_diff_slider, select = -c(pitch_name))"
   ]
  },
  {
   "cell_type": "markdown",
   "id": "f57d9947",
   "metadata": {},
   "source": [
    "## Create 'Differences-FB' Table."
   ]
  },
  {
   "cell_type": "code",
   "execution_count": 75,
   "id": "58a5b5f4",
   "metadata": {},
   "outputs": [],
   "source": [
    "logan_diff_fb_gt <- logan_diff_fb %>%\n",
    "  gt() %>%\n",
    "  cols_label(variable.1 = \"Standard Deviation\",\n",
    "             value.1 = \"Value\") %>%\n",
    "  cols_align(align = \"left\",\n",
    "             columns = c(\"variable\", \"value\", \"variable.1\", \"value.1\")) %>%\n",
    "  cols_align(align = \"center\",\n",
    "             columns = c(\"value\", \"value.1\")) %>%\n",
    "  gtExtras::gt_theme_espn() %>%\n",
    "  tab_header(title = \"Logan Gilbert Fastball Comparison, 2021\",\n",
    "             subtitle = \"Post-8-21-21 Data Shown in Relation to Pre-8-21-21 Data\") %>%\n",
    "  tab_options(table.width = pct(100)) %>%\n",
    "  tab_style(style = cell_fill(color = \"#90EE90\"),\n",
    "            locations = cells_body(columns = value,\n",
    "                                   rows = (!grepl(\"-\", value)) & !(variable %in% c(\"Release X\", \n",
    "                                                                                   \"Release Y\", \n",
    "                                                                                   \"Release Z\",\n",
    "                                                                                   \"Movement X\",\n",
    "                                                                                   \"Movement Z\",\n",
    "                                                                                   \"\\U0394 Release Point Absolute\")))) %>%\n",
    "  tab_style(style = cell_fill(color = \"#ff726f\"),\n",
    "            locations = cells_body(columns = value,\n",
    "                                   rows = (grepl(\"-\", value)) & !(variable %in% c(\"Release X\", \n",
    "                                                                                  \"Release Y\", \n",
    "                                                                                  \"Release Z\",\n",
    "                                                                                  \"Movement X\",\n",
    "                                                                                  \"Movement Z\",\n",
    "                                                                                  \"\\U0394 Release Point Absolute\")))) %>%\n",
    "  tab_style(style = cell_fill(color = \"#90EE90\"),\n",
    "            locations = cells_body(columns = value.1,\n",
    "                                   rows = (grepl(\"-\", value.1)) & !(variable.1 %in% c(\"Movement X \\U03C3\",\n",
    "                                                                                      \"Movement Z \\U03C3\",\n",
    "                                                                                      \"Release Point X \\U03C3\", \n",
    "                                                                                      \"Release Point Y \\U03C3\", \n",
    "                                                                                      \"Release Point Z \\U03C3\")))) %>%\n",
    "  tab_style(style = cell_fill(color = \"#ff726f\"),\n",
    "            locations = cells_body(columns = value.1,\n",
    "                                   rows = (!grepl(\"-\", value.1)) & !(variable.1 %in% c(\"Movement X \\U03C3\",\n",
    "                                                                                       \"Movement Z \\U03C3\",\n",
    "                                                                                       \"Release Point X \\U03C3\", \n",
    "                                                                                       \"Release Point Y \\U03C3\", \n",
    "                                                                                       \"Release Point Z \\U03C3\")) & (value.1 != \"\")))"
   ]
  },
  {
   "cell_type": "markdown",
   "id": "0b501f16",
   "metadata": {},
   "source": [
    "## Create 'Differences-Change' Table."
   ]
  },
  {
   "cell_type": "code",
   "execution_count": 73,
   "id": "4e910298",
   "metadata": {},
   "outputs": [],
   "source": [
    "logan_diff_change_gt <- logan_diff_change %>%\n",
    "  gt() %>%\n",
    "  cols_label(variable.1 = \"Standard Deviation\",\n",
    "             value.1 = \"Value\") %>%\n",
    "  cols_align(align = \"left\",\n",
    "             columns = c(\"variable\", \"value\", \"variable.1\", \"value.1\")) %>%\n",
    "  cols_align(align = \"center\",\n",
    "             columns = c(\"value\", \"value.1\")) %>%\n",
    "  gtExtras::gt_theme_espn() %>%\n",
    "  tab_header(title = \"Logan Gilbert Changeup Comparison, 2021\",\n",
    "             subtitle = \"Post-8-21-21 Data Shown in Relation to Pre-8-21-21 Data\") %>%\n",
    "  tab_options(table.width = pct(100)) %>%\n",
    "  tab_style(style = cell_fill(color = \"#90EE90\"),\n",
    "            locations = cells_body(columns = value,\n",
    "                                   rows = (!grepl(\"-\", value)) & !(variable %in% c(\"Release X\", \n",
    "                                                                                   \"Release Y\", \n",
    "                                                                                   \"Release Z\",\n",
    "                                                                                   \"Movement X\",\n",
    "                                                                                   \"Movement Z\",\n",
    "                                                                                   \"\\U0394 Release Point Absolute\")))) %>%\n",
    "  tab_style(style = cell_fill(color = \"#ff726f\"),\n",
    "            locations = cells_body(columns = value,\n",
    "                                   rows = (grepl(\"-\", value)) & !(variable %in% c(\"Release X\", \n",
    "                                                                                  \"Release Y\", \n",
    "                                                                                  \"Release Z\",\n",
    "                                                                                  \"Movement X\",\n",
    "                                                                                  \"Movement Z\",\n",
    "                                                                                  \"\\U0394 Release Point Absolute\")))) %>%\n",
    "  tab_style(style = cell_fill(color = \"#90EE90\"),\n",
    "            locations = cells_body(columns = value.1,\n",
    "                                   rows = (grepl(\"-\", value.1)) & !(variable.1 %in% c(\"Movement X \\U03C3\",\n",
    "                                                                                      \"Movement Z \\U03C3\",\n",
    "                                                                                      \"Release Point X \\U03C3\", \n",
    "                                                                                      \"Release Point Y \\U03C3\", \n",
    "                                                                                      \"Release Point Z \\U03C3\")))) %>%\n",
    "  tab_style(style = cell_fill(color = \"#ff726f\"),\n",
    "            locations = cells_body(columns = value.1,\n",
    "                                   rows = (!grepl(\"-\", value.1)) & !(variable.1 %in% c(\"Movement X \\U03C3\",\n",
    "                                                                                       \"Movement Z \\U03C3\",\n",
    "                                                                                       \"Release Point X \\U03C3\", \n",
    "                                                                                       \"Release Point Y \\U03C3\", \n",
    "                                                                                       \"Release Point Z \\U03C3\")) & (value.1 != \"\")))"
   ]
  },
  {
   "cell_type": "markdown",
   "id": "ca419095",
   "metadata": {},
   "source": [
    "## Create 'Differences-Curve' Table."
   ]
  },
  {
   "cell_type": "code",
   "execution_count": 76,
   "id": "9df7ce54",
   "metadata": {},
   "outputs": [],
   "source": [
    "logan_diff_curve_gt <- logan_diff_curve %>%\n",
    "  gt() %>%\n",
    "  cols_label(variable.1 = \"Standard Deviation\",\n",
    "             value.1 = \"Value\") %>%\n",
    "  cols_align(align = \"left\",\n",
    "             columns = c(\"variable\", \"value\", \"variable.1\", \"value.1\")) %>%\n",
    "  cols_align(align = \"center\",\n",
    "             columns = c(\"value\", \"value.1\")) %>%\n",
    "  gtExtras::gt_theme_espn() %>%\n",
    "  tab_header(title = \"Logan Gilbert Curveball Comparison, 2021\",\n",
    "             subtitle = \"Post-8-21-21 Data Shown in Relation to Pre-8-21-21 Data\") %>%\n",
    "  tab_options(table.width = pct(100)) %>%\n",
    "  tab_style(style = cell_fill(color = \"#90EE90\"),\n",
    "            locations = cells_body(columns = value,\n",
    "                                   rows = (!grepl(\"-\", value)) & !(variable %in% c(\"Release X\", \n",
    "                                                                                   \"Release Y\", \n",
    "                                                                                   \"Release Z\",\n",
    "                                                                                   \"Movement X\",\n",
    "                                                                                   \"Movement Z\",\n",
    "                                                                                   \"\\U0394 Release Point Absolute\")))) %>%\n",
    "  tab_style(style = cell_fill(color = \"#ff726f\"),\n",
    "            locations = cells_body(columns = value,\n",
    "                                   rows = (grepl(\"-\", value)) & !(variable %in% c(\"Release X\", \n",
    "                                                                                  \"Release Y\", \n",
    "                                                                                  \"Release Z\",\n",
    "                                                                                  \"Movement X\",\n",
    "                                                                                  \"Movement Z\",\n",
    "                                                                                  \"\\U0394 Release Point Absolute\")))) %>%\n",
    "  tab_style(style = cell_fill(color = \"#90EE90\"),\n",
    "            locations = cells_body(columns = value.1,\n",
    "                                   rows = (grepl(\"-\", value.1)) & !(variable.1 %in% c(\"Movement X \\U03C3\",\n",
    "                                                                                      \"Movement Z \\U03C3\",\n",
    "                                                                                      \"Release Point X \\U03C3\", \n",
    "                                                                                      \"Release Point Y \\U03C3\", \n",
    "                                                                                      \"Release Point Z \\U03C3\")))) %>%\n",
    "  tab_style(style = cell_fill(color = \"#ff726f\"),\n",
    "            locations = cells_body(columns = value.1,\n",
    "                                   rows = (!grepl(\"-\", value.1)) & !(variable.1 %in% c(\"Movement X \\U03C3\",\n",
    "                                                                                       \"Movement Z \\U03C3\",\n",
    "                                                                                       \"Release Point X \\U03C3\", \n",
    "                                                                                       \"Release Point Y \\U03C3\", \n",
    "                                                                                       \"Release Point Z \\U03C3\")) & (value.1 != \"\")))"
   ]
  },
  {
   "cell_type": "markdown",
   "id": "d0f57d7e",
   "metadata": {},
   "source": [
    "## Create 'Differences-Slider' Table."
   ]
  },
  {
   "cell_type": "code",
   "execution_count": 77,
   "id": "aa499eaa",
   "metadata": {},
   "outputs": [],
   "source": [
    "logan_diff_slider_gt <- logan_diff_slider %>%\n",
    "  gt() %>%\n",
    "  cols_label(variable.1 = \"Standard Deviation\",\n",
    "             value.1 = \"Value\") %>%\n",
    "  cols_align(align = \"left\",\n",
    "             columns = c(\"variable\", \"value\", \"variable.1\", \"value.1\")) %>%\n",
    "  cols_align(align = \"center\",\n",
    "             columns = c(\"value\", \"value.1\")) %>%\n",
    "  gtExtras::gt_theme_espn() %>%\n",
    "  tab_header(title = \"Logan Gilbert Slider Comparison, 2021\",\n",
    "             subtitle = \"Post-8-21-21 Data Shown in Relation to Pre-8-21-21 Data\") %>%\n",
    "  tab_options(table.width = pct(100)) %>%\n",
    "  tab_style(style = cell_fill(color = \"#90EE90\"),\n",
    "            locations = cells_body(columns = value,\n",
    "                                   rows = (!grepl(\"-\", value)) & !(variable %in% c(\"Release X\", \n",
    "                                                                                   \"Release Y\", \n",
    "                                                                                   \"Release Z\",\n",
    "                                                                                   \"Movement X\",\n",
    "                                                                                   \"Movement Z\",\n",
    "                                                                                   \"\\U0394 Release Point Absolute\")))) %>%\n",
    "  tab_style(style = cell_fill(color = \"#ff726f\"),\n",
    "            locations = cells_body(columns = value,\n",
    "                                   rows = (grepl(\"-\", value)) & !(variable %in% c(\"Release X\", \n",
    "                                                                                  \"Release Y\", \n",
    "                                                                                  \"Release Z\",\n",
    "                                                                                  \"Movement X\",\n",
    "                                                                                  \"Movement Z\",\n",
    "                                                                                  \"\\U0394 Release Point Absolute\")))) %>%\n",
    "  tab_style(style = cell_fill(color = \"#90EE90\"),\n",
    "            locations = cells_body(columns = value.1,\n",
    "                                   rows = (grepl(\"-\", value.1)) & !(variable.1 %in% c(\"Movement X \\U03C3\",\n",
    "                                                                                      \"Movement Z \\U03C3\",\n",
    "                                                                                      \"Release Point X \\U03C3\", \n",
    "                                                                                      \"Release Point Y \\U03C3\", \n",
    "                                                                                      \"Release Point Z \\U03C3\")))) %>%\n",
    "  tab_style(style = cell_fill(color = \"#ff726f\"),\n",
    "            locations = cells_body(columns = value.1,\n",
    "                                   rows = (!grepl(\"-\", value.1)) & !(variable.1 %in% c(\"Movement X \\U03C3\",\n",
    "                                                                                       \"Movement Z \\U03C3\",\n",
    "                                                                                       \"Release Point X \\U03C3\", \n",
    "                                                                                       \"Release Point Y \\U03C3\", \n",
    "                                                                                       \"Release Point Z \\U03C3\")) & (value.1 != \"\")))"
   ]
  },
  {
   "cell_type": "markdown",
   "id": "ffca24c1",
   "metadata": {},
   "source": [
    "## Save 'Differences by Pitch' Tables."
   ]
  },
  {
   "cell_type": "code",
   "execution_count": 78,
   "id": "da9cbfc5",
   "metadata": {},
   "outputs": [],
   "source": [
    "gtsave(logan_diff_fb_gt, \"logan-diff-fb-gt.png\")\n",
    "gtsave(logan_diff_change_gt, \"logan-diff-change-gt.png\")\n",
    "gtsave(logan_diff_curve_gt, \"logan-diff-curve-gt.png\")\n",
    "gtsave(logan_diff_slider_gt, \"logan-diff-slider-gt.png\")"
   ]
  }
 ],
 "metadata": {
  "kernelspec": {
   "display_name": "R",
   "language": "R",
   "name": "ir"
  },
  "language_info": {
   "codemirror_mode": "r",
   "file_extension": ".r",
   "mimetype": "text/x-r-source",
   "name": "R",
   "pygments_lexer": "r",
   "version": "4.1.2"
  }
 },
 "nbformat": 4,
 "nbformat_minor": 5
}
