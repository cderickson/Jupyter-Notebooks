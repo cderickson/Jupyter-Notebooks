{
 "cells": [
  {
   "cell_type": "code",
   "execution_count": null,
   "id": "eb4e613b-7cc6-4520-9f2c-1c9aaddbdc76",
   "metadata": {},
   "outputs": [],
   "source": [
    "-- Question 1.\n",
    "\n",
    "INSERT INTO player_stats_daily (date, player_id, wins, losses, win_rate)\n",
    "SELECT \n",
    "\tCAST(datetime AS date) AS date,\n",
    "\tplayer_id,\n",
    "\tSUM(CASE WHEN result = \"Win\" THEN 1\n",
    "\t\t\t ELSE 0\n",
    "\t\tEND) AS wins,\n",
    "\tSUM(CASE WHEN result = \"Loss\" THEN 1\n",
    "\t\t\t ELSE 0\n",
    "\t\tEND) AS losses,\n",
    "\tSUM(CASE WHEN result = \"Win\" THEN 1 ELSE 0 END)/COUNT(result) AS win_rate\n",
    "FROM matches\n",
    "WHERE date = \"2018-06-17\"\n",
    "GROUP BY player_id"
   ]
  },
  {
   "cell_type": "code",
   "execution_count": null,
   "id": "942b8eed-11f4-4679-a0a5-7e2380f131a3",
   "metadata": {},
   "outputs": [],
   "source": [
    "-- Question 2a.\n",
    "\n",
    "SELECT *\n",
    "FROM matches m\n",
    "WHERE datetime IN (\n",
    "\tSELECT MAX(datetime)\n",
    "\tFROM matches\n",
    "\tWHERE player_id = m.player_id\n",
    ")\n",
    "GROUP BY m.player_id"
   ]
  },
  {
   "cell_type": "code",
   "execution_count": null,
   "id": "ce91a712-09b6-4a85-bf91-02b20b1d78af",
   "metadata": {},
   "outputs": [],
   "source": [
    "-- Question 2b.\n",
    "-- Don't think I did this one right, I think I need to add another nested query in the WHERE clause with the 5 most recent dates?\n",
    "\n",
    "SELECT player_id, SUM(CASE WHEN result = \"Win\" THEN 1 ELSE 0 END)/5 AS win_rate\n",
    "FROM matches\n",
    "WHERE player_id IN (\n",
    "    SELECT player_id\n",
    "    FROM matches\n",
    "    GROUP BY player_id\n",
    "    HAVING COUNT(result) >= 5\n",
    ")\n",
    "GROUP BY player_id\n",
    "ORDER BY datetime DESC\n",
    "LIMIT 5"
   ]
  },
  {
   "cell_type": "code",
   "execution_count": null,
   "id": "5de2dbb3-5536-4c69-9388-1b9f19b4b0ba",
   "metadata": {},
   "outputs": [],
   "source": [
    "-- Question 3.\n",
    "\n",
    "SELECT player_id, SUM(spend) AS total_spend\n",
    "FROM (\n",
    "\tSELECT *\n",
    "\tFROM purchases_a \n",
    "\tUNION \n",
    "\tSELECT *\n",
    "\tFROM purchases_b\n",
    ")\n",
    "GROUP BY player_id"
   ]
  },
  {
   "cell_type": "code",
   "execution_count": null,
   "id": "e6a122ba-2b6b-4b53-925b-923c2581b1bb",
   "metadata": {},
   "outputs": [],
   "source": [
    "-- Question 4a.\n",
    "\n",
    "SELECT SUM(wins)/(SUM(wins) + SUM(losses)) AS win_rate_veterans\n",
    "FROM player_stats_daily\n",
    "WHERE player_id IN (\n",
    "\tSELECT player_id\n",
    "\tFROM player_stats_daily\n",
    "\tWHERE date < \"2018-06-17\"\n",
    ")"
   ]
  },
  {
   "cell_type": "code",
   "execution_count": null,
   "id": "bb6c6618-f43e-4998-a84e-49ac6a3858b4",
   "metadata": {},
   "outputs": [],
   "source": [
    "-- Question 4b.\n",
    "\n",
    "SELECT\n",
    "\tCASE WHEN player_id IN (\n",
    "\t\t\tSELECT player_id\n",
    "\t\t\tFROM player_stats_daily\n",
    "\t\t\tWHERE date < \"2018-06-17\"\n",
    "\t\t) THEN \"Veteran Players\"\n",
    "\t\tELSE \"New Players\"\n",
    "\tEND AS player_group,\n",
    "\tSUM(wins) OVER (PARTITION BY player_group)/(SUM(wins) OVER (PARTITION BY player_group) + SUM(losses) OVER (PARTITION BY player_group)) AS win_rate\n",
    "FROM player_stats_daily"
   ]
  }
 ],
 "metadata": {
  "kernelspec": {
   "display_name": "",
   "name": ""
  },
  "language_info": {
   "name": ""
  }
 },
 "nbformat": 4,
 "nbformat_minor": 5
}
