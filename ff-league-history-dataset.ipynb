{
 "cells": [
  {
   "cell_type": "markdown",
   "id": "2bf4e000",
   "metadata": {},
   "source": [
    "## Import Libraries."
   ]
  },
  {
   "cell_type": "code",
   "execution_count": 2,
   "id": "1e439f27",
   "metadata": {},
   "outputs": [],
   "source": [
    "options(warn = -1)\n",
    "library(tidyverse)"
   ]
  },
  {
   "cell_type": "markdown",
   "id": "fb663563",
   "metadata": {},
   "source": [
    "## Import and bind datasets scraped from ESPN FF."
   ]
  },
  {
   "cell_type": "code",
   "execution_count": 3,
   "id": "7e5dda32",
   "metadata": {},
   "outputs": [],
   "source": [
    "ff_scores_2014 <- read.csv(file = \"C:/Users/chris/Documents/Datasets/FFL/ff_scores_2014.csv\")\n",
    "ff_scores_2015 <- read.csv(file = \"C:/Users/chris/Documents/Datasets/FFL/ff_scores_2015.csv\")\n",
    "ff_scores_2016 <- read.csv(file = \"C:/Users/chris/Documents/Datasets/FFL/ff_scores_2016.csv\")\n",
    "ff_scores_2017 <- read.csv(file = \"C:/Users/chris/Documents/Datasets/FFL/ff_scores_2017.csv\")\n",
    "ff_scores_2018 <- read.csv(file = \"C:/Users/chris/Documents/Datasets/FFL/ff_scores_2018.csv\")\n",
    "ff_scores_2019 <- read.csv(file = \"C:/Users/chris/Documents/Datasets/FFL/ff_scores_2019.csv\")\n",
    "ff_scores_2020 <- read.csv(file = \"C:/Users/chris/Documents/Datasets/FFL/ff_scores_2020.csv\")\n",
    "ff_scores_2021 <- read.csv(file = \"C:/Users/chris/Documents/Datasets/FFL/ff_scores_2021.csv\")\n",
    "\n",
    "ff_scores <- rbind(ff_scores_2014, ff_scores_2015, ff_scores_2016, ff_scores_2017,\n",
    "                   ff_scores_2018, ff_scores_2019, ff_scores_2020, ff_scores_2021)"
   ]
  },
  {
   "cell_type": "markdown",
   "id": "854e1773",
   "metadata": {},
   "source": [
    "## Add Columns to denote Wins, Regular Season, Playoffs, and Championship Week."
   ]
  },
  {
   "cell_type": "code",
   "execution_count": 4,
   "id": "8de94416",
   "metadata": {},
   "outputs": [],
   "source": [
    "ff_scores <- ff_scores %>%\n",
    "  mutate(win = case_when(\n",
    "    (team_1_score > team_2_score) ~ 1,\n",
    "    (team_1_score < team_2_score) ~ 0,\n",
    "    (team_1_score == team_2_score) ~ 0.5\n",
    "  )) %>%\n",
    "  mutate(reg = case_when(\n",
    "    (week < 13) ~ 1,\n",
    "    ((week == 13) & (year %in% c(2014, 2018, 2021))) ~ 1,\n",
    "    ((week == 13) & !(year %in% c(2014, 2018, 2021))) ~ 0,\n",
    "    (week > 13) ~ 0\n",
    "  )) %>%\n",
    "  mutate(playoffs = case_when(\n",
    "    (week < 13) ~ 0,\n",
    "    ((week == 13) & (year %in% c(2014, 2018, 2021))) ~ 0,\n",
    "    ((week == 13) & !(year %in% c(2014, 2018, 2021))) ~ 1,\n",
    "    (week > 13) ~ 1\n",
    "  ))\n",
    "\n",
    "ff_scores <- ff_scores %>%\n",
    "  group_by(year) %>%\n",
    "  mutate(champ_week = max(week))"
   ]
  },
  {
   "cell_type": "markdown",
   "id": "ef6cc808",
   "metadata": {},
   "source": [
    "## Add Columns to denote Playoff Rounds."
   ]
  },
  {
   "cell_type": "code",
   "execution_count": 5,
   "id": "f27fa302",
   "metadata": {},
   "outputs": [],
   "source": [
    "ff_scores <- ff_scores %>%\n",
    "  mutate(winner_rd_1 = case_when(\n",
    "    ((playoffs == 1) & (year == 2014) & (week != champ_week) & (team_1 %in% c(\"CARLEN\", \"ANDREW\")) & (team_2 %in% c(\"CARLEN\", \"ANDREW\"))) ~ 1,\n",
    "    ((playoffs == 1) & (year == 2014) & (week != champ_week) & (team_1 %in% c(\"STEVE\", \"MATT\")) & (team_2 %in% c(\"STEVE\", \"MATT\"))) ~ 1,\n",
    "    ((playoffs == 1) & (year == 2015) & (week != champ_week) & (team_1 %in% c(\"KYLE\", \"ANDREW\")) & (team_2 %in% c(\"KYLE\", \"ANDREW\"))) ~ 1,\n",
    "    ((playoffs == 1) & (year == 2015) & (week != champ_week) & (team_1 %in% c(\"SAM\", \"STEVE\")) & (team_2 %in% c(\"SAM\", \"STEVE\"))) ~ 1,\n",
    "    ((playoffs == 1) & (year == 2016) & (week != champ_week) & (team_1 %in% c(\"NICK\", \"CHRIS\")) & (team_2 %in% c(\"NICK\", \"CHRIS\"))) ~ 1,\n",
    "    ((playoffs == 1) & (year == 2016) & (week != champ_week) & (team_1 %in% c(\"MATT\", \"ANDREW\")) & (team_2 %in% c(\"MATT\", \"ANDREW\"))) ~ 1,\n",
    "    ((playoffs == 1) & (year == 2017) & (week != champ_week) & (team_1 %in% c(\"CARLEN\", \"DYLAN\")) & (team_2 %in% c(\"CARLEN\", \"DYLAN\"))) ~ 1,\n",
    "    ((playoffs == 1) & (year == 2017) & (week != champ_week) & (team_1 %in% c(\"STEVE\", \"MATT\")) & (team_2 %in% c(\"STEVE\", \"MATT\"))) ~ 1,\n",
    "    ((playoffs == 1) & (year == 2018) & (week != champ_week) & (team_1 %in% c(\"CHRIS\", \"KYLE\")) & (team_2 %in% c(\"CHRIS\", \"KYLE\"))) ~ 1,\n",
    "    ((playoffs == 1) & (year == 2018) & (week != champ_week) & (team_1 %in% c(\"MATT\", \"NATHAN\")) & (team_2 %in% c(\"MATT\", \"NATHAN\"))) ~ 1,\n",
    "    ((playoffs == 1) & (year == 2019) & (week != champ_week) & (team_1 %in% c(\"CARLEN\", \"STEVE\")) & (team_2 %in% c(\"CARLEN\", \"STEVE\"))) ~ 1,\n",
    "    ((playoffs == 1) & (year == 2019) & (week != champ_week) & (team_1 %in% c(\"MATT\", \"NICK\")) & (team_2 %in% c(\"MATT\", \"NICK\"))) ~ 1,\n",
    "    ((playoffs == 1) & (year == 2020) & (week != champ_week) & (team_1 %in% c(\"CHRIS\", \"ANDREW\")) & (team_2 %in% c(\"CHRIS\", \"ANDREW\"))) ~ 1,\n",
    "    ((playoffs == 1) & (year == 2020) & (week != champ_week) & (team_1 %in% c(\"KYLE\", \"NICK\")) & (team_2 %in% c(\"KYLE\", \"NICK\"))) ~ 1,\n",
    "    ((playoffs == 1) & (year == 2021) & (week != champ_week) & (team_1 %in% c(\"CHRIS\", \"ANDREW\")) & (team_2 %in% c(\"CHRIS\", \"ANDREW\"))) ~ 1,\n",
    "    ((playoffs == 1) & (year == 2021) & (week != champ_week) & (team_1 %in% c(\"STEVE\", \"NICK\")) & (team_2 %in% c(\"STEVE\", \"NICK\"))) ~ 1,\n",
    "  )) %>%\n",
    "  mutate(loser_rd_1 = case_when(\n",
    "    ((playoffs == 1) & (year == 2014) & (week != champ_week) & (team_1 %in% c(\"KYLE\", \"CHRIS\")) & (team_2 %in% c(\"KYLE\", \"CHRIS\"))) ~ 1,\n",
    "    ((playoffs == 1) & (year == 2014) & (week != champ_week) & (team_1 %in% c(\"NATHAN\", \"DREW\")) & (team_2 %in% c(\"NATHAN\", \"DREW\"))) ~ 1,\n",
    "    ((playoffs == 1) & (year == 2015) & (week != champ_week) & (team_1 %in% c(\"DYLAN\", \"CHRIS\")) & (team_2 %in% c(\"DYLAN\", \"CHRIS\"))) ~ 1,\n",
    "    ((playoffs == 1) & (year == 2015) & (week != champ_week) & (team_1 %in% c(\"NICK\", \"MATT\")) & (team_2 %in% c(\"NICK\", \"MATT\"))) ~ 1,\n",
    "    ((playoffs == 1) & (year == 2015) & (week != champ_week) & (team_1 %in% c(\"NATHAN\", \"CARLEN\")) & (team_2 %in% c(\"NATHAN\", \"CARLEN\"))) ~ 1,\n",
    "    ((playoffs == 1) & (year == 2016) & (week != champ_week) & (team_1 %in% c(\"STEVE\", \"DYLAN\")) & (team_2 %in% c(\"STEVE\", \"DYLAN\"))) ~ 1,\n",
    "    ((playoffs == 1) & (year == 2016) & (week != champ_week) & (team_1 %in% c(\"CARLEN\", \"KYLE\")) & (team_2 %in% c(\"CARLEN\", \"KYLE\"))) ~ 1,\n",
    "    ((playoffs == 1) & (year == 2016) & (week != champ_week) & (team_1 %in% c(\"NATHAN\", \"SAM\")) & (team_2 %in% c(\"NATHAN\", \"SAM\"))) ~ 1,\n",
    "    ((playoffs == 1) & (year == 2017) & (week != champ_week) & (team_1 %in% c(\"ANDREW\", \"CHRIS\")) & (team_2 %in% c(\"ANDREW\", \"CHRIS\"))) ~ 1,\n",
    "    ((playoffs == 1) & (year == 2017) & (week != champ_week) & (team_1 %in% c(\"KYLE\", \"NATHAN\")) & (team_2 %in% c(\"KYLE\", \"NATHAN\"))) ~ 1,\n",
    "    ((playoffs == 1) & (year == 2017) & (week != champ_week) & (team_1 %in% c(\"NICK\", \"SAM\")) & (team_2 %in% c(\"NICK\", \"SAM\"))) ~ 1,\n",
    "    ((playoffs == 1) & (year == 2018) & (week != champ_week) & (team_1 %in% c(\"ANDREW\", \"CARLEN\")) & (team_2 %in% c(\"ANDREW\", \"CARLEN\"))) ~ 1,\n",
    "    ((playoffs == 1) & (year == 2018) & (week != champ_week) & (team_1 %in% c(\"DYLAN\", \"NICK\")) & (team_2 %in% c(\"DYLAN\", \"NICK\"))) ~ 1,\n",
    "    ((playoffs == 1) & (year == 2019) & (week != champ_week) & (team_1 %in% c(\"CHRIS\", \"NATHAN\")) & (team_2 %in% c(\"CHRIS\", \"NATHAN\"))) ~ 1,\n",
    "    ((playoffs == 1) & (year == 2019) & (week != champ_week) & (team_1 %in% c(\"SAM\", \"DYLAN\")) & (team_2 %in% c(\"SAM\", \"DYLAN\"))) ~ 1,\n",
    "    ((playoffs == 1) & (year == 2019) & (week != champ_week) & (team_1 %in% c(\"KYLE\", \"ANDREW\")) & (team_2 %in% c(\"KYLE\", \"ANDREW\"))) ~ 1,\n",
    "    ((playoffs == 1) & (year == 2020) & (week != champ_week) & (team_1 %in% c(\"SAM\", \"STEVE\")) & (team_2 %in% c(\"SAM\", \"STEVE\"))) ~ 1,\n",
    "    ((playoffs == 1) & (year == 2020) & (week != champ_week) & (team_1 %in% c(\"NATHAN\", \"DYLAN\")) & (team_2 %in% c(\"NATHAN\", \"DYLAN\"))) ~ 1,\n",
    "    ((playoffs == 1) & (year == 2020) & (week != champ_week) & (team_1 %in% c(\"MATT\", \"CARLEN\")) & (team_2 %in% c(\"MATT\", \"CARLEN\"))) ~ 1,\n",
    "    ((playoffs == 1) & (year == 2021) & (week != champ_week) & (team_1 %in% c(\"SAM\", \"KYLE\")) & (team_2 %in% c(\"SAM\", \"KYLE\"))) ~ 1,\n",
    "    ((playoffs == 1) & (year == 2021) & (week != champ_week) & (team_1 %in% c(\"JASON\", \"NOAH\")) & (team_2 %in% c(\"JASON\", \"NOAH\"))) ~ 1,\n",
    "    ((playoffs == 1) & (year == 2021) & (week != champ_week) & (team_1 %in% c(\"DYLAN\", \"MATT\")) & (team_2 %in% c(\"DYLAN\", \"MATT\"))) ~ 1,\n",
    "  )) %>%\n",
    "  mutate(winner_rd_2 = case_when(\n",
    "    ((playoffs == 1) & (year == 2018) & (week != champ_week) & (team_1 %in% c(\"CHRIS\", \"SAM\")) & (team_2 %in% c(\"CHRIS\", \"SAM\"))) ~ 1,\n",
    "    ((playoffs == 1) & (year == 2018) & (week != champ_week) & (team_1 %in% c(\"NATHAN\", \"STEVE\")) & (team_2 %in% c(\"NATHAN\", \"STEVE\"))) ~ 1,\n",
    "    ((playoffs == 1) & (year == 2018) & (week != champ_week) & (team_1 %in% c(\"MATT\", \"KYLE\")) & (team_2 %in% c(\"MATT\", \"KYLE\"))) ~ 1,\n",
    "  )) %>%\n",
    "  mutate(loser_rd_2 = case_when(\n",
    "    ((playoffs == 1) & (year == 2018) & (week != champ_week) & (team_1 %in% c(\"DYLAN\", \"CARLEN\")) & (team_2 %in% c(\"DYLAN\", \"CARLEN\"))) ~ 1,\n",
    "    ((playoffs == 1) & (year == 2018) & (week != champ_week) & (team_1 %in% c(\"NICK\", \"ANDREW\")) & (team_2 %in% c(\"NICK\", \"ANDREW\"))) ~ 1,\n",
    "  )) %>%\n",
    "  mutate(match_34 = case_when(\n",
    "    ((week == champ_week) & (year == 2014) & (team_1 %in% c(\"CARLEN\", \"STEVE\")) & (team_2 %in% c(\"CARLEN\", \"STEVE\"))) ~ 1,\n",
    "    ((week == champ_week) & (year == 2015) & (team_1 %in% c(\"SAM\", \"ANDREW\")) & (team_2 %in% c(\"SAM\", \"ANDREW\"))) ~ 1,\n",
    "    ((week == champ_week) & (year == 2016) & (team_1 %in% c(\"CHRIS\", \"MATT\")) & (team_2 %in% c(\"CHRIS\", \"MATT\"))) ~ 1,\n",
    "    ((week == champ_week) & (year == 2017) & (team_1 %in% c(\"STEVE\", \"DYLAN\")) & (team_2 %in% c(\"STEVE\", \"DYLAN\"))) ~ 1,\n",
    "    ((week == champ_week) & (year == 2018) & (team_1 %in% c(\"CHRIS\", \"NATHAN\")) & (team_2 %in% c(\"CHRIS\", \"NATHAN\"))) ~ 1,\n",
    "    ((week == champ_week) & (year == 2019) & (team_1 %in% c(\"MATT\", \"STEVE\")) & (team_2 %in% c(\"MATT\", \"STEVE\"))) ~ 1,\n",
    "    ((week == champ_week) & (year == 2020) & (team_1 %in% c(\"ANDREW\", \"NICK\")) & (team_2 %in% c(\"NICK\", \"ANDREW\"))) ~ 1,\n",
    "    ((week == champ_week) & (year == 2021) & (team_1 %in% c(\"NICK\", \"CHRIS\")) & (team_2 %in% c(\"NICK\", \"CHRIS\"))) ~ 1,\n",
    "  )) %>%\n",
    "  mutate(match_56 = case_when(\n",
    "    ((week == champ_week) & (year == 2014) & (team_1 %in% c(\"DREW\", \"CHRIS\")) & (team_2 %in% c(\"DREW\", \"CHRIS\"))) ~ 1,\n",
    "    ((week == champ_week) & (year == 2015) & (team_1 %in% c(\"DYLAN\", \"MATT\")) & (team_2 %in% c(\"DYLAN\", \"MATT\"))) ~ 1,\n",
    "    ((week == champ_week) & (year == 2016) & (team_1 %in% c(\"CARLEN\", \"STEVE\")) & (team_2 %in% c(\"CARLEN\", \"STEVE\"))) ~ 1,\n",
    "    ((week == champ_week) & (year == 2017) & (team_1 %in% c(\"KYLE\", \"CHRIS\")) & (team_2 %in% c(\"KYLE\", \"CHRIS\"))) ~ 1,\n",
    "    ((week == champ_week) & (year == 2018) & (team_1 %in% c(\"MATT\", \"KYLE\")) & (team_2 %in% c(\"MATT\", \"KYLE\"))) ~ 1,\n",
    "    ((week == champ_week) & (year == 2019) & (team_1 %in% c(\"ANDREW\", \"CHRIS\")) & (team_2 %in% c(\"ANDREW\", \"CHRIS\"))) ~ 1,\n",
    "    ((week == champ_week) & (year == 2020) & (team_1 %in% c(\"NATHAN\", \"SAM\")) & (team_2 %in% c(\"NATHAN\", \"SAM\"))) ~ 1,\n",
    "    ((week == champ_week) & (year == 2021) & (team_1 %in% c(\"JASON\", \"SAM\")) & (team_2 %in% c(\"JASON\", \"SAM\"))) ~ 1,\n",
    "  )) %>%\n",
    "  mutate(match_78 = case_when(\n",
    "    ((week == champ_week) & (year == 2015) & (team_1 %in% c(\"NICK\", \"CARLEN\")) & (team_2 %in% c(\"NICK\", \"CARLEN\"))) ~ 1,\n",
    "    ((week == champ_week) & (year == 2016) & (team_1 %in% c(\"SAM\", \"DYLAN\")) & (team_2 %in% c(\"SAM\", \"DYLAN\"))) ~ 1,\n",
    "    ((week == champ_week) & (year == 2017) & (team_1 %in% c(\"NICK\", \"ANDREW\")) & (team_2 %in% c(\"NICK\", \"ANDREW\"))) ~ 1,\n",
    "    ((week == champ_week) & (year == 2018) & (team_1 %in% c(\"ANDREW\", \"CARLEN\")) & (team_2 %in% c(\"ANDREW\", \"CARLEN\"))) ~ 1,\n",
    "    ((week == champ_week) & (year == 2019) & (team_1 %in% c(\"SAM\", \"NATHAN\")) & (team_2 %in% c(\"SAM\", \"NATHAN\"))) ~ 1,\n",
    "    ((week == champ_week) & (year == 2020) & (team_1 %in% c(\"CARLEN\", \"STEVE\")) & (team_2 %in% c(\"CARLEN\", \"STEVE\"))) ~ 1,\n",
    "    ((week == champ_week) & (year == 2021) & (team_1 %in% c(\"DYLAN\", \"KYLE\")) & (team_2 %in% c(\"DYLAN\", \"KYLE\"))) ~ 1,\n",
    "  )) %>%\n",
    "  mutate(match_12 = case_when(\n",
    "    ((week == champ_week) & (year == 2014) & (team_1 %in% c(\"MATT\", \"ANDREW\")) & (team_2 %in% c(\"MATT\", \"ANDREW\"))) ~ 1,\n",
    "    ((week == champ_week) & (year == 2015) & (team_1 %in% c(\"KYLE\", \"STEVE\")) & (team_2 %in% c(\"KYLE\", \"STEVE\"))) ~ 1,\n",
    "    ((week == champ_week) & (year == 2016) & (team_1 %in% c(\"ANDREW\", \"NICK\")) & (team_2 %in% c(\"ANDREW\", \"NICK\"))) ~ 1,\n",
    "    ((week == champ_week) & (year == 2017) & (team_1 %in% c(\"CARLEN\", \"MATT\")) & (team_2 %in% c(\"CARLEN\", \"MATT\"))) ~ 1,\n",
    "    ((week == champ_week) & (year == 2018) & (team_1 %in% c(\"SAM\", \"STEVE\")) & (team_2 %in% c(\"SAM\", \"STEVE\"))) ~ 1,\n",
    "    ((week == champ_week) & (year == 2019) & (team_1 %in% c(\"CARLEN\", \"NICK\")) & (team_2 %in% c(\"CARLEN\", \"NICK\"))) ~ 1,\n",
    "    ((week == champ_week) & (year == 2020) & (team_1 %in% c(\"CHRIS\", \"KYLE\")) & (team_2 %in% c(\"CHRIS\", \"KYLE\"))) ~ 1,\n",
    "    ((week == champ_week) & (year == 2021) & (team_1 %in% c(\"ANDREW\", \"STEVE\")) & (team_2 %in% c(\"ANDREW\", \"STEVE\"))) ~ 1,\n",
    "  )) %>%\n",
    "  mutate(match_sacko = case_when(\n",
    "    ((week == champ_week) & (year == 2014) & (team_1 %in% c(\"NATHAN\", \"KYLE\")) & (team_2 %in% c(\"NATHAN\", \"KYLE\"))) ~ 1,\n",
    "    ((week == champ_week) & (year == 2015) & (team_1 %in% c(\"NATHAN\", \"CHRIS\")) & (team_2 %in% c(\"NATHAN\", \"CHRIS\"))) ~ 1,\n",
    "    ((week == champ_week) & (year == 2016) & (team_1 %in% c(\"NATHAN\", \"KYLE\")) & (team_2 %in% c(\"NATHAN\", \"KYLE\"))) ~ 1,\n",
    "    ((week == champ_week) & (year == 2017) & (team_1 %in% c(\"NATHAN\", \"SAM\")) & (team_2 %in% c(\"NATHAN\", \"SAM\"))) ~ 1,\n",
    "    ((week == champ_week) & (year == 2018) & (team_1 %in% c(\"DYLAN\", \"NICK\")) & (team_2 %in% c(\"DYLAN\", \"NICK\"))) ~ 1,\n",
    "    ((week == champ_week) & (year == 2019) & (team_1 %in% c(\"KYLE\", \"DYLAN\")) & (team_2 %in% c(\"KYLE\", \"DYLAN\"))) ~ 1,\n",
    "    ((week == champ_week) & (year == 2020) & (team_1 %in% c(\"MATT\", \"DYLAN\")) & (team_2 %in% c(\"MATT\", \"DYLAN\"))) ~ 1,\n",
    "    ((week == champ_week) & (year == 2021) & (team_1 %in% c(\"MATT\", \"NOAH\")) & (team_2 %in% c(\"MATT\", \"NOAH\"))) ~ 1,\n",
    "  ))"
   ]
  },
  {
   "cell_type": "markdown",
   "id": "d5957ea3",
   "metadata": {},
   "source": [
    "## Format Values."
   ]
  },
  {
   "cell_type": "code",
   "execution_count": 6,
   "id": "15b805e3",
   "metadata": {},
   "outputs": [],
   "source": [
    "ff_scores[is.na(ff_scores)] <- 0\n",
    "ff_scores$week <- sprintf(\"%02d\", ff_scores$week)\n",
    "\n",
    "ff_scores$date <- paste(ff_scores$year, ff_scores$week, sep=\"-\")"
   ]
  },
  {
   "cell_type": "markdown",
   "id": "441dde94",
   "metadata": {},
   "source": [
    "## Export Dataset."
   ]
  },
  {
   "cell_type": "code",
   "execution_count": 7,
   "id": "7c58b4b0",
   "metadata": {},
   "outputs": [],
   "source": [
    "write.csv(ff_scores,\"C:\\\\Users\\\\chris\\\\Desktop\\\\ff_scores.csv\", row.names = FALSE)"
   ]
  },
  {
   "cell_type": "code",
   "execution_count": 8,
   "id": "6266ca0e",
   "metadata": {},
   "outputs": [
    {
     "data": {
      "text/html": [
       "<table class=\"dataframe\">\n",
       "<caption>A grouped_df: 6 × 20</caption>\n",
       "<thead>\n",
       "\t<tr><th scope=col>year</th><th scope=col>week</th><th scope=col>team_1</th><th scope=col>team_1_score</th><th scope=col>team_2</th><th scope=col>team_2_score</th><th scope=col>win</th><th scope=col>reg</th><th scope=col>playoffs</th><th scope=col>champ_week</th><th scope=col>winner_rd_1</th><th scope=col>loser_rd_1</th><th scope=col>winner_rd_2</th><th scope=col>loser_rd_2</th><th scope=col>match_34</th><th scope=col>match_56</th><th scope=col>match_78</th><th scope=col>match_12</th><th scope=col>match_sacko</th><th scope=col>date</th></tr>\n",
       "\t<tr><th scope=col>&lt;int&gt;</th><th scope=col>&lt;chr&gt;</th><th scope=col>&lt;chr&gt;</th><th scope=col>&lt;dbl&gt;</th><th scope=col>&lt;chr&gt;</th><th scope=col>&lt;dbl&gt;</th><th scope=col>&lt;dbl&gt;</th><th scope=col>&lt;dbl&gt;</th><th scope=col>&lt;dbl&gt;</th><th scope=col>&lt;int&gt;</th><th scope=col>&lt;dbl&gt;</th><th scope=col>&lt;dbl&gt;</th><th scope=col>&lt;dbl&gt;</th><th scope=col>&lt;dbl&gt;</th><th scope=col>&lt;dbl&gt;</th><th scope=col>&lt;dbl&gt;</th><th scope=col>&lt;dbl&gt;</th><th scope=col>&lt;dbl&gt;</th><th scope=col>&lt;dbl&gt;</th><th scope=col>&lt;chr&gt;</th></tr>\n",
       "</thead>\n",
       "<tbody>\n",
       "\t<tr><td>2014</td><td>01</td><td>CHRIS </td><td>119.68</td><td>CARLEN</td><td>126.34</td><td>0</td><td>1</td><td>0</td><td>15</td><td>0</td><td>0</td><td>0</td><td>0</td><td>0</td><td>0</td><td>0</td><td>0</td><td>0</td><td>2014-01</td></tr>\n",
       "\t<tr><td>2014</td><td>01</td><td>ANDREW</td><td>106.28</td><td>KYLE  </td><td>145.94</td><td>0</td><td>1</td><td>0</td><td>15</td><td>0</td><td>0</td><td>0</td><td>0</td><td>0</td><td>0</td><td>0</td><td>0</td><td>0</td><td>2014-01</td></tr>\n",
       "\t<tr><td>2014</td><td>01</td><td>STEVE </td><td>103.46</td><td>DREW  </td><td>101.92</td><td>1</td><td>1</td><td>0</td><td>15</td><td>0</td><td>0</td><td>0</td><td>0</td><td>0</td><td>0</td><td>0</td><td>0</td><td>0</td><td>2014-01</td></tr>\n",
       "\t<tr><td>2014</td><td>01</td><td>MATT  </td><td>125.50</td><td>NATHAN</td><td> 99.86</td><td>1</td><td>1</td><td>0</td><td>15</td><td>0</td><td>0</td><td>0</td><td>0</td><td>0</td><td>0</td><td>0</td><td>0</td><td>0</td><td>2014-01</td></tr>\n",
       "\t<tr><td>2014</td><td>02</td><td>MATT  </td><td>124.62</td><td>CHRIS </td><td>119.12</td><td>1</td><td>1</td><td>0</td><td>15</td><td>0</td><td>0</td><td>0</td><td>0</td><td>0</td><td>0</td><td>0</td><td>0</td><td>0</td><td>2014-02</td></tr>\n",
       "\t<tr><td>2014</td><td>02</td><td>STEVE </td><td>122.52</td><td>ANDREW</td><td>132.02</td><td>0</td><td>1</td><td>0</td><td>15</td><td>0</td><td>0</td><td>0</td><td>0</td><td>0</td><td>0</td><td>0</td><td>0</td><td>0</td><td>2014-02</td></tr>\n",
       "</tbody>\n",
       "</table>\n"
      ],
      "text/latex": [
       "A grouped\\_df: 6 × 20\n",
       "\\begin{tabular}{llllllllllllllllllll}\n",
       " year & week & team\\_1 & team\\_1\\_score & team\\_2 & team\\_2\\_score & win & reg & playoffs & champ\\_week & winner\\_rd\\_1 & loser\\_rd\\_1 & winner\\_rd\\_2 & loser\\_rd\\_2 & match\\_34 & match\\_56 & match\\_78 & match\\_12 & match\\_sacko & date\\\\\n",
       " <int> & <chr> & <chr> & <dbl> & <chr> & <dbl> & <dbl> & <dbl> & <dbl> & <int> & <dbl> & <dbl> & <dbl> & <dbl> & <dbl> & <dbl> & <dbl> & <dbl> & <dbl> & <chr>\\\\\n",
       "\\hline\n",
       "\t 2014 & 01 & CHRIS  & 119.68 & CARLEN & 126.34 & 0 & 1 & 0 & 15 & 0 & 0 & 0 & 0 & 0 & 0 & 0 & 0 & 0 & 2014-01\\\\\n",
       "\t 2014 & 01 & ANDREW & 106.28 & KYLE   & 145.94 & 0 & 1 & 0 & 15 & 0 & 0 & 0 & 0 & 0 & 0 & 0 & 0 & 0 & 2014-01\\\\\n",
       "\t 2014 & 01 & STEVE  & 103.46 & DREW   & 101.92 & 1 & 1 & 0 & 15 & 0 & 0 & 0 & 0 & 0 & 0 & 0 & 0 & 0 & 2014-01\\\\\n",
       "\t 2014 & 01 & MATT   & 125.50 & NATHAN &  99.86 & 1 & 1 & 0 & 15 & 0 & 0 & 0 & 0 & 0 & 0 & 0 & 0 & 0 & 2014-01\\\\\n",
       "\t 2014 & 02 & MATT   & 124.62 & CHRIS  & 119.12 & 1 & 1 & 0 & 15 & 0 & 0 & 0 & 0 & 0 & 0 & 0 & 0 & 0 & 2014-02\\\\\n",
       "\t 2014 & 02 & STEVE  & 122.52 & ANDREW & 132.02 & 0 & 1 & 0 & 15 & 0 & 0 & 0 & 0 & 0 & 0 & 0 & 0 & 0 & 2014-02\\\\\n",
       "\\end{tabular}\n"
      ],
      "text/markdown": [
       "\n",
       "A grouped_df: 6 × 20\n",
       "\n",
       "| year &lt;int&gt; | week &lt;chr&gt; | team_1 &lt;chr&gt; | team_1_score &lt;dbl&gt; | team_2 &lt;chr&gt; | team_2_score &lt;dbl&gt; | win &lt;dbl&gt; | reg &lt;dbl&gt; | playoffs &lt;dbl&gt; | champ_week &lt;int&gt; | winner_rd_1 &lt;dbl&gt; | loser_rd_1 &lt;dbl&gt; | winner_rd_2 &lt;dbl&gt; | loser_rd_2 &lt;dbl&gt; | match_34 &lt;dbl&gt; | match_56 &lt;dbl&gt; | match_78 &lt;dbl&gt; | match_12 &lt;dbl&gt; | match_sacko &lt;dbl&gt; | date &lt;chr&gt; |\n",
       "|---|---|---|---|---|---|---|---|---|---|---|---|---|---|---|---|---|---|---|---|\n",
       "| 2014 | 01 | CHRIS  | 119.68 | CARLEN | 126.34 | 0 | 1 | 0 | 15 | 0 | 0 | 0 | 0 | 0 | 0 | 0 | 0 | 0 | 2014-01 |\n",
       "| 2014 | 01 | ANDREW | 106.28 | KYLE   | 145.94 | 0 | 1 | 0 | 15 | 0 | 0 | 0 | 0 | 0 | 0 | 0 | 0 | 0 | 2014-01 |\n",
       "| 2014 | 01 | STEVE  | 103.46 | DREW   | 101.92 | 1 | 1 | 0 | 15 | 0 | 0 | 0 | 0 | 0 | 0 | 0 | 0 | 0 | 2014-01 |\n",
       "| 2014 | 01 | MATT   | 125.50 | NATHAN |  99.86 | 1 | 1 | 0 | 15 | 0 | 0 | 0 | 0 | 0 | 0 | 0 | 0 | 0 | 2014-01 |\n",
       "| 2014 | 02 | MATT   | 124.62 | CHRIS  | 119.12 | 1 | 1 | 0 | 15 | 0 | 0 | 0 | 0 | 0 | 0 | 0 | 0 | 0 | 2014-02 |\n",
       "| 2014 | 02 | STEVE  | 122.52 | ANDREW | 132.02 | 0 | 1 | 0 | 15 | 0 | 0 | 0 | 0 | 0 | 0 | 0 | 0 | 0 | 2014-02 |\n",
       "\n"
      ],
      "text/plain": [
       "  year week team_1 team_1_score team_2 team_2_score win reg playoffs champ_week\n",
       "1 2014 01   CHRIS  119.68       CARLEN 126.34       0   1   0        15        \n",
       "2 2014 01   ANDREW 106.28       KYLE   145.94       0   1   0        15        \n",
       "3 2014 01   STEVE  103.46       DREW   101.92       1   1   0        15        \n",
       "4 2014 01   MATT   125.50       NATHAN  99.86       1   1   0        15        \n",
       "5 2014 02   MATT   124.62       CHRIS  119.12       1   1   0        15        \n",
       "6 2014 02   STEVE  122.52       ANDREW 132.02       0   1   0        15        \n",
       "  winner_rd_1 loser_rd_1 winner_rd_2 loser_rd_2 match_34 match_56 match_78\n",
       "1 0           0          0           0          0        0        0       \n",
       "2 0           0          0           0          0        0        0       \n",
       "3 0           0          0           0          0        0        0       \n",
       "4 0           0          0           0          0        0        0       \n",
       "5 0           0          0           0          0        0        0       \n",
       "6 0           0          0           0          0        0        0       \n",
       "  match_12 match_sacko date   \n",
       "1 0        0           2014-01\n",
       "2 0        0           2014-01\n",
       "3 0        0           2014-01\n",
       "4 0        0           2014-01\n",
       "5 0        0           2014-02\n",
       "6 0        0           2014-02"
      ]
     },
     "metadata": {},
     "output_type": "display_data"
    }
   ],
   "source": [
    "head(ff_scores)"
   ]
  }
 ],
 "metadata": {
  "kernelspec": {
   "display_name": "R",
   "language": "R",
   "name": "ir"
  },
  "language_info": {
   "codemirror_mode": "r",
   "file_extension": ".r",
   "mimetype": "text/x-r-source",
   "name": "R",
   "pygments_lexer": "r",
   "version": "4.1.2"
  }
 },
 "nbformat": 4,
 "nbformat_minor": 5
}
